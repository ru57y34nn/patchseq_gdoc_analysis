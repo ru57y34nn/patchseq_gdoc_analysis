{
 "cells": [
  {
   "cell_type": "code",
   "execution_count": 2,
   "metadata": {
    "collapsed": true
   },
   "outputs": [],
   "source": [
    "import csv\n",
    "import pandas as pd\n",
    "import numpy as np\n",
    "import matplotlib.pyplot as plt\n",
    "from datetime import datetime\n",
    "from scipy import stats\n",
    "import math\n",
    "import seaborn as sns\n",
    "#from pandas.plotting import table\n",
    "%matplotlib inline\n",
    "sns.set(style='whitegrid', color_codes = True)\n",
    "from operator import itemgetter"
   ]
  },
  {
   "cell_type": "code",
   "execution_count": 3,
   "metadata": {
    "collapsed": true
   },
   "outputs": [],
   "source": [
    "ps = pd.read_csv('patch_seq_log_mouse.csv')"
   ]
  },
  {
   "cell_type": "code",
   "execution_count": 4,
   "metadata": {},
   "outputs": [
    {
     "data": {
      "text/html": [
       "<div>\n",
       "<style>\n",
       "    .dataframe thead tr:only-child th {\n",
       "        text-align: right;\n",
       "    }\n",
       "\n",
       "    .dataframe thead th {\n",
       "        text-align: left;\n",
       "    }\n",
       "\n",
       "    .dataframe tbody tr th {\n",
       "        vertical-align: top;\n",
       "    }\n",
       "</style>\n",
       "<table border=\"1\" class=\"dataframe\">\n",
       "  <thead>\n",
       "    <tr style=\"text-align: right;\">\n",
       "      <th></th>\n",
       "      <th>Date</th>\n",
       "      <th>User</th>\n",
       "      <th>Post patch?</th>\n",
       "      <th>Post patch pipette R</th>\n",
       "      <th>Nucleus sucked in?</th>\n",
       "      <th>Notes</th>\n",
       "      <th>Internal version</th>\n",
       "      <th>PCR cycles</th>\n",
       "      <th>SM_QC_PF</th>\n",
       "      <th>Resolution index</th>\n",
       "    </tr>\n",
       "  </thead>\n",
       "  <tbody>\n",
       "    <tr>\n",
       "      <th>4968</th>\n",
       "      <td>2017-04-19</td>\n",
       "      <td>P2</td>\n",
       "      <td>Outside-Out</td>\n",
       "      <td>NaN</td>\n",
       "      <td>NaN</td>\n",
       "      <td>NaN</td>\n",
       "      <td>AiV2</td>\n",
       "      <td>21.0</td>\n",
       "      <td>fail</td>\n",
       "      <td>NaN</td>\n",
       "    </tr>\n",
       "    <tr>\n",
       "      <th>4969</th>\n",
       "      <td>2017-04-19</td>\n",
       "      <td>P2</td>\n",
       "      <td>Outside-Out</td>\n",
       "      <td>NaN</td>\n",
       "      <td>NaN</td>\n",
       "      <td>NaN</td>\n",
       "      <td>AiV2</td>\n",
       "      <td>21.0</td>\n",
       "      <td>pass</td>\n",
       "      <td>0.923406</td>\n",
       "    </tr>\n",
       "    <tr>\n",
       "      <th>4970</th>\n",
       "      <td>2017-04-19</td>\n",
       "      <td>P2</td>\n",
       "      <td>No-Seal</td>\n",
       "      <td>NaN</td>\n",
       "      <td>NaN</td>\n",
       "      <td>NaN</td>\n",
       "      <td>AiV2</td>\n",
       "      <td>21.0</td>\n",
       "      <td>fail</td>\n",
       "      <td>NaN</td>\n",
       "    </tr>\n",
       "    <tr>\n",
       "      <th>4971</th>\n",
       "      <td>2017-04-19</td>\n",
       "      <td>P2</td>\n",
       "      <td>Nucleated</td>\n",
       "      <td>NaN</td>\n",
       "      <td>NaN</td>\n",
       "      <td>NaN</td>\n",
       "      <td>AiV2</td>\n",
       "      <td>21.0</td>\n",
       "      <td>pass</td>\n",
       "      <td>0.000000</td>\n",
       "    </tr>\n",
       "    <tr>\n",
       "      <th>4972</th>\n",
       "      <td>2017-04-19</td>\n",
       "      <td>P2</td>\n",
       "      <td>Outside-Out</td>\n",
       "      <td>NaN</td>\n",
       "      <td>NaN</td>\n",
       "      <td>NaN</td>\n",
       "      <td>AiV2</td>\n",
       "      <td>21.0</td>\n",
       "      <td>pass</td>\n",
       "      <td>0.322631</td>\n",
       "    </tr>\n",
       "  </tbody>\n",
       "</table>\n",
       "</div>"
      ],
      "text/plain": [
       "           Date User  Post patch?  Post patch pipette R Nucleus sucked in?  \\\n",
       "4968 2017-04-19   P2  Outside-Out                   NaN                NaN   \n",
       "4969 2017-04-19   P2  Outside-Out                   NaN                NaN   \n",
       "4970 2017-04-19   P2      No-Seal                   NaN                NaN   \n",
       "4971 2017-04-19   P2    Nucleated                   NaN                NaN   \n",
       "4972 2017-04-19   P2  Outside-Out                   NaN                NaN   \n",
       "\n",
       "     Notes Internal version  PCR cycles SM_QC_PF  Resolution index  \n",
       "4968   NaN             AiV2        21.0     fail               NaN  \n",
       "4969   NaN             AiV2        21.0     pass          0.923406  \n",
       "4970   NaN             AiV2        21.0     fail               NaN  \n",
       "4971   NaN             AiV2        21.0     pass          0.000000  \n",
       "4972   NaN             AiV2        21.0     pass          0.322631  "
      ]
     },
     "execution_count": 4,
     "metadata": {},
     "output_type": "execute_result"
    }
   ],
   "source": [
    "ps = ps[[\"Date\", \"User\", \"Post patch?\", \"Post patch pipette R\", \"Nucleus sucked in?\", \"Notes\", \"Internal version\", \"PCR cycles\", \"SM_QC_PF\", \"Resolution index\", \"Bad dates\"]]\n",
    "#ps.dropna(subset = [\"SM_QC_PF\", \"Post patch?\"], inplace = True)\n",
    "ps.dropna(subset = [\"Post patch?\"], inplace = True)\n",
    "ps[\"User\"] = ps[\"User\"].astype(\"category\")\n",
    "ps[\"Post patch?\"] = ps[\"Post patch?\"].astype(\"category\")\n",
    "ps[\"SM_QC_PF\"] = ps[\"SM_QC_PF\"].astype(\"category\")\n",
    "ps = ps[ps[\"Bad dates\"] != 'x']\n",
    "ps = ps[ps[\"SM_QC_PF\"] != \"cnt\"]\n",
    "ps = ps[ps[\"PCR cycles\"] == 21]\n",
    "ps = ps.drop('Bad dates', 1)\n",
    "ps[\"Date\"] = pd.to_datetime(ps[\"Date\"], format = '%y%m%d')\n",
    "#ps[\"PCR cycles\"].value_counts()\n",
    "ps.head()"
   ]
  },
  {
   "cell_type": "markdown",
   "metadata": {},
   "source": [
    "#### defining counting functions"
   ]
  },
  {
   "cell_type": "code",
   "execution_count": 5,
   "metadata": {
    "collapsed": true
   },
   "outputs": [],
   "source": [
    "def get_count(x):    \n",
    "    count = x[\"Post patch?\"].count()\n",
    "    return count\n",
    "\n",
    "def calc_pct(part,total):\n",
    "    pct = float(get_count(part)) / get_count(total)\n",
    "    return pct"
   ]
  },
  {
   "cell_type": "markdown",
   "metadata": {},
   "source": [
    "#### defining filtering functions"
   ]
  },
  {
   "cell_type": "code",
   "execution_count": 6,
   "metadata": {
    "collapsed": true
   },
   "outputs": [],
   "source": [
    "#input is a dataframe\n",
    "\n",
    "def nucleated(x):\n",
    "    nucleus = x[(x[\"Post patch?\"] == \"Nucleated\") | (((x[\"Post patch?\"] == \"nucleus_visible\") | (x[\"Post patch?\"] == \"nucleus_present\")) & (x[\"Post patch pipette R\"] >= 500))]\n",
    "    return nucleus\n",
    "\n",
    "def partial_nucleated(y):\n",
    "    partial = y[(y[\"Post patch?\"] == 'Partial-Nucleus') | (((y['Post patch?'] == 'nucleus_present') | (y['Post patch?'] == 'nucleus_visible')) & (y[\"Post patch pipette R\"] <= 499))]\n",
    "    return partial\n",
    "\n",
    "def outside_out(z):\n",
    "    outside = z[(z[\"Post patch?\"] == 'Outside-Out') | (((z['Post patch?'] == 'nucleus_absent') | (z['Post patch?'] == 'no_nuclues_visible')) & (z['Post patch pipette R'] >= 500))]\n",
    "    return outside\n",
    "\n",
    "def no_seal(w): \n",
    "    no = w[(w[\"Post patch?\"] == 'No-Seal') | (((w['Post patch?'] == 'nucleus_absent') | (w['Post patch?'] == 'no_nucleus_visible')) & (w['Post patch pipette R'] <= 499))]\n",
    "    return no\n",
    "    \n",
    "def pass_only(df):\n",
    "    pas = df[df[\"SM_QC_PF\"] == \"pass\"]\n",
    "    return pas\n",
    "\n",
    "def gen_filter(df, col, cond):\n",
    "    filtr = df[df[col] == cond]\n",
    "    return filtr\n"
   ]
  },
  {
   "cell_type": "code",
   "execution_count": 7,
   "metadata": {},
   "outputs": [
    {
     "data": {
      "text/plain": [
       "1990"
      ]
     },
     "execution_count": 7,
     "metadata": {},
     "output_type": "execute_result"
    }
   ],
   "source": [
    "#total = ps[\"Post patch?\"].count()\n",
    "total = get_count(ps)\n",
    "total\n",
    "#ps['Post patch?'].value_counts()"
   ]
  },
  {
   "cell_type": "markdown",
   "metadata": {},
   "source": [
    "# Post patch condition percentages"
   ]
  },
  {
   "cell_type": "markdown",
   "metadata": {},
   "source": [
    "#### Filtering to nucleated patches only and calculating percentage"
   ]
  },
  {
   "cell_type": "code",
   "execution_count": 8,
   "metadata": {},
   "outputs": [
    {
     "name": "stderr",
     "output_type": "stream",
     "text": [
      "C:\\ProgramData\\Anaconda2\\lib\\site-packages\\ipykernel_launcher.py:5: SettingWithCopyWarning: \n",
      "A value is trying to be set on a copy of a slice from a DataFrame.\n",
      "Try using .loc[row_indexer,col_indexer] = value instead\n",
      "\n",
      "See the caveats in the documentation: http://pandas.pydata.org/pandas-docs/stable/indexing.html#indexing-view-versus-copy\n",
      "  \"\"\"\n"
     ]
    }
   ],
   "source": [
    "#nuc = ps[(ps[\"Post patch?\"] == \"Nucleated\") | (ps[\"Post patch?\"] == \"Partial-Nucleus\") | (ps[\"Post patch?\"] == \"nucleus_present\") | (ps[\"Post patch?\"] == \"nucleus_visible\")]\n",
    "#nuc = ps[(ps[\"Post patch?\"] == \"Nucleated\") | (((ps[\"Post patch?\"] == \"nucleus_visible\") | (ps[\"Post patch?\"] == \"nucleus_present\")) & (ps[\"Post patch pipette R\"] >= 500))]\n",
    "nuc = nucleated(ps)\n",
    "nuc\n",
    "nuc[\"post patch class\"] = \"Nucleated\"\n",
    "#nuc"
   ]
  },
  {
   "cell_type": "code",
   "execution_count": 9,
   "metadata": {},
   "outputs": [
    {
     "data": {
      "text/plain": [
       "904"
      ]
     },
     "execution_count": 9,
     "metadata": {},
     "output_type": "execute_result"
    }
   ],
   "source": [
    "#nuc_count = nuc[\"Post patch?\"].count()\n",
    "nuc_count = get_count(nuc)\n",
    "nuc_count"
   ]
  },
  {
   "cell_type": "code",
   "execution_count": 10,
   "metadata": {},
   "outputs": [
    {
     "name": "stdout",
     "output_type": "stream",
     "text": [
      "nucleated patch %: 0.454271356784\n"
     ]
    }
   ],
   "source": [
    "#nuc_percent = float(nuc_count)/total\n",
    "#nuc_percent\n",
    "nuc_pct = calc_pct(nuc, ps) \n",
    "print \"nucleated patch %:\", nuc_pct"
   ]
  },
  {
   "cell_type": "markdown",
   "metadata": {},
   "source": [
    "#### Filtering to partial-nucleated patches only and calculating percentage "
   ]
  },
  {
   "cell_type": "code",
   "execution_count": 11,
   "metadata": {},
   "outputs": [
    {
     "name": "stderr",
     "output_type": "stream",
     "text": [
      "C:\\ProgramData\\Anaconda2\\lib\\site-packages\\ipykernel_launcher.py:2: SettingWithCopyWarning: \n",
      "A value is trying to be set on a copy of a slice from a DataFrame.\n",
      "Try using .loc[row_indexer,col_indexer] = value instead\n",
      "\n",
      "See the caveats in the documentation: http://pandas.pydata.org/pandas-docs/stable/indexing.html#indexing-view-versus-copy\n",
      "  \n"
     ]
    }
   ],
   "source": [
    "part_nuc = partial_nucleated(ps)\n",
    "part_nuc[\"post patch class\"] = \"Partial nucleated\"\n",
    "#part_nuc\n",
    "#part_nuc[\"Post patch pipette R\"].value_counts()"
   ]
  },
  {
   "cell_type": "code",
   "execution_count": 12,
   "metadata": {},
   "outputs": [
    {
     "name": "stdout",
     "output_type": "stream",
     "text": [
      "partial nucleated patch %: 0.129145728643\n"
     ]
    }
   ],
   "source": [
    "part_nuc_pct = calc_pct(part_nuc, ps)\n",
    "print \"partial nucleated patch %:\", part_nuc_pct"
   ]
  },
  {
   "cell_type": "markdown",
   "metadata": {},
   "source": [
    "#### Filtering to outside-out patches only and calculating percentage"
   ]
  },
  {
   "cell_type": "code",
   "execution_count": 13,
   "metadata": {},
   "outputs": [
    {
     "name": "stdout",
     "output_type": "stream",
     "text": [
      "outside_out %:  0.0613065326633\n"
     ]
    },
    {
     "name": "stderr",
     "output_type": "stream",
     "text": [
      "C:\\ProgramData\\Anaconda2\\lib\\site-packages\\ipykernel_launcher.py:2: SettingWithCopyWarning: \n",
      "A value is trying to be set on a copy of a slice from a DataFrame.\n",
      "Try using .loc[row_indexer,col_indexer] = value instead\n",
      "\n",
      "See the caveats in the documentation: http://pandas.pydata.org/pandas-docs/stable/indexing.html#indexing-view-versus-copy\n",
      "  \n"
     ]
    }
   ],
   "source": [
    "out_out = outside_out(ps)\n",
    "out_out[\"post patch class\"] = \"Outside out\"\n",
    "#out_out\n",
    "out_out_pct = calc_pct(out_out, ps)\n",
    "print \"outside_out %: \", out_out_pct\n",
    "#out_out[\"Post patch pipette R\"].value_counts()\n",
    "#out_out[\"Post patch?\"].value_counts()"
   ]
  },
  {
   "cell_type": "markdown",
   "metadata": {},
   "source": [
    "#### Filtering to no-seal patches only and calculating percentage"
   ]
  },
  {
   "cell_type": "code",
   "execution_count": 14,
   "metadata": {},
   "outputs": [
    {
     "name": "stdout",
     "output_type": "stream",
     "text": [
      "no seal %:  0.341708542714\n"
     ]
    },
    {
     "name": "stderr",
     "output_type": "stream",
     "text": [
      "C:\\ProgramData\\Anaconda2\\lib\\site-packages\\ipykernel_launcher.py:2: SettingWithCopyWarning: \n",
      "A value is trying to be set on a copy of a slice from a DataFrame.\n",
      "Try using .loc[row_indexer,col_indexer] = value instead\n",
      "\n",
      "See the caveats in the documentation: http://pandas.pydata.org/pandas-docs/stable/indexing.html#indexing-view-versus-copy\n",
      "  \n"
     ]
    }
   ],
   "source": [
    "noSeal = no_seal(ps)\n",
    "noSeal[\"post patch class\"] = \"No seal\"\n",
    "noSeal\n",
    "noSeal_pct = calc_pct(noSeal, ps)\n",
    "print \"no seal %: \", noSeal_pct"
   ]
  },
  {
   "cell_type": "markdown",
   "metadata": {},
   "source": [
    "#### Filtering to entire cell patches only and claculating percentage"
   ]
  },
  {
   "cell_type": "code",
   "execution_count": 16,
   "metadata": {
    "scrolled": true
   },
   "outputs": [
    {
     "name": "stderr",
     "output_type": "stream",
     "text": [
      "C:\\ProgramData\\Anaconda2\\lib\\site-packages\\ipykernel_launcher.py:2: SettingWithCopyWarning: \n",
      "A value is trying to be set on a copy of a slice from a DataFrame.\n",
      "Try using .loc[row_indexer,col_indexer] = value instead\n",
      "\n",
      "See the caveats in the documentation: http://pandas.pydata.org/pandas-docs/stable/indexing.html#indexing-view-versus-copy\n",
      "  \n"
     ]
    },
    {
     "data": {
      "text/plain": [
       "0.008542713567839196"
      ]
     },
     "execution_count": 16,
     "metadata": {},
     "output_type": "execute_result"
    }
   ],
   "source": [
    "entirecell = ps[ps[\"Post patch?\"] == \"Entire-Cell\"]\n",
    "entirecell['post patch class'] = \"Entire cell\"\n",
    "entirecell_pct = calc_pct(entirecell, ps)\n",
    "entirecell_pct\n",
    "#entirecell[\"Post patch?\"].value_counts()\n",
    "#entirecell"
   ]
  },
  {
   "cell_type": "code",
   "execution_count": 18,
   "metadata": {},
   "outputs": [
    {
     "data": {
      "text/html": [
       "<div>\n",
       "<style>\n",
       "    .dataframe thead tr:only-child th {\n",
       "        text-align: right;\n",
       "    }\n",
       "\n",
       "    .dataframe thead th {\n",
       "        text-align: left;\n",
       "    }\n",
       "\n",
       "    .dataframe tbody tr th {\n",
       "        vertical-align: top;\n",
       "    }\n",
       "</style>\n",
       "<table border=\"1\" class=\"dataframe\">\n",
       "  <thead>\n",
       "    <tr style=\"text-align: right;\">\n",
       "      <th></th>\n",
       "      <th>Date</th>\n",
       "      <th>User</th>\n",
       "      <th>Post patch?</th>\n",
       "      <th>Post patch pipette R</th>\n",
       "      <th>Nucleus sucked in?</th>\n",
       "      <th>Notes</th>\n",
       "      <th>Internal version</th>\n",
       "      <th>PCR cycles</th>\n",
       "      <th>SM_QC_PF</th>\n",
       "      <th>Resolution index</th>\n",
       "      <th>post patch class</th>\n",
       "    </tr>\n",
       "  </thead>\n",
       "  <tbody>\n",
       "    <tr>\n",
       "      <th>4971</th>\n",
       "      <td>2017-04-19</td>\n",
       "      <td>P2</td>\n",
       "      <td>Nucleated</td>\n",
       "      <td>NaN</td>\n",
       "      <td>NaN</td>\n",
       "      <td>NaN</td>\n",
       "      <td>AiV2</td>\n",
       "      <td>21.0</td>\n",
       "      <td>pass</td>\n",
       "      <td>0.000000</td>\n",
       "      <td>Nucleated</td>\n",
       "    </tr>\n",
       "    <tr>\n",
       "      <th>4973</th>\n",
       "      <td>2017-04-19</td>\n",
       "      <td>P2</td>\n",
       "      <td>Nucleated</td>\n",
       "      <td>NaN</td>\n",
       "      <td>NaN</td>\n",
       "      <td>NaN</td>\n",
       "      <td>AiV2</td>\n",
       "      <td>21.0</td>\n",
       "      <td>pass</td>\n",
       "      <td>0.322631</td>\n",
       "      <td>Nucleated</td>\n",
       "    </tr>\n",
       "    <tr>\n",
       "      <th>4975</th>\n",
       "      <td>2017-04-19</td>\n",
       "      <td>P2</td>\n",
       "      <td>Nucleated</td>\n",
       "      <td>NaN</td>\n",
       "      <td>NaN</td>\n",
       "      <td>NaN</td>\n",
       "      <td>AiV2</td>\n",
       "      <td>21.0</td>\n",
       "      <td>pass</td>\n",
       "      <td>NaN</td>\n",
       "      <td>Nucleated</td>\n",
       "    </tr>\n",
       "    <tr>\n",
       "      <th>4988</th>\n",
       "      <td>2017-04-20</td>\n",
       "      <td>P1</td>\n",
       "      <td>Nucleated</td>\n",
       "      <td>NaN</td>\n",
       "      <td>NaN</td>\n",
       "      <td>NaN</td>\n",
       "      <td>AiV2</td>\n",
       "      <td>21.0</td>\n",
       "      <td>pass</td>\n",
       "      <td>0.601033</td>\n",
       "      <td>Nucleated</td>\n",
       "    </tr>\n",
       "    <tr>\n",
       "      <th>4997</th>\n",
       "      <td>2017-04-20</td>\n",
       "      <td>P1</td>\n",
       "      <td>Nucleated</td>\n",
       "      <td>NaN</td>\n",
       "      <td>NaN</td>\n",
       "      <td>NaN</td>\n",
       "      <td>AiV2</td>\n",
       "      <td>21.0</td>\n",
       "      <td>pass</td>\n",
       "      <td>NaN</td>\n",
       "      <td>Nucleated</td>\n",
       "    </tr>\n",
       "  </tbody>\n",
       "</table>\n",
       "</div>"
      ],
      "text/plain": [
       "           Date User Post patch?  Post patch pipette R Nucleus sucked in?  \\\n",
       "4971 2017-04-19   P2   Nucleated                   NaN                NaN   \n",
       "4973 2017-04-19   P2   Nucleated                   NaN                NaN   \n",
       "4975 2017-04-19   P2   Nucleated                   NaN                NaN   \n",
       "4988 2017-04-20   P1   Nucleated                   NaN                NaN   \n",
       "4997 2017-04-20   P1   Nucleated                   NaN                NaN   \n",
       "\n",
       "     Notes Internal version  PCR cycles SM_QC_PF  Resolution index  \\\n",
       "4971   NaN             AiV2        21.0     pass          0.000000   \n",
       "4973   NaN             AiV2        21.0     pass          0.322631   \n",
       "4975   NaN             AiV2        21.0     pass               NaN   \n",
       "4988   NaN             AiV2        21.0     pass          0.601033   \n",
       "4997   NaN             AiV2        21.0     pass               NaN   \n",
       "\n",
       "     post patch class  \n",
       "4971        Nucleated  \n",
       "4973        Nucleated  \n",
       "4975        Nucleated  \n",
       "4988        Nucleated  \n",
       "4997        Nucleated  "
      ]
     },
     "execution_count": 18,
     "metadata": {},
     "output_type": "execute_result"
    }
   ],
   "source": [
    "frames = [nuc, part_nuc, out_out, noSeal, entirecell]\n",
    "result = pd.concat(frames)\n",
    "result.head()"
   ]
  },
  {
   "cell_type": "markdown",
   "metadata": {
    "collapsed": true
   },
   "source": [
    "# Calculating nucleated patch percentages by user"
   ]
  },
  {
   "cell_type": "code",
   "execution_count": 16,
   "metadata": {},
   "outputs": [
    {
     "data": {
      "text/plain": [
       "472"
      ]
     },
     "execution_count": 16,
     "metadata": {},
     "output_type": "execute_result"
    }
   ],
   "source": [
    "P8_total = ps[ps[\"User\"] == 'P8']\n",
    "P8_total_count = P8_total['Post patch?'].count()\n",
    "P8_total_count"
   ]
  },
  {
   "cell_type": "code",
   "execution_count": 17,
   "metadata": {},
   "outputs": [
    {
     "data": {
      "text/plain": [
       "211"
      ]
     },
     "execution_count": 17,
     "metadata": {},
     "output_type": "execute_result"
    }
   ],
   "source": [
    "#use post patch nucleated filter\n",
    "P8_nuc = P8_total[P8_total['Post patch?'] == 'Nucleated']\n",
    "P8_nuc_count = P8_nuc['Post patch?'].count()\n",
    "P8_nuc_count"
   ]
  },
  {
   "cell_type": "code",
   "execution_count": 18,
   "metadata": {},
   "outputs": [
    {
     "data": {
      "text/plain": [
       "0.4470338983050847"
      ]
     },
     "execution_count": 18,
     "metadata": {},
     "output_type": "execute_result"
    }
   ],
   "source": [
    "float(P8_nuc_count)/P8_total_count"
   ]
  },
  {
   "cell_type": "code",
   "execution_count": 19,
   "metadata": {},
   "outputs": [
    {
     "name": "stdout",
     "output_type": "stream",
     "text": [
      "P1 :  0.342490842491\n",
      "P2 :  0.506086956522\n",
      "P6 :  0.369863013699\n",
      "P8 :  0.514830508475\n",
      "P9 :  0.628865979381\n",
      "PA :  0.477272727273\n",
      "PB :  0.410714285714\n"
     ]
    }
   ],
   "source": [
    "for riguser in ['P1','P2','P6','P8','P9','PA','PB']:\n",
    "    user_total = ps[ps['User'] == riguser]\n",
    "    user_nuc = nucleated(user_total)\n",
    "    user_percent = calc_pct(user_nuc, user_total)\n",
    "    print riguser,': ', user_percent\n",
    "    \n",
    "    #user_total_count = get_count(user_total)\n",
    "    #user_total_count = user_total['Post patch?'].count()\n",
    "    #user_nuc = user_total[user_total['Post patch?'] == 'Nucleated']\n",
    "    #user_nuc_count = get_count(user_nuc)\n",
    "    #user_nuc_count = user_nuc['Post patch?'].count()\n",
    "    #user_percent = float(user_nuc_count)/(user_total_count)"
   ]
  },
  {
   "cell_type": "markdown",
   "metadata": {
    "collapsed": true
   },
   "source": [
    "# Obtaining nucleus dependant on internal solution version"
   ]
  },
  {
   "cell_type": "code",
   "execution_count": 30,
   "metadata": {},
   "outputs": [
    {
     "data": {
      "text/plain": [
       "0.5125164690382081"
      ]
     },
     "execution_count": 30,
     "metadata": {},
     "output_type": "execute_result"
    }
   ],
   "source": [
    "result2 = result[(result['User'] == 'P2') | (result['User'] == 'P8')]\n",
    "standard = result2[result2['Internal version'] == 'AiV2']\n",
    "alexa = result2[result2['Internal version'] == 'AiV2-50uM alexa 488']\n",
    "std_nuc = standard[standard['post patch class'] == 'Nucleated']\n",
    "std_nuc_pct = calc_pct(std_nuc, standard)\n",
    "std_nuc_pct\n",
    "#alexa\n"
   ]
  },
  {
   "cell_type": "code",
   "execution_count": 126,
   "metadata": {},
   "outputs": [
    {
     "name": "stdout",
     "output_type": "stream",
     "text": [
      "Standard Nucleated 0.512516469038\n",
      "Alexa Nucleated 0.510563380282\n",
      "Standard Partial Nucleated 0.123847167325\n"
     ]
    }
   ],
   "source": [
    "standard = \"AiV2\"\n",
    "alexa = \"AiV2-50uM alexa 488\"\n",
    "post_patch_condition = ['Nucleated', 'Partial nucleated', 'Outside out', 'No seal']\n",
    "def postpatch_results(internal, postpatch):\n",
    "    internal_version = gen_filter(result, \"Internal version\", internal)\n",
    "    internal_version = internal_version[(internal_version[\"User\"] == \"P2\") | (internal_version[\"User\"] == \"P8\")]\n",
    "    #for n in internal_version[\"post patch class\"]:\n",
    "    #for n in post_patch_condition:\n",
    "    post_patch = gen_filter(internal_version, 'post patch class', postpatch)\n",
    "    post_patch_pct = calc_pct(post_patch, internal_version)\n",
    "    return post_patch_pct\n",
    "    #print internal, n,': ', post_patch_pct\n",
    "sn = postpatch_results(standard, \"Nucleated\")\n",
    "sn_label = \"Standard Nucleated\" \n",
    "an = postpatch_results(alexa, \"Nucleated\")\n",
    "an_label = \"Alexa Nucleated\"\n",
    "spn = postpatch_results(standard, \"Partial nucleated\")\n",
    "spn_label = \"Standard Partial Nucleated\"\n",
    "print sn_label, sn    \n",
    "print an_label, an\n",
    "print spn_label, spn\n",
    "#std = postpatch_results(standard)\n",
    "#alexa488 = postpatch_results(alexa)\n",
    "#std\n",
    "#alexa488"
   ]
  },
  {
   "cell_type": "markdown",
   "metadata": {},
   "source": [
    "# Rate of SMQC pass by internal solution verion"
   ]
  },
  {
   "cell_type": "code",
   "execution_count": 21,
   "metadata": {},
   "outputs": [
    {
     "name": "stderr",
     "output_type": "stream",
     "text": [
      "C:\\Anaconda2\\lib\\site-packages\\ipykernel\\__main__.py:3: SettingWithCopyWarning: \n",
      "A value is trying to be set on a copy of a slice from a DataFrame\n",
      "\n",
      "See the caveats in the documentation: http://pandas.pydata.org/pandas-docs/stable/indexing.html#indexing-view-versus-copy\n",
      "  app.launch_new_instance()\n"
     ]
    },
    {
     "data": {
      "text/plain": [
       "758"
      ]
     },
     "execution_count": 21,
     "metadata": {},
     "output_type": "execute_result"
    }
   ],
   "source": [
    "std_int = gen_filter(ps, \"Internal version\", \"AiV2\")\n",
    "#std_int = ps[ps[\"Internal version\"] == \"AiV2\"]\n",
    "std_int.dropna(subset = [\"SM_QC_PF\", \"Post patch?\"], inplace = True)\n",
    "std_int = std_int[(std_int[\"User\"] == \"P2\") | (std_int[\"User\"] == \"P8\")]\n",
    "standard_internal_count = std_int[\"Post patch?\"].count()\n",
    "standard_internal_count"
   ]
  },
  {
   "cell_type": "code",
   "execution_count": 22,
   "metadata": {},
   "outputs": [
    {
     "data": {
      "text/plain": [
       "661"
      ]
     },
     "execution_count": 22,
     "metadata": {},
     "output_type": "execute_result"
    }
   ],
   "source": [
    "standard_internal_pass = std_int[std_int[\"SM_QC_PF\"] == \"pass\"]\n",
    "standard_internal_pass\n",
    "standard_internal_pass_count = standard_internal_pass[\"Post patch?\"].count()\n",
    "standard_internal_pass_count                                    "
   ]
  },
  {
   "cell_type": "code",
   "execution_count": 23,
   "metadata": {},
   "outputs": [
    {
     "name": "stdout",
     "output_type": "stream",
     "text": [
      "Standard internal pass rate: 0.872031662269\n"
     ]
    }
   ],
   "source": [
    "print \"Standard internal pass rate:\" , float(standard_internal_pass_count)/standard_internal_count"
   ]
  },
  {
   "cell_type": "code",
   "execution_count": 24,
   "metadata": {},
   "outputs": [
    {
     "ename": "NameError",
     "evalue": "name 'alexa_int' is not defined",
     "output_type": "error",
     "traceback": [
      "\u001b[1;31m---------------------------------------------------------------------------\u001b[0m",
      "\u001b[1;31mNameError\u001b[0m                                 Traceback (most recent call last)",
      "\u001b[1;32m<ipython-input-24-36b237b3a943>\u001b[0m in \u001b[0;36m<module>\u001b[1;34m()\u001b[0m\n\u001b[1;32m----> 1\u001b[1;33m \u001b[0malexa_int\u001b[0m\u001b[1;33m.\u001b[0m\u001b[0mdropna\u001b[0m\u001b[1;33m(\u001b[0m\u001b[0msubset\u001b[0m \u001b[1;33m=\u001b[0m \u001b[1;33m[\u001b[0m\u001b[1;34m\"SM_QC_PF\"\u001b[0m\u001b[1;33m,\u001b[0m \u001b[1;34m\"Post patch?\"\u001b[0m\u001b[1;33m]\u001b[0m\u001b[1;33m,\u001b[0m \u001b[0minplace\u001b[0m \u001b[1;33m=\u001b[0m \u001b[0mTrue\u001b[0m\u001b[1;33m)\u001b[0m\u001b[1;33m\u001b[0m\u001b[0m\n\u001b[0m\u001b[0;32m      2\u001b[0m \u001b[0malexa_internal_count\u001b[0m \u001b[1;33m=\u001b[0m \u001b[0malexa_int\u001b[0m\u001b[1;33m[\u001b[0m\u001b[1;34m\"Post patch?\"\u001b[0m\u001b[1;33m]\u001b[0m\u001b[1;33m.\u001b[0m\u001b[0mcount\u001b[0m\u001b[1;33m(\u001b[0m\u001b[1;33m)\u001b[0m\u001b[1;33m\u001b[0m\u001b[0m\n\u001b[0;32m      3\u001b[0m \u001b[0malexa_internal_count\u001b[0m\u001b[1;33m\u001b[0m\u001b[0m\n",
      "\u001b[1;31mNameError\u001b[0m: name 'alexa_int' is not defined"
     ]
    }
   ],
   "source": [
    "alexa_int.dropna(subset = [\"SM_QC_PF\", \"Post patch?\"], inplace = True)\n",
    "alexa_internal_count = alexa_int[\"Post patch?\"].count()\n",
    "alexa_internal_count"
   ]
  },
  {
   "cell_type": "code",
   "execution_count": null,
   "metadata": {
    "collapsed": true
   },
   "outputs": [],
   "source": [
    "alexa_internal_pass = alexa_int[alexa_int[\"SM_QC_PF\"] == \"pass\"]\n",
    "alexa_internal_pass_count = alexa_internal_pass[\"Post patch?\"].count()\n",
    "alexa_internal_pass_count"
   ]
  },
  {
   "cell_type": "code",
   "execution_count": 452,
   "metadata": {},
   "outputs": [
    {
     "name": "stdout",
     "output_type": "stream",
     "text": [
      "Alexa internal pass rate: 0.797872340426\n"
     ]
    }
   ],
   "source": [
    "print \"Alexa internal pass rate:\" , float(alexa_internal_pass_count)/alexa_internal_count"
   ]
  },
  {
   "cell_type": "markdown",
   "metadata": {},
   "source": [
    "# Rate of SM_QC pass based on internal version and post patch condition"
   ]
  },
  {
   "cell_type": "code",
   "execution_count": 16,
   "metadata": {},
   "outputs": [
    {
     "data": {
      "text/plain": [
       "Nucleated            859\n",
       "No seal              644\n",
       "Partial nucleated    237\n",
       "Outside out          111\n",
       "Entire cell           17\n",
       "Name: post patch class, dtype: int64"
      ]
     },
     "execution_count": 16,
     "metadata": {},
     "output_type": "execute_result"
    }
   ],
   "source": [
    "result[\"post patch class\"].value_counts()"
   ]
  },
  {
   "cell_type": "code",
   "execution_count": 128,
   "metadata": {},
   "outputs": [
    {
     "name": "stdout",
     "output_type": "stream",
     "text": [
      "284\n"
     ]
    },
    {
     "ename": "NameError",
     "evalue": "name 'alexa_internal' is not defined",
     "output_type": "error",
     "traceback": [
      "\u001b[1;31m---------------------------------------------------------------------------\u001b[0m",
      "\u001b[1;31mNameError\u001b[0m                                 Traceback (most recent call last)",
      "\u001b[1;32m<ipython-input-128-84ad62a550ca>\u001b[0m in \u001b[0;36m<module>\u001b[1;34m()\u001b[0m\n\u001b[0;32m      5\u001b[0m \u001b[1;31m#alexa_count = alexa[\"post patch class\"].count()\u001b[0m\u001b[1;33m\u001b[0m\u001b[1;33m\u001b[0m\u001b[0m\n\u001b[0;32m      6\u001b[0m \u001b[1;32mprint\u001b[0m \u001b[0malexa_count\u001b[0m\u001b[1;33m\u001b[0m\u001b[0m\n\u001b[1;32m----> 7\u001b[1;33m \u001b[0malexa_pass\u001b[0m \u001b[1;33m=\u001b[0m \u001b[0mpass_only\u001b[0m\u001b[1;33m(\u001b[0m\u001b[0malexa_internal\u001b[0m\u001b[1;33m)\u001b[0m\u001b[1;33m\u001b[0m\u001b[0m\n\u001b[0m\u001b[0;32m      8\u001b[0m \u001b[0malexa_pass_count\u001b[0m \u001b[1;33m=\u001b[0m \u001b[0malexa_pass\u001b[0m\u001b[1;33m[\u001b[0m\u001b[1;34m\"Post patch?\"\u001b[0m\u001b[1;33m]\u001b[0m\u001b[1;33m.\u001b[0m\u001b[0mcount\u001b[0m\u001b[1;33m(\u001b[0m\u001b[1;33m)\u001b[0m\u001b[1;33m\u001b[0m\u001b[0m\n\u001b[0;32m      9\u001b[0m \u001b[1;32mprint\u001b[0m \u001b[0malexa_pass_count\u001b[0m\u001b[1;33m\u001b[0m\u001b[0m\n",
      "\u001b[1;31mNameError\u001b[0m: name 'alexa_internal' is not defined"
     ]
    }
   ],
   "source": [
    "alexa = result[result[\"Internal version\"] == \"AiV2-50uM alexa 488\"]\n",
    "alexa[\"Internal version\"].value_counts()\n",
    "alexa = alexa[(alexa[\"User\"] == \"P2\") | (alexa[\"User\"] == \"P8\")]\n",
    "alexa_count = get_count(alexa)\n",
    "#alexa_count = alexa[\"post patch class\"].count()\n",
    "print alexa_count\n",
    "alexa_pass = pass_only(alexa_internal)\n",
    "alexa_pass_count = alexa_pass[\"Post patch?\"].count()\n",
    "print alexa_pass_count\n",
    "alexa_nuc = nucleated(alexa)\n",
    "alexa_nuc_count = get_count(alexa_nuc)\n",
    "print alexa_nuc_count\n",
    "alexa_nuc_pass = pass_only(alexa_nuc)\n",
    "alexa_nuc_pass_count = get_count(alexa_nuc_pass)\n",
    "alexa_nuc_pass_count"
   ]
  },
  {
   "cell_type": "code",
   "execution_count": 71,
   "metadata": {
    "collapsed": true
   },
   "outputs": [],
   "source": [
    "result.dropna(subset = [\"SM_QC_PF\"], inplace=True)\n",
    "result = result[result[\"SM_QC_PF\"] != 'na']\n",
    "result1 = result[(result[\"User\"] == \"P2\") | (result[\"User\"] == \"P8\")]\n",
    "result1 = result1.drop('Date',1)\n",
    "result1 = result1.drop('User',1)\n",
    "result1 = result1.drop('Post patch?',1)\n",
    "result1 = result1.drop('Post patch pipette R',1)\n",
    "result1 = result1.drop('Nucleus sucked in?',1)\n",
    "result1 = result1.drop('Notes',1)\n",
    "result1 = result1.drop('PCR cycles',1)\n",
    "result1 = result1.drop('Resolution index',1)\n",
    "#print result[\"SM_QC_PF\"].value_counts()\n",
    "#print result[\"post patch class\"].value_counts()"
   ]
  },
  {
   "cell_type": "code",
   "execution_count": 72,
   "metadata": {},
   "outputs": [
    {
     "data": {
      "text/html": [
       "<div>\n",
       "<table border=\"1\" class=\"dataframe\">\n",
       "  <thead>\n",
       "    <tr style=\"text-align: right;\">\n",
       "      <th></th>\n",
       "      <th></th>\n",
       "      <th>SM_QC_PF</th>\n",
       "    </tr>\n",
       "    <tr>\n",
       "      <th>Internal version</th>\n",
       "      <th>post patch class</th>\n",
       "      <th></th>\n",
       "    </tr>\n",
       "  </thead>\n",
       "  <tbody>\n",
       "    <tr>\n",
       "      <th rowspan=\"5\" valign=\"top\">AiV2</th>\n",
       "      <th>Entire cell</th>\n",
       "      <td>6</td>\n",
       "    </tr>\n",
       "    <tr>\n",
       "      <th>No seal</th>\n",
       "      <td>240</td>\n",
       "    </tr>\n",
       "    <tr>\n",
       "      <th>Nucleated</th>\n",
       "      <td>381</td>\n",
       "    </tr>\n",
       "    <tr>\n",
       "      <th>Outside out</th>\n",
       "      <td>28</td>\n",
       "    </tr>\n",
       "    <tr>\n",
       "      <th>Partial nucleated</th>\n",
       "      <td>94</td>\n",
       "    </tr>\n",
       "    <tr>\n",
       "      <th rowspan=\"5\" valign=\"top\">AiV2-50uM alexa 488</th>\n",
       "      <th>Entire cell</th>\n",
       "      <td>1</td>\n",
       "    </tr>\n",
       "    <tr>\n",
       "      <th>No seal</th>\n",
       "      <td>76</td>\n",
       "    </tr>\n",
       "    <tr>\n",
       "      <th>Nucleated</th>\n",
       "      <td>132</td>\n",
       "    </tr>\n",
       "    <tr>\n",
       "      <th>Outside out</th>\n",
       "      <td>13</td>\n",
       "    </tr>\n",
       "    <tr>\n",
       "      <th>Partial nucleated</th>\n",
       "      <td>24</td>\n",
       "    </tr>\n",
       "  </tbody>\n",
       "</table>\n",
       "</div>"
      ],
      "text/plain": [
       "                                       SM_QC_PF\n",
       "Internal version    post patch class           \n",
       "AiV2                Entire cell               6\n",
       "                    No seal                 240\n",
       "                    Nucleated               381\n",
       "                    Outside out              28\n",
       "                    Partial nucleated        94\n",
       "AiV2-50uM alexa 488 Entire cell               1\n",
       "                    No seal                  76\n",
       "                    Nucleated               132\n",
       "                    Outside out              13\n",
       "                    Partial nucleated        24"
      ]
     },
     "execution_count": 72,
     "metadata": {},
     "output_type": "execute_result"
    }
   ],
   "source": [
    "int_pp = result1.groupby([\"Internal version\", \"post patch class\"]).count()\n",
    "#int_pp = int_pp.reset_index()\n",
    "int_pp\n",
    "#type(int_pp)\n",
    "#result1[\"SM_QC_PF\"].value_counts()"
   ]
  },
  {
   "cell_type": "code",
   "execution_count": 73,
   "metadata": {},
   "outputs": [
    {
     "data": {
      "text/html": [
       "<div>\n",
       "<table border=\"1\" class=\"dataframe\">\n",
       "  <thead>\n",
       "    <tr style=\"text-align: right;\">\n",
       "      <th></th>\n",
       "      <th></th>\n",
       "      <th>SM_QC_PF</th>\n",
       "    </tr>\n",
       "    <tr>\n",
       "      <th>Internal version</th>\n",
       "      <th>post patch class</th>\n",
       "      <th></th>\n",
       "    </tr>\n",
       "  </thead>\n",
       "  <tbody>\n",
       "    <tr>\n",
       "      <th rowspan=\"5\" valign=\"top\">AiV2</th>\n",
       "      <th>Entire cell</th>\n",
       "      <td>5</td>\n",
       "    </tr>\n",
       "    <tr>\n",
       "      <th>No seal</th>\n",
       "      <td>193</td>\n",
       "    </tr>\n",
       "    <tr>\n",
       "      <th>Nucleated</th>\n",
       "      <td>356</td>\n",
       "    </tr>\n",
       "    <tr>\n",
       "      <th>Outside out</th>\n",
       "      <td>22</td>\n",
       "    </tr>\n",
       "    <tr>\n",
       "      <th>Partial nucleated</th>\n",
       "      <td>85</td>\n",
       "    </tr>\n",
       "    <tr>\n",
       "      <th rowspan=\"5\" valign=\"top\">AiV2-50uM alexa 488</th>\n",
       "      <th>Entire cell</th>\n",
       "      <td>1</td>\n",
       "    </tr>\n",
       "    <tr>\n",
       "      <th>No seal</th>\n",
       "      <td>35</td>\n",
       "    </tr>\n",
       "    <tr>\n",
       "      <th>Nucleated</th>\n",
       "      <td>127</td>\n",
       "    </tr>\n",
       "    <tr>\n",
       "      <th>Outside out</th>\n",
       "      <td>5</td>\n",
       "    </tr>\n",
       "    <tr>\n",
       "      <th>Partial nucleated</th>\n",
       "      <td>19</td>\n",
       "    </tr>\n",
       "  </tbody>\n",
       "</table>\n",
       "</div>"
      ],
      "text/plain": [
       "                                       SM_QC_PF\n",
       "Internal version    post patch class           \n",
       "AiV2                Entire cell               5\n",
       "                    No seal                 193\n",
       "                    Nucleated               356\n",
       "                    Outside out              22\n",
       "                    Partial nucleated        85\n",
       "AiV2-50uM alexa 488 Entire cell               1\n",
       "                    No seal                  35\n",
       "                    Nucleated               127\n",
       "                    Outside out               5\n",
       "                    Partial nucleated        19"
      ]
     },
     "execution_count": 73,
     "metadata": {},
     "output_type": "execute_result"
    }
   ],
   "source": [
    "int_pp_pass = pass_only(result1)\n",
    "int_pp_pass[\"SM_QC_PF\"].value_counts()\n",
    "int_pp_pass = int_pp_pass.groupby([\"Internal version\", \"post patch class\"]).count()\n",
    "#int_pp_pass = int_pp_pass.reset_index()\n",
    "int_pp_pass"
   ]
  },
  {
   "cell_type": "code",
   "execution_count": 74,
   "metadata": {},
   "outputs": [
    {
     "name": "stdout",
     "output_type": "stream",
     "text": [
      "  Internal version   post patch class   SM_QC_PF  totals\n",
      "0             AiV2        Entire cell  83.333333       6\n",
      "1             AiV2            No seal  80.416667     240\n",
      "2             AiV2          Nucleated  93.438320     381\n",
      "3             AiV2        Outside out  78.571429      28\n",
      "4             AiV2  Partial nucleated  90.425532      94\n",
      "      Internal version   post patch class    SM_QC_PF  totals\n",
      "5  AiV2-50uM alexa 488        Entire cell  100.000000       1\n",
      "6  AiV2-50uM alexa 488            No seal   46.052632      76\n",
      "7  AiV2-50uM alexa 488          Nucleated   96.212121     132\n",
      "8  AiV2-50uM alexa 488        Outside out   38.461538      13\n",
      "9  AiV2-50uM alexa 488  Partial nucleated   79.166667      24\n"
     ]
    },
    {
     "data": {
      "text/plain": [
       "<pandas.core.groupby.DataFrameGroupBy object at 0x000000000592C9B0>"
      ]
     },
     "execution_count": 74,
     "metadata": {},
     "output_type": "execute_result"
    }
   ],
   "source": [
    "#int_pp_totals = int_pp.groupby([\"Internal version\", \"post patch class\"]).agg({\"SM_QC_PF\": \"sum\"})\n",
    "#int_pp_pass_totals = int_pp_pass.groupby([\"Internal version\", \"post patch class\"]).agg({\"SM_QC_PF\": \"sum\"})\n",
    "int_pp_pass_pct = int_pp_pass.div(int_pp, level='Internal version') * 100\n",
    "#type(int_pp_pass_pct)\n",
    "int_pp_pass_pct[\"totals\"] = int_pp[\"SM_QC_PF\"]\n",
    "int_pp_pass_pct = int_pp_pass_pct.reset_index()\n",
    "int_pp_pass_pct = int_pp_pass_pct.groupby(\"Internal version\")\n",
    "#int_pp_pass_pct = int_pp_pass_pct.rename(columns = {'post patch class': 'Post patch outcome', 'SM_QC_PF': 'SM_QC_pass_pct'})\n",
    "#int_pp_pass_pct = int_pp_pass_pct.rename(columns = {'SM_QC_PF': 'SM_QC pass percentage'})\n",
    "#int_pp_pass_pct = int_pp_pass_pct.reindex([0,5,1,6,2,7,3,8,4,9])\n",
    "std_group = int_pp_pass_pct.get_group(\"AiV2\")\n",
    "alexa_group = int_pp_pass_pct.get_group(\"AiV2-50uM alexa 488\")\n",
    "print std_group\n",
    "print alexa_group\n",
    "int_pp_pass_pct\n",
    "#std_pp_pass_pct = int_pp_pass_pct[int_pp_pass_pct[\"Internal version\"] == \"AiV2\"]\n",
    "#alexa_pp_pass_pct = int_pp_pass_pct[int_pp_pass_pct[\"Internal version\"] == \"AiV2-50uM alexa 488\"]"
   ]
  },
  {
   "cell_type": "code",
   "execution_count": 131,
   "metadata": {},
   "outputs": [
    {
     "data": {
      "image/png": "[encoded data removed]",
      "text/plain": [
       "<matplotlib.figure.Figure at 0x125d5320>"
      ]
     },
     "metadata": {},
     "output_type": "display_data"
    }
   ],
   "source": [
    "n_groups = 5\n",
    "\n",
    "#index = [1.25,3.25,5.25,7.25,9.25]\n",
    "#std_tots_idx = [0,1,2,3,4]\n",
    "#std_idx = [1,3,5,7,9]\n",
    "#alexa_idx = [1.5,3.5,5.5,7.5,9.5]\n",
    "standard = list(std_group[\"SM_QC_PF\"])\n",
    "std_tots = list(std_group[\"totals\"])\n",
    "alexa = list(alexa_group[\"SM_QC_PF\"])\n",
    "alexa_tots = list(alexa_group[\"totals\"])\n",
    "#print standard\n",
    "fig,ax = plt.subplots()\n",
    "index = np.arange(n_groups)\n",
    "#print index\n",
    "bar_width = 0.25\n",
    "#print std_tots\n",
    "\n",
    "#def get_total(index):\n",
    "    #for n in index:\n",
    "        #tots = std_tots[n]\n",
    "        #return tots\n",
    "#def get_label():\n",
    "    #for n in range(len(std_tots_idx)):\n",
    "        #return std_tots[n]    \n",
    "#print get_label(std_tots_idx)    \n",
    "#def get_label(lst1,lst2):\n",
    "    #for n in range(len(lst1)):\n",
    "        #return itemgetter(*lst1)(lst2)\n",
    "#print  get_label(std_tots_idx,std_tots)\n",
    "#itemgetter(*std_tots_idx)(std_tots)        \n",
    "rects1 = plt.bar(index, standard, bar_width, color='b', label='AiV2')\n",
    "#for i,v in enumerate(standard):\n",
    "    #ax.text(v, i, str(v), color='blue')\n",
    "for ii,rect in enumerate(rects1):\n",
    "    height = rect.get_height()\n",
    "    #label = get_total(index)\n",
    "    plt.text(rect.get_x()+rect.get_width()-.125, 1.01*height, std_tots[ii], ha='center')\n",
    "\n",
    "rects2 = plt.bar(index+bar_width, alexa, bar_width, color='g', label='AiV2-50uM alexa 488')\n",
    "for ii,rect in enumerate(rects2):\n",
    "    height = rect.get_height()\n",
    "    plt.text(rect.get_x()+rect.get_width()-.125, 1.01*height, alexa_tots[ii], ha = 'center')\n",
    "\n",
    "plt.title(\"Smarter QC Pass % vs. Post Patch Outcome\")\n",
    "plt.xlabel('Post patch outcome')\n",
    "plt.ylabel('SM_QC pass percent')\n",
    "axes = plt.gca()\n",
    "axes.set_ylim([0,120])\n",
    "plt.xticks(index + bar_width, ('Entire cell', 'No Seal', 'Nucleated', 'Outside out', 'Partial nucleated'))\n",
    "plt.legend()\n",
    "plt.tight_layout()\n",
    "plt.savefig('SM_QC_pass_vs_postpatch_by_internal_version.png', dpi=300)"
   ]
  },
  {
   "cell_type": "code",
   "execution_count": 231,
   "metadata": {},
   "outputs": [
    {
     "data": {
      "image/png": "[encoded data removed]",
      "text/plain": [
       "<matplotlib.figure.Figure at 0xdf1cc88>"
      ]
     },
     "metadata": {},
     "output_type": "display_data"
    }
   ],
   "source": [
    "\n",
    "ax = int_pp_pass_pct.unstack(level=0).plot(kind='bar', subplots=False)\n",
    "for p in ax.patches:\n",
    "    ax.annotate(str(p.get_height()), (p.get_x()*1.005, p.get_height()*1.005))"
   ]
  },
  {
   "cell_type": "code",
   "execution_count": null,
   "metadata": {
    "collapsed": true
   },
   "outputs": [],
   "source": [
    "internal_postpatch_passpct = sns.barplot(x = 'post patch class', y = 'SM_QC_PF', hue='Internal version',  data=int_pp_pass_pct)   \n",
    "internal_postpatch_passpct.set(ylabel = 'SM_QC pass %')\n",
    "plt.legend(loc = 'upper right')\n",
    "plt.title('Smarter QC Pass % vs Post Patch Outcome')\n",
    "#y = int_pp_pass_pct[\"totals\"]\n",
    "for index, row in int_pp_pass_pct.iterrows():\n",
    "    internal_postpatch_passpct.text(row.name, row.SM_QC_PF, round(row.totals,2), color='black', ha='center')\n",
    "#for i, v in enumerate(int_pp_pass_pct[\"totals\"]):\n",
    "    #internal_postpatch_passpct.text(v, i, str(v), color = 'black')\n",
    "    \n",
    "    \n",
    "    \n",
    "    \n",
    "    \n",
    "    \n",
    "    \n",
    "    \n",
    "#plt.legend(bbox_to_anchor=(1.05,1), loc=2, borderaxespad=0.)\n",
    "plt.savefig('SM_QC_pass_vs_postpatch_by_internal_version.png', dpi=300)\n",
    "#for item in internal_postpatch_passpct.get_xticklables():\n",
    "    #item.set_rotation(90)"
   ]
  },
  {
   "cell_type": "code",
   "execution_count": null,
   "metadata": {
    "collapsed": true
   },
   "outputs": [],
   "source": [
    "plt.table(cellText = int_pp_summary.values,\n",
    "         rowLabels=int_pp_summary.index,\n",
    "         colLabels=int_pp_summary.columns,\n",
    "         cellLoc='center', rowLoc='center',loc='top')"
   ]
  },
  {
   "cell_type": "code",
   "execution_count": null,
   "metadata": {
    "collapsed": true
   },
   "outputs": [],
   "source": [
    "print result[\"SM_QC_PF\"].value_counts()\n",
    "print result[\"Internal version\"].value_counts()"
   ]
  },
  {
   "cell_type": "code",
   "execution_count": null,
   "metadata": {
    "collapsed": true
   },
   "outputs": [],
   "source": [
    "result.dropna(subset = [\"SM_QC_PF\"], inplace=True)\n",
    "result = result[result[\"SM_QC_PF\"] != 'na']\n",
    "standard = \"AiV2\"\n",
    "alexa = \"AiV2-50uM alexa 488\"\n",
    "#post_patch_condition = ['Nucleated', \"Partial nucleated\", \"Outside out\", \"No seal\", \"Entire cell\"]\n",
    "def pass_pct_results(internal, postpatch):\n",
    "    int_ver = gen_filter(result, \"Internal version\", internal)\n",
    "    #int_ver_count = int_ver[\"Post patch?\"].count\n",
    "    int_ver = int_ver[(int_ver[\"User\"] == \"P2\") | (int_ver[\"User\"] == \"P8\")]\n",
    "    #for n in post_patch_condition:\n",
    "    post_patch = gen_filter(int_ver,\"post patch class\", postpatch)\n",
    "    post_patch_pass = pass_only(post_patch)\n",
    "    post_patch_pass_count = get_count(post_patch_pass)\n",
    "    post_patch_pass_pct = calc_pct(post_patch_pass, post_patch)\n",
    "    #print internal, n,': ', post_patch_pass_pct\n",
    "    return post_patch_pass_pct, post_patch_pass_count\n",
    "    #if internal == standard:\n",
    "#pass_pct_results(alexa)\n",
    "#pass_pct_results(standard)\n",
    "x1 = \"Standard Nucleated\"\n",
    "y1 = pass_pct_results(standard, \"Nucleated\")\n",
    "x2 = \"Alexa Nucleated\"\n",
    "y2 = pass_pct_results(alexa, \"Nucleated\")\n",
    "x3 = \"Standard Partial Nucleated\"\n",
    "y3 = pass_pct_results(standard, \"Partial nucleated\")\n",
    "x4 = \"Alexa Partial Nucleated\"\n",
    "y4 = pass_pct_results(alexa, \"Partial nucleated\")\n",
    "x5 = \"Standard Outside Out\"\n",
    "y5 = pass_pct_results(standard, \"Outside out\")\n",
    "x6 = \"Alexa Outside Out\"\n",
    "y6 = pass_pct_results(alexa, \"Outside out\")\n",
    "\n",
    "#std_lbl = (x1, x3)\n",
    "#alx_lbl = (x2, x4)\n",
    "#N = 2\n",
    "#standard_postpatch = (y1, y3)\n",
    "#alexa_postpatch = (y2, y4)\n",
    "#ind = np.arange(N)\n",
    "#width = 0.35\n",
    "\n",
    "#fig, ax = plt.subplots()\n",
    "#rects1 = ax.bar(ind, standard_postpatch, width, color = 'y')\n",
    "\n",
    "print x1, y1\n",
    "print x2, y2\n",
    "print x3, y3\n",
    "print x4, y4\n",
    "print x5, y5\n",
    "print x6, y6\n"
   ]
  },
  {
   "cell_type": "code",
   "execution_count": null,
   "metadata": {
    "collapsed": true
   },
   "outputs": [],
   "source": [
    "fig, axs = plt.subplots()\n",
    "axs[0].bar(x1, y1)\n",
    "#axs[1].scatter(x1, y1)\n",
    "#axs[2].plot(x1, y1)"
   ]
  },
  {
   "cell_type": "markdown",
   "metadata": {},
   "source": [
    "# Resolution Index vs post patch condition for pre and post alexa experiments"
   ]
  },
  {
   "cell_type": "code",
   "execution_count": 165,
   "metadata": {
    "collapsed": true
   },
   "outputs": [],
   "source": [
    "result.dropna(subset = [\"Resolution index\"], inplace=True)"
   ]
  },
  {
   "cell_type": "code",
   "execution_count": 166,
   "metadata": {},
   "outputs": [
    {
     "data": {
      "text/plain": [
       "<matplotlib.legend.Legend at 0xe0fee48>"
      ]
     },
     "execution_count": 166,
     "metadata": {},
     "output_type": "execute_result"
    },
    {
     "data": {
      "image/png": "[encoded data removed]",
      "text/plain": [
       "<matplotlib.figure.Figure at 0xe737828>"
      ]
     },
     "metadata": {},
     "output_type": "display_data"
    }
   ],
   "source": [
    "sns.swarmplot(x = \"post patch class\", y = \"Resolution index\", hue = \"Internal version\", data=result)\n",
    "plt.legend(bbox_to_anchor=(1.05,1), loc=2, borderaxespad=0.)"
   ]
  },
  {
   "cell_type": "code",
   "execution_count": 167,
   "metadata": {},
   "outputs": [
    {
     "data": {
      "text/plain": [
       "AiV2                   1038\n",
       "AiV2-50uM alexa 488      22\n",
       "Name: Internal version, dtype: int64"
      ]
     },
     "execution_count": 167,
     "metadata": {},
     "output_type": "execute_result"
    }
   ],
   "source": [
    "result[\"Internal version\"].value_counts()"
   ]
  },
  {
   "cell_type": "code",
   "execution_count": 168,
   "metadata": {},
   "outputs": [
    {
     "ename": "ValueError",
     "evalue": "Series lengths must match to compare",
     "output_type": "error",
     "traceback": [
      "\u001b[1;31m---------------------------------------------------------------------------\u001b[0m",
      "\u001b[1;31mValueError\u001b[0m                                Traceback (most recent call last)",
      "\u001b[1;32m<ipython-input-168-b95cc187170d>\u001b[0m in \u001b[0;36m<module>\u001b[1;34m()\u001b[0m\n\u001b[1;32m----> 1\u001b[1;33m \u001b[0mpost_alexa\u001b[0m \u001b[1;33m=\u001b[0m \u001b[0mgen_filter\u001b[0m\u001b[1;33m(\u001b[0m\u001b[0mresult\u001b[0m\u001b[1;33m,\u001b[0m \u001b[1;34m'Internal version'\u001b[0m\u001b[1;33m,\u001b[0m \u001b[0malexa\u001b[0m\u001b[1;33m)\u001b[0m\u001b[1;33m\u001b[0m\u001b[0m\n\u001b[0m\u001b[0;32m      2\u001b[0m \u001b[0mpost_alexa_count\u001b[0m \u001b[1;33m=\u001b[0m \u001b[0mget_count\u001b[0m\u001b[1;33m(\u001b[0m\u001b[0mpost_alexa\u001b[0m\u001b[1;33m)\u001b[0m\u001b[1;33m\u001b[0m\u001b[0m\n\u001b[0;32m      3\u001b[0m \u001b[0mpost_alexa_count\u001b[0m\u001b[1;33m\u001b[0m\u001b[0m\n",
      "\u001b[1;32m<ipython-input-6-059ee923c2df>\u001b[0m in \u001b[0;36mgen_filter\u001b[1;34m(df, col, cond)\u001b[0m\n\u001b[0;32m     22\u001b[0m \u001b[1;33m\u001b[0m\u001b[0m\n\u001b[0;32m     23\u001b[0m \u001b[1;32mdef\u001b[0m \u001b[0mgen_filter\u001b[0m\u001b[1;33m(\u001b[0m\u001b[0mdf\u001b[0m\u001b[1;33m,\u001b[0m \u001b[0mcol\u001b[0m\u001b[1;33m,\u001b[0m \u001b[0mcond\u001b[0m\u001b[1;33m)\u001b[0m\u001b[1;33m:\u001b[0m\u001b[1;33m\u001b[0m\u001b[0m\n\u001b[1;32m---> 24\u001b[1;33m     \u001b[0mfiltr\u001b[0m \u001b[1;33m=\u001b[0m \u001b[0mdf\u001b[0m\u001b[1;33m[\u001b[0m\u001b[0mdf\u001b[0m\u001b[1;33m[\u001b[0m\u001b[0mcol\u001b[0m\u001b[1;33m]\u001b[0m \u001b[1;33m==\u001b[0m \u001b[0mcond\u001b[0m\u001b[1;33m]\u001b[0m\u001b[1;33m\u001b[0m\u001b[0m\n\u001b[0m\u001b[0;32m     25\u001b[0m     \u001b[1;32mreturn\u001b[0m \u001b[0mfiltr\u001b[0m\u001b[1;33m\u001b[0m\u001b[0m\n",
      "\u001b[1;32mC:\\Anaconda2\\lib\\site-packages\\pandas\\core\\ops.pyc\u001b[0m in \u001b[0;36mwrapper\u001b[1;34m(self, other, axis)\u001b[0m\n\u001b[0;32m    733\u001b[0m             \u001b[0mname\u001b[0m \u001b[1;33m=\u001b[0m \u001b[0m_maybe_match_name\u001b[0m\u001b[1;33m(\u001b[0m\u001b[0mself\u001b[0m\u001b[1;33m,\u001b[0m \u001b[0mother\u001b[0m\u001b[1;33m)\u001b[0m\u001b[1;33m\u001b[0m\u001b[0m\n\u001b[0;32m    734\u001b[0m             \u001b[1;32mif\u001b[0m \u001b[0mlen\u001b[0m\u001b[1;33m(\u001b[0m\u001b[0mself\u001b[0m\u001b[1;33m)\u001b[0m \u001b[1;33m!=\u001b[0m \u001b[0mlen\u001b[0m\u001b[1;33m(\u001b[0m\u001b[0mother\u001b[0m\u001b[1;33m)\u001b[0m\u001b[1;33m:\u001b[0m\u001b[1;33m\u001b[0m\u001b[0m\n\u001b[1;32m--> 735\u001b[1;33m                 \u001b[1;32mraise\u001b[0m \u001b[0mValueError\u001b[0m\u001b[1;33m(\u001b[0m\u001b[1;34m'Series lengths must match to compare'\u001b[0m\u001b[1;33m)\u001b[0m\u001b[1;33m\u001b[0m\u001b[0m\n\u001b[0m\u001b[0;32m    736\u001b[0m             return self._constructor(na_op(self.values, other.values),\n\u001b[0;32m    737\u001b[0m                                      index=self.index, name=name)\n",
      "\u001b[1;31mValueError\u001b[0m: Series lengths must match to compare"
     ]
    }
   ],
   "source": [
    "post_alexa = gen_filter(result, 'Internal version', alexa)\n",
    "post_alexa_count = get_count(post_alexa)\n",
    "post_alexa_count"
   ]
  },
  {
   "cell_type": "code",
   "execution_count": null,
   "metadata": {
    "collapsed": true
   },
   "outputs": [],
   "source": [
    "sns.swarmplot(x = \"post patch class\", y = \"Resolution index\", data=post_alexa)"
   ]
  },
  {
   "cell_type": "code",
   "execution_count": null,
   "metadata": {
    "collapsed": true
   },
   "outputs": [],
   "source": [
    "pre_alexa = gen_filter(result, 'Internal version', standard)\n",
    "pre_alexa_count = get_count(pre_alexa)\n",
    "pre_alexa_count"
   ]
  },
  {
   "cell_type": "code",
   "execution_count": null,
   "metadata": {
    "collapsed": true
   },
   "outputs": [],
   "source": [
    "sns.swarmplot(x = \"post patch class\", y = \"Resolution index\", data=pre_alexa)"
   ]
  },
  {
   "cell_type": "code",
   "execution_count": null,
   "metadata": {
    "collapsed": true
   },
   "outputs": [],
   "source": []
  },
  {
   "cell_type": "code",
   "execution_count": null,
   "metadata": {
    "collapsed": true
   },
   "outputs": [],
   "source": []
  },
  {
   "cell_type": "code",
   "execution_count": null,
   "metadata": {
    "collapsed": true
   },
   "outputs": [],
   "source": []
  },
  {
   "cell_type": "code",
   "execution_count": null,
   "metadata": {
    "collapsed": true
   },
   "outputs": [],
   "source": []
  },
  {
   "cell_type": "code",
   "execution_count": null,
   "metadata": {
    "collapsed": true
   },
   "outputs": [],
   "source": []
  },
  {
   "cell_type": "code",
   "execution_count": null,
   "metadata": {
    "collapsed": true
   },
   "outputs": [],
   "source": []
  },
  {
   "cell_type": "code",
   "execution_count": null,
   "metadata": {
    "collapsed": true
   },
   "outputs": [],
   "source": []
  },
  {
   "cell_type": "code",
   "execution_count": null,
   "metadata": {
    "collapsed": true
   },
   "outputs": [],
   "source": []
  },
  {
   "cell_type": "code",
   "execution_count": null,
   "metadata": {
    "collapsed": true
   },
   "outputs": [],
   "source": []
  }
 ],
 "metadata": {
  "anaconda-cloud": {},
  "kernelspec": {
   "display_name": "Python 2",
   "language": "python",
   "name": "python2"
  },
  "language_info": {
   "codemirror_mode": {
    "name": "ipython",
    "version": 2
   },
   "file_extension": ".py",
   "mimetype": "text/x-python",
   "name": "python",
   "nbconvert_exporter": "python",
   "pygments_lexer": "ipython2",
   "version": "2.7.13"
  }
 },
 "nbformat": 4,
 "nbformat_minor": 2
}
