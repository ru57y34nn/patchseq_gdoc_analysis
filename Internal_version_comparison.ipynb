{
 "cells": [
  {
   "cell_type": "code",
   "execution_count": 70,
   "metadata": {
    "collapsed": true
   },
   "outputs": [],
   "source": [
    "import csv\n",
    "import pandas as pd\n",
    "import numpy as np\n",
    "import matplotlib.pyplot as plt\n",
    "from datetime import datetime\n",
    "from scipy import stats\n",
    "import math\n",
    "import seaborn as sns\n",
    "#from pandas.plotting import table\n",
    "%matplotlib inline\n",
    "sns.set(style='whitegrid', color_codes = True)\n",
    "from operator import itemgetter\n",
    "from matplotlib import rc"
   ]
  },
  {
   "cell_type": "code",
   "execution_count": 84,
   "metadata": {
    "collapsed": true
   },
   "outputs": [],
   "source": [
    "ps = pd.read_csv('patch_seq_log_mouse.csv')"
   ]
  },
  {
   "cell_type": "code",
   "execution_count": 85,
   "metadata": {
    "collapsed": false
   },
   "outputs": [
    {
     "data": {
      "text/plain": [
       "Nucleated             755\n",
       "No-Seal               556\n",
       "nucleus_present       237\n",
       "Partial-Nucleus       204\n",
       "nucleus_absent        164\n",
       "Outside-Out            92\n",
       "Entire-Cell            17\n",
       "entire_cell             8\n",
       "no_nucleus_visible      6\n",
       "nucleus_visible         4\n",
       "missing                 1\n",
       "Outside-Out?            0\n",
       "Nucleus                 0\n",
       "outside-out             0\n",
       "Outside-out             0\n",
       "no -seal                0\n",
       "no-seal                 0\n",
       "nr                      0\n",
       "nucelated               0\n",
       "Entire cell             0\n",
       "Name: Post patch?, dtype: int64"
      ]
     },
     "execution_count": 85,
     "metadata": {},
     "output_type": "execute_result"
    }
   ],
   "source": [
    "ps = ps[[\"Date\", \"User\", \"Post patch?\", \"Post patch pipette R\", \"Nucleus sucked in?\", \"Notes\", \"Internal version\", \"PCR cycles\", \"SM_QC_PF\", \"Resolution index\", \"Bad dates\"]]\n",
    "#ps.dropna(subset = [\"SM_QC_PF\", \"Post patch?\"], inplace = True)\n",
    "ps.dropna(subset = [\"Post patch?\"], inplace = True)\n",
    "ps[\"User\"] = ps[\"User\"].astype(\"category\")\n",
    "ps[\"Post patch?\"] = ps[\"Post patch?\"].astype(\"category\")\n",
    "ps[\"SM_QC_PF\"] = ps[\"SM_QC_PF\"].astype(\"category\")\n",
    "ps = ps[ps[\"Bad dates\"] != 'x']\n",
    "ps = ps[ps[\"SM_QC_PF\"] != \"cnt\"]\n",
    "ps = ps[ps[\"PCR cycles\"] == 21]\n",
    "ps = ps.drop('Bad dates', 1)\n",
    "ps[\"Date\"] = pd.to_datetime(ps[\"Date\"], format = '%y%m%d')\n",
    "#ps[\"PCR cycles\"].value_counts()\n",
    "ps['Post patch?'].value_counts()\n",
    "#ps.head()"
   ]
  },
  {
   "cell_type": "markdown",
   "metadata": {},
   "source": [
    "#### defining counting functions"
   ]
  },
  {
   "cell_type": "code",
   "execution_count": 86,
   "metadata": {
    "collapsed": true
   },
   "outputs": [],
   "source": [
    "def get_count(x):    \n",
    "    count = x[\"Post patch?\"].count()\n",
    "    return count\n",
    "\n",
    "def calc_pct(part,total):\n",
    "    pct = float(get_count(part)) / get_count(total)\n",
    "    return pct"
   ]
  },
  {
   "cell_type": "markdown",
   "metadata": {},
   "source": [
    "#### defining filtering functions"
   ]
  },
  {
   "cell_type": "code",
   "execution_count": 87,
   "metadata": {
    "collapsed": true
   },
   "outputs": [],
   "source": [
    "#input is a dataframe\n",
    "\n",
    "def nucleated(x):\n",
    "    nucleus = x[(x[\"Post patch?\"] == \"Nucleated\") | (((x[\"Post patch?\"] == \"nucleus_visible\") | (x[\"Post patch?\"] == \"nucleus_present\")) & (x[\"Post patch pipette R\"] >= 500))]\n",
    "    return nucleus\n",
    "\n",
    "def partial_nucleated(y):\n",
    "    partial = y[(y[\"Post patch?\"] == 'Partial-Nucleus') | (((y['Post patch?'] == 'nucleus_present') | (y['Post patch?'] == 'nucleus_visible')) & (y[\"Post patch pipette R\"] <= 499))]\n",
    "    return partial\n",
    "\n",
    "def outside_out(z):\n",
    "    outside = z[(z[\"Post patch?\"] == 'Outside-Out') | (((z['Post patch?'] == 'nucleus_absent') | (z['Post patch?'] == 'no_nuclues_visible')) & (z['Post patch pipette R'] >= 500))]\n",
    "    return outside\n",
    "\n",
    "def no_seal(w): \n",
    "    no = w[(w[\"Post patch?\"] == 'No-Seal') | (((w['Post patch?'] == 'nucleus_absent') | (w['Post patch?'] == 'no_nucleus_visible')) & (w['Post patch pipette R'] <= 499))]\n",
    "    return no\n",
    "    \n",
    "def pass_only(df):\n",
    "    pas = df[df[\"SM_QC_PF\"] == \"pass\"]\n",
    "    return pas\n",
    "\n",
    "def gen_filter(df, col, cond):\n",
    "    filtr = df[df[col] == cond]\n",
    "    return filtr\n"
   ]
  },
  {
   "cell_type": "code",
   "execution_count": 88,
   "metadata": {
    "collapsed": false
   },
   "outputs": [
    {
     "data": {
      "text/plain": [
       "2044"
      ]
     },
     "execution_count": 88,
     "metadata": {},
     "output_type": "execute_result"
    }
   ],
   "source": [
    "#total = ps[\"Post patch?\"].count()\n",
    "total = get_count(ps)\n",
    "total\n",
    "#ps['Post patch?'].value_counts()"
   ]
  },
  {
   "cell_type": "markdown",
   "metadata": {},
   "source": [
    "# Post patch condition percentages"
   ]
  },
  {
   "cell_type": "markdown",
   "metadata": {},
   "source": [
    "#### Filtering to nucleated patches only and calculating percentage"
   ]
  },
  {
   "cell_type": "code",
   "execution_count": 89,
   "metadata": {
    "collapsed": false
   },
   "outputs": [
    {
     "name": "stderr",
     "output_type": "stream",
     "text": [
      "C:\\ProgramData\\Anaconda2\\lib\\site-packages\\ipykernel\\__main__.py:5: SettingWithCopyWarning: \n",
      "A value is trying to be set on a copy of a slice from a DataFrame.\n",
      "Try using .loc[row_indexer,col_indexer] = value instead\n",
      "\n",
      "See the caveats in the documentation: http://pandas.pydata.org/pandas-docs/stable/indexing.html#indexing-view-versus-copy\n"
     ]
    }
   ],
   "source": [
    "#nuc = ps[(ps[\"Post patch?\"] == \"Nucleated\") | (ps[\"Post patch?\"] == \"Partial-Nucleus\") | (ps[\"Post patch?\"] == \"nucleus_present\") | (ps[\"Post patch?\"] == \"nucleus_visible\")]\n",
    "#nuc = ps[(ps[\"Post patch?\"] == \"Nucleated\") | (((ps[\"Post patch?\"] == \"nucleus_visible\") | (ps[\"Post patch?\"] == \"nucleus_present\")) & (ps[\"Post patch pipette R\"] >= 500))]\n",
    "nuc = nucleated(ps)\n",
    "nuc\n",
    "nuc[\"post patch class\"] = \"Nucleated\"\n",
    "#nuc"
   ]
  },
  {
   "cell_type": "code",
   "execution_count": 90,
   "metadata": {
    "collapsed": false
   },
   "outputs": [
    {
     "data": {
      "text/plain": [
       "937"
      ]
     },
     "execution_count": 90,
     "metadata": {},
     "output_type": "execute_result"
    }
   ],
   "source": [
    "#nuc_count = nuc[\"Post patch?\"].count()\n",
    "nuc_count = get_count(nuc)\n",
    "nuc_count"
   ]
  },
  {
   "cell_type": "code",
   "execution_count": 91,
   "metadata": {
    "collapsed": false
   },
   "outputs": [
    {
     "name": "stdout",
     "output_type": "stream",
     "text": [
      "nucleated patch %: 0.458414872798\n"
     ]
    }
   ],
   "source": [
    "#nuc_percent = float(nuc_count)/total\n",
    "#nuc_percent\n",
    "nuc_pct = calc_pct(nuc, ps) \n",
    "print \"nucleated patch %:\", nuc_pct"
   ]
  },
  {
   "cell_type": "markdown",
   "metadata": {},
   "source": [
    "#### Filtering to partial-nucleated patches only and calculating percentage "
   ]
  },
  {
   "cell_type": "code",
   "execution_count": 92,
   "metadata": {
    "collapsed": false
   },
   "outputs": [
    {
     "name": "stderr",
     "output_type": "stream",
     "text": [
      "C:\\ProgramData\\Anaconda2\\lib\\site-packages\\ipykernel\\__main__.py:2: SettingWithCopyWarning: \n",
      "A value is trying to be set on a copy of a slice from a DataFrame.\n",
      "Try using .loc[row_indexer,col_indexer] = value instead\n",
      "\n",
      "See the caveats in the documentation: http://pandas.pydata.org/pandas-docs/stable/indexing.html#indexing-view-versus-copy\n",
      "  from ipykernel import kernelapp as app\n"
     ]
    }
   ],
   "source": [
    "part_nuc = partial_nucleated(ps)\n",
    "part_nuc[\"post patch class\"] = \"Partial nucleated\"\n",
    "#part_nuc\n",
    "#part_nuc[\"Post patch pipette R\"].value_counts()"
   ]
  },
  {
   "cell_type": "code",
   "execution_count": 93,
   "metadata": {
    "collapsed": false
   },
   "outputs": [
    {
     "name": "stdout",
     "output_type": "stream",
     "text": [
      "partial nucleated patch %: 0.12866927593\n"
     ]
    }
   ],
   "source": [
    "part_nuc_pct = calc_pct(part_nuc, ps)\n",
    "print \"partial nucleated patch %:\", part_nuc_pct"
   ]
  },
  {
   "cell_type": "markdown",
   "metadata": {},
   "source": [
    "#### Filtering to outside-out patches only and calculating percentage"
   ]
  },
  {
   "cell_type": "code",
   "execution_count": 94,
   "metadata": {
    "collapsed": false
   },
   "outputs": [
    {
     "name": "stderr",
     "output_type": "stream",
     "text": [
      "C:\\ProgramData\\Anaconda2\\lib\\site-packages\\ipykernel\\__main__.py:2: SettingWithCopyWarning: \n",
      "A value is trying to be set on a copy of a slice from a DataFrame.\n",
      "Try using .loc[row_indexer,col_indexer] = value instead\n",
      "\n",
      "See the caveats in the documentation: http://pandas.pydata.org/pandas-docs/stable/indexing.html#indexing-view-versus-copy\n",
      "  from ipykernel import kernelapp as app\n"
     ]
    }
   ],
   "source": [
    "out_out = outside_out(ps)\n",
    "out_out[\"post patch class\"] = \"Outside out\"\n",
    "#out_out\n",
    "#out_out_pct = calc_pct(out_out, ps)\n",
    "#print \"outside_out %: \", out_out_pct\n",
    "#out_out[\"Post patch pipette R\"].value_counts()\n",
    "#out_out[\"Post patch?\"].value_counts()"
   ]
  },
  {
   "cell_type": "markdown",
   "metadata": {},
   "source": [
    "#### Filtering to no-seal patches only and calculating percentage"
   ]
  },
  {
   "cell_type": "code",
   "execution_count": 95,
   "metadata": {
    "collapsed": false
   },
   "outputs": [
    {
     "name": "stdout",
     "output_type": "stream",
     "text": [
      "no seal %:  0.338062622309\n"
     ]
    },
    {
     "name": "stderr",
     "output_type": "stream",
     "text": [
      "C:\\ProgramData\\Anaconda2\\lib\\site-packages\\ipykernel\\__main__.py:2: SettingWithCopyWarning: \n",
      "A value is trying to be set on a copy of a slice from a DataFrame.\n",
      "Try using .loc[row_indexer,col_indexer] = value instead\n",
      "\n",
      "See the caveats in the documentation: http://pandas.pydata.org/pandas-docs/stable/indexing.html#indexing-view-versus-copy\n",
      "  from ipykernel import kernelapp as app\n"
     ]
    }
   ],
   "source": [
    "noSeal = no_seal(ps)\n",
    "noSeal[\"post patch class\"] = \"No seal\"\n",
    "noSeal\n",
    "noSeal_pct = calc_pct(noSeal, ps)\n",
    "print \"no seal %: \", noSeal_pct"
   ]
  },
  {
   "cell_type": "markdown",
   "metadata": {},
   "source": [
    "#### Filtering to entire cell patches only and claculating percentage"
   ]
  },
  {
   "cell_type": "code",
   "execution_count": 96,
   "metadata": {
    "collapsed": false,
    "scrolled": true
   },
   "outputs": [
    {
     "name": "stderr",
     "output_type": "stream",
     "text": [
      "C:\\ProgramData\\Anaconda2\\lib\\site-packages\\ipykernel\\__main__.py:2: SettingWithCopyWarning: \n",
      "A value is trying to be set on a copy of a slice from a DataFrame.\n",
      "Try using .loc[row_indexer,col_indexer] = value instead\n",
      "\n",
      "See the caveats in the documentation: http://pandas.pydata.org/pandas-docs/stable/indexing.html#indexing-view-versus-copy\n",
      "  from ipykernel import kernelapp as app\n"
     ]
    },
    {
     "data": {
      "text/plain": [
       "0.01223091976516634"
      ]
     },
     "execution_count": 96,
     "metadata": {},
     "output_type": "execute_result"
    }
   ],
   "source": [
    "entirecell = ps[(ps[\"Post patch?\"] == \"Entire-Cell\") | (ps['Post patch?'] == 'entire_cell')]\n",
    "entirecell['post patch class'] = \"Entire cell\"\n",
    "#entirecell\n",
    "entirecell_pct = calc_pct(entirecell, ps)\n",
    "entirecell_pct\n",
    "#entirecell[\"Post patch?\"].value_counts()\n",
    "#entirecell"
   ]
  },
  {
   "cell_type": "code",
   "execution_count": 97,
   "metadata": {
    "collapsed": false
   },
   "outputs": [
    {
     "data": {
      "text/html": [
       "<div>\n",
       "<table border=\"1\" class=\"dataframe\">\n",
       "  <thead>\n",
       "    <tr style=\"text-align: right;\">\n",
       "      <th></th>\n",
       "      <th>Date</th>\n",
       "      <th>User</th>\n",
       "      <th>Post patch?</th>\n",
       "      <th>Post patch pipette R</th>\n",
       "      <th>Nucleus sucked in?</th>\n",
       "      <th>Notes</th>\n",
       "      <th>Internal version</th>\n",
       "      <th>PCR cycles</th>\n",
       "      <th>SM_QC_PF</th>\n",
       "      <th>Resolution index</th>\n",
       "      <th>post patch class</th>\n",
       "    </tr>\n",
       "  </thead>\n",
       "  <tbody>\n",
       "    <tr>\n",
       "      <th>4971</th>\n",
       "      <td>2017-04-19</td>\n",
       "      <td>P2</td>\n",
       "      <td>Nucleated</td>\n",
       "      <td>NaN</td>\n",
       "      <td>NaN</td>\n",
       "      <td>NaN</td>\n",
       "      <td>AiV2</td>\n",
       "      <td>21.0</td>\n",
       "      <td>pass</td>\n",
       "      <td>0.000000</td>\n",
       "      <td>Nucleated</td>\n",
       "    </tr>\n",
       "    <tr>\n",
       "      <th>4973</th>\n",
       "      <td>2017-04-19</td>\n",
       "      <td>P2</td>\n",
       "      <td>Nucleated</td>\n",
       "      <td>NaN</td>\n",
       "      <td>NaN</td>\n",
       "      <td>NaN</td>\n",
       "      <td>AiV2</td>\n",
       "      <td>21.0</td>\n",
       "      <td>pass</td>\n",
       "      <td>0.322631</td>\n",
       "      <td>Nucleated</td>\n",
       "    </tr>\n",
       "    <tr>\n",
       "      <th>4975</th>\n",
       "      <td>2017-04-19</td>\n",
       "      <td>P2</td>\n",
       "      <td>Nucleated</td>\n",
       "      <td>NaN</td>\n",
       "      <td>NaN</td>\n",
       "      <td>NaN</td>\n",
       "      <td>AiV2</td>\n",
       "      <td>21.0</td>\n",
       "      <td>pass</td>\n",
       "      <td>NaN</td>\n",
       "      <td>Nucleated</td>\n",
       "    </tr>\n",
       "    <tr>\n",
       "      <th>4988</th>\n",
       "      <td>2017-04-20</td>\n",
       "      <td>P1</td>\n",
       "      <td>Nucleated</td>\n",
       "      <td>NaN</td>\n",
       "      <td>NaN</td>\n",
       "      <td>NaN</td>\n",
       "      <td>AiV2</td>\n",
       "      <td>21.0</td>\n",
       "      <td>pass</td>\n",
       "      <td>0.601033</td>\n",
       "      <td>Nucleated</td>\n",
       "    </tr>\n",
       "    <tr>\n",
       "      <th>4997</th>\n",
       "      <td>2017-04-20</td>\n",
       "      <td>P1</td>\n",
       "      <td>Nucleated</td>\n",
       "      <td>NaN</td>\n",
       "      <td>NaN</td>\n",
       "      <td>NaN</td>\n",
       "      <td>AiV2</td>\n",
       "      <td>21.0</td>\n",
       "      <td>pass</td>\n",
       "      <td>NaN</td>\n",
       "      <td>Nucleated</td>\n",
       "    </tr>\n",
       "    <tr>\n",
       "      <th>5009</th>\n",
       "      <td>2017-04-20</td>\n",
       "      <td>P2</td>\n",
       "      <td>Nucleated</td>\n",
       "      <td>NaN</td>\n",
       "      <td>NaN</td>\n",
       "      <td>NaN</td>\n",
       "      <td>AiV2</td>\n",
       "      <td>21.0</td>\n",
       "      <td>pass</td>\n",
       "      <td>0.678447</td>\n",
       "      <td>Nucleated</td>\n",
       "    </tr>\n",
       "    <tr>\n",
       "      <th>5022</th>\n",
       "      <td>2017-04-21</td>\n",
       "      <td>P1</td>\n",
       "      <td>Nucleated</td>\n",
       "      <td>NaN</td>\n",
       "      <td>NaN</td>\n",
       "      <td>Fluorescence in Pipette,Cell Dimmed</td>\n",
       "      <td>AiV2</td>\n",
       "      <td>21.0</td>\n",
       "      <td>pass</td>\n",
       "      <td>0.795757</td>\n",
       "      <td>Nucleated</td>\n",
       "    </tr>\n",
       "    <tr>\n",
       "      <th>5026</th>\n",
       "      <td>2017-04-21</td>\n",
       "      <td>P2</td>\n",
       "      <td>Nucleated</td>\n",
       "      <td>NaN</td>\n",
       "      <td>NaN</td>\n",
       "      <td>Fluorescence in Pipette</td>\n",
       "      <td>AiV2</td>\n",
       "      <td>21.0</td>\n",
       "      <td>pass</td>\n",
       "      <td>1.000000</td>\n",
       "      <td>Nucleated</td>\n",
       "    </tr>\n",
       "    <tr>\n",
       "      <th>5027</th>\n",
       "      <td>2017-04-21</td>\n",
       "      <td>P2</td>\n",
       "      <td>Nucleated</td>\n",
       "      <td>NaN</td>\n",
       "      <td>NaN</td>\n",
       "      <td>Fluorescence in Pipette</td>\n",
       "      <td>AiV2</td>\n",
       "      <td>21.0</td>\n",
       "      <td>pass</td>\n",
       "      <td>0.877682</td>\n",
       "      <td>Nucleated</td>\n",
       "    </tr>\n",
       "    <tr>\n",
       "      <th>5035</th>\n",
       "      <td>2017-04-21</td>\n",
       "      <td>P2</td>\n",
       "      <td>Nucleated</td>\n",
       "      <td>NaN</td>\n",
       "      <td>NaN</td>\n",
       "      <td>NaN</td>\n",
       "      <td>AiV2</td>\n",
       "      <td>21.0</td>\n",
       "      <td>pass</td>\n",
       "      <td>0.556320</td>\n",
       "      <td>Nucleated</td>\n",
       "    </tr>\n",
       "    <tr>\n",
       "      <th>5045</th>\n",
       "      <td>2017-04-24</td>\n",
       "      <td>P1</td>\n",
       "      <td>Nucleated</td>\n",
       "      <td>NaN</td>\n",
       "      <td>NaN</td>\n",
       "      <td>Fluorescence in Pipette</td>\n",
       "      <td>AiV2</td>\n",
       "      <td>21.0</td>\n",
       "      <td>pass</td>\n",
       "      <td>0.601033</td>\n",
       "      <td>Nucleated</td>\n",
       "    </tr>\n",
       "    <tr>\n",
       "      <th>5051</th>\n",
       "      <td>2017-04-24</td>\n",
       "      <td>P1</td>\n",
       "      <td>Nucleated</td>\n",
       "      <td>NaN</td>\n",
       "      <td>NaN</td>\n",
       "      <td>Fluorescence in Pipette   a few small bubbles</td>\n",
       "      <td>AiV2</td>\n",
       "      <td>21.0</td>\n",
       "      <td>pass</td>\n",
       "      <td>1.000000</td>\n",
       "      <td>Nucleated</td>\n",
       "    </tr>\n",
       "    <tr>\n",
       "      <th>5058</th>\n",
       "      <td>2017-04-24</td>\n",
       "      <td>P2</td>\n",
       "      <td>Nucleated</td>\n",
       "      <td>NaN</td>\n",
       "      <td>NaN</td>\n",
       "      <td>NaN</td>\n",
       "      <td>AiV2</td>\n",
       "      <td>21.0</td>\n",
       "      <td>pass</td>\n",
       "      <td>0.678447</td>\n",
       "      <td>Nucleated</td>\n",
       "    </tr>\n",
       "    <tr>\n",
       "      <th>5063</th>\n",
       "      <td>2017-04-24</td>\n",
       "      <td>P2</td>\n",
       "      <td>Nucleated</td>\n",
       "      <td>NaN</td>\n",
       "      <td>NaN</td>\n",
       "      <td>Fluorescence in Pipette One big bubble formed ...</td>\n",
       "      <td>AiV2</td>\n",
       "      <td>21.0</td>\n",
       "      <td>pass</td>\n",
       "      <td>0.678447</td>\n",
       "      <td>Nucleated</td>\n",
       "    </tr>\n",
       "    <tr>\n",
       "      <th>5073</th>\n",
       "      <td>2017-04-25</td>\n",
       "      <td>P1</td>\n",
       "      <td>Nucleated</td>\n",
       "      <td>NaN</td>\n",
       "      <td>NaN</td>\n",
       "      <td>lots of small bubbles</td>\n",
       "      <td>AiV2</td>\n",
       "      <td>21.0</td>\n",
       "      <td>pass</td>\n",
       "      <td>0.678447</td>\n",
       "      <td>Nucleated</td>\n",
       "    </tr>\n",
       "    <tr>\n",
       "      <th>5084</th>\n",
       "      <td>2017-04-25</td>\n",
       "      <td>P2</td>\n",
       "      <td>Nucleated</td>\n",
       "      <td>NaN</td>\n",
       "      <td>NaN</td>\n",
       "      <td>NaN</td>\n",
       "      <td>AiV2</td>\n",
       "      <td>21.0</td>\n",
       "      <td>pass</td>\n",
       "      <td>1.000000</td>\n",
       "      <td>Nucleated</td>\n",
       "    </tr>\n",
       "    <tr>\n",
       "      <th>5085</th>\n",
       "      <td>2017-04-25</td>\n",
       "      <td>P2</td>\n",
       "      <td>Nucleated</td>\n",
       "      <td>NaN</td>\n",
       "      <td>NaN</td>\n",
       "      <td>Fluorescence in Pipette</td>\n",
       "      <td>AiV2</td>\n",
       "      <td>21.0</td>\n",
       "      <td>pass</td>\n",
       "      <td>1.000000</td>\n",
       "      <td>Nucleated</td>\n",
       "    </tr>\n",
       "    <tr>\n",
       "      <th>5089</th>\n",
       "      <td>2017-04-25</td>\n",
       "      <td>P2</td>\n",
       "      <td>Nucleated</td>\n",
       "      <td>NaN</td>\n",
       "      <td>NaN</td>\n",
       "      <td>no bubbles during expulsion.</td>\n",
       "      <td>AiV2</td>\n",
       "      <td>21.0</td>\n",
       "      <td>pass</td>\n",
       "      <td>1.000000</td>\n",
       "      <td>Nucleated</td>\n",
       "    </tr>\n",
       "    <tr>\n",
       "      <th>5111</th>\n",
       "      <td>2017-04-26</td>\n",
       "      <td>P2</td>\n",
       "      <td>Nucleated</td>\n",
       "      <td>NaN</td>\n",
       "      <td>NaN</td>\n",
       "      <td>NaN</td>\n",
       "      <td>AiV2</td>\n",
       "      <td>21.0</td>\n",
       "      <td>pass</td>\n",
       "      <td>0.678447</td>\n",
       "      <td>Nucleated</td>\n",
       "    </tr>\n",
       "    <tr>\n",
       "      <th>5114</th>\n",
       "      <td>2017-04-26</td>\n",
       "      <td>P2</td>\n",
       "      <td>Nucleated</td>\n",
       "      <td>NaN</td>\n",
       "      <td>NaN</td>\n",
       "      <td>Fluorescence in Pipette a few small bubbles fo...</td>\n",
       "      <td>AiV2</td>\n",
       "      <td>21.0</td>\n",
       "      <td>pass</td>\n",
       "      <td>0.678447</td>\n",
       "      <td>Nucleated</td>\n",
       "    </tr>\n",
       "    <tr>\n",
       "      <th>5117</th>\n",
       "      <td>2017-04-26</td>\n",
       "      <td>P2</td>\n",
       "      <td>Nucleated</td>\n",
       "      <td>NaN</td>\n",
       "      <td>NaN</td>\n",
       "      <td>Fluorescence in Pipette large bubble formed du...</td>\n",
       "      <td>AiV2</td>\n",
       "      <td>21.0</td>\n",
       "      <td>pass</td>\n",
       "      <td>1.000000</td>\n",
       "      <td>Nucleated</td>\n",
       "    </tr>\n",
       "    <tr>\n",
       "      <th>5134</th>\n",
       "      <td>2017-04-27</td>\n",
       "      <td>P1</td>\n",
       "      <td>Nucleated</td>\n",
       "      <td>NaN</td>\n",
       "      <td>NaN</td>\n",
       "      <td>lots of small bubbles</td>\n",
       "      <td>AiV2</td>\n",
       "      <td>21.0</td>\n",
       "      <td>pass</td>\n",
       "      <td>0.678447</td>\n",
       "      <td>Nucleated</td>\n",
       "    </tr>\n",
       "    <tr>\n",
       "      <th>5146</th>\n",
       "      <td>2017-04-27</td>\n",
       "      <td>P2</td>\n",
       "      <td>Nucleated</td>\n",
       "      <td>NaN</td>\n",
       "      <td>NaN</td>\n",
       "      <td>few small bubbles during expulsion.</td>\n",
       "      <td>AiV2</td>\n",
       "      <td>21.0</td>\n",
       "      <td>pass</td>\n",
       "      <td>0.678447</td>\n",
       "      <td>Nucleated</td>\n",
       "    </tr>\n",
       "    <tr>\n",
       "      <th>5154</th>\n",
       "      <td>2017-04-28</td>\n",
       "      <td>P1</td>\n",
       "      <td>Nucleated</td>\n",
       "      <td>NaN</td>\n",
       "      <td>NaN</td>\n",
       "      <td>Fluorescence in Pipette   no bubbles</td>\n",
       "      <td>AiV2</td>\n",
       "      <td>21.0</td>\n",
       "      <td>pass</td>\n",
       "      <td>0.000000</td>\n",
       "      <td>Nucleated</td>\n",
       "    </tr>\n",
       "    <tr>\n",
       "      <th>5164</th>\n",
       "      <td>2017-04-28</td>\n",
       "      <td>P2</td>\n",
       "      <td>Nucleated</td>\n",
       "      <td>NaN</td>\n",
       "      <td>NaN</td>\n",
       "      <td>one small bubble formed during expulsion.</td>\n",
       "      <td>AiV2</td>\n",
       "      <td>21.0</td>\n",
       "      <td>pass</td>\n",
       "      <td>1.000000</td>\n",
       "      <td>Nucleated</td>\n",
       "    </tr>\n",
       "    <tr>\n",
       "      <th>5166</th>\n",
       "      <td>2017-04-28</td>\n",
       "      <td>P2</td>\n",
       "      <td>Nucleated</td>\n",
       "      <td>NaN</td>\n",
       "      <td>NaN</td>\n",
       "      <td>One medium bubble formed during expulsion, sol...</td>\n",
       "      <td>AiV2</td>\n",
       "      <td>21.0</td>\n",
       "      <td>pass</td>\n",
       "      <td>0.678447</td>\n",
       "      <td>Nucleated</td>\n",
       "    </tr>\n",
       "    <tr>\n",
       "      <th>5184</th>\n",
       "      <td>2017-05-01</td>\n",
       "      <td>P2</td>\n",
       "      <td>Nucleated</td>\n",
       "      <td>NaN</td>\n",
       "      <td>NaN</td>\n",
       "      <td>a couple small bubbles formed during expulsion.</td>\n",
       "      <td>AiV2</td>\n",
       "      <td>21.0</td>\n",
       "      <td>pass</td>\n",
       "      <td>NaN</td>\n",
       "      <td>Nucleated</td>\n",
       "    </tr>\n",
       "    <tr>\n",
       "      <th>5185</th>\n",
       "      <td>2017-05-01</td>\n",
       "      <td>P2</td>\n",
       "      <td>Nucleated</td>\n",
       "      <td>NaN</td>\n",
       "      <td>NaN</td>\n",
       "      <td>Fluorescence in Pipette a few small bubbles an...</td>\n",
       "      <td>AiV2</td>\n",
       "      <td>21.0</td>\n",
       "      <td>pass</td>\n",
       "      <td>NaN</td>\n",
       "      <td>Nucleated</td>\n",
       "    </tr>\n",
       "    <tr>\n",
       "      <th>5186</th>\n",
       "      <td>2017-05-01</td>\n",
       "      <td>P2</td>\n",
       "      <td>Nucleated</td>\n",
       "      <td>NaN</td>\n",
       "      <td>NaN</td>\n",
       "      <td>Fluorescence in Pipette few small bubbles form...</td>\n",
       "      <td>AiV2</td>\n",
       "      <td>21.0</td>\n",
       "      <td>pass</td>\n",
       "      <td>NaN</td>\n",
       "      <td>Nucleated</td>\n",
       "    </tr>\n",
       "    <tr>\n",
       "      <th>5189</th>\n",
       "      <td>2017-05-01</td>\n",
       "      <td>P2</td>\n",
       "      <td>Nucleated</td>\n",
       "      <td>NaN</td>\n",
       "      <td>NaN</td>\n",
       "      <td>Fluorescence in Pipette a layer of small bubbl...</td>\n",
       "      <td>AiV2</td>\n",
       "      <td>21.0</td>\n",
       "      <td>pass</td>\n",
       "      <td>NaN</td>\n",
       "      <td>Nucleated</td>\n",
       "    </tr>\n",
       "    <tr>\n",
       "      <th>...</th>\n",
       "      <td>...</td>\n",
       "      <td>...</td>\n",
       "      <td>...</td>\n",
       "      <td>...</td>\n",
       "      <td>...</td>\n",
       "      <td>...</td>\n",
       "      <td>...</td>\n",
       "      <td>...</td>\n",
       "      <td>...</td>\n",
       "      <td>...</td>\n",
       "      <td>...</td>\n",
       "    </tr>\n",
       "    <tr>\n",
       "      <th>7753</th>\n",
       "      <td>2017-10-31</td>\n",
       "      <td>P2</td>\n",
       "      <td>nucleus_absent</td>\n",
       "      <td>10.0</td>\n",
       "      <td>no</td>\n",
       "      <td>Fluorescence in Pipette Small Bubbles alexa fi...</td>\n",
       "      <td>AiV2-50uM alexa 488</td>\n",
       "      <td>21.0</td>\n",
       "      <td>NaN</td>\n",
       "      <td>NaN</td>\n",
       "      <td>No seal</td>\n",
       "    </tr>\n",
       "    <tr>\n",
       "      <th>7755</th>\n",
       "      <td>2017-10-31</td>\n",
       "      <td>P2</td>\n",
       "      <td>nucleus_absent</td>\n",
       "      <td>10.0</td>\n",
       "      <td>no</td>\n",
       "      <td>Small Bubbles alexa fill not visible post expe...</td>\n",
       "      <td>AiV2-50uM alexa 488</td>\n",
       "      <td>21.0</td>\n",
       "      <td>NaN</td>\n",
       "      <td>NaN</td>\n",
       "      <td>No seal</td>\n",
       "    </tr>\n",
       "    <tr>\n",
       "      <th>7756</th>\n",
       "      <td>2017-10-31</td>\n",
       "      <td>P2</td>\n",
       "      <td>nucleus_absent</td>\n",
       "      <td>10.0</td>\n",
       "      <td>no</td>\n",
       "      <td>Fluorescence in Pipette No Bubbles alexa fill ...</td>\n",
       "      <td>AiV2-50uM alexa 488</td>\n",
       "      <td>21.0</td>\n",
       "      <td>NaN</td>\n",
       "      <td>NaN</td>\n",
       "      <td>No seal</td>\n",
       "    </tr>\n",
       "    <tr>\n",
       "      <th>7757</th>\n",
       "      <td>2017-10-31</td>\n",
       "      <td>P2</td>\n",
       "      <td>nucleus_absent</td>\n",
       "      <td>5.0</td>\n",
       "      <td>no</td>\n",
       "      <td>Fluorescence in Pipette No Bubbles alexa fill ...</td>\n",
       "      <td>AiV2-50uM alexa 488</td>\n",
       "      <td>21.0</td>\n",
       "      <td>NaN</td>\n",
       "      <td>NaN</td>\n",
       "      <td>No seal</td>\n",
       "    </tr>\n",
       "    <tr>\n",
       "      <th>7766</th>\n",
       "      <td>2017-10-31</td>\n",
       "      <td>P9</td>\n",
       "      <td>nucleus_absent</td>\n",
       "      <td>6.8</td>\n",
       "      <td>not_intentionally</td>\n",
       "      <td>Cell Dimmed No Bubbles Alexa fill visible\\r\\n ...</td>\n",
       "      <td>AiV2-50uM alexa 488</td>\n",
       "      <td>21.0</td>\n",
       "      <td>NaN</td>\n",
       "      <td>NaN</td>\n",
       "      <td>No seal</td>\n",
       "    </tr>\n",
       "    <tr>\n",
       "      <th>5002</th>\n",
       "      <td>2017-04-20</td>\n",
       "      <td>P2</td>\n",
       "      <td>Entire-Cell</td>\n",
       "      <td>NaN</td>\n",
       "      <td>NaN</td>\n",
       "      <td>NaN</td>\n",
       "      <td>AiV2</td>\n",
       "      <td>21.0</td>\n",
       "      <td>pass</td>\n",
       "      <td>0.719078</td>\n",
       "      <td>Entire cell</td>\n",
       "    </tr>\n",
       "    <tr>\n",
       "      <th>5088</th>\n",
       "      <td>2017-04-25</td>\n",
       "      <td>P2</td>\n",
       "      <td>Entire-Cell</td>\n",
       "      <td>NaN</td>\n",
       "      <td>NaN</td>\n",
       "      <td>small bubbles during expulsion.</td>\n",
       "      <td>AiV2</td>\n",
       "      <td>21.0</td>\n",
       "      <td>pass</td>\n",
       "      <td>1.000000</td>\n",
       "      <td>Entire cell</td>\n",
       "    </tr>\n",
       "    <tr>\n",
       "      <th>5242</th>\n",
       "      <td>2017-05-02</td>\n",
       "      <td>P6</td>\n",
       "      <td>Entire-Cell</td>\n",
       "      <td>NaN</td>\n",
       "      <td>NaN</td>\n",
       "      <td>NaN</td>\n",
       "      <td>AiV2</td>\n",
       "      <td>21.0</td>\n",
       "      <td>pass</td>\n",
       "      <td>0.601033</td>\n",
       "      <td>Entire cell</td>\n",
       "    </tr>\n",
       "    <tr>\n",
       "      <th>5269</th>\n",
       "      <td>2017-05-03</td>\n",
       "      <td>P2</td>\n",
       "      <td>Entire-Cell</td>\n",
       "      <td>NaN</td>\n",
       "      <td>NaN</td>\n",
       "      <td>Fluorescence in Pipette</td>\n",
       "      <td>AiV2</td>\n",
       "      <td>21.0</td>\n",
       "      <td>fail</td>\n",
       "      <td>NaN</td>\n",
       "      <td>Entire cell</td>\n",
       "    </tr>\n",
       "    <tr>\n",
       "      <th>5273</th>\n",
       "      <td>2017-05-03</td>\n",
       "      <td>P5</td>\n",
       "      <td>Entire-Cell</td>\n",
       "      <td>NaN</td>\n",
       "      <td>NaN</td>\n",
       "      <td>cuoldnt get gigaseal but pulled Entire-Cell ou...</td>\n",
       "      <td>NaN</td>\n",
       "      <td>21.0</td>\n",
       "      <td>pass</td>\n",
       "      <td>0.678447</td>\n",
       "      <td>Entire cell</td>\n",
       "    </tr>\n",
       "    <tr>\n",
       "      <th>5274</th>\n",
       "      <td>2017-05-03</td>\n",
       "      <td>P5</td>\n",
       "      <td>Entire-Cell</td>\n",
       "      <td>NaN</td>\n",
       "      <td>NaN</td>\n",
       "      <td>cuoldnt get gigaseal but pulled Entire-Cell ou...</td>\n",
       "      <td>NaN</td>\n",
       "      <td>21.0</td>\n",
       "      <td>pass</td>\n",
       "      <td>0.678447</td>\n",
       "      <td>Entire cell</td>\n",
       "    </tr>\n",
       "    <tr>\n",
       "      <th>5369</th>\n",
       "      <td>2017-05-10</td>\n",
       "      <td>P6</td>\n",
       "      <td>Entire-Cell</td>\n",
       "      <td>NaN</td>\n",
       "      <td>NaN</td>\n",
       "      <td>NaN</td>\n",
       "      <td>AiV2</td>\n",
       "      <td>21.0</td>\n",
       "      <td>pass</td>\n",
       "      <td>1.000000</td>\n",
       "      <td>Entire cell</td>\n",
       "    </tr>\n",
       "    <tr>\n",
       "      <th>5532</th>\n",
       "      <td>2017-05-18</td>\n",
       "      <td>P6</td>\n",
       "      <td>Entire-Cell</td>\n",
       "      <td>NaN</td>\n",
       "      <td>NaN</td>\n",
       "      <td>No Bubbles</td>\n",
       "      <td>AiV2</td>\n",
       "      <td>21.0</td>\n",
       "      <td>pass</td>\n",
       "      <td>1.000000</td>\n",
       "      <td>Entire cell</td>\n",
       "    </tr>\n",
       "    <tr>\n",
       "      <th>5623</th>\n",
       "      <td>2017-05-24</td>\n",
       "      <td>P6</td>\n",
       "      <td>Entire-Cell</td>\n",
       "      <td>NaN</td>\n",
       "      <td>NaN</td>\n",
       "      <td>Medium Bubbles</td>\n",
       "      <td>AiV2</td>\n",
       "      <td>21.0</td>\n",
       "      <td>fail</td>\n",
       "      <td>NaN</td>\n",
       "      <td>Entire cell</td>\n",
       "    </tr>\n",
       "    <tr>\n",
       "      <th>5687</th>\n",
       "      <td>2017-06-01</td>\n",
       "      <td>P1</td>\n",
       "      <td>Entire-Cell</td>\n",
       "      <td>NaN</td>\n",
       "      <td>NaN</td>\n",
       "      <td>Fluorescence in Pipette,Cell Dimmed,Cell Shrun...</td>\n",
       "      <td>AiV2</td>\n",
       "      <td>21.0</td>\n",
       "      <td>pass</td>\n",
       "      <td>1.000000</td>\n",
       "      <td>Entire cell</td>\n",
       "    </tr>\n",
       "    <tr>\n",
       "      <th>5847</th>\n",
       "      <td>2017-06-13</td>\n",
       "      <td>P1</td>\n",
       "      <td>Entire-Cell</td>\n",
       "      <td>NaN</td>\n",
       "      <td>NaN</td>\n",
       "      <td>Cell Dimmed   Small Bubbles</td>\n",
       "      <td>AiV2</td>\n",
       "      <td>21.0</td>\n",
       "      <td>pass</td>\n",
       "      <td>1.000000</td>\n",
       "      <td>Entire cell</td>\n",
       "    </tr>\n",
       "    <tr>\n",
       "      <th>6814</th>\n",
       "      <td>2017-08-02</td>\n",
       "      <td>P8</td>\n",
       "      <td>Entire-Cell</td>\n",
       "      <td>NaN</td>\n",
       "      <td>NaN</td>\n",
       "      <td>Fluorescence in Pipette,Cell Swelled No Bubble...</td>\n",
       "      <td>AiV2</td>\n",
       "      <td>21.0</td>\n",
       "      <td>pass</td>\n",
       "      <td>1.000000</td>\n",
       "      <td>Entire cell</td>\n",
       "    </tr>\n",
       "    <tr>\n",
       "      <th>6963</th>\n",
       "      <td>2017-08-09</td>\n",
       "      <td>P8</td>\n",
       "      <td>Entire-Cell</td>\n",
       "      <td>NaN</td>\n",
       "      <td>NaN</td>\n",
       "      <td>Fluorescence in Pipette,Cell Disappeared No Bu...</td>\n",
       "      <td>AiV2</td>\n",
       "      <td>21.0</td>\n",
       "      <td>pass</td>\n",
       "      <td>1.000000</td>\n",
       "      <td>Entire cell</td>\n",
       "    </tr>\n",
       "    <tr>\n",
       "      <th>7076</th>\n",
       "      <td>2017-08-25</td>\n",
       "      <td>P8</td>\n",
       "      <td>Entire-Cell</td>\n",
       "      <td>NaN</td>\n",
       "      <td>NaN</td>\n",
       "      <td>Fluorescence in Pipette,Cell Shrunk No Bubbles</td>\n",
       "      <td>AiV2</td>\n",
       "      <td>21.0</td>\n",
       "      <td>pass</td>\n",
       "      <td>0.556320</td>\n",
       "      <td>Entire cell</td>\n",
       "    </tr>\n",
       "    <tr>\n",
       "      <th>7094</th>\n",
       "      <td>2017-08-29</td>\n",
       "      <td>P8</td>\n",
       "      <td>Entire-Cell</td>\n",
       "      <td>NaN</td>\n",
       "      <td>NaN</td>\n",
       "      <td>Fluorescence in Pipette,Cell Dimmed,Cell Shrun...</td>\n",
       "      <td>AiV2-50uM alexa 488</td>\n",
       "      <td>21.0</td>\n",
       "      <td>pass</td>\n",
       "      <td>0.322631</td>\n",
       "      <td>Entire cell</td>\n",
       "    </tr>\n",
       "    <tr>\n",
       "      <th>7272</th>\n",
       "      <td>2017-09-22</td>\n",
       "      <td>PA</td>\n",
       "      <td>Entire-Cell</td>\n",
       "      <td>NaN</td>\n",
       "      <td>NaN</td>\n",
       "      <td>No Bubbles Sucked in entire cell while retract...</td>\n",
       "      <td>AiV2-50uM alexa 488</td>\n",
       "      <td>21.0</td>\n",
       "      <td>pass</td>\n",
       "      <td>NaN</td>\n",
       "      <td>Entire cell</td>\n",
       "    </tr>\n",
       "    <tr>\n",
       "      <th>7308</th>\n",
       "      <td>2017-09-26</td>\n",
       "      <td>PB</td>\n",
       "      <td>Entire-Cell</td>\n",
       "      <td>NaN</td>\n",
       "      <td>NaN</td>\n",
       "      <td>Fluorescence in Pipette</td>\n",
       "      <td>AiV2-50uM alexa 488</td>\n",
       "      <td>21.0</td>\n",
       "      <td>pass</td>\n",
       "      <td>NaN</td>\n",
       "      <td>Entire cell</td>\n",
       "    </tr>\n",
       "    <tr>\n",
       "      <th>7410</th>\n",
       "      <td>2017-10-04</td>\n",
       "      <td>P2</td>\n",
       "      <td>entire_cell</td>\n",
       "      <td>10.0</td>\n",
       "      <td>no</td>\n",
       "      <td>Fluorescence in Pipette Medium Bubbles cell de...</td>\n",
       "      <td>AiV2-50uM alexa 488</td>\n",
       "      <td>21.0</td>\n",
       "      <td>fail</td>\n",
       "      <td>NaN</td>\n",
       "      <td>Entire cell</td>\n",
       "    </tr>\n",
       "    <tr>\n",
       "      <th>7447</th>\n",
       "      <td>2017-10-05</td>\n",
       "      <td>P2</td>\n",
       "      <td>entire_cell</td>\n",
       "      <td>100.0</td>\n",
       "      <td>no</td>\n",
       "      <td>Fluorescence in Pipette Small Bubbles alexa fi...</td>\n",
       "      <td>AiV2-50uM alexa 488</td>\n",
       "      <td>21.0</td>\n",
       "      <td>pass</td>\n",
       "      <td>NaN</td>\n",
       "      <td>Entire cell</td>\n",
       "    </tr>\n",
       "    <tr>\n",
       "      <th>7455</th>\n",
       "      <td>2017-10-05</td>\n",
       "      <td>P9</td>\n",
       "      <td>entire_cell</td>\n",
       "      <td>5.0</td>\n",
       "      <td>not_intentionally</td>\n",
       "      <td>Fluorescence in Pipette,Cell Dimmed No Bubbles...</td>\n",
       "      <td>AiV2-50uM alexa 488</td>\n",
       "      <td>21.0</td>\n",
       "      <td>pass</td>\n",
       "      <td>NaN</td>\n",
       "      <td>Entire cell</td>\n",
       "    </tr>\n",
       "    <tr>\n",
       "      <th>7587</th>\n",
       "      <td>2017-10-18</td>\n",
       "      <td>P2</td>\n",
       "      <td>entire_cell</td>\n",
       "      <td>7.0</td>\n",
       "      <td>no</td>\n",
       "      <td>No Bubbles alexa fill not visible post experim...</td>\n",
       "      <td>AiV2-50uM alexa 488</td>\n",
       "      <td>21.0</td>\n",
       "      <td>fail</td>\n",
       "      <td>NaN</td>\n",
       "      <td>Entire cell</td>\n",
       "    </tr>\n",
       "    <tr>\n",
       "      <th>7588</th>\n",
       "      <td>2017-10-18</td>\n",
       "      <td>P2</td>\n",
       "      <td>entire_cell</td>\n",
       "      <td>10.0</td>\n",
       "      <td>no</td>\n",
       "      <td>Fluorescence in Pipette No Bubbles alexa fill ...</td>\n",
       "      <td>AiV2-50uM alexa 488</td>\n",
       "      <td>21.0</td>\n",
       "      <td>pass</td>\n",
       "      <td>NaN</td>\n",
       "      <td>Entire cell</td>\n",
       "    </tr>\n",
       "    <tr>\n",
       "      <th>7607</th>\n",
       "      <td>2017-10-19</td>\n",
       "      <td>PA</td>\n",
       "      <td>entire_cell</td>\n",
       "      <td>2.6</td>\n",
       "      <td>not_intentionally</td>\n",
       "      <td>Cell Dimmed,Cell Shrunk No Bubbles Maybe sucke...</td>\n",
       "      <td>AiV2-50uM alexa 488</td>\n",
       "      <td>21.0</td>\n",
       "      <td>NaN</td>\n",
       "      <td>NaN</td>\n",
       "      <td>Entire cell</td>\n",
       "    </tr>\n",
       "    <tr>\n",
       "      <th>7614</th>\n",
       "      <td>2017-10-20</td>\n",
       "      <td>P8</td>\n",
       "      <td>entire_cell</td>\n",
       "      <td>50.0</td>\n",
       "      <td>intentionally</td>\n",
       "      <td>Fluorescence in Pipette,Cell Dimmed,Cell Shrun...</td>\n",
       "      <td>AiV2-50uM alexa 488</td>\n",
       "      <td>21.0</td>\n",
       "      <td>NaN</td>\n",
       "      <td>NaN</td>\n",
       "      <td>Entire cell</td>\n",
       "    </tr>\n",
       "    <tr>\n",
       "      <th>7620</th>\n",
       "      <td>2017-10-20</td>\n",
       "      <td>PA</td>\n",
       "      <td>entire_cell</td>\n",
       "      <td>2.4</td>\n",
       "      <td>not_intentionally</td>\n",
       "      <td>Cell Dimmed,Cell Shrunk No Bubbles Entire cell...</td>\n",
       "      <td>AiV2-50uM alexa 488</td>\n",
       "      <td>21.0</td>\n",
       "      <td>NaN</td>\n",
       "      <td>NaN</td>\n",
       "      <td>Entire cell</td>\n",
       "    </tr>\n",
       "  </tbody>\n",
       "</table>\n",
       "<p>2042 rows × 11 columns</p>\n",
       "</div>"
      ],
      "text/plain": [
       "           Date User     Post patch?  Post patch pipette R Nucleus sucked in?  \\\n",
       "4971 2017-04-19   P2       Nucleated                   NaN                NaN   \n",
       "4973 2017-04-19   P2       Nucleated                   NaN                NaN   \n",
       "4975 2017-04-19   P2       Nucleated                   NaN                NaN   \n",
       "4988 2017-04-20   P1       Nucleated                   NaN                NaN   \n",
       "4997 2017-04-20   P1       Nucleated                   NaN                NaN   \n",
       "5009 2017-04-20   P2       Nucleated                   NaN                NaN   \n",
       "5022 2017-04-21   P1       Nucleated                   NaN                NaN   \n",
       "5026 2017-04-21   P2       Nucleated                   NaN                NaN   \n",
       "5027 2017-04-21   P2       Nucleated                   NaN                NaN   \n",
       "5035 2017-04-21   P2       Nucleated                   NaN                NaN   \n",
       "5045 2017-04-24   P1       Nucleated                   NaN                NaN   \n",
       "5051 2017-04-24   P1       Nucleated                   NaN                NaN   \n",
       "5058 2017-04-24   P2       Nucleated                   NaN                NaN   \n",
       "5063 2017-04-24   P2       Nucleated                   NaN                NaN   \n",
       "5073 2017-04-25   P1       Nucleated                   NaN                NaN   \n",
       "5084 2017-04-25   P2       Nucleated                   NaN                NaN   \n",
       "5085 2017-04-25   P2       Nucleated                   NaN                NaN   \n",
       "5089 2017-04-25   P2       Nucleated                   NaN                NaN   \n",
       "5111 2017-04-26   P2       Nucleated                   NaN                NaN   \n",
       "5114 2017-04-26   P2       Nucleated                   NaN                NaN   \n",
       "5117 2017-04-26   P2       Nucleated                   NaN                NaN   \n",
       "5134 2017-04-27   P1       Nucleated                   NaN                NaN   \n",
       "5146 2017-04-27   P2       Nucleated                   NaN                NaN   \n",
       "5154 2017-04-28   P1       Nucleated                   NaN                NaN   \n",
       "5164 2017-04-28   P2       Nucleated                   NaN                NaN   \n",
       "5166 2017-04-28   P2       Nucleated                   NaN                NaN   \n",
       "5184 2017-05-01   P2       Nucleated                   NaN                NaN   \n",
       "5185 2017-05-01   P2       Nucleated                   NaN                NaN   \n",
       "5186 2017-05-01   P2       Nucleated                   NaN                NaN   \n",
       "5189 2017-05-01   P2       Nucleated                   NaN                NaN   \n",
       "...         ...  ...             ...                   ...                ...   \n",
       "7753 2017-10-31   P2  nucleus_absent                  10.0                 no   \n",
       "7755 2017-10-31   P2  nucleus_absent                  10.0                 no   \n",
       "7756 2017-10-31   P2  nucleus_absent                  10.0                 no   \n",
       "7757 2017-10-31   P2  nucleus_absent                   5.0                 no   \n",
       "7766 2017-10-31   P9  nucleus_absent                   6.8  not_intentionally   \n",
       "5002 2017-04-20   P2     Entire-Cell                   NaN                NaN   \n",
       "5088 2017-04-25   P2     Entire-Cell                   NaN                NaN   \n",
       "5242 2017-05-02   P6     Entire-Cell                   NaN                NaN   \n",
       "5269 2017-05-03   P2     Entire-Cell                   NaN                NaN   \n",
       "5273 2017-05-03   P5     Entire-Cell                   NaN                NaN   \n",
       "5274 2017-05-03   P5     Entire-Cell                   NaN                NaN   \n",
       "5369 2017-05-10   P6     Entire-Cell                   NaN                NaN   \n",
       "5532 2017-05-18   P6     Entire-Cell                   NaN                NaN   \n",
       "5623 2017-05-24   P6     Entire-Cell                   NaN                NaN   \n",
       "5687 2017-06-01   P1     Entire-Cell                   NaN                NaN   \n",
       "5847 2017-06-13   P1     Entire-Cell                   NaN                NaN   \n",
       "6814 2017-08-02   P8     Entire-Cell                   NaN                NaN   \n",
       "6963 2017-08-09   P8     Entire-Cell                   NaN                NaN   \n",
       "7076 2017-08-25   P8     Entire-Cell                   NaN                NaN   \n",
       "7094 2017-08-29   P8     Entire-Cell                   NaN                NaN   \n",
       "7272 2017-09-22   PA     Entire-Cell                   NaN                NaN   \n",
       "7308 2017-09-26   PB     Entire-Cell                   NaN                NaN   \n",
       "7410 2017-10-04   P2     entire_cell                  10.0                 no   \n",
       "7447 2017-10-05   P2     entire_cell                 100.0                 no   \n",
       "7455 2017-10-05   P9     entire_cell                   5.0  not_intentionally   \n",
       "7587 2017-10-18   P2     entire_cell                   7.0                 no   \n",
       "7588 2017-10-18   P2     entire_cell                  10.0                 no   \n",
       "7607 2017-10-19   PA     entire_cell                   2.6  not_intentionally   \n",
       "7614 2017-10-20   P8     entire_cell                  50.0      intentionally   \n",
       "7620 2017-10-20   PA     entire_cell                   2.4  not_intentionally   \n",
       "\n",
       "                                                  Notes     Internal version  \\\n",
       "4971                                                NaN                 AiV2   \n",
       "4973                                                NaN                 AiV2   \n",
       "4975                                                NaN                 AiV2   \n",
       "4988                                                NaN                 AiV2   \n",
       "4997                                                NaN                 AiV2   \n",
       "5009                                                NaN                 AiV2   \n",
       "5022                Fluorescence in Pipette,Cell Dimmed                 AiV2   \n",
       "5026                            Fluorescence in Pipette                 AiV2   \n",
       "5027                            Fluorescence in Pipette                 AiV2   \n",
       "5035                                                NaN                 AiV2   \n",
       "5045                            Fluorescence in Pipette                 AiV2   \n",
       "5051      Fluorescence in Pipette   a few small bubbles                 AiV2   \n",
       "5058                                                NaN                 AiV2   \n",
       "5063  Fluorescence in Pipette One big bubble formed ...                 AiV2   \n",
       "5073                              lots of small bubbles                 AiV2   \n",
       "5084                                                NaN                 AiV2   \n",
       "5085                            Fluorescence in Pipette                 AiV2   \n",
       "5089                       no bubbles during expulsion.                 AiV2   \n",
       "5111                                                NaN                 AiV2   \n",
       "5114  Fluorescence in Pipette a few small bubbles fo...                 AiV2   \n",
       "5117  Fluorescence in Pipette large bubble formed du...                 AiV2   \n",
       "5134                              lots of small bubbles                 AiV2   \n",
       "5146                few small bubbles during expulsion.                 AiV2   \n",
       "5154               Fluorescence in Pipette   no bubbles                 AiV2   \n",
       "5164          one small bubble formed during expulsion.                 AiV2   \n",
       "5166  One medium bubble formed during expulsion, sol...                 AiV2   \n",
       "5184    a couple small bubbles formed during expulsion.                 AiV2   \n",
       "5185  Fluorescence in Pipette a few small bubbles an...                 AiV2   \n",
       "5186  Fluorescence in Pipette few small bubbles form...                 AiV2   \n",
       "5189  Fluorescence in Pipette a layer of small bubbl...                 AiV2   \n",
       "...                                                 ...                  ...   \n",
       "7753  Fluorescence in Pipette Small Bubbles alexa fi...  AiV2-50uM alexa 488   \n",
       "7755  Small Bubbles alexa fill not visible post expe...  AiV2-50uM alexa 488   \n",
       "7756  Fluorescence in Pipette No Bubbles alexa fill ...  AiV2-50uM alexa 488   \n",
       "7757  Fluorescence in Pipette No Bubbles alexa fill ...  AiV2-50uM alexa 488   \n",
       "7766  Cell Dimmed No Bubbles Alexa fill visible\\r\\n ...  AiV2-50uM alexa 488   \n",
       "5002                                                NaN                 AiV2   \n",
       "5088                    small bubbles during expulsion.                 AiV2   \n",
       "5242                                                NaN                 AiV2   \n",
       "5269                            Fluorescence in Pipette                 AiV2   \n",
       "5273  cuoldnt get gigaseal but pulled Entire-Cell ou...                  NaN   \n",
       "5274  cuoldnt get gigaseal but pulled Entire-Cell ou...                  NaN   \n",
       "5369                                                NaN                 AiV2   \n",
       "5532                                         No Bubbles                 AiV2   \n",
       "5623                                     Medium Bubbles                 AiV2   \n",
       "5687  Fluorescence in Pipette,Cell Dimmed,Cell Shrun...                 AiV2   \n",
       "5847                        Cell Dimmed   Small Bubbles                 AiV2   \n",
       "6814  Fluorescence in Pipette,Cell Swelled No Bubble...                 AiV2   \n",
       "6963  Fluorescence in Pipette,Cell Disappeared No Bu...                 AiV2   \n",
       "7076     Fluorescence in Pipette,Cell Shrunk No Bubbles                 AiV2   \n",
       "7094  Fluorescence in Pipette,Cell Dimmed,Cell Shrun...  AiV2-50uM alexa 488   \n",
       "7272  No Bubbles Sucked in entire cell while retract...  AiV2-50uM alexa 488   \n",
       "7308                            Fluorescence in Pipette  AiV2-50uM alexa 488   \n",
       "7410  Fluorescence in Pipette Medium Bubbles cell de...  AiV2-50uM alexa 488   \n",
       "7447  Fluorescence in Pipette Small Bubbles alexa fi...  AiV2-50uM alexa 488   \n",
       "7455  Fluorescence in Pipette,Cell Dimmed No Bubbles...  AiV2-50uM alexa 488   \n",
       "7587  No Bubbles alexa fill not visible post experim...  AiV2-50uM alexa 488   \n",
       "7588  Fluorescence in Pipette No Bubbles alexa fill ...  AiV2-50uM alexa 488   \n",
       "7607  Cell Dimmed,Cell Shrunk No Bubbles Maybe sucke...  AiV2-50uM alexa 488   \n",
       "7614  Fluorescence in Pipette,Cell Dimmed,Cell Shrun...  AiV2-50uM alexa 488   \n",
       "7620  Cell Dimmed,Cell Shrunk No Bubbles Entire cell...  AiV2-50uM alexa 488   \n",
       "\n",
       "      PCR cycles SM_QC_PF  Resolution index post patch class  \n",
       "4971        21.0     pass          0.000000        Nucleated  \n",
       "4973        21.0     pass          0.322631        Nucleated  \n",
       "4975        21.0     pass               NaN        Nucleated  \n",
       "4988        21.0     pass          0.601033        Nucleated  \n",
       "4997        21.0     pass               NaN        Nucleated  \n",
       "5009        21.0     pass          0.678447        Nucleated  \n",
       "5022        21.0     pass          0.795757        Nucleated  \n",
       "5026        21.0     pass          1.000000        Nucleated  \n",
       "5027        21.0     pass          0.877682        Nucleated  \n",
       "5035        21.0     pass          0.556320        Nucleated  \n",
       "5045        21.0     pass          0.601033        Nucleated  \n",
       "5051        21.0     pass          1.000000        Nucleated  \n",
       "5058        21.0     pass          0.678447        Nucleated  \n",
       "5063        21.0     pass          0.678447        Nucleated  \n",
       "5073        21.0     pass          0.678447        Nucleated  \n",
       "5084        21.0     pass          1.000000        Nucleated  \n",
       "5085        21.0     pass          1.000000        Nucleated  \n",
       "5089        21.0     pass          1.000000        Nucleated  \n",
       "5111        21.0     pass          0.678447        Nucleated  \n",
       "5114        21.0     pass          0.678447        Nucleated  \n",
       "5117        21.0     pass          1.000000        Nucleated  \n",
       "5134        21.0     pass          0.678447        Nucleated  \n",
       "5146        21.0     pass          0.678447        Nucleated  \n",
       "5154        21.0     pass          0.000000        Nucleated  \n",
       "5164        21.0     pass          1.000000        Nucleated  \n",
       "5166        21.0     pass          0.678447        Nucleated  \n",
       "5184        21.0     pass               NaN        Nucleated  \n",
       "5185        21.0     pass               NaN        Nucleated  \n",
       "5186        21.0     pass               NaN        Nucleated  \n",
       "5189        21.0     pass               NaN        Nucleated  \n",
       "...          ...      ...               ...              ...  \n",
       "7753        21.0      NaN               NaN          No seal  \n",
       "7755        21.0      NaN               NaN          No seal  \n",
       "7756        21.0      NaN               NaN          No seal  \n",
       "7757        21.0      NaN               NaN          No seal  \n",
       "7766        21.0      NaN               NaN          No seal  \n",
       "5002        21.0     pass          0.719078      Entire cell  \n",
       "5088        21.0     pass          1.000000      Entire cell  \n",
       "5242        21.0     pass          0.601033      Entire cell  \n",
       "5269        21.0     fail               NaN      Entire cell  \n",
       "5273        21.0     pass          0.678447      Entire cell  \n",
       "5274        21.0     pass          0.678447      Entire cell  \n",
       "5369        21.0     pass          1.000000      Entire cell  \n",
       "5532        21.0     pass          1.000000      Entire cell  \n",
       "5623        21.0     fail               NaN      Entire cell  \n",
       "5687        21.0     pass          1.000000      Entire cell  \n",
       "5847        21.0     pass          1.000000      Entire cell  \n",
       "6814        21.0     pass          1.000000      Entire cell  \n",
       "6963        21.0     pass          1.000000      Entire cell  \n",
       "7076        21.0     pass          0.556320      Entire cell  \n",
       "7094        21.0     pass          0.322631      Entire cell  \n",
       "7272        21.0     pass               NaN      Entire cell  \n",
       "7308        21.0     pass               NaN      Entire cell  \n",
       "7410        21.0     fail               NaN      Entire cell  \n",
       "7447        21.0     pass               NaN      Entire cell  \n",
       "7455        21.0     pass               NaN      Entire cell  \n",
       "7587        21.0     fail               NaN      Entire cell  \n",
       "7588        21.0     pass               NaN      Entire cell  \n",
       "7607        21.0      NaN               NaN      Entire cell  \n",
       "7614        21.0      NaN               NaN      Entire cell  \n",
       "7620        21.0      NaN               NaN      Entire cell  \n",
       "\n",
       "[2042 rows x 11 columns]"
      ]
     },
     "execution_count": 97,
     "metadata": {},
     "output_type": "execute_result"
    }
   ],
   "source": [
    "frames = [nuc, part_nuc, out_out, noSeal, entirecell]\n",
    "result = pd.concat(frames)\n",
    "result"
   ]
  },
  {
   "cell_type": "markdown",
   "metadata": {
    "collapsed": true
   },
   "source": [
    "# Calculating nucleated patch percentages by user"
   ]
  },
  {
   "cell_type": "code",
   "execution_count": 16,
   "metadata": {
    "collapsed": false
   },
   "outputs": [
    {
     "data": {
      "text/plain": [
       "472"
      ]
     },
     "execution_count": 16,
     "metadata": {},
     "output_type": "execute_result"
    }
   ],
   "source": [
    "P8_total = ps[ps[\"User\"] == 'P8']\n",
    "P8_total_count = P8_total['Post patch?'].count()\n",
    "P8_total_count"
   ]
  },
  {
   "cell_type": "code",
   "execution_count": 17,
   "metadata": {
    "collapsed": false
   },
   "outputs": [
    {
     "data": {
      "text/plain": [
       "211"
      ]
     },
     "execution_count": 17,
     "metadata": {},
     "output_type": "execute_result"
    }
   ],
   "source": [
    "#use post patch nucleated filter\n",
    "P8_nuc = P8_total[P8_total['Post patch?'] == 'Nucleated']\n",
    "P8_nuc_count = P8_nuc['Post patch?'].count()\n",
    "P8_nuc_count"
   ]
  },
  {
   "cell_type": "code",
   "execution_count": 18,
   "metadata": {
    "collapsed": false
   },
   "outputs": [
    {
     "data": {
      "text/plain": [
       "0.4470338983050847"
      ]
     },
     "execution_count": 18,
     "metadata": {},
     "output_type": "execute_result"
    }
   ],
   "source": [
    "float(P8_nuc_count)/P8_total_count"
   ]
  },
  {
   "cell_type": "code",
   "execution_count": 19,
   "metadata": {
    "collapsed": false
   },
   "outputs": [
    {
     "name": "stdout",
     "output_type": "stream",
     "text": [
      "P1 :  0.342490842491\n",
      "P2 :  0.506086956522\n",
      "P6 :  0.369863013699\n",
      "P8 :  0.514830508475\n",
      "P9 :  0.628865979381\n",
      "PA :  0.477272727273\n",
      "PB :  0.410714285714\n"
     ]
    }
   ],
   "source": [
    "for riguser in ['P1','P2','P6','P8','P9','PA','PB']:\n",
    "    user_total = ps[ps['User'] == riguser]\n",
    "    user_nuc = nucleated(user_total)\n",
    "    user_percent = calc_pct(user_nuc, user_total)\n",
    "    print riguser,': ', user_percent\n",
    "    \n",
    "    #user_total_count = get_count(user_total)\n",
    "    #user_total_count = user_total['Post patch?'].count()\n",
    "    #user_nuc = user_total[user_total['Post patch?'] == 'Nucleated']\n",
    "    #user_nuc_count = get_count(user_nuc)\n",
    "    #user_nuc_count = user_nuc['Post patch?'].count()\n",
    "    #user_percent = float(user_nuc_count)/(user_total_count)"
   ]
  },
  {
   "cell_type": "markdown",
   "metadata": {
    "collapsed": true
   },
   "source": [
    "# Obtaining nucleus dependant on internal solution version"
   ]
  },
  {
   "cell_type": "code",
   "execution_count": 98,
   "metadata": {
    "collapsed": false
   },
   "outputs": [
    {
     "name": "stdout",
     "output_type": "stream",
     "text": [
      "                     SM_QC_PF  post patch class\n",
      "Internal version                               \n",
      "AiV2                      758               759\n",
      "AiV2-50uM alexa 488       282               361\n"
     ]
    },
    {
     "data": {
      "image/png": "[encoded data removed]",
      "text/plain": [
       "<matplotlib.figure.Figure at 0xc908b70>"
      ]
     },
     "metadata": {},
     "output_type": "display_data"
    }
   ],
   "source": [
    "#sns.set(style='white', color_codes = True)\n",
    "result2 = result[(result['User'] == 'P2') | (result['User'] == 'P8')]\n",
    "result2 = result2.drop('Date',1)\n",
    "result2 = result2.drop('User',1)\n",
    "result2 = result2.drop('Post patch?',1)\n",
    "result2 = result2.drop('Post patch pipette R',1)\n",
    "result2 = result2.drop('Nucleus sucked in?',1)\n",
    "result2 = result2.drop('Notes',1)\n",
    "result2 = result2.drop('PCR cycles',1)\n",
    "result2 = result2.drop('Resolution index',1)\n",
    "totals = result2.groupby(['Internal version']).count()\n",
    "print totals\n",
    "#print result2\n",
    "internal = result2.groupby(['Internal version', 'post patch class']).count()\n",
    "#print internal\n",
    "internal = internal.reset_index()\n",
    "internal = internal.groupby(['Internal version'])\n",
    "standard = internal.get_group('AiV2')\n",
    "#standard_pp = standard.reset_index()\n",
    "standard_pp = standard.groupby(['Internal version', 'post patch class']).agg({'SM_QC_PF': 'sum'})\n",
    "standard_total = standard.reset_index()\n",
    "standard_total = standard_total.groupby(['Internal version']).agg({'SM_QC_PF':'sum'})\n",
    "standard_pcts = standard_pp.div(standard_total, level='Internal version')*100\n",
    "alexa = internal.get_group('AiV2-50uM alexa 488')\n",
    "#alexa_pp = alexa.reset_index()\n",
    "alexa_pp = alexa.groupby(['Internal version', 'post patch class']).agg({'SM_QC_PF': 'sum'})\n",
    "alexa_total = alexa.reset_index()\n",
    "alexa_total = alexa_total.groupby(['Internal version']).agg({'SM_QC_PF': 'sum'})\n",
    "alexa_pcts = alexa_pp.div(alexa_total, level='Internal version')*100\n",
    "standard_pcts = standard_pcts.reset_index()\n",
    "alexa_pcts = alexa_pcts.reset_index()\n",
    "def make_list(post_patch):\n",
    "    postpatch_std_pcts = standard_pcts[standard_pcts['post patch class']==post_patch]\n",
    "    postpatch_alexa_pcts = alexa_pcts[alexa_pcts['post patch class']==post_patch]    #, alexa_pcts['post patch class']=='Nucleated'\n",
    "#nucleated_pcts = list(nucleated_pcts)\n",
    "    postpatch_pcts = [postpatch_std_pcts, postpatch_alexa_pcts]\n",
    "    postpatch_pcts = pd.concat(postpatch_pcts)\n",
    "    postpatch_pcts = postpatch_pcts['SM_QC_PF']\n",
    "    return postpatch_pcts\n",
    "nuc_pcts = make_list(\"Nucleated\")\n",
    "part_nuc_pcts = make_list(\"Partial nucleated\")\n",
    "out_out_pcts = make_list(\"Outside out\")\n",
    "no_seal_pcts = make_list(\"No seal\")\n",
    "entire_cell_pcts = make_list(\"Entire cell\")\n",
    "\n",
    "#print nuc_pcts\n",
    "#print part_nuc_pcts\n",
    "#print out_out_pcts\n",
    "#print no_seal_pcts\n",
    "#print entire_cell_pcts\n",
    "fig, ax = plt.subplots(1)\n",
    "r = [0.5,0.85]\n",
    "#names = ['Nucleated', \"Partial nucleated\", \"Outside out\", \"No seal\", \"Entire cell\"]\n",
    "names = ['AiV2', 'AiV2-50uM alexa 488']\n",
    "labels = totals['post patch class']\n",
    "#labels = ['759', '356']\n",
    "barWidth = 0.25\n",
    "nuc = plt.bar(r, nuc_pcts, edgecolor='white', width=barWidth)\n",
    "part = plt.bar(r, part_nuc_pcts, edgecolor='white', bottom=nuc_pcts, width=barWidth)\n",
    "out = plt.bar(r, out_out_pcts, edgecolor='white', bottom=[i+j for i,j in zip(nuc_pcts,part_nuc_pcts)], width=barWidth)\n",
    "no = plt.bar(r, no_seal_pcts, edgecolor='white', bottom=[i+j+k for i,j,k in zip(nuc_pcts, part_nuc_pcts, out_out_pcts)], width=barWidth)\n",
    "entire = plt.bar(r, entire_cell_pcts, edgecolor='white', bottom=[i+j+k+l for i,j,k,l in zip(nuc_pcts, part_nuc_pcts, out_out_pcts,no_seal_pcts)], width=barWidth)\n",
    "#labels = [\"label%d\" % i for i in xrange(len(entire))]\n",
    "for ent, label in zip(entire, labels):\n",
    "    height = ent.get_height()\n",
    "    ax.text(ent.get_x() + ent.get_width()/2, height + 100, label, ha='center', va='bottom')\n",
    "plt.xticks(r, names)\n",
    "plt.xlabel(\"Internal version\")\n",
    "plt.ylabel(\"Percentage\")\n",
    "axes = plt.gca()\n",
    "axes.set_xlim(0.25,1.4)\n",
    "axes.set_ylim([0,110])\n",
    "ax.xaxis.set_label_coords(0.35,-0.1)\n",
    "plt.title('Post Patch Percentage by Internal Version')\n",
    "plt.legend((entire[0],no[0],out[0],part[0],nuc[0]), ('entire cell', 'no seal', 'outside out', 'partial nucleated', 'nucleated'), loc='upper right')\n",
    "plt.savefig('post_patch_percentage_by_internal_version', dpi=300)"
   ]
  },
  {
   "cell_type": "code",
   "execution_count": 126,
   "metadata": {
    "collapsed": false
   },
   "outputs": [
    {
     "name": "stdout",
     "output_type": "stream",
     "text": [
      "Standard Nucleated 0.512516469038\n",
      "Alexa Nucleated 0.510563380282\n",
      "Standard Partial Nucleated 0.123847167325\n"
     ]
    }
   ],
   "source": [
    "standard = \"AiV2\"\n",
    "alexa = \"AiV2-50uM alexa 488\"\n",
    "post_patch_condition = ['Nucleated', 'Partial nucleated', 'Outside out', 'No seal']\n",
    "def postpatch_results(internal, postpatch):\n",
    "    internal_version = gen_filter(result, \"Internal version\", internal)\n",
    "    internal_version = internal_version[(internal_version[\"User\"] == \"P2\") | (internal_version[\"User\"] == \"P8\")]\n",
    "    #for n in internal_version[\"post patch class\"]:\n",
    "    #for n in post_patch_condition:\n",
    "    post_patch = gen_filter(internal_version, 'post patch class', postpatch)\n",
    "    post_patch_pct = calc_pct(post_patch, internal_version)\n",
    "    return post_patch_pct\n",
    "    #print internal, n,': ', post_patch_pct\n",
    "sn = postpatch_results(standard, \"Nucleated\")\n",
    "sn_label = \"Standard Nucleated\" \n",
    "an = postpatch_results(alexa, \"Nucleated\")\n",
    "an_label = \"Alexa Nucleated\"\n",
    "spn = postpatch_results(standard, \"Partial nucleated\")\n",
    "spn_label = \"Standard Partial Nucleated\"\n",
    "print sn_label, sn    \n",
    "print an_label, an\n",
    "print spn_label, spn\n",
    "#std = postpatch_results(standard)\n",
    "#alexa488 = postpatch_results(alexa)\n",
    "#std\n",
    "#alexa488"
   ]
  },
  {
   "cell_type": "markdown",
   "metadata": {},
   "source": [
    "# Rate of SMQC pass by internal solution verion"
   ]
  },
  {
   "cell_type": "code",
   "execution_count": 21,
   "metadata": {
    "collapsed": false
   },
   "outputs": [
    {
     "name": "stderr",
     "output_type": "stream",
     "text": [
      "C:\\Anaconda2\\lib\\site-packages\\ipykernel\\__main__.py:3: SettingWithCopyWarning: \n",
      "A value is trying to be set on a copy of a slice from a DataFrame\n",
      "\n",
      "See the caveats in the documentation: http://pandas.pydata.org/pandas-docs/stable/indexing.html#indexing-view-versus-copy\n",
      "  app.launch_new_instance()\n"
     ]
    },
    {
     "data": {
      "text/plain": [
       "758"
      ]
     },
     "execution_count": 21,
     "metadata": {},
     "output_type": "execute_result"
    }
   ],
   "source": [
    "std_int = gen_filter(ps, \"Internal version\", \"AiV2\")\n",
    "#std_int = ps[ps[\"Internal version\"] == \"AiV2\"]\n",
    "std_int.dropna(subset = [\"SM_QC_PF\", \"Post patch?\"], inplace = True)\n",
    "std_int = std_int[(std_int[\"User\"] == \"P2\") | (std_int[\"User\"] == \"P8\")]\n",
    "standard_internal_count = std_int[\"Post patch?\"].count()\n",
    "standard_internal_count"
   ]
  },
  {
   "cell_type": "code",
   "execution_count": 22,
   "metadata": {
    "collapsed": false
   },
   "outputs": [
    {
     "data": {
      "text/plain": [
       "661"
      ]
     },
     "execution_count": 22,
     "metadata": {},
     "output_type": "execute_result"
    }
   ],
   "source": [
    "standard_internal_pass = std_int[std_int[\"SM_QC_PF\"] == \"pass\"]\n",
    "standard_internal_pass\n",
    "standard_internal_pass_count = standard_internal_pass[\"Post patch?\"].count()\n",
    "standard_internal_pass_count                                    "
   ]
  },
  {
   "cell_type": "code",
   "execution_count": 23,
   "metadata": {
    "collapsed": false
   },
   "outputs": [
    {
     "name": "stdout",
     "output_type": "stream",
     "text": [
      "Standard internal pass rate: 0.872031662269\n"
     ]
    }
   ],
   "source": [
    "print \"Standard internal pass rate:\" , float(standard_internal_pass_count)/standard_internal_count"
   ]
  },
  {
   "cell_type": "code",
   "execution_count": 24,
   "metadata": {
    "collapsed": false
   },
   "outputs": [
    {
     "ename": "NameError",
     "evalue": "name 'alexa_int' is not defined",
     "output_type": "error",
     "traceback": [
      "\u001b[1;31m---------------------------------------------------------------------------\u001b[0m",
      "\u001b[1;31mNameError\u001b[0m                                 Traceback (most recent call last)",
      "\u001b[1;32m<ipython-input-24-36b237b3a943>\u001b[0m in \u001b[0;36m<module>\u001b[1;34m()\u001b[0m\n\u001b[1;32m----> 1\u001b[1;33m \u001b[0malexa_int\u001b[0m\u001b[1;33m.\u001b[0m\u001b[0mdropna\u001b[0m\u001b[1;33m(\u001b[0m\u001b[0msubset\u001b[0m \u001b[1;33m=\u001b[0m \u001b[1;33m[\u001b[0m\u001b[1;34m\"SM_QC_PF\"\u001b[0m\u001b[1;33m,\u001b[0m \u001b[1;34m\"Post patch?\"\u001b[0m\u001b[1;33m]\u001b[0m\u001b[1;33m,\u001b[0m \u001b[0minplace\u001b[0m \u001b[1;33m=\u001b[0m \u001b[0mTrue\u001b[0m\u001b[1;33m)\u001b[0m\u001b[1;33m\u001b[0m\u001b[0m\n\u001b[0m\u001b[0;32m      2\u001b[0m \u001b[0malexa_internal_count\u001b[0m \u001b[1;33m=\u001b[0m \u001b[0malexa_int\u001b[0m\u001b[1;33m[\u001b[0m\u001b[1;34m\"Post patch?\"\u001b[0m\u001b[1;33m]\u001b[0m\u001b[1;33m.\u001b[0m\u001b[0mcount\u001b[0m\u001b[1;33m(\u001b[0m\u001b[1;33m)\u001b[0m\u001b[1;33m\u001b[0m\u001b[0m\n\u001b[0;32m      3\u001b[0m \u001b[0malexa_internal_count\u001b[0m\u001b[1;33m\u001b[0m\u001b[0m\n",
      "\u001b[1;31mNameError\u001b[0m: name 'alexa_int' is not defined"
     ]
    }
   ],
   "source": [
    "alexa_int.dropna(subset = [\"SM_QC_PF\", \"Post patch?\"], inplace = True)\n",
    "alexa_internal_count = alexa_int[\"Post patch?\"].count()\n",
    "alexa_internal_count"
   ]
  },
  {
   "cell_type": "code",
   "execution_count": null,
   "metadata": {
    "collapsed": true
   },
   "outputs": [],
   "source": [
    "alexa_internal_pass = alexa_int[alexa_int[\"SM_QC_PF\"] == \"pass\"]\n",
    "alexa_internal_pass_count = alexa_internal_pass[\"Post patch?\"].count()\n",
    "alexa_internal_pass_count"
   ]
  },
  {
   "cell_type": "code",
   "execution_count": 452,
   "metadata": {
    "collapsed": false
   },
   "outputs": [
    {
     "name": "stdout",
     "output_type": "stream",
     "text": [
      "Alexa internal pass rate: 0.797872340426\n"
     ]
    }
   ],
   "source": [
    "print \"Alexa internal pass rate:\" , float(alexa_internal_pass_count)/alexa_internal_count"
   ]
  },
  {
   "cell_type": "markdown",
   "metadata": {},
   "source": [
    "# Rate of SM_QC pass based on internal version and post patch condition"
   ]
  },
  {
   "cell_type": "code",
   "execution_count": 16,
   "metadata": {
    "collapsed": false
   },
   "outputs": [
    {
     "data": {
      "text/plain": [
       "Nucleated            859\n",
       "No seal              644\n",
       "Partial nucleated    237\n",
       "Outside out          111\n",
       "Entire cell           17\n",
       "Name: post patch class, dtype: int64"
      ]
     },
     "execution_count": 16,
     "metadata": {},
     "output_type": "execute_result"
    }
   ],
   "source": [
    "result[\"post patch class\"].value_counts()"
   ]
  },
  {
   "cell_type": "code",
   "execution_count": 128,
   "metadata": {
    "collapsed": false
   },
   "outputs": [
    {
     "name": "stdout",
     "output_type": "stream",
     "text": [
      "284\n"
     ]
    },
    {
     "ename": "NameError",
     "evalue": "name 'alexa_internal' is not defined",
     "output_type": "error",
     "traceback": [
      "\u001b[1;31m---------------------------------------------------------------------------\u001b[0m",
      "\u001b[1;31mNameError\u001b[0m                                 Traceback (most recent call last)",
      "\u001b[1;32m<ipython-input-128-84ad62a550ca>\u001b[0m in \u001b[0;36m<module>\u001b[1;34m()\u001b[0m\n\u001b[0;32m      5\u001b[0m \u001b[1;31m#alexa_count = alexa[\"post patch class\"].count()\u001b[0m\u001b[1;33m\u001b[0m\u001b[1;33m\u001b[0m\u001b[0m\n\u001b[0;32m      6\u001b[0m \u001b[1;32mprint\u001b[0m \u001b[0malexa_count\u001b[0m\u001b[1;33m\u001b[0m\u001b[0m\n\u001b[1;32m----> 7\u001b[1;33m \u001b[0malexa_pass\u001b[0m \u001b[1;33m=\u001b[0m \u001b[0mpass_only\u001b[0m\u001b[1;33m(\u001b[0m\u001b[0malexa_internal\u001b[0m\u001b[1;33m)\u001b[0m\u001b[1;33m\u001b[0m\u001b[0m\n\u001b[0m\u001b[0;32m      8\u001b[0m \u001b[0malexa_pass_count\u001b[0m \u001b[1;33m=\u001b[0m \u001b[0malexa_pass\u001b[0m\u001b[1;33m[\u001b[0m\u001b[1;34m\"Post patch?\"\u001b[0m\u001b[1;33m]\u001b[0m\u001b[1;33m.\u001b[0m\u001b[0mcount\u001b[0m\u001b[1;33m(\u001b[0m\u001b[1;33m)\u001b[0m\u001b[1;33m\u001b[0m\u001b[0m\n\u001b[0;32m      9\u001b[0m \u001b[1;32mprint\u001b[0m \u001b[0malexa_pass_count\u001b[0m\u001b[1;33m\u001b[0m\u001b[0m\n",
      "\u001b[1;31mNameError\u001b[0m: name 'alexa_internal' is not defined"
     ]
    }
   ],
   "source": [
    "alexa = result[result[\"Internal version\"] == \"AiV2-50uM alexa 488\"]\n",
    "alexa[\"Internal version\"].value_counts()\n",
    "alexa = alexa[(alexa[\"User\"] == \"P2\") | (alexa[\"User\"] == \"P8\")]\n",
    "alexa_count = get_count(alexa)\n",
    "#alexa_count = alexa[\"post patch class\"].count()\n",
    "print alexa_count\n",
    "alexa_pass = pass_only(alexa_internal)\n",
    "alexa_pass_count = alexa_pass[\"Post patch?\"].count()\n",
    "print alexa_pass_count\n",
    "alexa_nuc = nucleated(alexa)\n",
    "alexa_nuc_count = get_count(alexa_nuc)\n",
    "print alexa_nuc_count\n",
    "alexa_nuc_pass = pass_only(alexa_nuc)\n",
    "alexa_nuc_pass_count = get_count(alexa_nuc_pass)\n",
    "alexa_nuc_pass_count"
   ]
  },
  {
   "cell_type": "code",
   "execution_count": 99,
   "metadata": {
    "collapsed": true
   },
   "outputs": [],
   "source": [
    "result.dropna(subset = [\"SM_QC_PF\"], inplace=True)\n",
    "result = result[result[\"SM_QC_PF\"] != 'na']\n",
    "result1 = result[(result[\"User\"] == \"P2\") | (result[\"User\"] == \"P8\")]\n",
    "result1 = result1.drop('Date',1)\n",
    "result1 = result1.drop('User',1)\n",
    "result1 = result1.drop('Post patch?',1)\n",
    "result1 = result1.drop('Post patch pipette R',1)\n",
    "result1 = result1.drop('Nucleus sucked in?',1)\n",
    "result1 = result1.drop('Notes',1)\n",
    "result1 = result1.drop('PCR cycles',1)\n",
    "result1 = result1.drop('Resolution index',1)\n",
    "#print result[\"SM_QC_PF\"].value_counts()\n",
    "#print result[\"post patch class\"].value_counts()"
   ]
  },
  {
   "cell_type": "code",
   "execution_count": 100,
   "metadata": {
    "collapsed": false
   },
   "outputs": [
    {
     "data": {
      "text/html": [
       "<div>\n",
       "<table border=\"1\" class=\"dataframe\">\n",
       "  <thead>\n",
       "    <tr style=\"text-align: right;\">\n",
       "      <th></th>\n",
       "      <th></th>\n",
       "      <th>SM_QC_PF</th>\n",
       "    </tr>\n",
       "    <tr>\n",
       "      <th>Internal version</th>\n",
       "      <th>post patch class</th>\n",
       "      <th></th>\n",
       "    </tr>\n",
       "  </thead>\n",
       "  <tbody>\n",
       "    <tr>\n",
       "      <th rowspan=\"5\" valign=\"top\">AiV2</th>\n",
       "      <th>Entire cell</th>\n",
       "      <td>6</td>\n",
       "    </tr>\n",
       "    <tr>\n",
       "      <th>No seal</th>\n",
       "      <td>240</td>\n",
       "    </tr>\n",
       "    <tr>\n",
       "      <th>Nucleated</th>\n",
       "      <td>381</td>\n",
       "    </tr>\n",
       "    <tr>\n",
       "      <th>Outside out</th>\n",
       "      <td>28</td>\n",
       "    </tr>\n",
       "    <tr>\n",
       "      <th>Partial nucleated</th>\n",
       "      <td>94</td>\n",
       "    </tr>\n",
       "    <tr>\n",
       "      <th rowspan=\"5\" valign=\"top\">AiV2-50uM alexa 488</th>\n",
       "      <th>Entire cell</th>\n",
       "      <td>5</td>\n",
       "    </tr>\n",
       "    <tr>\n",
       "      <th>No seal</th>\n",
       "      <td>88</td>\n",
       "    </tr>\n",
       "    <tr>\n",
       "      <th>Nucleated</th>\n",
       "      <td>143</td>\n",
       "    </tr>\n",
       "    <tr>\n",
       "      <th>Outside out</th>\n",
       "      <td>15</td>\n",
       "    </tr>\n",
       "    <tr>\n",
       "      <th>Partial nucleated</th>\n",
       "      <td>31</td>\n",
       "    </tr>\n",
       "  </tbody>\n",
       "</table>\n",
       "</div>"
      ],
      "text/plain": [
       "                                       SM_QC_PF\n",
       "Internal version    post patch class           \n",
       "AiV2                Entire cell               6\n",
       "                    No seal                 240\n",
       "                    Nucleated               381\n",
       "                    Outside out              28\n",
       "                    Partial nucleated        94\n",
       "AiV2-50uM alexa 488 Entire cell               5\n",
       "                    No seal                  88\n",
       "                    Nucleated               143\n",
       "                    Outside out              15\n",
       "                    Partial nucleated        31"
      ]
     },
     "execution_count": 100,
     "metadata": {},
     "output_type": "execute_result"
    }
   ],
   "source": [
    "int_pp = result1.groupby([\"Internal version\", \"post patch class\"]).count()\n",
    "#int_pp = int_pp.reset_index()\n",
    "int_pp\n",
    "#type(int_pp)\n",
    "#result1[\"SM_QC_PF\"].value_counts()"
   ]
  },
  {
   "cell_type": "code",
   "execution_count": 101,
   "metadata": {
    "collapsed": false
   },
   "outputs": [
    {
     "data": {
      "text/html": [
       "<div>\n",
       "<table border=\"1\" class=\"dataframe\">\n",
       "  <thead>\n",
       "    <tr style=\"text-align: right;\">\n",
       "      <th></th>\n",
       "      <th></th>\n",
       "      <th>SM_QC_PF</th>\n",
       "    </tr>\n",
       "    <tr>\n",
       "      <th>Internal version</th>\n",
       "      <th>post patch class</th>\n",
       "      <th></th>\n",
       "    </tr>\n",
       "  </thead>\n",
       "  <tbody>\n",
       "    <tr>\n",
       "      <th rowspan=\"5\" valign=\"top\">AiV2</th>\n",
       "      <th>Entire cell</th>\n",
       "      <td>5</td>\n",
       "    </tr>\n",
       "    <tr>\n",
       "      <th>No seal</th>\n",
       "      <td>193</td>\n",
       "    </tr>\n",
       "    <tr>\n",
       "      <th>Nucleated</th>\n",
       "      <td>356</td>\n",
       "    </tr>\n",
       "    <tr>\n",
       "      <th>Outside out</th>\n",
       "      <td>22</td>\n",
       "    </tr>\n",
       "    <tr>\n",
       "      <th>Partial nucleated</th>\n",
       "      <td>85</td>\n",
       "    </tr>\n",
       "    <tr>\n",
       "      <th rowspan=\"5\" valign=\"top\">AiV2-50uM alexa 488</th>\n",
       "      <th>Entire cell</th>\n",
       "      <td>3</td>\n",
       "    </tr>\n",
       "    <tr>\n",
       "      <th>No seal</th>\n",
       "      <td>41</td>\n",
       "    </tr>\n",
       "    <tr>\n",
       "      <th>Nucleated</th>\n",
       "      <td>138</td>\n",
       "    </tr>\n",
       "    <tr>\n",
       "      <th>Outside out</th>\n",
       "      <td>5</td>\n",
       "    </tr>\n",
       "    <tr>\n",
       "      <th>Partial nucleated</th>\n",
       "      <td>22</td>\n",
       "    </tr>\n",
       "  </tbody>\n",
       "</table>\n",
       "</div>"
      ],
      "text/plain": [
       "                                       SM_QC_PF\n",
       "Internal version    post patch class           \n",
       "AiV2                Entire cell               5\n",
       "                    No seal                 193\n",
       "                    Nucleated               356\n",
       "                    Outside out              22\n",
       "                    Partial nucleated        85\n",
       "AiV2-50uM alexa 488 Entire cell               3\n",
       "                    No seal                  41\n",
       "                    Nucleated               138\n",
       "                    Outside out               5\n",
       "                    Partial nucleated        22"
      ]
     },
     "execution_count": 101,
     "metadata": {},
     "output_type": "execute_result"
    }
   ],
   "source": [
    "int_pp_pass = pass_only(result1)\n",
    "int_pp_pass[\"SM_QC_PF\"].value_counts()\n",
    "int_pp_pass = int_pp_pass.groupby([\"Internal version\", \"post patch class\"]).count()\n",
    "#int_pp_pass = int_pp_pass.reset_index()\n",
    "int_pp_pass"
   ]
  },
  {
   "cell_type": "code",
   "execution_count": 102,
   "metadata": {
    "collapsed": false
   },
   "outputs": [
    {
     "name": "stdout",
     "output_type": "stream",
     "text": [
      "  Internal version   post patch class   SM_QC_PF  totals\n",
      "0             AiV2        Entire cell  83.333333       6\n",
      "1             AiV2            No seal  80.416667     240\n",
      "2             AiV2          Nucleated  93.438320     381\n",
      "3             AiV2        Outside out  78.571429      28\n",
      "4             AiV2  Partial nucleated  90.425532      94\n",
      "      Internal version   post patch class   SM_QC_PF  totals\n",
      "5  AiV2-50uM alexa 488        Entire cell  60.000000       5\n",
      "6  AiV2-50uM alexa 488            No seal  46.590909      88\n",
      "7  AiV2-50uM alexa 488          Nucleated  96.503497     143\n",
      "8  AiV2-50uM alexa 488        Outside out  33.333333      15\n",
      "9  AiV2-50uM alexa 488  Partial nucleated  70.967742      31\n"
     ]
    },
    {
     "data": {
      "text/plain": [
       "<pandas.core.groupby.DataFrameGroupBy object at 0x000000000CB274A8>"
      ]
     },
     "execution_count": 102,
     "metadata": {},
     "output_type": "execute_result"
    }
   ],
   "source": [
    "#int_pp_totals = int_pp.groupby([\"Internal version\", \"post patch class\"]).agg({\"SM_QC_PF\": \"sum\"})\n",
    "#int_pp_pass_totals = int_pp_pass.groupby([\"Internal version\", \"post patch class\"]).agg({\"SM_QC_PF\": \"sum\"})\n",
    "int_pp_pass_pct = int_pp_pass.div(int_pp, level='Internal version') * 100\n",
    "#type(int_pp_pass_pct)\n",
    "int_pp_pass_pct[\"totals\"] = int_pp[\"SM_QC_PF\"]\n",
    "int_pp_pass_pct = int_pp_pass_pct.reset_index()\n",
    "int_pp_pass_pct = int_pp_pass_pct.groupby(\"Internal version\")\n",
    "#int_pp_pass_pct = int_pp_pass_pct.rename(columns = {'post patch class': 'Post patch outcome', 'SM_QC_PF': 'SM_QC_pass_pct'})\n",
    "#int_pp_pass_pct = int_pp_pass_pct.rename(columns = {'SM_QC_PF': 'SM_QC pass percentage'})\n",
    "#int_pp_pass_pct = int_pp_pass_pct.reindex([0,5,1,6,2,7,3,8,4,9])\n",
    "std_group = int_pp_pass_pct.get_group(\"AiV2\")\n",
    "alexa_group = int_pp_pass_pct.get_group(\"AiV2-50uM alexa 488\")\n",
    "print std_group\n",
    "print alexa_group\n",
    "int_pp_pass_pct\n",
    "#std_pp_pass_pct = int_pp_pass_pct[int_pp_pass_pct[\"Internal version\"] == \"AiV2\"]\n",
    "#alexa_pp_pass_pct = int_pp_pass_pct[int_pp_pass_pct[\"Internal version\"] == \"AiV2-50uM alexa 488\"]"
   ]
  },
  {
   "cell_type": "code",
   "execution_count": 103,
   "metadata": {
    "collapsed": false
   },
   "outputs": [
    {
     "data": {
      "image/png": "[encoded data removed]",
      "text/plain": [
       "<matplotlib.figure.Figure at 0xc66bba8>"
      ]
     },
     "metadata": {},
     "output_type": "display_data"
    }
   ],
   "source": [
    "n_groups = 5\n",
    "\n",
    "standard = list(std_group[\"SM_QC_PF\"])\n",
    "std_tots = list(std_group[\"totals\"])\n",
    "alexa = list(alexa_group[\"SM_QC_PF\"])\n",
    "alexa_tots = list(alexa_group[\"totals\"])\n",
    "#print standard\n",
    "fig,ax = plt.subplots()\n",
    "index = np.arange(n_groups)\n",
    "#print index\n",
    "bar_width = 0.25\n",
    "#print std_tots\n",
    "\n",
    "rects1 = plt.bar(index, standard, bar_width, color='b', label='AiV2')\n",
    "for ii,rect in enumerate(rects1):\n",
    "    height = rect.get_height()\n",
    "    plt.text(rect.get_x()+rect.get_width()-.125, 1.01*height, std_tots[ii], ha='center')\n",
    "\n",
    "rects2 = plt.bar(index+bar_width, alexa, bar_width, color='g', label='AiV2-50uM alexa 488')\n",
    "for ii,rect in enumerate(rects2):\n",
    "    height = rect.get_height()\n",
    "    plt.text(rect.get_x()+rect.get_width()-.125, 1.01*height, alexa_tots[ii], ha = 'center')\n",
    "\n",
    "plt.title(\"Smarter QC Pass % vs. Post Patch Outcome\")\n",
    "plt.xlabel('Post patch outcome')\n",
    "plt.ylabel('SM_QC pass percent')\n",
    "axes = plt.gca()\n",
    "axes.set_ylim([0,120])\n",
    "plt.xticks(index + bar_width, ('Entire cell', 'No Seal', 'Nucleated', 'Outside out', 'Partial nucleated'))\n",
    "plt.legend()\n",
    "plt.tight_layout()\n",
    "plt.savefig('SM_QC_pass_vs_postpatch_by_internal_version.png', dpi=300)"
   ]
  },
  {
   "cell_type": "code",
   "execution_count": 104,
   "metadata": {
    "collapsed": false
   },
   "outputs": [
    {
     "data": {
      "text/html": [
       "<div>\n",
       "<table border=\"1\" class=\"dataframe\">\n",
       "  <thead>\n",
       "    <tr style=\"text-align: right;\">\n",
       "      <th></th>\n",
       "      <th>SM_QC_PF</th>\n",
       "      <th>post patch class</th>\n",
       "    </tr>\n",
       "    <tr>\n",
       "      <th>Internal version</th>\n",
       "      <th></th>\n",
       "      <th></th>\n",
       "    </tr>\n",
       "  </thead>\n",
       "  <tbody>\n",
       "    <tr>\n",
       "      <th>AiV2</th>\n",
       "      <td>749</td>\n",
       "      <td>749</td>\n",
       "    </tr>\n",
       "    <tr>\n",
       "      <th>AiV2-50uM alexa 488</th>\n",
       "      <td>282</td>\n",
       "      <td>282</td>\n",
       "    </tr>\n",
       "  </tbody>\n",
       "</table>\n",
       "</div>"
      ],
      "text/plain": [
       "                     SM_QC_PF  post patch class\n",
       "Internal version                               \n",
       "AiV2                      749               749\n",
       "AiV2-50uM alexa 488       282               282"
      ]
     },
     "execution_count": 104,
     "metadata": {},
     "output_type": "execute_result"
    }
   ],
   "source": [
    "internal = result1.groupby(['Internal version']).count()\n",
    "internal"
   ]
  },
  {
   "cell_type": "code",
   "execution_count": 105,
   "metadata": {
    "collapsed": false
   },
   "outputs": [
    {
     "data": {
      "text/html": [
       "<div>\n",
       "<table border=\"1\" class=\"dataframe\">\n",
       "  <thead>\n",
       "    <tr style=\"text-align: right;\">\n",
       "      <th></th>\n",
       "      <th>SM_QC_PF</th>\n",
       "      <th>post patch class</th>\n",
       "    </tr>\n",
       "    <tr>\n",
       "      <th>Internal version</th>\n",
       "      <th></th>\n",
       "      <th></th>\n",
       "    </tr>\n",
       "  </thead>\n",
       "  <tbody>\n",
       "    <tr>\n",
       "      <th>AiV2</th>\n",
       "      <td>661</td>\n",
       "      <td>661</td>\n",
       "    </tr>\n",
       "    <tr>\n",
       "      <th>AiV2-50uM alexa 488</th>\n",
       "      <td>209</td>\n",
       "      <td>209</td>\n",
       "    </tr>\n",
       "  </tbody>\n",
       "</table>\n",
       "</div>"
      ],
      "text/plain": [
       "                     SM_QC_PF  post patch class\n",
       "Internal version                               \n",
       "AiV2                      661               661\n",
       "AiV2-50uM alexa 488       209               209"
      ]
     },
     "execution_count": 105,
     "metadata": {},
     "output_type": "execute_result"
    }
   ],
   "source": [
    "internal_pass = pass_only(result1)\n",
    "internal_pass = internal_pass.groupby(['Internal version']).count()\n",
    "internal_pass"
   ]
  },
  {
   "cell_type": "code",
   "execution_count": 106,
   "metadata": {
    "collapsed": false
   },
   "outputs": [
    {
     "data": {
      "text/html": [
       "<div>\n",
       "<table border=\"1\" class=\"dataframe\">\n",
       "  <thead>\n",
       "    <tr style=\"text-align: right;\">\n",
       "      <th></th>\n",
       "      <th>Internal version</th>\n",
       "      <th>SM_QC_PF</th>\n",
       "    </tr>\n",
       "  </thead>\n",
       "  <tbody>\n",
       "    <tr>\n",
       "      <th>0</th>\n",
       "      <td>AiV2</td>\n",
       "      <td>88.251001</td>\n",
       "    </tr>\n",
       "    <tr>\n",
       "      <th>1</th>\n",
       "      <td>AiV2-50uM alexa 488</td>\n",
       "      <td>74.113475</td>\n",
       "    </tr>\n",
       "  </tbody>\n",
       "</table>\n",
       "</div>"
      ],
      "text/plain": [
       "      Internal version   SM_QC_PF\n",
       "0                 AiV2  88.251001\n",
       "1  AiV2-50uM alexa 488  74.113475"
      ]
     },
     "execution_count": 106,
     "metadata": {},
     "output_type": "execute_result"
    }
   ],
   "source": [
    "internal_pass_pct = internal_pass.div(internal, level='Internal version')*100\n",
    "internal_pass_pct = internal_pass_pct.drop('post patch class', 1)\n",
    "internal_pass_pct = internal_pass_pct.reset_index()\n",
    "internal_pass_pct"
   ]
  },
  {
   "cell_type": "code",
   "execution_count": 107,
   "metadata": {
    "collapsed": false
   },
   "outputs": [
    {
     "data": {
      "text/plain": [
       "<matplotlib.text.Text at 0xc8f4dd8>"
      ]
     },
     "execution_count": 107,
     "metadata": {},
     "output_type": "execute_result"
    },
    {
     "data": {
      "image/png": "[encoded data removed]",
      "text/plain": [
       "<matplotlib.figure.Figure at 0xc91cac8>"
      ]
     },
     "metadata": {},
     "output_type": "display_data"
    }
   ],
   "source": [
    "#internal_pass_pct = sns.load_dataset('internal_pass_pct')\n",
    "#ax = sns.barplot(x='Internal version', y = 'SM_QC_PF', data='internal_pass_pct')\n",
    "fig, ax = plt.subplots()\n",
    "r = [1,2]\n",
    "internal = list(internal_pass_pct['Internal version'])\n",
    "pass_rate = list(internal_pass_pct['SM_QC_PF'])\n",
    "bar_width = 0.5\n",
    "pcts = plt.bar(r, pass_rate, bar_width)\n",
    "pcts[1].set_color('g')\n",
    "plt.xticks(r, internal)\n",
    "plt.xlabel('Internal Version')\n",
    "plt.ylabel('Smarter QC Pass Percentage')"
   ]
  },
  {
   "cell_type": "code",
   "execution_count": 231,
   "metadata": {
    "collapsed": false
   },
   "outputs": [
    {
     "data": {
      "image/png": "[encoded data removed]",
      "text/plain": [
       "<matplotlib.figure.Figure at 0xdf1cc88>"
      ]
     },
     "metadata": {},
     "output_type": "display_data"
    }
   ],
   "source": [
    "\n",
    "ax = int_pp_pass_pct.unstack(level=0).plot(kind='bar', subplots=False)\n",
    "for p in ax.patches:\n",
    "    ax.annotate(str(p.get_height()), (p.get_x()*1.005, p.get_height()*1.005))"
   ]
  },
  {
   "cell_type": "code",
   "execution_count": null,
   "metadata": {
    "collapsed": true
   },
   "outputs": [],
   "source": [
    "internal_postpatch_passpct = sns.barplot(x = 'post patch class', y = 'SM_QC_PF', hue='Internal version',  data=int_pp_pass_pct)   \n",
    "internal_postpatch_passpct.set(ylabel = 'SM_QC pass %')\n",
    "plt.legend(loc = 'upper right')\n",
    "plt.title('Smarter QC Pass % vs Post Patch Outcome')\n",
    "#y = int_pp_pass_pct[\"totals\"]\n",
    "for index, row in int_pp_pass_pct.iterrows():\n",
    "    internal_postpatch_passpct.text(row.name, row.SM_QC_PF, round(row.totals,2), color='black', ha='center')\n",
    "#for i, v in enumerate(int_pp_pass_pct[\"totals\"]):\n",
    "    #internal_postpatch_passpct.text(v, i, str(v), color = 'black')\n",
    "    \n",
    "    \n",
    "    \n",
    "    \n",
    "    \n",
    "    \n",
    "    \n",
    "    \n",
    "#plt.legend(bbox_to_anchor=(1.05,1), loc=2, borderaxespad=0.)\n",
    "plt.savefig('SM_QC_pass_vs_postpatch_by_internal_version.png', dpi=300)\n",
    "#for item in internal_postpatch_passpct.get_xticklables():\n",
    "    #item.set_rotation(90)"
   ]
  },
  {
   "cell_type": "code",
   "execution_count": null,
   "metadata": {
    "collapsed": true
   },
   "outputs": [],
   "source": [
    "plt.table(cellText = int_pp_summary.values,\n",
    "         rowLabels=int_pp_summary.index,\n",
    "         colLabels=int_pp_summary.columns,\n",
    "         cellLoc='center', rowLoc='center',loc='top')"
   ]
  },
  {
   "cell_type": "code",
   "execution_count": null,
   "metadata": {
    "collapsed": true
   },
   "outputs": [],
   "source": [
    "print result[\"SM_QC_PF\"].value_counts()\n",
    "print result[\"Internal version\"].value_counts()"
   ]
  },
  {
   "cell_type": "code",
   "execution_count": null,
   "metadata": {
    "collapsed": true
   },
   "outputs": [],
   "source": [
    "result.dropna(subset = [\"SM_QC_PF\"], inplace=True)\n",
    "result = result[result[\"SM_QC_PF\"] != 'na']\n",
    "standard = \"AiV2\"\n",
    "alexa = \"AiV2-50uM alexa 488\"\n",
    "#post_patch_condition = ['Nucleated', \"Partial nucleated\", \"Outside out\", \"No seal\", \"Entire cell\"]\n",
    "def pass_pct_results(internal, postpatch):\n",
    "    int_ver = gen_filter(result, \"Internal version\", internal)\n",
    "    #int_ver_count = int_ver[\"Post patch?\"].count\n",
    "    int_ver = int_ver[(int_ver[\"User\"] == \"P2\") | (int_ver[\"User\"] == \"P8\")]\n",
    "    #for n in post_patch_condition:\n",
    "    post_patch = gen_filter(int_ver,\"post patch class\", postpatch)\n",
    "    post_patch_pass = pass_only(post_patch)\n",
    "    post_patch_pass_count = get_count(post_patch_pass)\n",
    "    post_patch_pass_pct = calc_pct(post_patch_pass, post_patch)\n",
    "    #print internal, n,': ', post_patch_pass_pct\n",
    "    return post_patch_pass_pct, post_patch_pass_count\n",
    "    #if internal == standard:\n",
    "#pass_pct_results(alexa)\n",
    "#pass_pct_results(standard)\n",
    "x1 = \"Standard Nucleated\"\n",
    "y1 = pass_pct_results(standard, \"Nucleated\")\n",
    "x2 = \"Alexa Nucleated\"\n",
    "y2 = pass_pct_results(alexa, \"Nucleated\")\n",
    "x3 = \"Standard Partial Nucleated\"\n",
    "y3 = pass_pct_results(standard, \"Partial nucleated\")\n",
    "x4 = \"Alexa Partial Nucleated\"\n",
    "y4 = pass_pct_results(alexa, \"Partial nucleated\")\n",
    "x5 = \"Standard Outside Out\"\n",
    "y5 = pass_pct_results(standard, \"Outside out\")\n",
    "x6 = \"Alexa Outside Out\"\n",
    "y6 = pass_pct_results(alexa, \"Outside out\")\n",
    "\n",
    "#std_lbl = (x1, x3)\n",
    "#alx_lbl = (x2, x4)\n",
    "#N = 2\n",
    "#standard_postpatch = (y1, y3)\n",
    "#alexa_postpatch = (y2, y4)\n",
    "#ind = np.arange(N)\n",
    "#width = 0.35\n",
    "\n",
    "#fig, ax = plt.subplots()\n",
    "#rects1 = ax.bar(ind, standard_postpatch, width, color = 'y')\n",
    "\n",
    "print x1, y1\n",
    "print x2, y2\n",
    "print x3, y3\n",
    "print x4, y4\n",
    "print x5, y5\n",
    "print x6, y6\n"
   ]
  },
  {
   "cell_type": "code",
   "execution_count": null,
   "metadata": {
    "collapsed": true
   },
   "outputs": [],
   "source": [
    "fig, axs = plt.subplots()\n",
    "axs[0].bar(x1, y1)\n",
    "#axs[1].scatter(x1, y1)\n",
    "#axs[2].plot(x1, y1)"
   ]
  },
  {
   "cell_type": "markdown",
   "metadata": {},
   "source": [
    "# Resolution Index vs post patch condition for pre and post alexa experiments"
   ]
  },
  {
   "cell_type": "code",
   "execution_count": 73,
   "metadata": {
    "collapsed": true
   },
   "outputs": [],
   "source": [
    "result.dropna(subset = [\"Resolution index\"], inplace=True)"
   ]
  },
  {
   "cell_type": "code",
   "execution_count": 74,
   "metadata": {
    "collapsed": false
   },
   "outputs": [
    {
     "data": {
      "text/plain": [
       "<matplotlib.legend.Legend at 0xbe4b860>"
      ]
     },
     "execution_count": 74,
     "metadata": {},
     "output_type": "execute_result"
    },
    {
     "data": {
      "image/png": "[encoded data removed]",
      "text/plain": [
       "<matplotlib.figure.Figure at 0x11fc37b8>"
      ]
     },
     "metadata": {},
     "output_type": "display_data"
    }
   ],
   "source": [
    "sns.swarmplot(x = \"post patch class\", y = \"Resolution index\", hue = \"Internal version\", data=result)\n",
    "plt.legend(bbox_to_anchor=(1.05,1), loc=2, borderaxespad=0.)"
   ]
  },
  {
   "cell_type": "code",
   "execution_count": 167,
   "metadata": {
    "collapsed": false
   },
   "outputs": [
    {
     "data": {
      "text/plain": [
       "AiV2                   1038\n",
       "AiV2-50uM alexa 488      22\n",
       "Name: Internal version, dtype: int64"
      ]
     },
     "execution_count": 167,
     "metadata": {},
     "output_type": "execute_result"
    }
   ],
   "source": [
    "result[\"Internal version\"].value_counts()"
   ]
  },
  {
   "cell_type": "code",
   "execution_count": 168,
   "metadata": {
    "collapsed": false
   },
   "outputs": [
    {
     "ename": "ValueError",
     "evalue": "Series lengths must match to compare",
     "output_type": "error",
     "traceback": [
      "\u001b[1;31m---------------------------------------------------------------------------\u001b[0m",
      "\u001b[1;31mValueError\u001b[0m                                Traceback (most recent call last)",
      "\u001b[1;32m<ipython-input-168-b95cc187170d>\u001b[0m in \u001b[0;36m<module>\u001b[1;34m()\u001b[0m\n\u001b[1;32m----> 1\u001b[1;33m \u001b[0mpost_alexa\u001b[0m \u001b[1;33m=\u001b[0m \u001b[0mgen_filter\u001b[0m\u001b[1;33m(\u001b[0m\u001b[0mresult\u001b[0m\u001b[1;33m,\u001b[0m \u001b[1;34m'Internal version'\u001b[0m\u001b[1;33m,\u001b[0m \u001b[0malexa\u001b[0m\u001b[1;33m)\u001b[0m\u001b[1;33m\u001b[0m\u001b[0m\n\u001b[0m\u001b[0;32m      2\u001b[0m \u001b[0mpost_alexa_count\u001b[0m \u001b[1;33m=\u001b[0m \u001b[0mget_count\u001b[0m\u001b[1;33m(\u001b[0m\u001b[0mpost_alexa\u001b[0m\u001b[1;33m)\u001b[0m\u001b[1;33m\u001b[0m\u001b[0m\n\u001b[0;32m      3\u001b[0m \u001b[0mpost_alexa_count\u001b[0m\u001b[1;33m\u001b[0m\u001b[0m\n",
      "\u001b[1;32m<ipython-input-6-059ee923c2df>\u001b[0m in \u001b[0;36mgen_filter\u001b[1;34m(df, col, cond)\u001b[0m\n\u001b[0;32m     22\u001b[0m \u001b[1;33m\u001b[0m\u001b[0m\n\u001b[0;32m     23\u001b[0m \u001b[1;32mdef\u001b[0m \u001b[0mgen_filter\u001b[0m\u001b[1;33m(\u001b[0m\u001b[0mdf\u001b[0m\u001b[1;33m,\u001b[0m \u001b[0mcol\u001b[0m\u001b[1;33m,\u001b[0m \u001b[0mcond\u001b[0m\u001b[1;33m)\u001b[0m\u001b[1;33m:\u001b[0m\u001b[1;33m\u001b[0m\u001b[0m\n\u001b[1;32m---> 24\u001b[1;33m     \u001b[0mfiltr\u001b[0m \u001b[1;33m=\u001b[0m \u001b[0mdf\u001b[0m\u001b[1;33m[\u001b[0m\u001b[0mdf\u001b[0m\u001b[1;33m[\u001b[0m\u001b[0mcol\u001b[0m\u001b[1;33m]\u001b[0m \u001b[1;33m==\u001b[0m \u001b[0mcond\u001b[0m\u001b[1;33m]\u001b[0m\u001b[1;33m\u001b[0m\u001b[0m\n\u001b[0m\u001b[0;32m     25\u001b[0m     \u001b[1;32mreturn\u001b[0m \u001b[0mfiltr\u001b[0m\u001b[1;33m\u001b[0m\u001b[0m\n",
      "\u001b[1;32mC:\\Anaconda2\\lib\\site-packages\\pandas\\core\\ops.pyc\u001b[0m in \u001b[0;36mwrapper\u001b[1;34m(self, other, axis)\u001b[0m\n\u001b[0;32m    733\u001b[0m             \u001b[0mname\u001b[0m \u001b[1;33m=\u001b[0m \u001b[0m_maybe_match_name\u001b[0m\u001b[1;33m(\u001b[0m\u001b[0mself\u001b[0m\u001b[1;33m,\u001b[0m \u001b[0mother\u001b[0m\u001b[1;33m)\u001b[0m\u001b[1;33m\u001b[0m\u001b[0m\n\u001b[0;32m    734\u001b[0m             \u001b[1;32mif\u001b[0m \u001b[0mlen\u001b[0m\u001b[1;33m(\u001b[0m\u001b[0mself\u001b[0m\u001b[1;33m)\u001b[0m \u001b[1;33m!=\u001b[0m \u001b[0mlen\u001b[0m\u001b[1;33m(\u001b[0m\u001b[0mother\u001b[0m\u001b[1;33m)\u001b[0m\u001b[1;33m:\u001b[0m\u001b[1;33m\u001b[0m\u001b[0m\n\u001b[1;32m--> 735\u001b[1;33m                 \u001b[1;32mraise\u001b[0m \u001b[0mValueError\u001b[0m\u001b[1;33m(\u001b[0m\u001b[1;34m'Series lengths must match to compare'\u001b[0m\u001b[1;33m)\u001b[0m\u001b[1;33m\u001b[0m\u001b[0m\n\u001b[0m\u001b[0;32m    736\u001b[0m             return self._constructor(na_op(self.values, other.values),\n\u001b[0;32m    737\u001b[0m                                      index=self.index, name=name)\n",
      "\u001b[1;31mValueError\u001b[0m: Series lengths must match to compare"
     ]
    }
   ],
   "source": [
    "post_alexa = gen_filter(result, 'Internal version', alexa)\n",
    "post_alexa_count = get_count(post_alexa)\n",
    "post_alexa_count"
   ]
  },
  {
   "cell_type": "code",
   "execution_count": null,
   "metadata": {
    "collapsed": true
   },
   "outputs": [],
   "source": [
    "sns.swarmplot(x = \"post patch class\", y = \"Resolution index\", data=post_alexa)"
   ]
  },
  {
   "cell_type": "code",
   "execution_count": null,
   "metadata": {
    "collapsed": true
   },
   "outputs": [],
   "source": [
    "pre_alexa = gen_filter(result, 'Internal version', standard)\n",
    "pre_alexa_count = get_count(pre_alexa)\n",
    "pre_alexa_count"
   ]
  },
  {
   "cell_type": "code",
   "execution_count": null,
   "metadata": {
    "collapsed": true
   },
   "outputs": [],
   "source": [
    "sns.swarmplot(x = \"post patch class\", y = \"Resolution index\", data=pre_alexa)"
   ]
  },
  {
   "cell_type": "code",
   "execution_count": null,
   "metadata": {
    "collapsed": true
   },
   "outputs": [],
   "source": []
  },
  {
   "cell_type": "code",
   "execution_count": null,
   "metadata": {
    "collapsed": true
   },
   "outputs": [],
   "source": []
  },
  {
   "cell_type": "code",
   "execution_count": null,
   "metadata": {
    "collapsed": true
   },
   "outputs": [],
   "source": []
  },
  {
   "cell_type": "code",
   "execution_count": null,
   "metadata": {
    "collapsed": true
   },
   "outputs": [],
   "source": []
  },
  {
   "cell_type": "code",
   "execution_count": null,
   "metadata": {
    "collapsed": true
   },
   "outputs": [],
   "source": []
  },
  {
   "cell_type": "code",
   "execution_count": null,
   "metadata": {
    "collapsed": true
   },
   "outputs": [],
   "source": []
  },
  {
   "cell_type": "code",
   "execution_count": null,
   "metadata": {
    "collapsed": true
   },
   "outputs": [],
   "source": []
  },
  {
   "cell_type": "code",
   "execution_count": null,
   "metadata": {
    "collapsed": true
   },
   "outputs": [],
   "source": []
  },
  {
   "cell_type": "code",
   "execution_count": null,
   "metadata": {
    "collapsed": true
   },
   "outputs": [],
   "source": []
  }
 ],
 "metadata": {
  "anaconda-cloud": {},
  "kernelspec": {
   "display_name": "Python 2",
   "language": "python",
   "name": "python2"
  },
  "language_info": {
   "codemirror_mode": {
    "name": "ipython",
    "version": 2
   },
   "file_extension": ".py",
   "mimetype": "text/x-python",
   "name": "python",
   "nbconvert_exporter": "python",
   "pygments_lexer": "ipython2",
   "version": "2.7.13"
  }
 },
 "nbformat": 4,
 "nbformat_minor": 2
}
