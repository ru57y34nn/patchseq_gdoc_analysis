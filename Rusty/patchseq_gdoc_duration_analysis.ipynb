{
 "cells": [
  {
   "cell_type": "code",
   "execution_count": 1,
   "metadata": {
    "collapsed": true
   },
   "outputs": [],
   "source": [
    "import csv\n",
    "import pandas as pd\n",
    "import numpy as np\n",
    "%matplotlib inline\n",
    "import matplotlib.pyplot as plt\n",
    "import matplotlib.patheffects as pe\n",
    "from datetime import datetime"
   ]
  },
  {
   "cell_type": "code",
   "execution_count": 2,
   "metadata": {
    "collapsed": false
   },
   "outputs": [],
   "source": [
    "initial = pd.read_csv('C:/users/rusty/documents/github/patchseq_gdoc_analysis/patch_seq_log_mouse.csv')"
   ]
  },
  {
   "cell_type": "code",
   "execution_count": 3,
   "metadata": {
    "collapsed": false,
    "scrolled": false
   },
   "outputs": [
    {
     "name": "stderr",
     "output_type": "stream",
     "text": [
      "C:\\ProgramData\\Anaconda2\\lib\\site-packages\\ipykernel\\__main__.py:2: SettingWithCopyWarning: \n",
      "A value is trying to be set on a copy of a slice from a DataFrame.\n",
      "Try using .loc[row_indexer,col_indexer] = value instead\n",
      "\n",
      "See the caveats in the documentation: http://pandas.pydata.org/pandas-docs/stable/indexing.html#indexing-view-versus-copy\n",
      "  from ipykernel import kernelapp as app\n",
      "C:\\ProgramData\\Anaconda2\\lib\\site-packages\\ipykernel\\__main__.py:3: SettingWithCopyWarning: \n",
      "A value is trying to be set on a copy of a slice from a DataFrame\n",
      "\n",
      "See the caveats in the documentation: http://pandas.pydata.org/pandas-docs/stable/indexing.html#indexing-view-versus-copy\n",
      "  app.launch_new_instance()\n",
      "C:\\ProgramData\\Anaconda2\\lib\\site-packages\\ipykernel\\__main__.py:4: SettingWithCopyWarning: \n",
      "A value is trying to be set on a copy of a slice from a DataFrame.\n",
      "Try using .loc[row_indexer,col_indexer] = value instead\n",
      "\n",
      "See the caveats in the documentation: http://pandas.pydata.org/pandas-docs/stable/indexing.html#indexing-view-versus-copy\n",
      "C:\\ProgramData\\Anaconda2\\lib\\site-packages\\ipykernel\\__main__.py:5: SettingWithCopyWarning: \n",
      "A value is trying to be set on a copy of a slice from a DataFrame.\n",
      "Try using .loc[row_indexer,col_indexer] = value instead\n",
      "\n",
      "See the caveats in the documentation: http://pandas.pydata.org/pandas-docs/stable/indexing.html#indexing-view-versus-copy\n",
      "C:\\ProgramData\\Anaconda2\\lib\\site-packages\\ipykernel\\__main__.py:6: SettingWithCopyWarning: \n",
      "A value is trying to be set on a copy of a slice from a DataFrame.\n",
      "Try using .loc[row_indexer,col_indexer] = value instead\n",
      "\n",
      "See the caveats in the documentation: http://pandas.pydata.org/pandas-docs/stable/indexing.html#indexing-view-versus-copy\n",
      "C:\\ProgramData\\Anaconda2\\lib\\site-packages\\ipykernel\\__main__.py:7: SettingWithCopyWarning: \n",
      "A value is trying to be set on a copy of a slice from a DataFrame.\n",
      "Try using .loc[row_indexer,col_indexer] = value instead\n",
      "\n",
      "See the caveats in the documentation: http://pandas.pydata.org/pandas-docs/stable/indexing.html#indexing-view-versus-copy\n",
      "C:\\ProgramData\\Anaconda2\\lib\\site-packages\\ipykernel\\__main__.py:8: SettingWithCopyWarning: \n",
      "A value is trying to be set on a copy of a slice from a DataFrame.\n",
      "Try using .loc[row_indexer,col_indexer] = value instead\n",
      "\n",
      "See the caveats in the documentation: http://pandas.pydata.org/pandas-docs/stable/indexing.html#indexing-view-versus-copy\n"
     ]
    },
    {
     "data": {
      "text/html": [
       "<div>\n",
       "<table border=\"1\" class=\"dataframe\">\n",
       "  <thead>\n",
       "    <tr style=\"text-align: right;\">\n",
       "      <th></th>\n",
       "      <th>Date</th>\n",
       "      <th>File</th>\n",
       "      <th>Post patch?</th>\n",
       "      <th>Post patch pipette R</th>\n",
       "      <th>PCR cycles</th>\n",
       "      <th>Time spent extracting cytosol</th>\n",
       "      <th>patch duration</th>\n",
       "      <th>&gt;400</th>\n",
       "      <th>SM_QC_PF</th>\n",
       "    </tr>\n",
       "  </thead>\n",
       "  <tbody>\n",
       "    <tr>\n",
       "      <th>4968</th>\n",
       "      <td>2017-04-19</td>\n",
       "      <td>Sst-IRES-Cre;Ai14-313562.03.02.01</td>\n",
       "      <td>Outside-Out</td>\n",
       "      <td>NaN</td>\n",
       "      <td>21.0</td>\n",
       "      <td>1.800000</td>\n",
       "      <td>4.333333</td>\n",
       "      <td>8.0</td>\n",
       "      <td>fail</td>\n",
       "    </tr>\n",
       "    <tr>\n",
       "      <th>4969</th>\n",
       "      <td>2017-04-19</td>\n",
       "      <td>Sst-IRES-Cre;Ai14-313562.03.02.02</td>\n",
       "      <td>Outside-Out</td>\n",
       "      <td>NaN</td>\n",
       "      <td>21.0</td>\n",
       "      <td>1.666667</td>\n",
       "      <td>6.566667</td>\n",
       "      <td>461.0</td>\n",
       "      <td>pass</td>\n",
       "    </tr>\n",
       "    <tr>\n",
       "      <th>4970</th>\n",
       "      <td>2017-04-19</td>\n",
       "      <td>Sst-IRES-Cre;Ai14-313562.04.02.01</td>\n",
       "      <td>No-Seal</td>\n",
       "      <td>NaN</td>\n",
       "      <td>21.0</td>\n",
       "      <td>1.433333</td>\n",
       "      <td>8.033333</td>\n",
       "      <td>1.0</td>\n",
       "      <td>fail</td>\n",
       "    </tr>\n",
       "    <tr>\n",
       "      <th>4971</th>\n",
       "      <td>2017-04-19</td>\n",
       "      <td>Sst-IRES-Cre;Ai14-313562.04.02.02</td>\n",
       "      <td>Nucleated</td>\n",
       "      <td>NaN</td>\n",
       "      <td>21.0</td>\n",
       "      <td>2.350000</td>\n",
       "      <td>7.416667</td>\n",
       "      <td>979.0</td>\n",
       "      <td>pass</td>\n",
       "    </tr>\n",
       "    <tr>\n",
       "      <th>4972</th>\n",
       "      <td>2017-04-19</td>\n",
       "      <td>Sst-IRES-Cre;Ai14-313562.04.02.03</td>\n",
       "      <td>Outside-Out</td>\n",
       "      <td>NaN</td>\n",
       "      <td>21.0</td>\n",
       "      <td>2.216667</td>\n",
       "      <td>4.166667</td>\n",
       "      <td>456.0</td>\n",
       "      <td>pass</td>\n",
       "    </tr>\n",
       "  </tbody>\n",
       "</table>\n",
       "</div>"
      ],
      "text/plain": [
       "           Date                               File  Post patch?  \\\n",
       "4968 2017-04-19  Sst-IRES-Cre;Ai14-313562.03.02.01  Outside-Out   \n",
       "4969 2017-04-19  Sst-IRES-Cre;Ai14-313562.03.02.02  Outside-Out   \n",
       "4970 2017-04-19  Sst-IRES-Cre;Ai14-313562.04.02.01      No-Seal   \n",
       "4971 2017-04-19  Sst-IRES-Cre;Ai14-313562.04.02.02    Nucleated   \n",
       "4972 2017-04-19  Sst-IRES-Cre;Ai14-313562.04.02.03  Outside-Out   \n",
       "\n",
       "      Post patch pipette R  PCR cycles  Time spent extracting cytosol  \\\n",
       "4968                   NaN        21.0                       1.800000   \n",
       "4969                   NaN        21.0                       1.666667   \n",
       "4970                   NaN        21.0                       1.433333   \n",
       "4971                   NaN        21.0                       2.350000   \n",
       "4972                   NaN        21.0                       2.216667   \n",
       "\n",
       "      patch duration   >400 SM_QC_PF  \n",
       "4968        4.333333    8.0     fail  \n",
       "4969        6.566667  461.0     pass  \n",
       "4970        8.033333    1.0     fail  \n",
       "4971        7.416667  979.0     pass  \n",
       "4972        4.166667  456.0     pass  "
      ]
     },
     "execution_count": 3,
     "metadata": {},
     "output_type": "execute_result"
    }
   ],
   "source": [
    "ps = initial[[\"Date\", \"File\", \"Post patch?\", \"Post patch pipette R\", \"PCR cycles\", \"Time spent extracting cytosol\", \"patch duration\", \">400\", \"SM_QC_PF\", \"Bad dates\"]]\n",
    "ps[\"Time spent extracting cytosol\"] = pd.to_numeric(ps[\"Time spent extracting cytosol\"].str.replace(' ',''), errors ='coerce')\n",
    "ps.dropna(subset = [\"Post patch?\", \"Time spent extracting cytosol\", \"patch duration\", \"SM_QC_PF\"], inplace = True)\n",
    "ps[\"SM_QC_PF\"] = ps[\"SM_QC_PF\"].astype(\"category\")\n",
    "ps[\"Post patch?\"] = ps[\"Post patch?\"].astype(\"category\")\n",
    "ps[\"patch duration\"] = pd.to_numeric(ps[\"patch duration\"].str.replace(' ',''), errors ='force')\n",
    "ps[\">400\"] = pd.to_numeric(ps[\">400\"].str.replace(' ',''), errors ='force')\n",
    "ps[\"Date\"] = pd.to_datetime(ps[\"Date\"], format = '%y%m%d')\n",
    "ps = ps[ps[\"PCR cycles\"] == 21]\n",
    "ps = ps[ps[\"SM_QC_PF\"] != \"cnt\"]\n",
    "ps = ps[ps[\"Bad dates\"] != \"x\"]\n",
    "ps = ps.drop(\"Bad dates\", 1)\n",
    "ps = ps[ps[\">400\"] < 8000]\n",
    "ps = ps[ps['Time spent extracting cytosol'] <= 10]\n",
    "ps.head()"
   ]
  },
  {
   "cell_type": "code",
   "execution_count": 4,
   "metadata": {
    "collapsed": false
   },
   "outputs": [
    {
     "name": "stdout",
     "output_type": "stream",
     "text": [
      "<class 'pandas.core.frame.DataFrame'>\n",
      "Int64Index: 1779 entries, 4968 to 7596\n",
      "Data columns (total 9 columns):\n",
      "Date                             1779 non-null datetime64[ns]\n",
      "File                             1779 non-null object\n",
      "Post patch?                      1779 non-null category\n",
      "Post patch pipette R             238 non-null float64\n",
      "PCR cycles                       1779 non-null float64\n",
      "Time spent extracting cytosol    1779 non-null float64\n",
      "patch duration                   1778 non-null float64\n",
      ">400                             1779 non-null float64\n",
      "SM_QC_PF                         1779 non-null category\n",
      "dtypes: category(2), datetime64[ns](1), float64(5), object(1)\n",
      "memory usage: 114.8+ KB\n"
     ]
    }
   ],
   "source": [
    "ps.info()"
   ]
  },
  {
   "cell_type": "code",
   "execution_count": 5,
   "metadata": {
    "collapsed": false
   },
   "outputs": [
    {
     "data": {
      "text/plain": [
       "Nucleated             713\n",
       "No-Seal               530\n",
       "Partial-Nucleus       193\n",
       "nucleus_present       124\n",
       "nucleus_absent         99\n",
       "Outside-Out            91\n",
       "Entire-Cell            14\n",
       "no_nucleus_visible      6\n",
       "entire_cell             5\n",
       "nucleus_visible         4\n",
       "outside-out             0\n",
       "nucelated               0\n",
       "nr                      0\n",
       "no-seal                 0\n",
       "no -seal                0\n",
       "Name: Post patch?, dtype: int64"
      ]
     },
     "execution_count": 5,
     "metadata": {},
     "output_type": "execute_result"
    }
   ],
   "source": [
    "ps[\"Post patch?\"].value_counts()"
   ]
  },
  {
   "cell_type": "markdown",
   "metadata": {},
   "source": [
    "# 4/20/2017 was first day of 21 PCR cycles.  Should be using PCR cycles column to do this filtering "
   ]
  },
  {
   "cell_type": "code",
   "execution_count": 6,
   "metadata": {
    "collapsed": false
   },
   "outputs": [],
   "source": [
    "#ps = ps[ps[\"Date\"] >= \"2017-04-20\"]\n",
    "#ps.head()\n",
    "#ps[\"Post patch?\"].value_counts()"
   ]
  },
  {
   "cell_type": "code",
   "execution_count": 74,
   "metadata": {
    "collapsed": true,
    "scrolled": true
   },
   "outputs": [],
   "source": [
    "#ps[\"Time spent extracting cytosol\"].sort_values()"
   ]
  },
  {
   "cell_type": "code",
   "execution_count": 75,
   "metadata": {
    "collapsed": true,
    "scrolled": true
   },
   "outputs": [],
   "source": [
    "#ps[\"Time spent extracting cytosol\"].value_counts()"
   ]
  },
  {
   "cell_type": "markdown",
   "metadata": {},
   "source": [
    "# Plot of >400bp concentration vs extraction time by post patch outcomes"
   ]
  },
  {
   "cell_type": "code",
   "execution_count": 76,
   "metadata": {
    "collapsed": false
   },
   "outputs": [
    {
     "data": {
      "image/png": "[encoded data removed]",
      "text/plain": [
       "<matplotlib.figure.Figure at 0xc8fb6d8>"
      ]
     },
     "metadata": {},
     "output_type": "display_data"
    }
   ],
   "source": [
    "mask1 = ps[\"Post patch?\"] == \"Outside-Out\"\n",
    "mask2 = ps[\"Post patch?\"] == \"Nucleated\"\n",
    "mask3 = ps[\"Post patch?\"] == \"No-Seal\"\n",
    "mask4 = ps[\"Post patch?\"] == \"Partial-Nucleus\"\n",
    "mask5 = ps[\"Post patch?\"] == \"Entire-Cell\"\n",
    "oo = ps[mask1]\n",
    "nu = ps[mask2]\n",
    "ns = ps[mask3]\n",
    "pn = ps[mask4]\n",
    "ec = ps[mask5]\n",
    "\n",
    "x1 = oo[\"Time spent extracting cytosol\"]\n",
    "y1 = oo[\">400\"]\n",
    "x2 = nu[\"Time spent extracting cytosol\"]\n",
    "y2 = nu[\">400\"]\n",
    "x3 = ns[\"Time spent extracting cytosol\"]\n",
    "y3 = ns[\">400\"]\n",
    "x4 = pn[\"Time spent extracting cytosol\"]\n",
    "y4 = pn[\">400\"]\n",
    "\n",
    "def make_plots(x,y,c,m):\n",
    "    plt.scatter(x,y,s=30,c=c,marker=m)\n",
    "\n",
    "make_plots(x1,y1,\"r\",\"s\")\n",
    "make_plots(x2,y2,\"g\",\"o\")\n",
    "make_plots(x3,y3,\"b\",\"x\")\n",
    "make_plots(x4,y4,\"y\",\"v\")\n",
    "\n",
    "plt.title('Extraction time vs Concentration (All samples)')\n",
    "plt.xlabel('Extraction time (min)')\n",
    "plt.ylabel('concentration (>400 bp)')\n",
    "\n",
    "def fit_plots(x,y,c):\n",
    "    z = np.polyfit(x,y,1)\n",
    "    p = np.poly1d(z)\n",
    "    plt.plot(x,p(x),c)\n",
    "    \n",
    "fit_plots(x1,y1,\"r\")\n",
    "fit_plots(x2,y2,\"g\")\n",
    "fit_plots(x3,y3,\"b\")\n",
    "fit_plots(x4,y4,\"y\")"
   ]
  },
  {
   "cell_type": "markdown",
   "metadata": {},
   "source": [
    "# Filtering down to SMQC passing samples only"
   ]
  },
  {
   "cell_type": "code",
   "execution_count": 77,
   "metadata": {
    "collapsed": false
   },
   "outputs": [
    {
     "data": {
      "text/html": [
       "<div>\n",
       "<table border=\"1\" class=\"dataframe\">\n",
       "  <thead>\n",
       "    <tr style=\"text-align: right;\">\n",
       "      <th></th>\n",
       "      <th>Date</th>\n",
       "      <th>File</th>\n",
       "      <th>Post patch?</th>\n",
       "      <th>Post patch pipette R</th>\n",
       "      <th>PCR cycles</th>\n",
       "      <th>Time spent extracting cytosol</th>\n",
       "      <th>patch duration</th>\n",
       "      <th>&gt;400</th>\n",
       "      <th>SM_QC_PF</th>\n",
       "    </tr>\n",
       "  </thead>\n",
       "  <tbody>\n",
       "    <tr>\n",
       "      <th>4969</th>\n",
       "      <td>2017-04-19</td>\n",
       "      <td>Sst-IRES-Cre;Ai14-313562.03.02.02</td>\n",
       "      <td>Outside-Out</td>\n",
       "      <td>NaN</td>\n",
       "      <td>21.0</td>\n",
       "      <td>1.666667</td>\n",
       "      <td>6.566667</td>\n",
       "      <td>461.0</td>\n",
       "      <td>pass</td>\n",
       "    </tr>\n",
       "    <tr>\n",
       "      <th>4971</th>\n",
       "      <td>2017-04-19</td>\n",
       "      <td>Sst-IRES-Cre;Ai14-313562.04.02.02</td>\n",
       "      <td>Nucleated</td>\n",
       "      <td>NaN</td>\n",
       "      <td>21.0</td>\n",
       "      <td>2.350000</td>\n",
       "      <td>7.416667</td>\n",
       "      <td>979.0</td>\n",
       "      <td>pass</td>\n",
       "    </tr>\n",
       "    <tr>\n",
       "      <th>4972</th>\n",
       "      <td>2017-04-19</td>\n",
       "      <td>Sst-IRES-Cre;Ai14-313562.04.02.03</td>\n",
       "      <td>Outside-Out</td>\n",
       "      <td>NaN</td>\n",
       "      <td>21.0</td>\n",
       "      <td>2.216667</td>\n",
       "      <td>4.166667</td>\n",
       "      <td>456.0</td>\n",
       "      <td>pass</td>\n",
       "    </tr>\n",
       "    <tr>\n",
       "      <th>4973</th>\n",
       "      <td>2017-04-19</td>\n",
       "      <td>Sst-IRES-Cre;Ai14-313562.04.02.04</td>\n",
       "      <td>Nucleated</td>\n",
       "      <td>NaN</td>\n",
       "      <td>21.0</td>\n",
       "      <td>2.183333</td>\n",
       "      <td>9.466667</td>\n",
       "      <td>1193.0</td>\n",
       "      <td>pass</td>\n",
       "    </tr>\n",
       "    <tr>\n",
       "      <th>4974</th>\n",
       "      <td>2017-04-19</td>\n",
       "      <td>Sst-IRES-Cre;Ai14-313562.04.02.05</td>\n",
       "      <td>No-Seal</td>\n",
       "      <td>NaN</td>\n",
       "      <td>21.0</td>\n",
       "      <td>1.883333</td>\n",
       "      <td>6.700000</td>\n",
       "      <td>1319.0</td>\n",
       "      <td>pass</td>\n",
       "    </tr>\n",
       "  </tbody>\n",
       "</table>\n",
       "</div>"
      ],
      "text/plain": [
       "           Date                               File  Post patch?  \\\n",
       "4969 2017-04-19  Sst-IRES-Cre;Ai14-313562.03.02.02  Outside-Out   \n",
       "4971 2017-04-19  Sst-IRES-Cre;Ai14-313562.04.02.02    Nucleated   \n",
       "4972 2017-04-19  Sst-IRES-Cre;Ai14-313562.04.02.03  Outside-Out   \n",
       "4973 2017-04-19  Sst-IRES-Cre;Ai14-313562.04.02.04    Nucleated   \n",
       "4974 2017-04-19  Sst-IRES-Cre;Ai14-313562.04.02.05      No-Seal   \n",
       "\n",
       "      Post patch pipette R  PCR cycles  Time spent extracting cytosol  \\\n",
       "4969                   NaN        21.0                       1.666667   \n",
       "4971                   NaN        21.0                       2.350000   \n",
       "4972                   NaN        21.0                       2.216667   \n",
       "4973                   NaN        21.0                       2.183333   \n",
       "4974                   NaN        21.0                       1.883333   \n",
       "\n",
       "      patch duration    >400 SM_QC_PF  \n",
       "4969        6.566667   461.0     pass  \n",
       "4971        7.416667   979.0     pass  \n",
       "4972        4.166667   456.0     pass  \n",
       "4973        9.466667  1193.0     pass  \n",
       "4974        6.700000  1319.0     pass  "
      ]
     },
     "execution_count": 77,
     "metadata": {},
     "output_type": "execute_result"
    }
   ],
   "source": [
    "ps_pass = ps[ps[\"SM_QC_PF\"] == \"pass\"]\n",
    "ps_pass.head()"
   ]
  },
  {
   "cell_type": "markdown",
   "metadata": {},
   "source": [
    "# Plot of >400bp concentration vs extraction time by post patch outcomes - SMQC passing samples only"
   ]
  },
  {
   "cell_type": "code",
   "execution_count": 7,
   "metadata": {
    "collapsed": true
   },
   "outputs": [],
   "source": [
    "def nucleated(x):\n",
    "    nucleus = x[(x[\"Post patch?\"] == \"Nucleated\") | (((x[\"Post patch?\"] == \"nucleus_visible\") | (x[\"Post patch?\"] == \"nucleus_present\")) & (x[\"Post patch pipette R\"] >= 500))]\n",
    "    return nucleus\n",
    "\n",
    "def partial_nucleated(y):\n",
    "    partial = y[(y[\"Post patch?\"] == 'Partial-Nucleus') | (((y['Post patch?'] == 'nucleus_present') | (y['Post patch?'] == 'nucleus_visible')) & (y[\"Post patch pipette R\"] <= 499))]\n",
    "    return partial\n",
    "\n",
    "def outside_out(z):\n",
    "    outside = z[(z[\"Post patch?\"] == 'Outside-Out') | (((z['Post patch?'] == 'nucleus_absent') | (z['Post patch?'] == 'no_nuclues_visible')) & (z['Post patch pipette R'] >= 500))]\n",
    "    return outside\n",
    "\n",
    "def no_seal(w): \n",
    "    no = w[(w[\"Post patch?\"] == 'No-Seal') | (((w['Post patch?'] == 'nucleus_absent') | (w['Post patch?'] == 'no_nucleus_visible')) & (w['Post patch pipette R'] <= 499))]\n",
    "    return no\n",
    "    \n",
    "def entire_cell(v):\n",
    "    entire = v[(v[\"Post patch?\"] == 'Entire-Cell') | (v['Post patch?'] == 'entire_cell')]\n",
    "    return entire"
   ]
  },
  {
   "cell_type": "code",
   "execution_count": 8,
   "metadata": {
    "collapsed": false
   },
   "outputs": [
    {
     "data": {
      "image/png": "[encoded data removed]",
      "text/plain": [
       "<matplotlib.figure.Figure at 0x9671278>"
      ]
     },
     "metadata": {},
     "output_type": "display_data"
    }
   ],
   "source": [
    "oo = outside_out(ps)\n",
    "nu = nucleated(ps)\n",
    "ns = no_seal(ps)\n",
    "pn = partial_nucleated(ps)\n",
    "ec = entire_cell(ps)\n",
    "\n",
    "x1 = oo[\"Time spent extracting cytosol\"]\n",
    "y1 = oo[\">400\"]\n",
    "x2 = nu[\"Time spent extracting cytosol\"]\n",
    "y2 = nu[\">400\"]\n",
    "x3 = ns[\"Time spent extracting cytosol\"]\n",
    "y3 = ns[\">400\"]\n",
    "x4 = pn[\"Time spent extracting cytosol\"]\n",
    "y4 = pn[\">400\"]\n",
    "\n",
    "fig,ax = plt.subplots(1)\n",
    "\n",
    "plt.title('Extraction time vs Concentration')\n",
    "plt.xlabel('Extraction time (min)')\n",
    "plt.ylabel('concentration (>400 bp)')\n",
    "\n",
    "def make_plots(x,y,c,m,l,n):\n",
    "    ax.scatter(x,y,s=30,c=c,marker=m, edgecolor='black', label=l)\n",
    "    z = np.polyfit(x,y,1)\n",
    "    p = np.poly1d(z)\n",
    "    ax.plot(x,p(x),c=c,label=n,path_effects=[pe.Stroke(linewidth=3, foreground='k'), pe.Normal()])\n",
    "    #plt.setp(lines, linewidth=3, mec='black')\n",
    "\n",
    "make_plots(x1,y1,\"r\",\"s\",\"outside out\",\"outside out fit\")\n",
    "make_plots(x2,y2,\"g\",\"o\",\"nucleated\",\"nucleated fit\")\n",
    "make_plots(x3,y3,\"b\",\"p\",\"no seal\",\"no seal fit\")\n",
    "make_plots(x4,y4,\"y\",\"v\",\"partial nucleus\",\"partial nucleus fit\")    \n",
    "\n",
    "handles,labels = ax.get_legend_handles_labels()\n",
    "\n",
    "handles = [handles[4],handles[0],handles[5],handles[1],handles[6],handles[2],handles[7],handles[3]]\n",
    "labels = [labels[4],labels[0],labels[5],labels[1],labels[6],labels[2],labels[7],labels[3]]\n",
    "\n",
    "ax.legend(handles,labels,scatterpoints=1,loc='upper right',ncol=1,fontsize=7,frameon=False)\n",
    "plt.tight_layout()\n",
    "plt.savefig('extraction_vs_conc.png',dpi=300)"
   ]
  },
  {
   "cell_type": "markdown",
   "metadata": {},
   "source": [
    "# Putting extraction times into 1 minute time bins "
   ]
  },
  {
   "cell_type": "code",
   "execution_count": 9,
   "metadata": {
    "collapsed": false
   },
   "outputs": [
    {
     "name": "stdout",
     "output_type": "stream",
     "text": [
      "<class 'pandas.core.frame.DataFrame'>\n",
      "Int64Index: 1019 entries, 4737 to 6351\n",
      "Data columns (total 8 columns):\n",
      "Date                             1019 non-null datetime64[ns]\n",
      "File                             1019 non-null object\n",
      "Post patch?                      1019 non-null category\n",
      "Time spent extracting cytosol    1019 non-null float64\n",
      "patch duration                   1018 non-null float64\n",
      ">400                             1019 non-null float64\n",
      "SM_QC_PF                         1019 non-null category\n",
      "cytosol extraction time bins     1019 non-null int32\n",
      "dtypes: category(2), datetime64[ns](1), float64(3), int32(1), object(1)\n",
      "memory usage: 53.9+ KB\n"
     ]
    }
   ],
   "source": [
    "ps[\"cytosol extraction time bins\"] = ps[\"Time spent extracting cytosol\"].astype(int)\n",
    "ps.info()\n",
    "#ps[\"cytosol extraction time bins\"].sort_values()"
   ]
  },
  {
   "cell_type": "markdown",
   "metadata": {},
   "source": [
    "# Functions for getting pass percentages by time bins "
   ]
  },
  {
   "cell_type": "code",
   "execution_count": 10,
   "metadata": {
    "collapsed": true
   },
   "outputs": [],
   "source": [
    "def timebin(x):\n",
    "    time_bin = ps[ps[\"cytosol extraction time bins\"] == x]\n",
    "    return time_bin\n",
    "\n",
    "def timebin_total(x):\n",
    "    bin_total = x[\"cytosol extraction time bins\"].count()\n",
    "    return bin_total\n",
    "\n",
    "def timebin_pass(x):\n",
    "    timebin_pass = x[x[\"SM_QC_PF\"] == \"pass\"]\n",
    "    pass_total = timebin_pass[\"SM_QC_PF\"].count()\n",
    "    return pass_total\n",
    "\n",
    "def timebin_pp(x):\n",
    "    timebin_pp = float(timebin_pass(x)) / float(timebin_total(x))\n",
    "    return timebin_pp"
   ]
  },
  {
   "cell_type": "markdown",
   "metadata": {},
   "source": [
    "# 0-1 Minute Extraction "
   ]
  },
  {
   "cell_type": "code",
   "execution_count": 11,
   "metadata": {
    "collapsed": false
   },
   "outputs": [
    {
     "name": "stdout",
     "output_type": "stream",
     "text": [
      "Total count = 214\n",
      "Pass count = 164\n",
      "Pass percentage = 0.766355140187\n"
     ]
    }
   ],
   "source": [
    "print \"Total count =\", timebin_total(timebin(0))\n",
    "print \"Pass count =\", timebin_pass(timebin(0))\n",
    "print \"Pass percentage =\", timebin_pp(timebin(0))"
   ]
  },
  {
   "cell_type": "markdown",
   "metadata": {},
   "source": [
    "# 1-2 Minute Extraction "
   ]
  },
  {
   "cell_type": "code",
   "execution_count": 12,
   "metadata": {
    "collapsed": false
   },
   "outputs": [
    {
     "name": "stdout",
     "output_type": "stream",
     "text": [
      "Total count = 358\n",
      "Pass count = 278\n",
      "Pass percentage = 0.776536312849\n"
     ]
    }
   ],
   "source": [
    "print \"Total count =\", timebin_total(timebin(1))\n",
    "print \"Pass count =\", timebin_pass(timebin(1))\n",
    "print \"Pass percentage =\", timebin_pp(timebin(1))"
   ]
  },
  {
   "cell_type": "markdown",
   "metadata": {},
   "source": [
    "# 2-3 Minute Extraction"
   ]
  },
  {
   "cell_type": "code",
   "execution_count": 13,
   "metadata": {
    "collapsed": false
   },
   "outputs": [
    {
     "name": "stdout",
     "output_type": "stream",
     "text": [
      "Total count = 370\n",
      "Pass count = 291\n",
      "Pass percentage = 0.786486486486\n"
     ]
    }
   ],
   "source": [
    "print \"Total count =\", timebin_total(timebin(2))\n",
    "print \"Pass count =\", timebin_pass(timebin(2))\n",
    "print \"Pass percentage =\", timebin_pp(timebin(2))"
   ]
  },
  {
   "cell_type": "markdown",
   "metadata": {},
   "source": [
    "# 3-4 Minute Extraction"
   ]
  },
  {
   "cell_type": "code",
   "execution_count": 14,
   "metadata": {
    "collapsed": false
   },
   "outputs": [
    {
     "name": "stdout",
     "output_type": "stream",
     "text": [
      "Total count = 63\n",
      "Pass count = 49\n",
      "Pass percentage = 0.777777777778\n"
     ]
    }
   ],
   "source": [
    "print \"Total count =\", timebin_total(timebin(3))\n",
    "print \"Pass count =\", timebin_pass(timebin(3))\n",
    "print \"Pass percentage =\", timebin_pp(timebin(3))"
   ]
  },
  {
   "cell_type": "markdown",
   "metadata": {},
   "source": [
    "# 4-5 Minute Extraction"
   ]
  },
  {
   "cell_type": "code",
   "execution_count": 15,
   "metadata": {
    "collapsed": false
   },
   "outputs": [
    {
     "name": "stdout",
     "output_type": "stream",
     "text": [
      "Total count = 11\n",
      "Pass count = 8\n",
      "Pass percentage = 0.727272727273\n"
     ]
    }
   ],
   "source": [
    "print \"Total count =\", timebin_total(timebin(4))\n",
    "print \"Pass count =\", timebin_pass(timebin(4))\n",
    "print \"Pass percentage =\", timebin_pp(timebin(4))"
   ]
  },
  {
   "cell_type": "markdown",
   "metadata": {},
   "source": [
    "# 5-6 Minute Extraction"
   ]
  },
  {
   "cell_type": "code",
   "execution_count": 16,
   "metadata": {
    "collapsed": false
   },
   "outputs": [
    {
     "name": "stdout",
     "output_type": "stream",
     "text": [
      "Total count = 2\n",
      "Pass count = 2\n",
      "Pass percentage = 1.0\n"
     ]
    }
   ],
   "source": [
    "print \"Total count =\", timebin_total(timebin(5))\n",
    "print \"Pass count =\", timebin_pass(timebin(5))\n",
    "print \"Pass percentage =\", timebin_pp(timebin(5))"
   ]
  },
  {
   "cell_type": "code",
   "execution_count": null,
   "metadata": {
    "collapsed": true
   },
   "outputs": [],
   "source": []
  }
 ],
 "metadata": {
  "anaconda-cloud": {},
  "kernelspec": {
   "display_name": "Python 2",
   "language": "python",
   "name": "python2"
  },
  "language_info": {
   "codemirror_mode": {
    "name": "ipython",
    "version": 2
   },
   "file_extension": ".py",
   "mimetype": "text/x-python",
   "name": "python",
   "nbconvert_exporter": "python",
   "pygments_lexer": "ipython2",
   "version": "2.7.13"
  }
 },
 "nbformat": 4,
 "nbformat_minor": 1
}
