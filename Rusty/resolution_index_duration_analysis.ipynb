{
 "cells": [
  {
   "cell_type": "code",
   "execution_count": 1,
   "metadata": {
    "collapsed": true
   },
   "outputs": [],
   "source": [
    "import csv\n",
    "import seaborn as sns\n",
    "import pandas as pd\n",
    "import numpy as np\n",
    "%matplotlib inline\n",
    "import matplotlib.pyplot as plt\n",
    "import matplotlib.patheffects as pe\n",
    "from datetime import datetime\n",
    "sns.set_style('white')"
   ]
  },
  {
   "cell_type": "code",
   "execution_count": 2,
   "metadata": {
    "collapsed": true
   },
   "outputs": [],
   "source": [
    "initial = pd.read_csv('C:/users/rustym/documents/github/patchseq_gdoc_analysis/patch_seq_log_mouse.csv')"
   ]
  },
  {
   "cell_type": "code",
   "execution_count": 3,
   "metadata": {},
   "outputs": [
    {
     "name": "stdout",
     "output_type": "stream",
     "text": [
      "<class 'pandas.core.frame.DataFrame'>\n",
      "RangeIndex: 4770 entries, 0 to 4769\n",
      "Data columns (total 10 columns):\n",
      "Date                             4770 non-null int64\n",
      "Post patch?                      3276 non-null object\n",
      "Post patch pipette R             719 non-null float64\n",
      "PCR cycles                       4321 non-null float64\n",
      "Time spent extracting cytosol    3354 non-null object\n",
      "Time spent retracting pipette    716 non-null float64\n",
      "patch duration                   3353 non-null object\n",
      "Resolution index                 1683 non-null float64\n",
      "SM_QC_PF                         4210 non-null object\n",
      "Bad dates                        330 non-null object\n",
      "dtypes: float64(4), int64(1), object(5)\n",
      "memory usage: 372.7+ KB\n"
     ]
    }
   ],
   "source": [
    "ps = initial[[\"Date\", \"Post patch?\", \"Post patch pipette R\", \"PCR cycles\", \"Time spent extracting cytosol\", \n",
    "              \"Time spent retracting pipette\", \"patch duration\", \"Resolution index\", \"SM_QC_PF\", \"Bad dates\"]]\n",
    "ps.info()"
   ]
  },
  {
   "cell_type": "code",
   "execution_count": 4,
   "metadata": {},
   "outputs": [
    {
     "name": "stderr",
     "output_type": "stream",
     "text": [
      "C:\\ProgramData\\Anaconda2\\lib\\site-packages\\ipykernel_launcher.py:1: SettingWithCopyWarning: \n",
      "A value is trying to be set on a copy of a slice from a DataFrame.\n",
      "Try using .loc[row_indexer,col_indexer] = value instead\n",
      "\n",
      "See the caveats in the documentation: http://pandas.pydata.org/pandas-docs/stable/indexing.html#indexing-view-versus-copy\n",
      "  \"\"\"Entry point for launching an IPython kernel.\n",
      "C:\\ProgramData\\Anaconda2\\lib\\site-packages\\ipykernel_launcher.py:2: SettingWithCopyWarning: \n",
      "A value is trying to be set on a copy of a slice from a DataFrame.\n",
      "Try using .loc[row_indexer,col_indexer] = value instead\n",
      "\n",
      "See the caveats in the documentation: http://pandas.pydata.org/pandas-docs/stable/indexing.html#indexing-view-versus-copy\n",
      "  \n",
      "C:\\ProgramData\\Anaconda2\\lib\\site-packages\\ipykernel_launcher.py:3: SettingWithCopyWarning: \n",
      "A value is trying to be set on a copy of a slice from a DataFrame.\n",
      "Try using .loc[row_indexer,col_indexer] = value instead\n",
      "\n",
      "See the caveats in the documentation: http://pandas.pydata.org/pandas-docs/stable/indexing.html#indexing-view-versus-copy\n",
      "  This is separate from the ipykernel package so we can avoid doing imports until\n"
     ]
    },
    {
     "data": {
      "text/html": [
       "<div>\n",
       "<style>\n",
       "    .dataframe thead tr:only-child th {\n",
       "        text-align: right;\n",
       "    }\n",
       "\n",
       "    .dataframe thead th {\n",
       "        text-align: left;\n",
       "    }\n",
       "\n",
       "    .dataframe tbody tr th {\n",
       "        vertical-align: top;\n",
       "    }\n",
       "</style>\n",
       "<table border=\"1\" class=\"dataframe\">\n",
       "  <thead>\n",
       "    <tr style=\"text-align: right;\">\n",
       "      <th></th>\n",
       "      <th>Date</th>\n",
       "      <th>Post patch?</th>\n",
       "      <th>Post patch pipette R</th>\n",
       "      <th>PCR cycles</th>\n",
       "      <th>Time spent extracting cytosol</th>\n",
       "      <th>Time spent retracting pipette</th>\n",
       "      <th>patch duration</th>\n",
       "      <th>Resolution index</th>\n",
       "      <th>SM_QC_PF</th>\n",
       "    </tr>\n",
       "  </thead>\n",
       "  <tbody>\n",
       "    <tr>\n",
       "      <th>1635</th>\n",
       "      <td>2017-04-19</td>\n",
       "      <td>Outside-Out</td>\n",
       "      <td>NaN</td>\n",
       "      <td>21.0</td>\n",
       "      <td>1.666667</td>\n",
       "      <td>0.0</td>\n",
       "      <td>6.566667</td>\n",
       "      <td>0.923406</td>\n",
       "      <td>pass</td>\n",
       "    </tr>\n",
       "    <tr>\n",
       "      <th>1637</th>\n",
       "      <td>2017-04-19</td>\n",
       "      <td>Nucleated</td>\n",
       "      <td>NaN</td>\n",
       "      <td>21.0</td>\n",
       "      <td>2.350000</td>\n",
       "      <td>0.0</td>\n",
       "      <td>7.416667</td>\n",
       "      <td>0.000000</td>\n",
       "      <td>pass</td>\n",
       "    </tr>\n",
       "    <tr>\n",
       "      <th>1638</th>\n",
       "      <td>2017-04-19</td>\n",
       "      <td>Outside-Out</td>\n",
       "      <td>NaN</td>\n",
       "      <td>21.0</td>\n",
       "      <td>2.216667</td>\n",
       "      <td>0.0</td>\n",
       "      <td>4.166667</td>\n",
       "      <td>0.322631</td>\n",
       "      <td>pass</td>\n",
       "    </tr>\n",
       "    <tr>\n",
       "      <th>1639</th>\n",
       "      <td>2017-04-19</td>\n",
       "      <td>Nucleated</td>\n",
       "      <td>NaN</td>\n",
       "      <td>21.0</td>\n",
       "      <td>2.183333</td>\n",
       "      <td>0.0</td>\n",
       "      <td>9.466667</td>\n",
       "      <td>0.322631</td>\n",
       "      <td>pass</td>\n",
       "    </tr>\n",
       "    <tr>\n",
       "      <th>1640</th>\n",
       "      <td>2017-04-19</td>\n",
       "      <td>No-Seal</td>\n",
       "      <td>NaN</td>\n",
       "      <td>21.0</td>\n",
       "      <td>1.883333</td>\n",
       "      <td>0.0</td>\n",
       "      <td>6.700000</td>\n",
       "      <td>0.000000</td>\n",
       "      <td>pass</td>\n",
       "    </tr>\n",
       "  </tbody>\n",
       "</table>\n",
       "</div>"
      ],
      "text/plain": [
       "           Date  Post patch?  Post patch pipette R PCR cycles  \\\n",
       "1635 2017-04-19  Outside-Out                   NaN       21.0   \n",
       "1637 2017-04-19    Nucleated                   NaN       21.0   \n",
       "1638 2017-04-19  Outside-Out                   NaN       21.0   \n",
       "1639 2017-04-19    Nucleated                   NaN       21.0   \n",
       "1640 2017-04-19      No-Seal                   NaN       21.0   \n",
       "\n",
       "      Time spent extracting cytosol  Time spent retracting pipette  \\\n",
       "1635                       1.666667                            0.0   \n",
       "1637                       2.350000                            0.0   \n",
       "1638                       2.216667                            0.0   \n",
       "1639                       2.183333                            0.0   \n",
       "1640                       1.883333                            0.0   \n",
       "\n",
       "      patch duration  Resolution index SM_QC_PF  \n",
       "1635        6.566667          0.923406     pass  \n",
       "1637        7.416667          0.000000     pass  \n",
       "1638        4.166667          0.322631     pass  \n",
       "1639        9.466667          0.322631     pass  \n",
       "1640        6.700000          0.000000     pass  "
      ]
     },
     "execution_count": 4,
     "metadata": {},
     "output_type": "execute_result"
    }
   ],
   "source": [
    "ps[\"SM_QC_PF\"] = ps[\"SM_QC_PF\"].astype(\"category\")\n",
    "ps[\"PCR cycles\"] = ps[\"PCR cycles\"].astype(\"category\")\n",
    "ps[\"Bad dates\"] = ps[\"Bad dates\"].astype(\"category\")\n",
    "\n",
    "ps = ps[ps[\"PCR cycles\"] == 21]\n",
    "ps = ps[ps[\"SM_QC_PF\"] != \"cnt\"]\n",
    "ps = ps[ps[\"Bad dates\"] != \"x\"]\n",
    "ps = ps.drop(\"Bad dates\", 1)\n",
    "\n",
    "\n",
    "#ps = ps[ps[\">400\"] < 8000]\n",
    "#ps = ps[ps['Time spent extracting cytosol'] <= 10]\n",
    "\n",
    "ps[\"Date\"] = pd.to_datetime(ps[\"Date\"], format = '%y%m%d')\n",
    "ps[\"Time spent extracting cytosol\"] = pd.to_numeric(ps[\"Time spent extracting cytosol\"].str.replace(' ',''), errors ='force')\n",
    "#ps[\"Time spent retracting pipette\"] = pd.to_numeric(ps[\"Time spent retracting pipette\"].str.replace(' ',''), errors ='force')\n",
    "ps[\"patch duration\"] = pd.to_numeric(ps[\"patch duration\"].str.replace(' ',''), errors ='force')\n",
    "#ps[\"Resolution index\"] = pd.to_numeric(ps[\"Resolution index\"].str.replace(' ',''), errors ='force')\n",
    "ps = ps[ps['Time spent extracting cytosol'] < 6.0]\n",
    "ps['Time spent retracting pipette'] = ps['Time spent retracting pipette'].fillna(0)\n",
    "ps.dropna(subset = [\"Time spent extracting cytosol\", \"patch duration\", \"Resolution index\"], inplace = True)\n",
    "\n",
    "ps.head()"
   ]
  },
  {
   "cell_type": "code",
   "execution_count": 5,
   "metadata": {},
   "outputs": [
    {
     "data": {
      "text/html": [
       "<div>\n",
       "<style>\n",
       "    .dataframe thead tr:only-child th {\n",
       "        text-align: right;\n",
       "    }\n",
       "\n",
       "    .dataframe thead th {\n",
       "        text-align: left;\n",
       "    }\n",
       "\n",
       "    .dataframe tbody tr th {\n",
       "        vertical-align: top;\n",
       "    }\n",
       "</style>\n",
       "<table border=\"1\" class=\"dataframe\">\n",
       "  <thead>\n",
       "    <tr style=\"text-align: right;\">\n",
       "      <th></th>\n",
       "      <th>Date</th>\n",
       "      <th>Post patch?</th>\n",
       "      <th>Post patch pipette R</th>\n",
       "      <th>PCR cycles</th>\n",
       "      <th>Time spent extracting cytosol</th>\n",
       "      <th>Time spent retracting pipette</th>\n",
       "      <th>patch duration</th>\n",
       "      <th>Resolution index</th>\n",
       "      <th>SM_QC_PF</th>\n",
       "      <th>recording duration</th>\n",
       "    </tr>\n",
       "  </thead>\n",
       "  <tbody>\n",
       "    <tr>\n",
       "      <th>1635</th>\n",
       "      <td>2017-04-19</td>\n",
       "      <td>Outside-Out</td>\n",
       "      <td>NaN</td>\n",
       "      <td>21.0</td>\n",
       "      <td>1.666667</td>\n",
       "      <td>0.0</td>\n",
       "      <td>6.566667</td>\n",
       "      <td>0.923406</td>\n",
       "      <td>pass</td>\n",
       "      <td>4.900000</td>\n",
       "    </tr>\n",
       "    <tr>\n",
       "      <th>1637</th>\n",
       "      <td>2017-04-19</td>\n",
       "      <td>Nucleated</td>\n",
       "      <td>NaN</td>\n",
       "      <td>21.0</td>\n",
       "      <td>2.350000</td>\n",
       "      <td>0.0</td>\n",
       "      <td>7.416667</td>\n",
       "      <td>0.000000</td>\n",
       "      <td>pass</td>\n",
       "      <td>5.066667</td>\n",
       "    </tr>\n",
       "    <tr>\n",
       "      <th>1638</th>\n",
       "      <td>2017-04-19</td>\n",
       "      <td>Outside-Out</td>\n",
       "      <td>NaN</td>\n",
       "      <td>21.0</td>\n",
       "      <td>2.216667</td>\n",
       "      <td>0.0</td>\n",
       "      <td>4.166667</td>\n",
       "      <td>0.322631</td>\n",
       "      <td>pass</td>\n",
       "      <td>1.950000</td>\n",
       "    </tr>\n",
       "    <tr>\n",
       "      <th>1639</th>\n",
       "      <td>2017-04-19</td>\n",
       "      <td>Nucleated</td>\n",
       "      <td>NaN</td>\n",
       "      <td>21.0</td>\n",
       "      <td>2.183333</td>\n",
       "      <td>0.0</td>\n",
       "      <td>9.466667</td>\n",
       "      <td>0.322631</td>\n",
       "      <td>pass</td>\n",
       "      <td>7.283333</td>\n",
       "    </tr>\n",
       "    <tr>\n",
       "      <th>1640</th>\n",
       "      <td>2017-04-19</td>\n",
       "      <td>No-Seal</td>\n",
       "      <td>NaN</td>\n",
       "      <td>21.0</td>\n",
       "      <td>1.883333</td>\n",
       "      <td>0.0</td>\n",
       "      <td>6.700000</td>\n",
       "      <td>0.000000</td>\n",
       "      <td>pass</td>\n",
       "      <td>4.816667</td>\n",
       "    </tr>\n",
       "  </tbody>\n",
       "</table>\n",
       "</div>"
      ],
      "text/plain": [
       "           Date  Post patch?  Post patch pipette R PCR cycles  \\\n",
       "1635 2017-04-19  Outside-Out                   NaN       21.0   \n",
       "1637 2017-04-19    Nucleated                   NaN       21.0   \n",
       "1638 2017-04-19  Outside-Out                   NaN       21.0   \n",
       "1639 2017-04-19    Nucleated                   NaN       21.0   \n",
       "1640 2017-04-19      No-Seal                   NaN       21.0   \n",
       "\n",
       "      Time spent extracting cytosol  Time spent retracting pipette  \\\n",
       "1635                       1.666667                            0.0   \n",
       "1637                       2.350000                            0.0   \n",
       "1638                       2.216667                            0.0   \n",
       "1639                       2.183333                            0.0   \n",
       "1640                       1.883333                            0.0   \n",
       "\n",
       "      patch duration  Resolution index SM_QC_PF  recording duration  \n",
       "1635        6.566667          0.923406     pass            4.900000  \n",
       "1637        7.416667          0.000000     pass            5.066667  \n",
       "1638        4.166667          0.322631     pass            1.950000  \n",
       "1639        9.466667          0.322631     pass            7.283333  \n",
       "1640        6.700000          0.000000     pass            4.816667  "
      ]
     },
     "execution_count": 5,
     "metadata": {},
     "output_type": "execute_result"
    }
   ],
   "source": [
    "ps['recording duration'] = ps['patch duration'] - ps['Time spent extracting cytosol'] - ps['Time spent retracting pipette']\n",
    "ps.head()"
   ]
  },
  {
   "cell_type": "code",
   "execution_count": 6,
   "metadata": {},
   "outputs": [
    {
     "name": "stdout",
     "output_type": "stream",
     "text": [
      "<class 'pandas.core.frame.DataFrame'>\n",
      "Int64Index: 1425 entries, 1635 to 4204\n",
      "Data columns (total 10 columns):\n",
      "Date                             1425 non-null datetime64[ns]\n",
      "Post patch?                      1420 non-null object\n",
      "Post patch pipette R             179 non-null float64\n",
      "PCR cycles                       1425 non-null category\n",
      "Time spent extracting cytosol    1425 non-null float64\n",
      "Time spent retracting pipette    1425 non-null float64\n",
      "patch duration                   1425 non-null float64\n",
      "Resolution index                 1425 non-null float64\n",
      "SM_QC_PF                         1425 non-null category\n",
      "recording duration               1425 non-null float64\n",
      "dtypes: category(2), datetime64[ns](1), float64(6), object(1)\n",
      "memory usage: 103.3+ KB\n"
     ]
    }
   ],
   "source": [
    "ps.info()"
   ]
  },
  {
   "cell_type": "code",
   "execution_count": 7,
   "metadata": {
    "collapsed": true
   },
   "outputs": [],
   "source": [
    "def nucleated(x):\n",
    "    nucleus = x[(x[\"Post patch?\"] == \"Nucleated\") | (((x[\"Post patch?\"] == \"nucleus_visible\") | (x[\"Post patch?\"] == \"nucleus_present\")) & (x[\"Post patch pipette R\"] >= 500))]\n",
    "    return nucleus\n",
    "\n",
    "def partial_nucleated(y):\n",
    "    partial = y[(y[\"Post patch?\"] == 'Partial-Nucleus') | (((y['Post patch?'] == 'nucleus_present') | (y['Post patch?'] == 'nucleus_visible')) & (y[\"Post patch pipette R\"] <= 499))]\n",
    "    return partial\n",
    "\n",
    "def outside_out(z):\n",
    "    outside = z[(z[\"Post patch?\"] == 'Outside-Out') | (((z['Post patch?'] == 'nucleus_absent') | (z['Post patch?'] == 'no_nuclues_visible')) & (z['Post patch pipette R'] >= 500))]\n",
    "    return outside\n",
    "\n",
    "def no_seal(w): \n",
    "    no = w[(w[\"Post patch?\"] == 'No-Seal') | (((w['Post patch?'] == 'nucleus_absent') | (w['Post patch?'] == 'no_nucleus_visible')) & (w['Post patch pipette R'] <= 499))]\n",
    "    return no\n",
    "    \n",
    "def entire_cell(v):\n",
    "    entire = v[(v[\"Post patch?\"] == 'Entire-Cell') | (v['Post patch?'] == 'entire_cell')]\n",
    "    return entire"
   ]
  },
  {
   "cell_type": "code",
   "execution_count": 8,
   "metadata": {},
   "outputs": [
    {
     "name": "stderr",
     "output_type": "stream",
     "text": [
      "C:\\ProgramData\\Anaconda2\\lib\\site-packages\\ipykernel_launcher.py:2: SettingWithCopyWarning: \n",
      "A value is trying to be set on a copy of a slice from a DataFrame.\n",
      "Try using .loc[row_indexer,col_indexer] = value instead\n",
      "\n",
      "See the caveats in the documentation: http://pandas.pydata.org/pandas-docs/stable/indexing.html#indexing-view-versus-copy\n",
      "  \n",
      "C:\\ProgramData\\Anaconda2\\lib\\site-packages\\ipykernel_launcher.py:4: SettingWithCopyWarning: \n",
      "A value is trying to be set on a copy of a slice from a DataFrame.\n",
      "Try using .loc[row_indexer,col_indexer] = value instead\n",
      "\n",
      "See the caveats in the documentation: http://pandas.pydata.org/pandas-docs/stable/indexing.html#indexing-view-versus-copy\n",
      "  after removing the cwd from sys.path.\n",
      "C:\\ProgramData\\Anaconda2\\lib\\site-packages\\ipykernel_launcher.py:6: SettingWithCopyWarning: \n",
      "A value is trying to be set on a copy of a slice from a DataFrame.\n",
      "Try using .loc[row_indexer,col_indexer] = value instead\n",
      "\n",
      "See the caveats in the documentation: http://pandas.pydata.org/pandas-docs/stable/indexing.html#indexing-view-versus-copy\n",
      "  \n",
      "C:\\ProgramData\\Anaconda2\\lib\\site-packages\\ipykernel_launcher.py:8: SettingWithCopyWarning: \n",
      "A value is trying to be set on a copy of a slice from a DataFrame.\n",
      "Try using .loc[row_indexer,col_indexer] = value instead\n",
      "\n",
      "See the caveats in the documentation: http://pandas.pydata.org/pandas-docs/stable/indexing.html#indexing-view-versus-copy\n",
      "  \n"
     ]
    },
    {
     "data": {
      "text/html": [
       "<div>\n",
       "<style>\n",
       "    .dataframe thead tr:only-child th {\n",
       "        text-align: right;\n",
       "    }\n",
       "\n",
       "    .dataframe thead th {\n",
       "        text-align: left;\n",
       "    }\n",
       "\n",
       "    .dataframe tbody tr th {\n",
       "        vertical-align: top;\n",
       "    }\n",
       "</style>\n",
       "<table border=\"1\" class=\"dataframe\">\n",
       "  <thead>\n",
       "    <tr style=\"text-align: right;\">\n",
       "      <th></th>\n",
       "      <th>Date</th>\n",
       "      <th>Post patch?</th>\n",
       "      <th>Post patch pipette R</th>\n",
       "      <th>PCR cycles</th>\n",
       "      <th>Time spent extracting cytosol</th>\n",
       "      <th>Time spent retracting pipette</th>\n",
       "      <th>patch duration</th>\n",
       "      <th>Resolution index</th>\n",
       "      <th>SM_QC_PF</th>\n",
       "      <th>recording duration</th>\n",
       "      <th>post patch class</th>\n",
       "    </tr>\n",
       "  </thead>\n",
       "  <tbody>\n",
       "    <tr>\n",
       "      <th>1637</th>\n",
       "      <td>2017-04-19</td>\n",
       "      <td>Nucleated</td>\n",
       "      <td>NaN</td>\n",
       "      <td>21.0</td>\n",
       "      <td>2.350000</td>\n",
       "      <td>0.0</td>\n",
       "      <td>7.416667</td>\n",
       "      <td>0.000000</td>\n",
       "      <td>pass</td>\n",
       "      <td>5.066667</td>\n",
       "      <td>Nucleated</td>\n",
       "    </tr>\n",
       "    <tr>\n",
       "      <th>1639</th>\n",
       "      <td>2017-04-19</td>\n",
       "      <td>Nucleated</td>\n",
       "      <td>NaN</td>\n",
       "      <td>21.0</td>\n",
       "      <td>2.183333</td>\n",
       "      <td>0.0</td>\n",
       "      <td>9.466667</td>\n",
       "      <td>0.322631</td>\n",
       "      <td>pass</td>\n",
       "      <td>7.283333</td>\n",
       "      <td>Nucleated</td>\n",
       "    </tr>\n",
       "    <tr>\n",
       "      <th>1654</th>\n",
       "      <td>2017-04-20</td>\n",
       "      <td>Nucleated</td>\n",
       "      <td>NaN</td>\n",
       "      <td>21.0</td>\n",
       "      <td>2.366667</td>\n",
       "      <td>0.0</td>\n",
       "      <td>3.766667</td>\n",
       "      <td>0.601033</td>\n",
       "      <td>pass</td>\n",
       "      <td>1.400000</td>\n",
       "      <td>Nucleated</td>\n",
       "    </tr>\n",
       "    <tr>\n",
       "      <th>1675</th>\n",
       "      <td>2017-04-20</td>\n",
       "      <td>Nucleated</td>\n",
       "      <td>NaN</td>\n",
       "      <td>21.0</td>\n",
       "      <td>2.083333</td>\n",
       "      <td>0.0</td>\n",
       "      <td>6.550000</td>\n",
       "      <td>0.678447</td>\n",
       "      <td>pass</td>\n",
       "      <td>4.466667</td>\n",
       "      <td>Nucleated</td>\n",
       "    </tr>\n",
       "    <tr>\n",
       "      <th>1688</th>\n",
       "      <td>2017-04-21</td>\n",
       "      <td>Nucleated</td>\n",
       "      <td>NaN</td>\n",
       "      <td>21.0</td>\n",
       "      <td>2.233333</td>\n",
       "      <td>0.0</td>\n",
       "      <td>7.266667</td>\n",
       "      <td>0.795757</td>\n",
       "      <td>pass</td>\n",
       "      <td>5.033333</td>\n",
       "      <td>Nucleated</td>\n",
       "    </tr>\n",
       "  </tbody>\n",
       "</table>\n",
       "</div>"
      ],
      "text/plain": [
       "           Date Post patch?  Post patch pipette R PCR cycles  \\\n",
       "1637 2017-04-19   Nucleated                   NaN       21.0   \n",
       "1639 2017-04-19   Nucleated                   NaN       21.0   \n",
       "1654 2017-04-20   Nucleated                   NaN       21.0   \n",
       "1675 2017-04-20   Nucleated                   NaN       21.0   \n",
       "1688 2017-04-21   Nucleated                   NaN       21.0   \n",
       "\n",
       "      Time spent extracting cytosol  Time spent retracting pipette  \\\n",
       "1637                       2.350000                            0.0   \n",
       "1639                       2.183333                            0.0   \n",
       "1654                       2.366667                            0.0   \n",
       "1675                       2.083333                            0.0   \n",
       "1688                       2.233333                            0.0   \n",
       "\n",
       "      patch duration  Resolution index SM_QC_PF  recording duration  \\\n",
       "1637        7.416667          0.000000     pass            5.066667   \n",
       "1639        9.466667          0.322631     pass            7.283333   \n",
       "1654        3.766667          0.601033     pass            1.400000   \n",
       "1675        6.550000          0.678447     pass            4.466667   \n",
       "1688        7.266667          0.795757     pass            5.033333   \n",
       "\n",
       "     post patch class  \n",
       "1637        Nucleated  \n",
       "1639        Nucleated  \n",
       "1654        Nucleated  \n",
       "1675        Nucleated  \n",
       "1688        Nucleated  "
      ]
     },
     "execution_count": 8,
     "metadata": {},
     "output_type": "execute_result"
    }
   ],
   "source": [
    "oo = outside_out(ps)\n",
    "oo['post patch class'] = 'Outside out'\n",
    "nu = nucleated(ps)\n",
    "nu['post patch class'] = 'Nucleated'\n",
    "ns = no_seal(ps)\n",
    "ns['post patch class'] = 'No seal'\n",
    "pn = partial_nucleated(ps)\n",
    "pn['post patch class'] = 'Partial nucleated'\n",
    "#ec = entire_cell(ps)\n",
    "#ec['post patch class'] = 'Entire cell'\n",
    "\n",
    "frames = (nu, pn, oo, ns)\n",
    "ps = pd.concat(frames)\n",
    "ps.head()"
   ]
  },
  {
   "cell_type": "markdown",
   "metadata": {},
   "source": [
    "# resolution index vs recording duration#### "
   ]
  },
  {
   "cell_type": "code",
   "execution_count": 17,
   "metadata": {},
   "outputs": [
    {
     "data": {
      "image/png": "[encoded data removed]",
      "text/plain": [
       "<matplotlib.figure.Figure at 0xe266470>"
      ]
     },
     "metadata": {},
     "output_type": "display_data"
    }
   ],
   "source": [
    "#fig, ax = plt.subplots(1)\n",
    "#col_list = ['#4C72B0', '#6ACC65', '#FFFEA3', '#D0BBFF']\n",
    "#sns.palplot(sns.xkcd_palette(col_list))\n",
    "#col_list_palette = sns.xkcd_palette(col_list)\n",
    "#sns.set_palette(col_list_palette)\n",
    "\n",
    "rd = sns.lmplot(x='recording duration', y='Resolution index', data=ps, hue='post patch class',\n",
    "                scatter=False, legend=False, palette=['midnightblue', 'cornflowerblue', \"#FF9F9A\", '#D0BBFF'])\n",
    "axes = rd.axes\n",
    "axes[0,0].set_ylim(0,1.1)\n",
    "axes[0,0].set_xlim(0,20)\n",
    "sns.despine(trim=True)\n",
    "rd.ax.legend(loc=2, fontsize=10)\n",
    "plt.title('Resolution index vs Recording duration', size=12)\n",
    "#sns.spines['left'].set_bounds(0,100)\n",
    "#sns.plt.ylim(0,1.0)\n",
    "plt.tight_layout()\n",
    "plt.savefig('resolution_index_vs_recording_duration', dpi=300)"
   ]
  },
  {
   "cell_type": "markdown",
   "metadata": {},
   "source": [
    "# resolution index vs patch duration# "
   ]
  },
  {
   "cell_type": "code",
   "execution_count": 10,
   "metadata": {},
   "outputs": [
    {
     "ename": "TypeError",
     "evalue": "lmplot() got an unexpected keyword argument 'fit_reg_kws'",
     "output_type": "error",
     "traceback": [
      "\u001b[1;31m---------------------------------------------------------------------------\u001b[0m",
      "\u001b[1;31mTypeError\u001b[0m                                 Traceback (most recent call last)",
      "\u001b[1;32m<ipython-input-10-8fbee9b65f3a>\u001b[0m in \u001b[0;36m<module>\u001b[1;34m()\u001b[0m\n\u001b[0;32m      1\u001b[0m pdr = sns.lmplot(x='patch duration', y='Resolution index', data=ps, hue='post patch class',\n\u001b[1;32m----> 2\u001b[1;33m                  scatter=False, legend=False, palette='deep', fit_reg_kws={'linewidths':1,'edgecolor':'k'})\n\u001b[0m\u001b[0;32m      3\u001b[0m \u001b[1;33m\u001b[0m\u001b[0m\n\u001b[0;32m      4\u001b[0m \u001b[0maxes\u001b[0m \u001b[1;33m=\u001b[0m \u001b[0mpdr\u001b[0m\u001b[1;33m.\u001b[0m\u001b[0maxes\u001b[0m\u001b[1;33m\u001b[0m\u001b[0m\n\u001b[0;32m      5\u001b[0m \u001b[0maxes\u001b[0m\u001b[1;33m[\u001b[0m\u001b[1;36m0\u001b[0m\u001b[1;33m,\u001b[0m\u001b[1;36m0\u001b[0m\u001b[1;33m]\u001b[0m\u001b[1;33m.\u001b[0m\u001b[0mset_ylim\u001b[0m\u001b[1;33m(\u001b[0m\u001b[1;36m0\u001b[0m\u001b[1;33m,\u001b[0m\u001b[1;36m1.15\u001b[0m\u001b[1;33m)\u001b[0m\u001b[1;33m\u001b[0m\u001b[0m\n",
      "\u001b[1;31mTypeError\u001b[0m: lmplot() got an unexpected keyword argument 'fit_reg_kws'"
     ]
    }
   ],
   "source": [
    "pdr = sns.lmplot(x='patch duration', y='Resolution index', data=ps, hue='post patch class',\n",
    "                 scatter=False, legend=False, palette='deep')\n",
    "\n",
    "axes = pdr.axes\n",
    "axes[0,0].set_ylim(0,1.15)\n",
    "axes[0,0].set_xlim(0,20)\n",
    "sns.despine(trim=True)\n",
    "pdr.ax.legend(loc=2, fontsize=10)\n",
    "plt.title('Resolution index vs Patch duration')\n",
    "#sns.despine()\n",
    "#sns.plt.ylim(0,1.0)\n",
    "plt.tight_layout()\n",
    "plt.savefig('resolution_index_vs_patch_duration', dpi=300)"
   ]
  },
  {
   "cell_type": "markdown",
   "metadata": {},
   "source": [
    "# resolution index vs extraction duration# "
   ]
  },
  {
   "cell_type": "code",
   "execution_count": 11,
   "metadata": {},
   "outputs": [
    {
     "data": {
      "image/png": "[encoded data removed]",
      "text/plain": [
       "<matplotlib.figure.Figure at 0xda61320>"
      ]
     },
     "metadata": {},
     "output_type": "display_data"
    }
   ],
   "source": [
    "ed = sns.lmplot(x='Time spent extracting cytosol', y='Resolution index', data=ps,\n",
    "                hue='post patch class', scatter=False, legend=False, palette='deep')\n",
    "\n",
    "axes = ed.axes\n",
    "axes[0,0].set_ylim(0,1.1)\n",
    "axes[0,0].set_xlim(0,6)\n",
    "sns.despine(trim=True)\n",
    "ed.ax.legend(loc=2, fontsize=10)\n",
    "plt.xlabel(\"Extraction duration (min)\")\n",
    "plt.title('Resolution index vs Extraction time')\n",
    "#sns.despine()\n",
    "#sns.plt.ylim(0,1.0)\n",
    "plt.tight_layout()\n",
    "plt.savefig('resolution_index_vs_extraction', dpi=300)"
   ]
  },
  {
   "cell_type": "code",
   "execution_count": null,
   "metadata": {},
   "outputs": [],
   "source": [
    "ps['post patch class'] = ps['post patch class'].astype('category')\n",
    "sns.violinplot(x='post patch class', y='recording duration', data=ps)"
   ]
  },
  {
   "cell_type": "code",
   "execution_count": null,
   "metadata": {},
   "outputs": [],
   "source": [
    "oo = outside_out(ps)\n",
    "nu = nucleated(ps)\n",
    "ns = no_seal(ps)\n",
    "pn = partial_nucleated(ps)\n",
    "ec = entire_cell(ps)\n",
    "\n",
    "x1 = oo[\"recording duration\"]\n",
    "y1 = oo[\"Resolution index\"]\n",
    "x2 = nu[\"recording duration\"]\n",
    "y2 = nu[\"Resolution index\"]\n",
    "x3 = ns[\"recording duration\"]\n",
    "y3 = ns[\"Resolution index\"]\n",
    "x4 = pn[\"recording duration\"]\n",
    "y4 = pn[\"Resolution index\"]\n",
    "\n",
    "fig,ax = plt.subplots(1)\n",
    "axes = plt.gca()\n",
    "axes.set_ylim([0,1.0])\n",
    "ax.spines['top'].set_visible(False)\n",
    "ax.spines['right'].set_visible(False)\n",
    "\n",
    "plt.title('Recording Duration vs Resolution Index')\n",
    "plt.xlabel('Recording Duration (min)')\n",
    "plt.ylabel('Resolution Index')\n",
    "\n",
    "def make_scatter(x,y,c,m,l):\n",
    "    ax.scatter(x,y,s=30,c=c,marker=m, label=l)\n",
    "def make_fits(x,y,c,n):    \n",
    "    z = np.polyfit(x,y,1)\n",
    "    p = np.poly1d(z)\n",
    "    ax.plot(x,p(x),c=c,label=n, linewidth=3)\n",
    "    \n",
    "#make_scatter(x1,y1,\"white\",\"s\",\"outside out\")\n",
    "#make_scatter(x2,y2,\"white\",\"o\",\"nucleated\")\n",
    "#make_scatter(x3,y3,\"white\",\"p\",\"no seal\")\n",
    "#make_scatter(x4,y4,\"white\",\"v\",\"partial nucleus\")     \n",
    "\n",
    "#make_scatter(x1,y1,\"lightsalmon\",\"s\",\"outside out\")\n",
    "#make_scatter(x2,y2,\"lime\",\"o\",\"nucleated\")\n",
    "#make_scatter(x3,y3,\"cornflowerblue\",\"p\",\"no seal\")\n",
    "#make_scatter(x4,y4,\"yellow\",\"v\",\"partial nucleus\")    \n",
    "\n",
    "make_fits(x1,y1,'r','outside out fit')\n",
    "make_fits(x2,y2,'g','nucleated fit')\n",
    "make_fits(x3,y3,'b','no seal fit')\n",
    "make_fits(x4,y4,'gold','partial nucleated fit')\n",
    "\n",
    "handles,labels = ax.get_legend_handles_labels()\n",
    "\n",
    "handles = [handles[1],handles[3],handles[2],handles[0]]\n",
    "labels = [labels[1],labels[3],labels[2],labels[0]]\n",
    "\n",
    "ax.legend(handles,labels,scatterpoints=1,loc='center right',ncol=1,fontsize=7,frameon=False)\n",
    "plt.tight_layout()\n",
    "plt.savefig('recording_duration_vs_resolution_index.png',dpi=300)"
   ]
  },
  {
   "cell_type": "markdown",
   "metadata": {},
   "source": [
    "oo = outside_out(ps)\n",
    "nu = nucleated(ps)\n",
    "ns = no_seal(ps)\n",
    "pn = partial_nucleated(ps)\n",
    "ec = entire_cell(ps)\n",
    "\n",
    "x1 = oo[\"recording duration\"]\n",
    "y1 = oo[\"Resolution index\"]\n",
    "x2 = nu[\"recording duration\"]\n",
    "y2 = nu[\"Resolution index\"]\n",
    "x3 = ns[\"recording duration\"]\n",
    "y3 = ns[\"Resolution index\"]\n",
    "x4 = pn[\"recording duration\"]\n",
    "y4 = pn[\"Resolution index\"]\n",
    "\n",
    "fig,ax = plt.subplots(1)\n",
    "\n",
    "plt.title('Recording Duration vs Resolution Index')\n",
    "plt.xlabel('Recording Duration (min)')\n",
    "plt.ylabel('Resolution Index')\n",
    "\n",
    "def make_plots(x,y,c,m,l,n):\n",
    "    ax.scatter(x,y,s=30,c=c,marker=m, edgecolor='black', label=l)\n",
    "    z = np.polyfit(x,y,1)\n",
    "    p = np.poly1d(z)\n",
    "    ax.plot(x,p(x),c=c,label=n,path_effects=[pe.Stroke(linewidth=3, foreground='k'), pe.Normal()])\n",
    "    \n",
    "make_plots(x1,y1,\"r\",\"s\",\"outside out\",\"outside out fit\")\n",
    "make_plots(x2,y2,\"g\",\"o\",\"nucleated\",\"nucleated fit\")\n",
    "make_plots(x3,y3,\"b\",\"p\",\"no seal\",\"no seal fit\")\n",
    "make_plots(x4,y4,\"y\",\"v\",\"partial nucleus\",\"partial nucleus fit\")    \n",
    "\n",
    "handles,labels = ax.get_legend_handles_labels()\n",
    "\n",
    "handles = [handles[4],handles[0],handles[5],handles[1],handles[6],handles[2],handles[7],handles[3]]\n",
    "labels = [labels[4],labels[0],labels[5],labels[1],labels[6],labels[2],labels[7],labels[3]]\n",
    "\n",
    "ax.legend(handles,labels,scatterpoints=1,loc='upper right',ncol=1,fontsize=7,frameon=False)\n",
    "plt.tight_layout()\n",
    "plt.savefig('recording_duration_vs_resolution_index.png',dpi=300)"
   ]
  },
  {
   "cell_type": "code",
   "execution_count": null,
   "metadata": {
    "collapsed": true
   },
   "outputs": [],
   "source": []
  },
  {
   "cell_type": "code",
   "execution_count": null,
   "metadata": {
    "collapsed": true
   },
   "outputs": [],
   "source": []
  },
  {
   "cell_type": "code",
   "execution_count": null,
   "metadata": {
    "collapsed": true
   },
   "outputs": [],
   "source": []
  },
  {
   "cell_type": "code",
   "execution_count": null,
   "metadata": {
    "collapsed": true
   },
   "outputs": [],
   "source": []
  },
  {
   "cell_type": "code",
   "execution_count": null,
   "metadata": {
    "collapsed": true
   },
   "outputs": [],
   "source": []
  },
  {
   "cell_type": "code",
   "execution_count": null,
   "metadata": {
    "collapsed": true
   },
   "outputs": [],
   "source": []
  },
  {
   "cell_type": "code",
   "execution_count": null,
   "metadata": {
    "collapsed": true
   },
   "outputs": [],
   "source": []
  },
  {
   "cell_type": "code",
   "execution_count": null,
   "metadata": {
    "collapsed": true
   },
   "outputs": [],
   "source": []
  },
  {
   "cell_type": "code",
   "execution_count": null,
   "metadata": {
    "collapsed": true
   },
   "outputs": [],
   "source": []
  },
  {
   "cell_type": "code",
   "execution_count": null,
   "metadata": {
    "collapsed": true
   },
   "outputs": [],
   "source": []
  },
  {
   "cell_type": "code",
   "execution_count": null,
   "metadata": {
    "collapsed": true
   },
   "outputs": [],
   "source": []
  },
  {
   "cell_type": "code",
   "execution_count": null,
   "metadata": {
    "collapsed": true
   },
   "outputs": [],
   "source": []
  }
 ],
 "metadata": {
  "kernelspec": {
   "display_name": "Python 2",
   "language": "python",
   "name": "python2"
  },
  "language_info": {
   "codemirror_mode": {
    "name": "ipython",
    "version": 2
   },
   "file_extension": ".py",
   "mimetype": "text/x-python",
   "name": "python",
   "nbconvert_exporter": "python",
   "pygments_lexer": "ipython2",
   "version": "2.7.13"
  }
 },
 "nbformat": 4,
 "nbformat_minor": 2
}
