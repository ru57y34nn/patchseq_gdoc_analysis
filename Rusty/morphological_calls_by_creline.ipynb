{
 "cells": [
  {
   "cell_type": "code",
   "execution_count": 142,
   "metadata": {
    "collapsed": false
   },
   "outputs": [],
   "source": [
    "import csv\n",
    "import pandas as pd\n",
    "import numpy as np\n",
    "import matplotlib.pyplot as plt\n",
    "from datetime import datetime\n",
    "from scipy import stats\n",
    "import math\n",
    "import seaborn as sns\n",
    "%matplotlib inline"
   ]
  },
  {
   "cell_type": "code",
   "execution_count": 143,
   "metadata": {
    "collapsed": true
   },
   "outputs": [],
   "source": [
    "initial = pd.read_csv('C:/users/rusty/documents/github/patchseq_gdoc_analysis/patch_seq_log_mouse.csv')"
   ]
  },
  {
   "cell_type": "code",
   "execution_count": 144,
   "metadata": {
    "collapsed": false
   },
   "outputs": [
    {
     "name": "stderr",
     "output_type": "stream",
     "text": [
      "C:\\Anaconda2\\lib\\site-packages\\ipykernel\\__main__.py:2: SettingWithCopyWarning: \n",
      "A value is trying to be set on a copy of a slice from a DataFrame.\n",
      "Try using .loc[row_indexer,col_indexer] = value instead\n",
      "\n",
      "See the caveats in the documentation: http://pandas.pydata.org/pandas-docs/stable/indexing.html#indexing-view-versus-copy\n",
      "  from ipykernel import kernelapp as app\n",
      "C:\\Anaconda2\\lib\\site-packages\\ipykernel\\__main__.py:3: SettingWithCopyWarning: \n",
      "A value is trying to be set on a copy of a slice from a DataFrame.\n",
      "Try using .loc[row_indexer,col_indexer] = value instead\n",
      "\n",
      "See the caveats in the documentation: http://pandas.pydata.org/pandas-docs/stable/indexing.html#indexing-view-versus-copy\n",
      "  app.launch_new_instance()\n",
      "C:\\Anaconda2\\lib\\site-packages\\ipykernel\\__main__.py:4: SettingWithCopyWarning: \n",
      "A value is trying to be set on a copy of a slice from a DataFrame.\n",
      "Try using .loc[row_indexer,col_indexer] = value instead\n",
      "\n",
      "See the caveats in the documentation: http://pandas.pydata.org/pandas-docs/stable/indexing.html#indexing-view-versus-copy\n"
     ]
    },
    {
     "data": {
      "text/html": [
       "<div>\n",
       "<table border=\"1\" class=\"dataframe\">\n",
       "  <thead>\n",
       "    <tr style=\"text-align: right;\">\n",
       "      <th></th>\n",
       "      <th>Date</th>\n",
       "      <th>Morph</th>\n",
       "      <th>cell type</th>\n",
       "      <th>Slice (Lims ID?)</th>\n",
       "      <th>SM_QC_PF</th>\n",
       "      <th>Bad dates</th>\n",
       "    </tr>\n",
       "  </thead>\n",
       "  <tbody>\n",
       "    <tr>\n",
       "      <th>70</th>\n",
       "      <td>2017-01-09</td>\n",
       "      <td>y</td>\n",
       "      <td>tdt+</td>\n",
       "      <td>Rbp4-Cre_KL100;Ai14-290392.04.02</td>\n",
       "      <td>pass</td>\n",
       "      <td>NaN</td>\n",
       "    </tr>\n",
       "    <tr>\n",
       "      <th>71</th>\n",
       "      <td>2017-01-09</td>\n",
       "      <td>n</td>\n",
       "      <td>tdt+</td>\n",
       "      <td>Rbp4-Cre_KL100;Ai14-290392.04.02</td>\n",
       "      <td>fail</td>\n",
       "      <td>NaN</td>\n",
       "    </tr>\n",
       "    <tr>\n",
       "      <th>77</th>\n",
       "      <td>2017-01-10</td>\n",
       "      <td>n</td>\n",
       "      <td>tdt+</td>\n",
       "      <td>Rbp4-Cre_KL100;Ai14-290393.03.02</td>\n",
       "      <td>pass</td>\n",
       "      <td>NaN</td>\n",
       "    </tr>\n",
       "    <tr>\n",
       "      <th>78</th>\n",
       "      <td>2017-01-10</td>\n",
       "      <td>y</td>\n",
       "      <td>tdt+</td>\n",
       "      <td>Rbp4-Cre_KL100;Ai14-290393.03.02</td>\n",
       "      <td>pass</td>\n",
       "      <td>NaN</td>\n",
       "    </tr>\n",
       "    <tr>\n",
       "      <th>79</th>\n",
       "      <td>2017-01-10</td>\n",
       "      <td>n</td>\n",
       "      <td>tdt+</td>\n",
       "      <td>Rbp4-Cre_KL100;Ai14-290393.04.02</td>\n",
       "      <td>pass</td>\n",
       "      <td>NaN</td>\n",
       "    </tr>\n",
       "  </tbody>\n",
       "</table>\n",
       "</div>"
      ],
      "text/plain": [
       "         Date Morph cell type                  Slice (Lims ID?) SM_QC_PF  \\\n",
       "70 2017-01-09     y      tdt+  Rbp4-Cre_KL100;Ai14-290392.04.02     pass   \n",
       "71 2017-01-09     n      tdt+  Rbp4-Cre_KL100;Ai14-290392.04.02     fail   \n",
       "77 2017-01-10     n      tdt+  Rbp4-Cre_KL100;Ai14-290393.03.02     pass   \n",
       "78 2017-01-10     y      tdt+  Rbp4-Cre_KL100;Ai14-290393.03.02     pass   \n",
       "79 2017-01-10     n      tdt+  Rbp4-Cre_KL100;Ai14-290393.04.02     pass   \n",
       "\n",
       "   Bad dates  \n",
       "70       NaN  \n",
       "71       NaN  \n",
       "77       NaN  \n",
       "78       NaN  \n",
       "79       NaN  "
      ]
     },
     "execution_count": 144,
     "metadata": {},
     "output_type": "execute_result"
    }
   ],
   "source": [
    "ps = initial[['Date', 'Morph', 'cell type', 'Slice (Lims ID?)', 'SM_QC_PF', 'Bad dates']]\n",
    "ps['Date'] = pd.to_datetime(ps['Date'], format = '%y%m%d')\n",
    "ps['Bad dates'] = ps['Bad dates'].astype('category')\n",
    "ps['cell type'] = ps['cell type'].astype('category')\n",
    "ps = ps[ps['Bad dates'] != 'x']\n",
    "ps = ps[ps['SM_QC_PF'] != 'cnt']\n",
    "ps = ps[ps['cell type'] == 'tdt+']\n",
    "ps.dropna(subset = ['Morph', 'cell type'], inplace =  True)\n",
    "ps.head()"
   ]
  },
  {
   "cell_type": "code",
   "execution_count": 145,
   "metadata": {
    "collapsed": false
   },
   "outputs": [
    {
     "data": {
      "text/plain": [
       "n             1223\n",
       "y              493\n",
       "q              325\n",
       "na              62\n",
       "z               22\n",
       "processing      20\n",
       "?                2\n",
       " n               1\n",
       "Name: Morph, dtype: int64"
      ]
     },
     "execution_count": 145,
     "metadata": {},
     "output_type": "execute_result"
    }
   ],
   "source": [
    "ps['Morph'].value_counts()"
   ]
  },
  {
   "cell_type": "code",
   "execution_count": 138,
   "metadata": {
    "collapsed": false
   },
   "outputs": [
    {
     "data": {
      "text/html": [
       "<div>\n",
       "<table border=\"1\" class=\"dataframe\">\n",
       "  <thead>\n",
       "    <tr style=\"text-align: right;\">\n",
       "      <th></th>\n",
       "      <th>Morph</th>\n",
       "      <th>Slice (Lims ID?)</th>\n",
       "    </tr>\n",
       "  </thead>\n",
       "  <tbody>\n",
       "    <tr>\n",
       "      <th>70</th>\n",
       "      <td>y</td>\n",
       "      <td>Rbp4-Cre_KL100;Ai14-290392.04.02</td>\n",
       "    </tr>\n",
       "    <tr>\n",
       "      <th>71</th>\n",
       "      <td>n</td>\n",
       "      <td>Rbp4-Cre_KL100;Ai14-290392.04.02</td>\n",
       "    </tr>\n",
       "    <tr>\n",
       "      <th>77</th>\n",
       "      <td>n</td>\n",
       "      <td>Rbp4-Cre_KL100;Ai14-290393.03.02</td>\n",
       "    </tr>\n",
       "    <tr>\n",
       "      <th>78</th>\n",
       "      <td>y</td>\n",
       "      <td>Rbp4-Cre_KL100;Ai14-290393.03.02</td>\n",
       "    </tr>\n",
       "    <tr>\n",
       "      <th>79</th>\n",
       "      <td>n</td>\n",
       "      <td>Rbp4-Cre_KL100;Ai14-290393.04.02</td>\n",
       "    </tr>\n",
       "  </tbody>\n",
       "</table>\n",
       "</div>"
      ],
      "text/plain": [
       "   Morph                  Slice (Lims ID?)\n",
       "70     y  Rbp4-Cre_KL100;Ai14-290392.04.02\n",
       "71     n  Rbp4-Cre_KL100;Ai14-290392.04.02\n",
       "77     n  Rbp4-Cre_KL100;Ai14-290393.03.02\n",
       "78     y  Rbp4-Cre_KL100;Ai14-290393.03.02\n",
       "79     n  Rbp4-Cre_KL100;Ai14-290393.04.02"
      ]
     },
     "execution_count": 138,
     "metadata": {},
     "output_type": "execute_result"
    }
   ],
   "source": [
    "ps = ps.drop('Bad dates', 1)\n",
    "ps = ps.drop('Date', 1)\n",
    "ps = ps.drop('cell type', 1)\n",
    "ps = ps.drop('SM_QC_PF', 1)\n",
    "ps.head()"
   ]
  },
  {
   "cell_type": "code",
   "execution_count": 139,
   "metadata": {
    "collapsed": false
   },
   "outputs": [
    {
     "data": {
      "text/html": [
       "<div>\n",
       "<table border=\"1\" class=\"dataframe\">\n",
       "  <thead>\n",
       "    <tr style=\"text-align: right;\">\n",
       "      <th></th>\n",
       "      <th>Morph</th>\n",
       "      <th>Cre_line</th>\n",
       "    </tr>\n",
       "  </thead>\n",
       "  <tbody>\n",
       "    <tr>\n",
       "      <th>70</th>\n",
       "      <td>y</td>\n",
       "      <td>Rbp4-Cre_KL100</td>\n",
       "    </tr>\n",
       "    <tr>\n",
       "      <th>71</th>\n",
       "      <td>n</td>\n",
       "      <td>Rbp4-Cre_KL100</td>\n",
       "    </tr>\n",
       "    <tr>\n",
       "      <th>77</th>\n",
       "      <td>n</td>\n",
       "      <td>Rbp4-Cre_KL100</td>\n",
       "    </tr>\n",
       "    <tr>\n",
       "      <th>78</th>\n",
       "      <td>y</td>\n",
       "      <td>Rbp4-Cre_KL100</td>\n",
       "    </tr>\n",
       "    <tr>\n",
       "      <th>79</th>\n",
       "      <td>n</td>\n",
       "      <td>Rbp4-Cre_KL100</td>\n",
       "    </tr>\n",
       "  </tbody>\n",
       "</table>\n",
       "</div>"
      ],
      "text/plain": [
       "   Morph        Cre_line\n",
       "70     y  Rbp4-Cre_KL100\n",
       "71     n  Rbp4-Cre_KL100\n",
       "77     n  Rbp4-Cre_KL100\n",
       "78     y  Rbp4-Cre_KL100\n",
       "79     n  Rbp4-Cre_KL100"
      ]
     },
     "execution_count": 139,
     "metadata": {},
     "output_type": "execute_result"
    }
   ],
   "source": [
    "ps['Cre_line'] = ps['Slice (Lims ID?)'].str[:-18]\n",
    "ps = ps.drop('Slice (Lims ID?)', 1)\n",
    "ps.head()"
   ]
  },
  {
   "cell_type": "code",
   "execution_count": 140,
   "metadata": {
    "collapsed": false
   },
   "outputs": [
    {
     "name": "stderr",
     "output_type": "stream",
     "text": [
      "C:\\Anaconda2\\lib\\site-packages\\ipykernel\\__main__.py:2: SettingWithCopyWarning: \n",
      "A value is trying to be set on a copy of a slice from a DataFrame.\n",
      "Try using .loc[row_indexer,col_indexer] = value instead\n",
      "\n",
      "See the caveats in the documentation: http://pandas.pydata.org/pandas-docs/stable/indexing.html#indexing-view-versus-copy\n",
      "  from ipykernel import kernelapp as app\n",
      "C:\\Anaconda2\\lib\\site-packages\\ipykernel\\__main__.py:4: SettingWithCopyWarning: \n",
      "A value is trying to be set on a copy of a slice from a DataFrame.\n",
      "Try using .loc[row_indexer,col_indexer] = value instead\n",
      "\n",
      "See the caveats in the documentation: http://pandas.pydata.org/pandas-docs/stable/indexing.html#indexing-view-versus-copy\n",
      "C:\\Anaconda2\\lib\\site-packages\\ipykernel\\__main__.py:6: SettingWithCopyWarning: \n",
      "A value is trying to be set on a copy of a slice from a DataFrame.\n",
      "Try using .loc[row_indexer,col_indexer] = value instead\n",
      "\n",
      "See the caveats in the documentation: http://pandas.pydata.org/pandas-docs/stable/indexing.html#indexing-view-versus-copy\n"
     ]
    },
    {
     "data": {
      "text/html": [
       "<div>\n",
       "<table border=\"1\" class=\"dataframe\">\n",
       "  <thead>\n",
       "    <tr style=\"text-align: right;\">\n",
       "      <th></th>\n",
       "      <th>Morph</th>\n",
       "      <th>Cre_line</th>\n",
       "      <th>morpho_call</th>\n",
       "    </tr>\n",
       "  </thead>\n",
       "  <tbody>\n",
       "    <tr>\n",
       "      <th>70</th>\n",
       "      <td>y</td>\n",
       "      <td>Rbp4-Cre_KL100</td>\n",
       "      <td>y</td>\n",
       "    </tr>\n",
       "    <tr>\n",
       "      <th>78</th>\n",
       "      <td>y</td>\n",
       "      <td>Rbp4-Cre_KL100</td>\n",
       "      <td>y</td>\n",
       "    </tr>\n",
       "    <tr>\n",
       "      <th>111</th>\n",
       "      <td>y</td>\n",
       "      <td>Slc32a1-IRES-Cre</td>\n",
       "      <td>y</td>\n",
       "    </tr>\n",
       "    <tr>\n",
       "      <th>112</th>\n",
       "      <td>y</td>\n",
       "      <td>Slc32a1-IRES-Cre</td>\n",
       "      <td>y</td>\n",
       "    </tr>\n",
       "    <tr>\n",
       "      <th>113</th>\n",
       "      <td>y</td>\n",
       "      <td>Slc32a1-IRES-Cre</td>\n",
       "      <td>y</td>\n",
       "    </tr>\n",
       "    <tr>\n",
       "      <th>117</th>\n",
       "      <td>y</td>\n",
       "      <td>Slc32a1-IRES-Cre</td>\n",
       "      <td>y</td>\n",
       "    </tr>\n",
       "    <tr>\n",
       "      <th>127</th>\n",
       "      <td>y</td>\n",
       "      <td>Gad2-IRES-Cre</td>\n",
       "      <td>y</td>\n",
       "    </tr>\n",
       "    <tr>\n",
       "      <th>129</th>\n",
       "      <td>y</td>\n",
       "      <td>Gad2-IRES-Cre</td>\n",
       "      <td>y</td>\n",
       "    </tr>\n",
       "    <tr>\n",
       "      <th>135</th>\n",
       "      <td>y</td>\n",
       "      <td>Gad2-IRES-Cre</td>\n",
       "      <td>y</td>\n",
       "    </tr>\n",
       "    <tr>\n",
       "      <th>136</th>\n",
       "      <td>y</td>\n",
       "      <td>Gad2-IRES-Cre</td>\n",
       "      <td>y</td>\n",
       "    </tr>\n",
       "    <tr>\n",
       "      <th>137</th>\n",
       "      <td>y</td>\n",
       "      <td>Gad2-IRES-Cre</td>\n",
       "      <td>y</td>\n",
       "    </tr>\n",
       "    <tr>\n",
       "      <th>171</th>\n",
       "      <td>y</td>\n",
       "      <td>Slc32a1-IRES-Cre</td>\n",
       "      <td>y</td>\n",
       "    </tr>\n",
       "    <tr>\n",
       "      <th>180</th>\n",
       "      <td>y</td>\n",
       "      <td>Slc32a1-IRES-Cre</td>\n",
       "      <td>y</td>\n",
       "    </tr>\n",
       "    <tr>\n",
       "      <th>181</th>\n",
       "      <td>y</td>\n",
       "      <td>Slc32a1-IRES-Cre</td>\n",
       "      <td>y</td>\n",
       "    </tr>\n",
       "    <tr>\n",
       "      <th>183</th>\n",
       "      <td>y</td>\n",
       "      <td>Slc32a1-IRES-Cre</td>\n",
       "      <td>y</td>\n",
       "    </tr>\n",
       "    <tr>\n",
       "      <th>185</th>\n",
       "      <td>y</td>\n",
       "      <td>Slc32a1-IRES-Cre</td>\n",
       "      <td>y</td>\n",
       "    </tr>\n",
       "    <tr>\n",
       "      <th>186</th>\n",
       "      <td>y</td>\n",
       "      <td>Slc32a1-IRES-Cre</td>\n",
       "      <td>y</td>\n",
       "    </tr>\n",
       "    <tr>\n",
       "      <th>252</th>\n",
       "      <td>y</td>\n",
       "      <td>Nos1-CreERT2</td>\n",
       "      <td>y</td>\n",
       "    </tr>\n",
       "    <tr>\n",
       "      <th>263</th>\n",
       "      <td>y</td>\n",
       "      <td>Nos1-CreERT2</td>\n",
       "      <td>y</td>\n",
       "    </tr>\n",
       "    <tr>\n",
       "      <th>281</th>\n",
       "      <td>y</td>\n",
       "      <td>Rorb-IRES2-Cre</td>\n",
       "      <td>y</td>\n",
       "    </tr>\n",
       "    <tr>\n",
       "      <th>282</th>\n",
       "      <td>y</td>\n",
       "      <td>Rorb-IRES2-Cre</td>\n",
       "      <td>y</td>\n",
       "    </tr>\n",
       "    <tr>\n",
       "      <th>285</th>\n",
       "      <td>y</td>\n",
       "      <td>Rorb-IRES2-Cre</td>\n",
       "      <td>y</td>\n",
       "    </tr>\n",
       "    <tr>\n",
       "      <th>289</th>\n",
       "      <td>y</td>\n",
       "      <td>Rorb-IRES2-Cre</td>\n",
       "      <td>y</td>\n",
       "    </tr>\n",
       "    <tr>\n",
       "      <th>290</th>\n",
       "      <td>y</td>\n",
       "      <td>Rorb-IRES2-Cre</td>\n",
       "      <td>y</td>\n",
       "    </tr>\n",
       "    <tr>\n",
       "      <th>298</th>\n",
       "      <td>y</td>\n",
       "      <td>Rorb-IRES2-Cre</td>\n",
       "      <td>y</td>\n",
       "    </tr>\n",
       "    <tr>\n",
       "      <th>299</th>\n",
       "      <td>y</td>\n",
       "      <td>Rorb-IRES2-Cre</td>\n",
       "      <td>y</td>\n",
       "    </tr>\n",
       "    <tr>\n",
       "      <th>300</th>\n",
       "      <td>y</td>\n",
       "      <td>Rorb-IRES2-Cre</td>\n",
       "      <td>y</td>\n",
       "    </tr>\n",
       "    <tr>\n",
       "      <th>301</th>\n",
       "      <td>y</td>\n",
       "      <td>Rorb-IRES2-Cre</td>\n",
       "      <td>y</td>\n",
       "    </tr>\n",
       "    <tr>\n",
       "      <th>302</th>\n",
       "      <td>y</td>\n",
       "      <td>Rorb-IRES2-Cre</td>\n",
       "      <td>y</td>\n",
       "    </tr>\n",
       "    <tr>\n",
       "      <th>303</th>\n",
       "      <td>y</td>\n",
       "      <td>Rorb-IRES2-Cre</td>\n",
       "      <td>y</td>\n",
       "    </tr>\n",
       "    <tr>\n",
       "      <th>...</th>\n",
       "      <td>...</td>\n",
       "      <td>...</td>\n",
       "      <td>...</td>\n",
       "    </tr>\n",
       "    <tr>\n",
       "      <th>4220</th>\n",
       "      <td>q</td>\n",
       "      <td>Nr5a1-Cre</td>\n",
       "      <td>q</td>\n",
       "    </tr>\n",
       "    <tr>\n",
       "      <th>4221</th>\n",
       "      <td>q</td>\n",
       "      <td>Nr5a1-Cre</td>\n",
       "      <td>q</td>\n",
       "    </tr>\n",
       "    <tr>\n",
       "      <th>4232</th>\n",
       "      <td>q</td>\n",
       "      <td>Chrna2-Cre_OE25</td>\n",
       "      <td>q</td>\n",
       "    </tr>\n",
       "    <tr>\n",
       "      <th>4240</th>\n",
       "      <td>q</td>\n",
       "      <td>Nr5a1-Cre</td>\n",
       "      <td>q</td>\n",
       "    </tr>\n",
       "    <tr>\n",
       "      <th>4241</th>\n",
       "      <td>q</td>\n",
       "      <td>Nr5a1-Cre</td>\n",
       "      <td>q</td>\n",
       "    </tr>\n",
       "    <tr>\n",
       "      <th>4243</th>\n",
       "      <td>q</td>\n",
       "      <td>Chrna2-Cre_OE25</td>\n",
       "      <td>q</td>\n",
       "    </tr>\n",
       "    <tr>\n",
       "      <th>4279</th>\n",
       "      <td>q</td>\n",
       "      <td>Chrna2-Cre_OE25</td>\n",
       "      <td>q</td>\n",
       "    </tr>\n",
       "    <tr>\n",
       "      <th>4310</th>\n",
       "      <td>q</td>\n",
       "      <td>Ndnf-IRES2-dgCre</td>\n",
       "      <td>q</td>\n",
       "    </tr>\n",
       "    <tr>\n",
       "      <th>4314</th>\n",
       "      <td>q</td>\n",
       "      <td>Slc32a1-IRES-Cre</td>\n",
       "      <td>q</td>\n",
       "    </tr>\n",
       "    <tr>\n",
       "      <th>4319</th>\n",
       "      <td>q</td>\n",
       "      <td>Oxtr-T2A-Cre</td>\n",
       "      <td>q</td>\n",
       "    </tr>\n",
       "    <tr>\n",
       "      <th>4321</th>\n",
       "      <td>q</td>\n",
       "      <td>Slc32a1-IRES-Cre</td>\n",
       "      <td>q</td>\n",
       "    </tr>\n",
       "    <tr>\n",
       "      <th>4343</th>\n",
       "      <td>q</td>\n",
       "      <td>Htr3a-Cre_NO152</td>\n",
       "      <td>q</td>\n",
       "    </tr>\n",
       "    <tr>\n",
       "      <th>4345</th>\n",
       "      <td>q</td>\n",
       "      <td>Slc32a1-IRES-Cre</td>\n",
       "      <td>q</td>\n",
       "    </tr>\n",
       "    <tr>\n",
       "      <th>4348</th>\n",
       "      <td>q</td>\n",
       "      <td>Ndnf-IRES2-dgCre</td>\n",
       "      <td>q</td>\n",
       "    </tr>\n",
       "    <tr>\n",
       "      <th>4360</th>\n",
       "      <td>q</td>\n",
       "      <td>Htr3a-Cre_NO152</td>\n",
       "      <td>q</td>\n",
       "    </tr>\n",
       "    <tr>\n",
       "      <th>4365</th>\n",
       "      <td>q</td>\n",
       "      <td>Oxtr-T2A-Cre</td>\n",
       "      <td>q</td>\n",
       "    </tr>\n",
       "    <tr>\n",
       "      <th>4366</th>\n",
       "      <td>q</td>\n",
       "      <td>Ndnf-IRES2-dgCre</td>\n",
       "      <td>q</td>\n",
       "    </tr>\n",
       "    <tr>\n",
       "      <th>4372</th>\n",
       "      <td>q</td>\n",
       "      <td>Ndnf-IRES2-dgCre</td>\n",
       "      <td>q</td>\n",
       "    </tr>\n",
       "    <tr>\n",
       "      <th>4376</th>\n",
       "      <td>q</td>\n",
       "      <td>Htr3a-Cre_NO152</td>\n",
       "      <td>q</td>\n",
       "    </tr>\n",
       "    <tr>\n",
       "      <th>4387</th>\n",
       "      <td>q</td>\n",
       "      <td>Ndnf-IRES2-dgCre</td>\n",
       "      <td>q</td>\n",
       "    </tr>\n",
       "    <tr>\n",
       "      <th>4389</th>\n",
       "      <td>q</td>\n",
       "      <td>Slc17a8-IRES2-Cre;Slc32a1-IRES2-FlpO</td>\n",
       "      <td>q</td>\n",
       "    </tr>\n",
       "    <tr>\n",
       "      <th>4390</th>\n",
       "      <td>q</td>\n",
       "      <td>Slc17a8-IRES2-Cre;Slc32a1-IRES2-FlpO</td>\n",
       "      <td>q</td>\n",
       "    </tr>\n",
       "    <tr>\n",
       "      <th>4398</th>\n",
       "      <td>q</td>\n",
       "      <td>Sim1-Cre_KJ18</td>\n",
       "      <td>q</td>\n",
       "    </tr>\n",
       "    <tr>\n",
       "      <th>4401</th>\n",
       "      <td>q</td>\n",
       "      <td>Sim1-Cre_KJ18</td>\n",
       "      <td>q</td>\n",
       "    </tr>\n",
       "    <tr>\n",
       "      <th>4402</th>\n",
       "      <td>q</td>\n",
       "      <td>Sim1-Cre_KJ18</td>\n",
       "      <td>q</td>\n",
       "    </tr>\n",
       "    <tr>\n",
       "      <th>4403</th>\n",
       "      <td>q</td>\n",
       "      <td>Sim1-Cre_KJ18</td>\n",
       "      <td>q</td>\n",
       "    </tr>\n",
       "    <tr>\n",
       "      <th>4409</th>\n",
       "      <td>q</td>\n",
       "      <td>Slc17a8-IRES2-Cre;Slc32a1-IRES2-FlpO</td>\n",
       "      <td>q</td>\n",
       "    </tr>\n",
       "    <tr>\n",
       "      <th>4417</th>\n",
       "      <td>q</td>\n",
       "      <td>Rbp4-Cre_KL100</td>\n",
       "      <td>q</td>\n",
       "    </tr>\n",
       "    <tr>\n",
       "      <th>4428</th>\n",
       "      <td>q</td>\n",
       "      <td>Rbp4-Cre_KL100</td>\n",
       "      <td>q</td>\n",
       "    </tr>\n",
       "    <tr>\n",
       "      <th>4430</th>\n",
       "      <td>q</td>\n",
       "      <td>Rbp4-Cre_KL100</td>\n",
       "      <td>q</td>\n",
       "    </tr>\n",
       "  </tbody>\n",
       "</table>\n",
       "<p>2041 rows × 3 columns</p>\n",
       "</div>"
      ],
      "text/plain": [
       "     Morph                              Cre_line morpho_call\n",
       "70       y                        Rbp4-Cre_KL100           y\n",
       "78       y                        Rbp4-Cre_KL100           y\n",
       "111      y                      Slc32a1-IRES-Cre           y\n",
       "112      y                      Slc32a1-IRES-Cre           y\n",
       "113      y                      Slc32a1-IRES-Cre           y\n",
       "117      y                      Slc32a1-IRES-Cre           y\n",
       "127      y                         Gad2-IRES-Cre           y\n",
       "129      y                         Gad2-IRES-Cre           y\n",
       "135      y                         Gad2-IRES-Cre           y\n",
       "136      y                         Gad2-IRES-Cre           y\n",
       "137      y                         Gad2-IRES-Cre           y\n",
       "171      y                      Slc32a1-IRES-Cre           y\n",
       "180      y                      Slc32a1-IRES-Cre           y\n",
       "181      y                      Slc32a1-IRES-Cre           y\n",
       "183      y                      Slc32a1-IRES-Cre           y\n",
       "185      y                      Slc32a1-IRES-Cre           y\n",
       "186      y                      Slc32a1-IRES-Cre           y\n",
       "252      y                          Nos1-CreERT2           y\n",
       "263      y                          Nos1-CreERT2           y\n",
       "281      y                        Rorb-IRES2-Cre           y\n",
       "282      y                        Rorb-IRES2-Cre           y\n",
       "285      y                        Rorb-IRES2-Cre           y\n",
       "289      y                        Rorb-IRES2-Cre           y\n",
       "290      y                        Rorb-IRES2-Cre           y\n",
       "298      y                        Rorb-IRES2-Cre           y\n",
       "299      y                        Rorb-IRES2-Cre           y\n",
       "300      y                        Rorb-IRES2-Cre           y\n",
       "301      y                        Rorb-IRES2-Cre           y\n",
       "302      y                        Rorb-IRES2-Cre           y\n",
       "303      y                        Rorb-IRES2-Cre           y\n",
       "...    ...                                   ...         ...\n",
       "4220     q                             Nr5a1-Cre           q\n",
       "4221     q                             Nr5a1-Cre           q\n",
       "4232     q                       Chrna2-Cre_OE25           q\n",
       "4240     q                             Nr5a1-Cre           q\n",
       "4241     q                             Nr5a1-Cre           q\n",
       "4243     q                       Chrna2-Cre_OE25           q\n",
       "4279     q                       Chrna2-Cre_OE25           q\n",
       "4310     q                      Ndnf-IRES2-dgCre           q\n",
       "4314     q                      Slc32a1-IRES-Cre           q\n",
       "4319     q                          Oxtr-T2A-Cre           q\n",
       "4321     q                      Slc32a1-IRES-Cre           q\n",
       "4343     q                       Htr3a-Cre_NO152           q\n",
       "4345     q                      Slc32a1-IRES-Cre           q\n",
       "4348     q                      Ndnf-IRES2-dgCre           q\n",
       "4360     q                       Htr3a-Cre_NO152           q\n",
       "4365     q                          Oxtr-T2A-Cre           q\n",
       "4366     q                      Ndnf-IRES2-dgCre           q\n",
       "4372     q                      Ndnf-IRES2-dgCre           q\n",
       "4376     q                       Htr3a-Cre_NO152           q\n",
       "4387     q                      Ndnf-IRES2-dgCre           q\n",
       "4389     q  Slc17a8-IRES2-Cre;Slc32a1-IRES2-FlpO           q\n",
       "4390     q  Slc17a8-IRES2-Cre;Slc32a1-IRES2-FlpO           q\n",
       "4398     q                         Sim1-Cre_KJ18           q\n",
       "4401     q                         Sim1-Cre_KJ18           q\n",
       "4402     q                         Sim1-Cre_KJ18           q\n",
       "4403     q                         Sim1-Cre_KJ18           q\n",
       "4409     q  Slc17a8-IRES2-Cre;Slc32a1-IRES2-FlpO           q\n",
       "4417     q                        Rbp4-Cre_KL100           q\n",
       "4428     q                        Rbp4-Cre_KL100           q\n",
       "4430     q                        Rbp4-Cre_KL100           q\n",
       "\n",
       "[2041 rows x 3 columns]"
      ]
     },
     "execution_count": 140,
     "metadata": {},
     "output_type": "execute_result"
    }
   ],
   "source": [
    "y = ps[ps['Morph'] == 'y']\n",
    "y[\"morpho_call\"] = \"y\"\n",
    "n = ps[ps['Morph'] == 'n']\n",
    "n['morpho_call'] = 'n'\n",
    "q = ps[ps['Morph'] == 'q']\n",
    "q['morpho_call'] = 'q'\n",
    "frames = [y, n, q]\n",
    "morphpp = pd.concat(frames)\n",
    "morphpp"
   ]
  },
  {
   "cell_type": "code",
   "execution_count": 62,
   "metadata": {
    "collapsed": false
   },
   "outputs": [],
   "source": [
    "#for creline in ps['Cre_line']:\n",
    "    #if creline.endswith(';A'):\n",
    "        #ps['Cre_line'] = ps['Slice (Lims ID?)'].str[:-2]\n",
    "#ps['Cre_line'].value_counts()       "
   ]
  },
  {
   "cell_type": "code",
   "execution_count": 141,
   "metadata": {
    "collapsed": false
   },
   "outputs": [],
   "source": [
    "types = {'Chat-IRES-Cre-neo': 'inhibitory', \n",
    "       'Chrna2-Cre_OE25': 'inhibitory', \n",
    "       'Ctgf-T2A-dgCre': 'excitatory', \n",
    "       'Cux2-CreERT2': 'excitatory',\n",
    "       'Gad2-IRES-Cre': 'inhibitory',\n",
    "       'Glt25d2-Cre_NF107': 'excitatory',\n",
    "       'Htr3a-Cre_NO152': 'inhibitory',\n",
    "       'Htr3a-Cre_NO152;Pvalb-T2A-Dre': 'inhibitory',\n",
    "       'Ndnf-IRES2-dgCre': 'inhibitory',\n",
    "       'Nkx2-1-CreERT2': 'inhibitory',\n",
    "       'Nos1-CreERT2;Sst-IRES-FlpO': 'inhibitory',\n",
    "       'Nr5a1-Cre': 'excitatory',\n",
    "       'Oxtr-T2A-Cre': 'mix',\n",
    "       'Pdyn-T2A-CreERT2': 'unknown',\n",
    "       'Pvalb-IRES-Cre': 'inhibitory',\n",
    "       'Rbp4-Cre_KL100': 'excitatory',\n",
    "       'Rorb-IRES2-Cre': 'excitatory',\n",
    "       'Rorb-IRES2-Cre-neo': 'excitatory',\n",
    "       'Scnn1a-Tg2-Cre': 'excitatory',\n",
    "       'Scnn1a-Tg3-Cre': 'excitatory',\n",
    "       'Sim1-Cre_KJ18': 'excitatory',\n",
    "       'Slc17a8-IRES2-Cre': 'excitatory',\n",
    "       'Slc32a1-IRES-Cre': 'inhibitory',\n",
    "       'Sst-IRES-Cre': 'inhibitory',\n",
    "       'Vip-IRES-Cre': 'inhibitory',\n",
    "       'Vipr2-IRES2-Cre-neo': 'inhibitory',\n",
    "       'Vipr2-IRES2-Cre;Slc32a1-T2A-FlpO': 'inhibitory'}\n",
    "\n",
    "morphpp['type'] = morphpp['Cre_line'].map(types)"
   ]
  },
  {
   "cell_type": "code",
   "execution_count": 78,
   "metadata": {
    "collapsed": true
   },
   "outputs": [],
   "source": [
    "ps1 = morphpp.groupby(['type'])"
   ]
  },
  {
   "cell_type": "code",
   "execution_count": 79,
   "metadata": {
    "collapsed": true
   },
   "outputs": [],
   "source": [
    "exc = ps1.get_group('excitatory')\n",
    "inhib = ps1.get_group('inhibitory')"
   ]
  },
  {
   "cell_type": "code",
   "execution_count": 81,
   "metadata": {
    "collapsed": false
   },
   "outputs": [
    {
     "data": {
      "text/html": [
       "<div>\n",
       "<table border=\"1\" class=\"dataframe\">\n",
       "  <thead>\n",
       "    <tr>\n",
       "      <th></th>\n",
       "      <th colspan=\"3\" halign=\"left\">Morph</th>\n",
       "    </tr>\n",
       "    <tr>\n",
       "      <th>morpho_call</th>\n",
       "      <th>n</th>\n",
       "      <th>q</th>\n",
       "      <th>y</th>\n",
       "    </tr>\n",
       "    <tr>\n",
       "      <th>Cre_line</th>\n",
       "      <th></th>\n",
       "      <th></th>\n",
       "      <th></th>\n",
       "    </tr>\n",
       "  </thead>\n",
       "  <tbody>\n",
       "    <tr>\n",
       "      <th>Ctgf-T2A-dgCre</th>\n",
       "      <td>22.222222</td>\n",
       "      <td>44.444444</td>\n",
       "      <td>33.333333</td>\n",
       "    </tr>\n",
       "    <tr>\n",
       "      <th>Cux2-CreERT2</th>\n",
       "      <td>70.270270</td>\n",
       "      <td>21.621622</td>\n",
       "      <td>8.108108</td>\n",
       "    </tr>\n",
       "    <tr>\n",
       "      <th>Nr5a1-Cre</th>\n",
       "      <td>53.703704</td>\n",
       "      <td>14.814815</td>\n",
       "      <td>31.481481</td>\n",
       "    </tr>\n",
       "    <tr>\n",
       "      <th>Rbp4-Cre_KL100</th>\n",
       "      <td>42.000000</td>\n",
       "      <td>13.200000</td>\n",
       "      <td>44.800000</td>\n",
       "    </tr>\n",
       "    <tr>\n",
       "      <th>Rorb-IRES2-Cre</th>\n",
       "      <td>56.807512</td>\n",
       "      <td>9.859155</td>\n",
       "      <td>33.333333</td>\n",
       "    </tr>\n",
       "    <tr>\n",
       "      <th>Rorb-IRES2-Cre-neo</th>\n",
       "      <td>43.137255</td>\n",
       "      <td>23.529412</td>\n",
       "      <td>33.333333</td>\n",
       "    </tr>\n",
       "    <tr>\n",
       "      <th>Scnn1a-Tg2-Cre</th>\n",
       "      <td>52.631579</td>\n",
       "      <td>15.789474</td>\n",
       "      <td>31.578947</td>\n",
       "    </tr>\n",
       "    <tr>\n",
       "      <th>Scnn1a-Tg3-Cre</th>\n",
       "      <td>50.000000</td>\n",
       "      <td>11.904762</td>\n",
       "      <td>38.095238</td>\n",
       "    </tr>\n",
       "    <tr>\n",
       "      <th>Sim1-Cre_KJ18</th>\n",
       "      <td>44.444444</td>\n",
       "      <td>27.777778</td>\n",
       "      <td>27.777778</td>\n",
       "    </tr>\n",
       "  </tbody>\n",
       "</table>\n",
       "</div>"
      ],
      "text/plain": [
       "                        Morph                      \n",
       "morpho_call                 n          q          y\n",
       "Cre_line                                           \n",
       "Ctgf-T2A-dgCre      22.222222  44.444444  33.333333\n",
       "Cux2-CreERT2        70.270270  21.621622   8.108108\n",
       "Nr5a1-Cre           53.703704  14.814815  31.481481\n",
       "Rbp4-Cre_KL100      42.000000  13.200000  44.800000\n",
       "Rorb-IRES2-Cre      56.807512   9.859155  33.333333\n",
       "Rorb-IRES2-Cre-neo  43.137255  23.529412  33.333333\n",
       "Scnn1a-Tg2-Cre      52.631579  15.789474  31.578947\n",
       "Scnn1a-Tg3-Cre      50.000000  11.904762  38.095238\n",
       "Sim1-Cre_KJ18       44.444444  27.777778  27.777778"
      ]
     },
     "execution_count": 81,
     "metadata": {},
     "output_type": "execute_result"
    }
   ],
   "source": [
    "excite = exc.groupby(['Cre_line', 'morpho_call']).count()\n",
    "excite = excite.reset_index()\n",
    "excite = excite.pivot_table(values=['Morph'],\n",
    "                            index=['Cre_line'],\n",
    "                            columns='morpho_call',\n",
    "                            aggfunc='sum', fill_value=0)\n",
    "excited = excite.div(excite.sum(1), axis=0)*100\n",
    "excited"
   ]
  },
  {
   "cell_type": "code",
   "execution_count": 82,
   "metadata": {
    "collapsed": false
   },
   "outputs": [
    {
     "data": {
      "text/html": [
       "<div>\n",
       "<table border=\"1\" class=\"dataframe\">\n",
       "  <thead>\n",
       "    <tr>\n",
       "      <th></th>\n",
       "      <th colspan=\"3\" halign=\"left\">Morph</th>\n",
       "    </tr>\n",
       "    <tr>\n",
       "      <th>morpho_call</th>\n",
       "      <th>n</th>\n",
       "      <th>q</th>\n",
       "      <th>y</th>\n",
       "    </tr>\n",
       "    <tr>\n",
       "      <th>Cre_line</th>\n",
       "      <th></th>\n",
       "      <th></th>\n",
       "      <th></th>\n",
       "    </tr>\n",
       "  </thead>\n",
       "  <tbody>\n",
       "    <tr>\n",
       "      <th>Ctgf-T2A-dgCre</th>\n",
       "      <td>2</td>\n",
       "      <td>4</td>\n",
       "      <td>3</td>\n",
       "    </tr>\n",
       "    <tr>\n",
       "      <th>Cux2-CreERT2</th>\n",
       "      <td>26</td>\n",
       "      <td>8</td>\n",
       "      <td>3</td>\n",
       "    </tr>\n",
       "    <tr>\n",
       "      <th>Nr5a1-Cre</th>\n",
       "      <td>29</td>\n",
       "      <td>8</td>\n",
       "      <td>17</td>\n",
       "    </tr>\n",
       "    <tr>\n",
       "      <th>Rbp4-Cre_KL100</th>\n",
       "      <td>105</td>\n",
       "      <td>33</td>\n",
       "      <td>112</td>\n",
       "    </tr>\n",
       "    <tr>\n",
       "      <th>Rorb-IRES2-Cre</th>\n",
       "      <td>121</td>\n",
       "      <td>21</td>\n",
       "      <td>71</td>\n",
       "    </tr>\n",
       "    <tr>\n",
       "      <th>Rorb-IRES2-Cre-neo</th>\n",
       "      <td>22</td>\n",
       "      <td>12</td>\n",
       "      <td>17</td>\n",
       "    </tr>\n",
       "    <tr>\n",
       "      <th>Scnn1a-Tg2-Cre</th>\n",
       "      <td>10</td>\n",
       "      <td>3</td>\n",
       "      <td>6</td>\n",
       "    </tr>\n",
       "    <tr>\n",
       "      <th>Scnn1a-Tg3-Cre</th>\n",
       "      <td>21</td>\n",
       "      <td>5</td>\n",
       "      <td>16</td>\n",
       "    </tr>\n",
       "    <tr>\n",
       "      <th>Sim1-Cre_KJ18</th>\n",
       "      <td>8</td>\n",
       "      <td>5</td>\n",
       "      <td>5</td>\n",
       "    </tr>\n",
       "  </tbody>\n",
       "</table>\n",
       "</div>"
      ],
      "text/plain": [
       "                   Morph         \n",
       "morpho_call            n   q    y\n",
       "Cre_line                         \n",
       "Ctgf-T2A-dgCre         2   4    3\n",
       "Cux2-CreERT2          26   8    3\n",
       "Nr5a1-Cre             29   8   17\n",
       "Rbp4-Cre_KL100       105  33  112\n",
       "Rorb-IRES2-Cre       121  21   71\n",
       "Rorb-IRES2-Cre-neo    22  12   17\n",
       "Scnn1a-Tg2-Cre        10   3    6\n",
       "Scnn1a-Tg3-Cre        21   5   16\n",
       "Sim1-Cre_KJ18          8   5    5"
      ]
     },
     "execution_count": 82,
     "metadata": {},
     "output_type": "execute_result"
    }
   ],
   "source": [
    "excite"
   ]
  },
  {
   "cell_type": "code",
   "execution_count": 83,
   "metadata": {
    "collapsed": false
   },
   "outputs": [
    {
     "data": {
      "text/plain": [
       "[9, 37, 54, 250, 213, 51, 19, 42, 18]"
      ]
     },
     "execution_count": 83,
     "metadata": {},
     "output_type": "execute_result"
    }
   ],
   "source": [
    "excite_totals = list(excite.sum(1))\n",
    "excite_totals"
   ]
  },
  {
   "cell_type": "code",
   "execution_count": 84,
   "metadata": {
    "collapsed": false
   },
   "outputs": [
    {
     "data": {
      "text/html": [
       "<div>\n",
       "<table border=\"1\" class=\"dataframe\">\n",
       "  <thead>\n",
       "    <tr>\n",
       "      <th></th>\n",
       "      <th colspan=\"3\" halign=\"left\">Morph</th>\n",
       "    </tr>\n",
       "    <tr>\n",
       "      <th>morpho_call</th>\n",
       "      <th>n</th>\n",
       "      <th>q</th>\n",
       "      <th>y</th>\n",
       "    </tr>\n",
       "    <tr>\n",
       "      <th>Cre_line</th>\n",
       "      <th></th>\n",
       "      <th></th>\n",
       "      <th></th>\n",
       "    </tr>\n",
       "  </thead>\n",
       "  <tbody>\n",
       "    <tr>\n",
       "      <th>Chat-IRES-Cre-neo</th>\n",
       "      <td>61.538462</td>\n",
       "      <td>23.076923</td>\n",
       "      <td>15.384615</td>\n",
       "    </tr>\n",
       "    <tr>\n",
       "      <th>Chrna2-Cre_OE25</th>\n",
       "      <td>64.197531</td>\n",
       "      <td>20.987654</td>\n",
       "      <td>14.814815</td>\n",
       "    </tr>\n",
       "    <tr>\n",
       "      <th>Gad2-IRES-Cre</th>\n",
       "      <td>76.381910</td>\n",
       "      <td>13.065327</td>\n",
       "      <td>10.552764</td>\n",
       "    </tr>\n",
       "    <tr>\n",
       "      <th>Htr3a-Cre_NO152</th>\n",
       "      <td>44.000000</td>\n",
       "      <td>28.000000</td>\n",
       "      <td>28.000000</td>\n",
       "    </tr>\n",
       "    <tr>\n",
       "      <th>Htr3a-Cre_NO152;Pvalb-T2A-Dre</th>\n",
       "      <td>78.571429</td>\n",
       "      <td>14.285714</td>\n",
       "      <td>7.142857</td>\n",
       "    </tr>\n",
       "    <tr>\n",
       "      <th>Ndnf-IRES2-dgCre</th>\n",
       "      <td>68.152866</td>\n",
       "      <td>7.643312</td>\n",
       "      <td>24.203822</td>\n",
       "    </tr>\n",
       "    <tr>\n",
       "      <th>Nos1-CreERT2;Sst-IRES-FlpO</th>\n",
       "      <td>10.000000</td>\n",
       "      <td>20.000000</td>\n",
       "      <td>70.000000</td>\n",
       "    </tr>\n",
       "    <tr>\n",
       "      <th>Pvalb-IRES-Cre</th>\n",
       "      <td>68.656716</td>\n",
       "      <td>17.910448</td>\n",
       "      <td>13.432836</td>\n",
       "    </tr>\n",
       "    <tr>\n",
       "      <th>Slc32a1-IRES-Cre</th>\n",
       "      <td>69.858156</td>\n",
       "      <td>20.567376</td>\n",
       "      <td>9.574468</td>\n",
       "    </tr>\n",
       "    <tr>\n",
       "      <th>Sst-IRES-Cre</th>\n",
       "      <td>38.372093</td>\n",
       "      <td>18.604651</td>\n",
       "      <td>43.023256</td>\n",
       "    </tr>\n",
       "    <tr>\n",
       "      <th>Vip-IRES-Cre</th>\n",
       "      <td>62.857143</td>\n",
       "      <td>19.591837</td>\n",
       "      <td>17.551020</td>\n",
       "    </tr>\n",
       "    <tr>\n",
       "      <th>Vipr2-IRES2-Cre;Slc32a1-T2A-FlpO</th>\n",
       "      <td>80.392157</td>\n",
       "      <td>1.960784</td>\n",
       "      <td>17.647059</td>\n",
       "    </tr>\n",
       "  </tbody>\n",
       "</table>\n",
       "</div>"
      ],
      "text/plain": [
       "                                      Morph                      \n",
       "morpho_call                               n          q          y\n",
       "Cre_line                                                         \n",
       "Chat-IRES-Cre-neo                 61.538462  23.076923  15.384615\n",
       "Chrna2-Cre_OE25                   64.197531  20.987654  14.814815\n",
       "Gad2-IRES-Cre                     76.381910  13.065327  10.552764\n",
       "Htr3a-Cre_NO152                   44.000000  28.000000  28.000000\n",
       "Htr3a-Cre_NO152;Pvalb-T2A-Dre     78.571429  14.285714   7.142857\n",
       "Ndnf-IRES2-dgCre                  68.152866   7.643312  24.203822\n",
       "Nos1-CreERT2;Sst-IRES-FlpO        10.000000  20.000000  70.000000\n",
       "Pvalb-IRES-Cre                    68.656716  17.910448  13.432836\n",
       "Slc32a1-IRES-Cre                  69.858156  20.567376   9.574468\n",
       "Sst-IRES-Cre                      38.372093  18.604651  43.023256\n",
       "Vip-IRES-Cre                      62.857143  19.591837  17.551020\n",
       "Vipr2-IRES2-Cre;Slc32a1-T2A-FlpO  80.392157   1.960784  17.647059"
      ]
     },
     "execution_count": 84,
     "metadata": {},
     "output_type": "execute_result"
    }
   ],
   "source": [
    "inhibit = inhib.groupby(['Cre_line', 'morpho_call']).count()\n",
    "inhibit = inhibit.reset_index()\n",
    "inhibit = inhibit.pivot_table(values=['Morph'], \n",
    "                              index=['Cre_line'], \n",
    "                              columns='morpho_call',\n",
    "                              aggfunc='sum', fill_value=0)\n",
    "inhibited = inhibit.div(inhibit.sum(1), axis=0)*100\n",
    "inhibited"
   ]
  },
  {
   "cell_type": "code",
   "execution_count": 85,
   "metadata": {
    "collapsed": false
   },
   "outputs": [
    {
     "data": {
      "text/html": [
       "<div>\n",
       "<table border=\"1\" class=\"dataframe\">\n",
       "  <thead>\n",
       "    <tr>\n",
       "      <th></th>\n",
       "      <th colspan=\"3\" halign=\"left\">Morph</th>\n",
       "    </tr>\n",
       "    <tr>\n",
       "      <th>morpho_call</th>\n",
       "      <th>n</th>\n",
       "      <th>q</th>\n",
       "      <th>y</th>\n",
       "    </tr>\n",
       "    <tr>\n",
       "      <th>Cre_line</th>\n",
       "      <th></th>\n",
       "      <th></th>\n",
       "      <th></th>\n",
       "    </tr>\n",
       "  </thead>\n",
       "  <tbody>\n",
       "    <tr>\n",
       "      <th>Chat-IRES-Cre-neo</th>\n",
       "      <td>8</td>\n",
       "      <td>3</td>\n",
       "      <td>2</td>\n",
       "    </tr>\n",
       "    <tr>\n",
       "      <th>Chrna2-Cre_OE25</th>\n",
       "      <td>52</td>\n",
       "      <td>17</td>\n",
       "      <td>12</td>\n",
       "    </tr>\n",
       "    <tr>\n",
       "      <th>Gad2-IRES-Cre</th>\n",
       "      <td>152</td>\n",
       "      <td>26</td>\n",
       "      <td>21</td>\n",
       "    </tr>\n",
       "    <tr>\n",
       "      <th>Htr3a-Cre_NO152</th>\n",
       "      <td>11</td>\n",
       "      <td>7</td>\n",
       "      <td>7</td>\n",
       "    </tr>\n",
       "    <tr>\n",
       "      <th>Htr3a-Cre_NO152;Pvalb-T2A-Dre</th>\n",
       "      <td>11</td>\n",
       "      <td>2</td>\n",
       "      <td>1</td>\n",
       "    </tr>\n",
       "    <tr>\n",
       "      <th>Ndnf-IRES2-dgCre</th>\n",
       "      <td>107</td>\n",
       "      <td>12</td>\n",
       "      <td>38</td>\n",
       "    </tr>\n",
       "    <tr>\n",
       "      <th>Nos1-CreERT2;Sst-IRES-FlpO</th>\n",
       "      <td>1</td>\n",
       "      <td>2</td>\n",
       "      <td>7</td>\n",
       "    </tr>\n",
       "    <tr>\n",
       "      <th>Pvalb-IRES-Cre</th>\n",
       "      <td>46</td>\n",
       "      <td>12</td>\n",
       "      <td>9</td>\n",
       "    </tr>\n",
       "    <tr>\n",
       "      <th>Slc32a1-IRES-Cre</th>\n",
       "      <td>197</td>\n",
       "      <td>58</td>\n",
       "      <td>27</td>\n",
       "    </tr>\n",
       "    <tr>\n",
       "      <th>Sst-IRES-Cre</th>\n",
       "      <td>33</td>\n",
       "      <td>16</td>\n",
       "      <td>37</td>\n",
       "    </tr>\n",
       "    <tr>\n",
       "      <th>Vip-IRES-Cre</th>\n",
       "      <td>154</td>\n",
       "      <td>48</td>\n",
       "      <td>43</td>\n",
       "    </tr>\n",
       "    <tr>\n",
       "      <th>Vipr2-IRES2-Cre;Slc32a1-T2A-FlpO</th>\n",
       "      <td>41</td>\n",
       "      <td>1</td>\n",
       "      <td>9</td>\n",
       "    </tr>\n",
       "  </tbody>\n",
       "</table>\n",
       "</div>"
      ],
      "text/plain": [
       "                                 Morph        \n",
       "morpho_call                          n   q   y\n",
       "Cre_line                                      \n",
       "Chat-IRES-Cre-neo                    8   3   2\n",
       "Chrna2-Cre_OE25                     52  17  12\n",
       "Gad2-IRES-Cre                      152  26  21\n",
       "Htr3a-Cre_NO152                     11   7   7\n",
       "Htr3a-Cre_NO152;Pvalb-T2A-Dre       11   2   1\n",
       "Ndnf-IRES2-dgCre                   107  12  38\n",
       "Nos1-CreERT2;Sst-IRES-FlpO           1   2   7\n",
       "Pvalb-IRES-Cre                      46  12   9\n",
       "Slc32a1-IRES-Cre                   197  58  27\n",
       "Sst-IRES-Cre                        33  16  37\n",
       "Vip-IRES-Cre                       154  48  43\n",
       "Vipr2-IRES2-Cre;Slc32a1-T2A-FlpO    41   1   9"
      ]
     },
     "execution_count": 85,
     "metadata": {},
     "output_type": "execute_result"
    }
   ],
   "source": [
    "inhibit"
   ]
  },
  {
   "cell_type": "code",
   "execution_count": 86,
   "metadata": {
    "collapsed": false
   },
   "outputs": [
    {
     "data": {
      "text/plain": [
       "[13, 81, 199, 25, 14, 157, 10, 67, 282, 86, 245, 51]"
      ]
     },
     "execution_count": 86,
     "metadata": {},
     "output_type": "execute_result"
    }
   ],
   "source": [
    "inhibit_totals = list(inhibit.sum(1))\n",
    "inhibit_totals"
   ]
  },
  {
   "cell_type": "code",
   "execution_count": 92,
   "metadata": {
    "collapsed": false
   },
   "outputs": [],
   "source": [
    "exc_names = sorted(list(exc.Cre_line.unique()))\n",
    "exc_yes = list(excited['Morph', 'y'])\n",
    "exc_quest = list(excited['Morph', 'q'])\n",
    "exc_no = list(excited['Morph', 'n'])\n",
    "\n",
    "inhib_names = sorted(list(inhib.Cre_line.unique()))\n",
    "inhib_yes = list(inhibited['Morph', 'y'])\n",
    "inhib_quest = list(inhibited['Morph', 'q'])\n",
    "inhib_no = list(inhibited['Morph', 'n'])\n",
    "\n",
    "all_names = exc_names + inhib_names\n",
    "all_names\n",
    "all_groups = len(all_names)\n",
    "all_index = np.arange(all_groups)"
   ]
  },
  {
   "cell_type": "code",
   "execution_count": 149,
   "metadata": {
    "collapsed": false
   },
   "outputs": [
    {
     "data": {
      "image/png": "[encoded data removed]",
      "text/plain": [
       "<matplotlib.figure.Figure at 0xee07c50>"
      ]
     },
     "metadata": {},
     "output_type": "display_data"
    }
   ],
   "source": [
    "exc_group = len(exc_names)\n",
    "exc_index = np.arange(exc_group)\n",
    "inhib_group = len(inhib_names)\n",
    "inhib_index = (np.arange(inhib_group)+exc_group)\n",
    "\n",
    "fig, ax = plt.subplots()\n",
    "ax.spines['top'].set_visible(False)\n",
    "ax.spines['right'].set_visible(False)\n",
    "ax.spines['top'].set_visible(False)\n",
    "ax.spines['right'].set_visible(False)\n",
    "ax.spines['left'].set_bounds(0,110)\n",
    "ax.xaxis.set_ticks_position('none')\n",
    "ax.yaxis.set_ticks_position('none')\n",
    "barWidth = 0.5\n",
    "\n",
    "exc_y = plt.bar(exc_index, exc_yes, color='royalblue', width=barWidth)\n",
    "exc_q = plt.bar(exc_index, exc_quest, color='green', bottom=exc_yes, width=barWidth)\n",
    "exc_n = plt.bar(exc_index, exc_no, color='tomato', bottom=[i+j for i,j in zip(exc_yes, exc_quest)], \n",
    "                width=barWidth)\n",
    "for yes, total in zip(exc_y, excite_totals):\n",
    "    ax.text(yes.get_x()+yes.get_width()/2, 101, total, ha='center', va='bottom', fontsize=7)\n",
    "\n",
    "inhib_y = plt.bar(inhib_index, inhib_yes, color='mediumblue', width=barWidth)\n",
    "inhib_q = plt.bar(inhib_index, inhib_quest, color='darkgreen', bottom=inhib_yes, width=barWidth)\n",
    "inhib_n = plt.bar(inhib_index, inhib_no, color='firebrick', \n",
    "                  bottom=[i+j for i,j in zip(inhib_yes, inhib_quest)], width=barWidth)\n",
    "for no, total in zip(inhib_n, inhibit_totals):\n",
    "    ax.text(no.get_x()+no.get_width()/2, 101, total, ha='center', va='bottom', fontsize=7)\n",
    "    \n",
    "axes = plt.gca()\n",
    "plt.xticks(all_index+0.5, all_names, rotation=45, size=7, ha='right')\n",
    "plt.yticks([0,20,40,60,80,100], size=7)\n",
    "axes.set_xlim([-0.5, 21])\n",
    "axes.set_ylim([0,190])\n",
    "leg = plt.legend((exc_n, exc_q, exc_y, inhib_n, inhib_q, inhib_y),\n",
    "                 ('           no', '   questionable', '          yes','','',''),\n",
    "                  ncol=2, prop={'size':7}, loc='upper center', frameon=False)\n",
    "leg.set_title('Excitatory                       Inhibitory', prop={'size':7})\n",
    "#leg.get_title().set_position((-14,0))\n",
    "plt.title('Morphological Calls by Cre-line', fontsize='10')\n",
    "plt.tight_layout()\n",
    "fig.savefig('morpho_calls_by_creline', dpi=300)"
   ]
  },
  {
   "cell_type": "code",
   "execution_count": null,
   "metadata": {
    "collapsed": true
   },
   "outputs": [],
   "source": []
  },
  {
   "cell_type": "code",
   "execution_count": null,
   "metadata": {
    "collapsed": true
   },
   "outputs": [],
   "source": []
  },
  {
   "cell_type": "code",
   "execution_count": null,
   "metadata": {
    "collapsed": true
   },
   "outputs": [],
   "source": []
  },
  {
   "cell_type": "code",
   "execution_count": null,
   "metadata": {
    "collapsed": true
   },
   "outputs": [],
   "source": []
  },
  {
   "cell_type": "code",
   "execution_count": null,
   "metadata": {
    "collapsed": true
   },
   "outputs": [],
   "source": []
  },
  {
   "cell_type": "code",
   "execution_count": null,
   "metadata": {
    "collapsed": true
   },
   "outputs": [],
   "source": []
  },
  {
   "cell_type": "code",
   "execution_count": null,
   "metadata": {
    "collapsed": true
   },
   "outputs": [],
   "source": []
  },
  {
   "cell_type": "code",
   "execution_count": null,
   "metadata": {
    "collapsed": true
   },
   "outputs": [],
   "source": []
  },
  {
   "cell_type": "code",
   "execution_count": null,
   "metadata": {
    "collapsed": true
   },
   "outputs": [],
   "source": []
  },
  {
   "cell_type": "code",
   "execution_count": null,
   "metadata": {
    "collapsed": true
   },
   "outputs": [],
   "source": []
  },
  {
   "cell_type": "code",
   "execution_count": null,
   "metadata": {
    "collapsed": true
   },
   "outputs": [],
   "source": []
  },
  {
   "cell_type": "code",
   "execution_count": null,
   "metadata": {
    "collapsed": true
   },
   "outputs": [],
   "source": []
  },
  {
   "cell_type": "code",
   "execution_count": null,
   "metadata": {
    "collapsed": true
   },
   "outputs": [],
   "source": []
  },
  {
   "cell_type": "code",
   "execution_count": null,
   "metadata": {
    "collapsed": true
   },
   "outputs": [],
   "source": []
  },
  {
   "cell_type": "code",
   "execution_count": null,
   "metadata": {
    "collapsed": true
   },
   "outputs": [],
   "source": []
  },
  {
   "cell_type": "code",
   "execution_count": null,
   "metadata": {
    "collapsed": true
   },
   "outputs": [],
   "source": []
  },
  {
   "cell_type": "code",
   "execution_count": null,
   "metadata": {
    "collapsed": true
   },
   "outputs": [],
   "source": []
  },
  {
   "cell_type": "code",
   "execution_count": null,
   "metadata": {
    "collapsed": true
   },
   "outputs": [],
   "source": []
  },
  {
   "cell_type": "code",
   "execution_count": null,
   "metadata": {
    "collapsed": true
   },
   "outputs": [],
   "source": []
  },
  {
   "cell_type": "code",
   "execution_count": null,
   "metadata": {
    "collapsed": true
   },
   "outputs": [],
   "source": []
  },
  {
   "cell_type": "code",
   "execution_count": null,
   "metadata": {
    "collapsed": true
   },
   "outputs": [],
   "source": []
  },
  {
   "cell_type": "code",
   "execution_count": null,
   "metadata": {
    "collapsed": true
   },
   "outputs": [],
   "source": []
  },
  {
   "cell_type": "code",
   "execution_count": null,
   "metadata": {
    "collapsed": true
   },
   "outputs": [],
   "source": []
  },
  {
   "cell_type": "code",
   "execution_count": null,
   "metadata": {
    "collapsed": true
   },
   "outputs": [],
   "source": []
  },
  {
   "cell_type": "code",
   "execution_count": null,
   "metadata": {
    "collapsed": true
   },
   "outputs": [],
   "source": []
  },
  {
   "cell_type": "code",
   "execution_count": null,
   "metadata": {
    "collapsed": true
   },
   "outputs": [],
   "source": []
  },
  {
   "cell_type": "code",
   "execution_count": null,
   "metadata": {
    "collapsed": true
   },
   "outputs": [],
   "source": []
  },
  {
   "cell_type": "code",
   "execution_count": null,
   "metadata": {
    "collapsed": true
   },
   "outputs": [],
   "source": []
  },
  {
   "cell_type": "code",
   "execution_count": null,
   "metadata": {
    "collapsed": true
   },
   "outputs": [],
   "source": []
  },
  {
   "cell_type": "code",
   "execution_count": null,
   "metadata": {
    "collapsed": true
   },
   "outputs": [],
   "source": []
  },
  {
   "cell_type": "code",
   "execution_count": null,
   "metadata": {
    "collapsed": true
   },
   "outputs": [],
   "source": []
  },
  {
   "cell_type": "code",
   "execution_count": null,
   "metadata": {
    "collapsed": true
   },
   "outputs": [],
   "source": []
  },
  {
   "cell_type": "code",
   "execution_count": null,
   "metadata": {
    "collapsed": true
   },
   "outputs": [],
   "source": []
  },
  {
   "cell_type": "code",
   "execution_count": null,
   "metadata": {
    "collapsed": true
   },
   "outputs": [],
   "source": []
  },
  {
   "cell_type": "code",
   "execution_count": null,
   "metadata": {
    "collapsed": true
   },
   "outputs": [],
   "source": []
  }
 ],
 "metadata": {
  "anaconda-cloud": {},
  "kernelspec": {
   "display_name": "Python [Root]",
   "language": "python",
   "name": "Python [Root]"
  },
  "language_info": {
   "codemirror_mode": {
    "name": "ipython",
    "version": 2
   },
   "file_extension": ".py",
   "mimetype": "text/x-python",
   "name": "python",
   "nbconvert_exporter": "python",
   "pygments_lexer": "ipython2",
   "version": "2.7.11"
  }
 },
 "nbformat": 4,
 "nbformat_minor": 2
}
