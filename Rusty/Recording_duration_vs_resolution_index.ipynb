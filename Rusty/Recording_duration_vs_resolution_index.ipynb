{
 "cells": [
  {
   "cell_type": "code",
   "execution_count": 21,
   "metadata": {
    "collapsed": true
   },
   "outputs": [],
   "source": [
    "import csv\n",
    "import seaborn as sns\n",
    "import pandas as pd\n",
    "import numpy as np\n",
    "%matplotlib inline\n",
    "import matplotlib.pyplot as plt\n",
    "import matplotlib.patheffects as pe\n",
    "from datetime import datetime\n",
    "sns.set_style('white')"
   ]
  },
  {
   "cell_type": "code",
   "execution_count": 2,
   "metadata": {
    "collapsed": true
   },
   "outputs": [],
   "source": [
    "initial = pd.read_csv('C:/users/rustym/documents/github/patchseq_gdoc_analysis/patch_seq_log_mouse.csv')"
   ]
  },
  {
   "cell_type": "code",
   "execution_count": 3,
   "metadata": {},
   "outputs": [
    {
     "name": "stdout",
     "output_type": "stream",
     "text": [
      "<class 'pandas.core.frame.DataFrame'>\n",
      "RangeIndex: 7927 entries, 0 to 7926\n",
      "Data columns (total 10 columns):\n",
      "Date                             7927 non-null int64\n",
      "Post patch?                      5047 non-null object\n",
      "Post patch pipette R             493 non-null float64\n",
      "PCR cycles                       7489 non-null float64\n",
      "Time spent extracting cytosol    5248 non-null object\n",
      "Time spent retracting pipette    493 non-null float64\n",
      "patch duration                   5187 non-null object\n",
      "Resolution index                 2265 non-null float64\n",
      "SM_QC_PF                         6870 non-null object\n",
      "Bad dates                        1269 non-null object\n",
      "dtypes: float64(4), int64(1), object(5)\n",
      "memory usage: 619.4+ KB\n"
     ]
    }
   ],
   "source": [
    "ps = initial[[\"Date\", \"Post patch?\", \"Post patch pipette R\", \"PCR cycles\", \"Time spent extracting cytosol\", \"Time spent retracting pipette\", \n",
    "              \"patch duration\", \"Resolution index\", \"SM_QC_PF\", \"Bad dates\"]]\n",
    "ps.info()"
   ]
  },
  {
   "cell_type": "code",
   "execution_count": 4,
   "metadata": {},
   "outputs": [
    {
     "name": "stderr",
     "output_type": "stream",
     "text": [
      "C:\\ProgramData\\Anaconda2\\lib\\site-packages\\ipykernel_launcher.py:1: SettingWithCopyWarning: \n",
      "A value is trying to be set on a copy of a slice from a DataFrame.\n",
      "Try using .loc[row_indexer,col_indexer] = value instead\n",
      "\n",
      "See the caveats in the documentation: http://pandas.pydata.org/pandas-docs/stable/indexing.html#indexing-view-versus-copy\n",
      "  \"\"\"Entry point for launching an IPython kernel.\n",
      "C:\\ProgramData\\Anaconda2\\lib\\site-packages\\ipykernel_launcher.py:2: SettingWithCopyWarning: \n",
      "A value is trying to be set on a copy of a slice from a DataFrame.\n",
      "Try using .loc[row_indexer,col_indexer] = value instead\n",
      "\n",
      "See the caveats in the documentation: http://pandas.pydata.org/pandas-docs/stable/indexing.html#indexing-view-versus-copy\n",
      "  \n",
      "C:\\ProgramData\\Anaconda2\\lib\\site-packages\\ipykernel_launcher.py:3: SettingWithCopyWarning: \n",
      "A value is trying to be set on a copy of a slice from a DataFrame.\n",
      "Try using .loc[row_indexer,col_indexer] = value instead\n",
      "\n",
      "See the caveats in the documentation: http://pandas.pydata.org/pandas-docs/stable/indexing.html#indexing-view-versus-copy\n",
      "  This is separate from the ipykernel package so we can avoid doing imports until\n"
     ]
    },
    {
     "data": {
      "text/html": [
       "<div>\n",
       "<style>\n",
       "    .dataframe thead tr:only-child th {\n",
       "        text-align: right;\n",
       "    }\n",
       "\n",
       "    .dataframe thead th {\n",
       "        text-align: left;\n",
       "    }\n",
       "\n",
       "    .dataframe tbody tr th {\n",
       "        vertical-align: top;\n",
       "    }\n",
       "</style>\n",
       "<table border=\"1\" class=\"dataframe\">\n",
       "  <thead>\n",
       "    <tr style=\"text-align: right;\">\n",
       "      <th></th>\n",
       "      <th>Date</th>\n",
       "      <th>Post patch?</th>\n",
       "      <th>Post patch pipette R</th>\n",
       "      <th>PCR cycles</th>\n",
       "      <th>Time spent extracting cytosol</th>\n",
       "      <th>Time spent retracting pipette</th>\n",
       "      <th>patch duration</th>\n",
       "      <th>Resolution index</th>\n",
       "      <th>SM_QC_PF</th>\n",
       "    </tr>\n",
       "  </thead>\n",
       "  <tbody>\n",
       "    <tr>\n",
       "      <th>4969</th>\n",
       "      <td>2017-04-19</td>\n",
       "      <td>Outside-Out</td>\n",
       "      <td>NaN</td>\n",
       "      <td>21.0</td>\n",
       "      <td>1.666667</td>\n",
       "      <td>0.0</td>\n",
       "      <td>6.566667</td>\n",
       "      <td>0.923406</td>\n",
       "      <td>pass</td>\n",
       "    </tr>\n",
       "    <tr>\n",
       "      <th>4971</th>\n",
       "      <td>2017-04-19</td>\n",
       "      <td>Nucleated</td>\n",
       "      <td>NaN</td>\n",
       "      <td>21.0</td>\n",
       "      <td>2.350000</td>\n",
       "      <td>0.0</td>\n",
       "      <td>7.416667</td>\n",
       "      <td>0.000000</td>\n",
       "      <td>pass</td>\n",
       "    </tr>\n",
       "    <tr>\n",
       "      <th>4972</th>\n",
       "      <td>2017-04-19</td>\n",
       "      <td>Outside-Out</td>\n",
       "      <td>NaN</td>\n",
       "      <td>21.0</td>\n",
       "      <td>2.216667</td>\n",
       "      <td>0.0</td>\n",
       "      <td>4.166667</td>\n",
       "      <td>0.322631</td>\n",
       "      <td>pass</td>\n",
       "    </tr>\n",
       "    <tr>\n",
       "      <th>4973</th>\n",
       "      <td>2017-04-19</td>\n",
       "      <td>Nucleated</td>\n",
       "      <td>NaN</td>\n",
       "      <td>21.0</td>\n",
       "      <td>2.183333</td>\n",
       "      <td>0.0</td>\n",
       "      <td>9.466667</td>\n",
       "      <td>0.322631</td>\n",
       "      <td>pass</td>\n",
       "    </tr>\n",
       "    <tr>\n",
       "      <th>4974</th>\n",
       "      <td>2017-04-19</td>\n",
       "      <td>No-Seal</td>\n",
       "      <td>NaN</td>\n",
       "      <td>21.0</td>\n",
       "      <td>1.883333</td>\n",
       "      <td>0.0</td>\n",
       "      <td>6.700000</td>\n",
       "      <td>0.000000</td>\n",
       "      <td>pass</td>\n",
       "    </tr>\n",
       "  </tbody>\n",
       "</table>\n",
       "</div>"
      ],
      "text/plain": [
       "           Date  Post patch?  Post patch pipette R PCR cycles  \\\n",
       "4969 2017-04-19  Outside-Out                   NaN       21.0   \n",
       "4971 2017-04-19    Nucleated                   NaN       21.0   \n",
       "4972 2017-04-19  Outside-Out                   NaN       21.0   \n",
       "4973 2017-04-19    Nucleated                   NaN       21.0   \n",
       "4974 2017-04-19      No-Seal                   NaN       21.0   \n",
       "\n",
       "      Time spent extracting cytosol  Time spent retracting pipette  \\\n",
       "4969                       1.666667                            0.0   \n",
       "4971                       2.350000                            0.0   \n",
       "4972                       2.216667                            0.0   \n",
       "4973                       2.183333                            0.0   \n",
       "4974                       1.883333                            0.0   \n",
       "\n",
       "      patch duration  Resolution index SM_QC_PF  \n",
       "4969        6.566667          0.923406     pass  \n",
       "4971        7.416667          0.000000     pass  \n",
       "4972        4.166667          0.322631     pass  \n",
       "4973        9.466667          0.322631     pass  \n",
       "4974        6.700000          0.000000     pass  "
      ]
     },
     "execution_count": 4,
     "metadata": {},
     "output_type": "execute_result"
    }
   ],
   "source": [
    "ps[\"SM_QC_PF\"] = ps[\"SM_QC_PF\"].astype(\"category\")\n",
    "ps[\"PCR cycles\"] = ps[\"PCR cycles\"].astype(\"category\")\n",
    "ps[\"Bad dates\"] = ps[\"Bad dates\"].astype(\"category\")\n",
    "\n",
    "ps = ps[ps[\"PCR cycles\"] == 21]\n",
    "ps = ps[ps[\"SM_QC_PF\"] != \"cnt\"]\n",
    "ps = ps[ps[\"Bad dates\"] != \"x\"]\n",
    "ps = ps.drop(\"Bad dates\", 1)\n",
    "\n",
    "#ps = ps[ps[\">400\"] < 8000]\n",
    "#ps = ps[ps['Time spent extracting cytosol'] <= 10]\n",
    "\n",
    "ps[\"Date\"] = pd.to_datetime(ps[\"Date\"], format = '%y%m%d')\n",
    "ps[\"Time spent extracting cytosol\"] = pd.to_numeric(ps[\"Time spent extracting cytosol\"].str.replace(' ',''), errors ='force')\n",
    "#ps[\"Time spent retracting pipette\"] = pd.to_numeric(ps[\"Time spent retracting pipette\"].str.replace(' ',''), errors ='force')\n",
    "ps[\"patch duration\"] = pd.to_numeric(ps[\"patch duration\"].str.replace(' ',''), errors ='force')\n",
    "#ps[\"Resolution index\"] = pd.to_numeric(ps[\"Resolution index\"].str.replace(' ',''), errors ='force')\n",
    "\n",
    "ps['Time spent retracting pipette'] = ps['Time spent retracting pipette'].fillna(0)\n",
    "ps.dropna(subset = [\"Time spent extracting cytosol\", \"patch duration\", \"Resolution index\"], inplace = True)\n",
    "\n",
    "ps.head()"
   ]
  },
  {
   "cell_type": "code",
   "execution_count": 5,
   "metadata": {},
   "outputs": [
    {
     "data": {
      "text/html": [
       "<div>\n",
       "<style>\n",
       "    .dataframe thead tr:only-child th {\n",
       "        text-align: right;\n",
       "    }\n",
       "\n",
       "    .dataframe thead th {\n",
       "        text-align: left;\n",
       "    }\n",
       "\n",
       "    .dataframe tbody tr th {\n",
       "        vertical-align: top;\n",
       "    }\n",
       "</style>\n",
       "<table border=\"1\" class=\"dataframe\">\n",
       "  <thead>\n",
       "    <tr style=\"text-align: right;\">\n",
       "      <th></th>\n",
       "      <th>Date</th>\n",
       "      <th>Post patch?</th>\n",
       "      <th>Post patch pipette R</th>\n",
       "      <th>PCR cycles</th>\n",
       "      <th>Time spent extracting cytosol</th>\n",
       "      <th>Time spent retracting pipette</th>\n",
       "      <th>patch duration</th>\n",
       "      <th>Resolution index</th>\n",
       "      <th>SM_QC_PF</th>\n",
       "      <th>recording duration</th>\n",
       "    </tr>\n",
       "  </thead>\n",
       "  <tbody>\n",
       "    <tr>\n",
       "      <th>4969</th>\n",
       "      <td>2017-04-19</td>\n",
       "      <td>Outside-Out</td>\n",
       "      <td>NaN</td>\n",
       "      <td>21.0</td>\n",
       "      <td>1.666667</td>\n",
       "      <td>0.0</td>\n",
       "      <td>6.566667</td>\n",
       "      <td>0.923406</td>\n",
       "      <td>pass</td>\n",
       "      <td>4.900000</td>\n",
       "    </tr>\n",
       "    <tr>\n",
       "      <th>4971</th>\n",
       "      <td>2017-04-19</td>\n",
       "      <td>Nucleated</td>\n",
       "      <td>NaN</td>\n",
       "      <td>21.0</td>\n",
       "      <td>2.350000</td>\n",
       "      <td>0.0</td>\n",
       "      <td>7.416667</td>\n",
       "      <td>0.000000</td>\n",
       "      <td>pass</td>\n",
       "      <td>5.066667</td>\n",
       "    </tr>\n",
       "    <tr>\n",
       "      <th>4972</th>\n",
       "      <td>2017-04-19</td>\n",
       "      <td>Outside-Out</td>\n",
       "      <td>NaN</td>\n",
       "      <td>21.0</td>\n",
       "      <td>2.216667</td>\n",
       "      <td>0.0</td>\n",
       "      <td>4.166667</td>\n",
       "      <td>0.322631</td>\n",
       "      <td>pass</td>\n",
       "      <td>1.950000</td>\n",
       "    </tr>\n",
       "    <tr>\n",
       "      <th>4973</th>\n",
       "      <td>2017-04-19</td>\n",
       "      <td>Nucleated</td>\n",
       "      <td>NaN</td>\n",
       "      <td>21.0</td>\n",
       "      <td>2.183333</td>\n",
       "      <td>0.0</td>\n",
       "      <td>9.466667</td>\n",
       "      <td>0.322631</td>\n",
       "      <td>pass</td>\n",
       "      <td>7.283333</td>\n",
       "    </tr>\n",
       "    <tr>\n",
       "      <th>4974</th>\n",
       "      <td>2017-04-19</td>\n",
       "      <td>No-Seal</td>\n",
       "      <td>NaN</td>\n",
       "      <td>21.0</td>\n",
       "      <td>1.883333</td>\n",
       "      <td>0.0</td>\n",
       "      <td>6.700000</td>\n",
       "      <td>0.000000</td>\n",
       "      <td>pass</td>\n",
       "      <td>4.816667</td>\n",
       "    </tr>\n",
       "  </tbody>\n",
       "</table>\n",
       "</div>"
      ],
      "text/plain": [
       "           Date  Post patch?  Post patch pipette R PCR cycles  \\\n",
       "4969 2017-04-19  Outside-Out                   NaN       21.0   \n",
       "4971 2017-04-19    Nucleated                   NaN       21.0   \n",
       "4972 2017-04-19  Outside-Out                   NaN       21.0   \n",
       "4973 2017-04-19    Nucleated                   NaN       21.0   \n",
       "4974 2017-04-19      No-Seal                   NaN       21.0   \n",
       "\n",
       "      Time spent extracting cytosol  Time spent retracting pipette  \\\n",
       "4969                       1.666667                            0.0   \n",
       "4971                       2.350000                            0.0   \n",
       "4972                       2.216667                            0.0   \n",
       "4973                       2.183333                            0.0   \n",
       "4974                       1.883333                            0.0   \n",
       "\n",
       "      patch duration  Resolution index SM_QC_PF  recording duration  \n",
       "4969        6.566667          0.923406     pass            4.900000  \n",
       "4971        7.416667          0.000000     pass            5.066667  \n",
       "4972        4.166667          0.322631     pass            1.950000  \n",
       "4973        9.466667          0.322631     pass            7.283333  \n",
       "4974        6.700000          0.000000     pass            4.816667  "
      ]
     },
     "execution_count": 5,
     "metadata": {},
     "output_type": "execute_result"
    }
   ],
   "source": [
    "ps['recording duration'] = ps['patch duration'] - ps['Time spent extracting cytosol'] - ps['Time spent retracting pipette']\n",
    "ps.head()"
   ]
  },
  {
   "cell_type": "code",
   "execution_count": 6,
   "metadata": {},
   "outputs": [],
   "source": [
    "def nucleated(x):\n",
    "    nucleus = x[(x[\"Post patch?\"] == \"Nucleated\") | (((x[\"Post patch?\"] == \"nucleus_visible\") | (x[\"Post patch?\"] == \"nucleus_present\")) & (x[\"Post patch pipette R\"] >= 500))]\n",
    "    return nucleus\n",
    "\n",
    "def partial_nucleated(y):\n",
    "    partial = y[(y[\"Post patch?\"] == 'Partial-Nucleus') | (((y['Post patch?'] == 'nucleus_present') | (y['Post patch?'] == 'nucleus_visible')) & (y[\"Post patch pipette R\"] <= 499))]\n",
    "    return partial\n",
    "\n",
    "def outside_out(z):\n",
    "    outside = z[(z[\"Post patch?\"] == 'Outside-Out') | (((z['Post patch?'] == 'nucleus_absent') | (z['Post patch?'] == 'no_nuclues_visible')) & (z['Post patch pipette R'] >= 500))]\n",
    "    return outside\n",
    "\n",
    "def no_seal(w): \n",
    "    no = w[(w[\"Post patch?\"] == 'No-Seal') | (((w['Post patch?'] == 'nucleus_absent') | (w['Post patch?'] == 'no_nucleus_visible')) & (w['Post patch pipette R'] <= 499))]\n",
    "    return no\n",
    "    \n",
    "def entire_cell(v):\n",
    "    entire = v[(v[\"Post patch?\"] == 'Entire-Cell') | (v['Post patch?'] == 'entire_cell')]\n",
    "    return entire"
   ]
  },
  {
   "cell_type": "code",
   "execution_count": 29,
   "metadata": {},
   "outputs": [
    {
     "name": "stderr",
     "output_type": "stream",
     "text": [
      "C:\\ProgramData\\Anaconda2\\lib\\site-packages\\ipykernel_launcher.py:2: SettingWithCopyWarning: \n",
      "A value is trying to be set on a copy of a slice from a DataFrame.\n",
      "Try using .loc[row_indexer,col_indexer] = value instead\n",
      "\n",
      "See the caveats in the documentation: http://pandas.pydata.org/pandas-docs/stable/indexing.html#indexing-view-versus-copy\n",
      "  \n",
      "C:\\ProgramData\\Anaconda2\\lib\\site-packages\\ipykernel_launcher.py:4: SettingWithCopyWarning: \n",
      "A value is trying to be set on a copy of a slice from a DataFrame.\n",
      "Try using .loc[row_indexer,col_indexer] = value instead\n",
      "\n",
      "See the caveats in the documentation: http://pandas.pydata.org/pandas-docs/stable/indexing.html#indexing-view-versus-copy\n",
      "  after removing the cwd from sys.path.\n",
      "C:\\ProgramData\\Anaconda2\\lib\\site-packages\\ipykernel_launcher.py:6: SettingWithCopyWarning: \n",
      "A value is trying to be set on a copy of a slice from a DataFrame.\n",
      "Try using .loc[row_indexer,col_indexer] = value instead\n",
      "\n",
      "See the caveats in the documentation: http://pandas.pydata.org/pandas-docs/stable/indexing.html#indexing-view-versus-copy\n",
      "  \n",
      "C:\\ProgramData\\Anaconda2\\lib\\site-packages\\ipykernel_launcher.py:8: SettingWithCopyWarning: \n",
      "A value is trying to be set on a copy of a slice from a DataFrame.\n",
      "Try using .loc[row_indexer,col_indexer] = value instead\n",
      "\n",
      "See the caveats in the documentation: http://pandas.pydata.org/pandas-docs/stable/indexing.html#indexing-view-versus-copy\n",
      "  \n"
     ]
    },
    {
     "data": {
      "text/plain": [
       "<matplotlib.legend.Legend at 0x10fdab38>"
      ]
     },
     "execution_count": 29,
     "metadata": {},
     "output_type": "execute_result"
    },
    {
     "data": {
      "image/png": "[encoded data removed]",
      "text/plain": [
       "<matplotlib.figure.Figure at 0xe6bf940>"
      ]
     },
     "metadata": {},
     "output_type": "display_data"
    }
   ],
   "source": [
    "oo = outside_out(ps)\n",
    "oo['post patch class'] = 'Outside out'\n",
    "nu = nucleated(ps)\n",
    "nu['post patch class'] = 'Nucleated'\n",
    "ns = no_seal(ps)\n",
    "ns['post patch class'] = 'No seal'\n",
    "pn = partial_nucleated(ps)\n",
    "pn['post patch class'] = 'Partial nucleated'\n",
    "#ec = entire_cell(ps)\n",
    "#ec['post patch class'] = 'Entire cell'\n",
    "\n",
    "frames = (nu, pn, oo, ns)\n",
    "ps = pd.concat(frames)\n",
    "ps.head()\n",
    "\n",
    "lm = sns.lmplot(x='recording duration', y='Resolution index', data=ps, hue='post patch class', scatter=False, legend=False)\n",
    "\n",
    "axes = lm.axes\n",
    "axes[0,0].set_ylim(0,1.0)\n",
    "lm.ax.legend(loc=3)\n",
    "#sns.despine()\n",
    "#sns.plt.ylim(0,1.0)\n",
    "#plt.tight_layout()"
   ]
  },
  {
   "cell_type": "code",
   "execution_count": 8,
   "metadata": {},
   "outputs": [
    {
     "data": {
      "image/png": "[encoded data removed]",
      "text/plain": [
       "<matplotlib.figure.Figure at 0x94f40b8>"
      ]
     },
     "metadata": {},
     "output_type": "display_data"
    }
   ],
   "source": [
    "oo = outside_out(ps)\n",
    "nu = nucleated(ps)\n",
    "ns = no_seal(ps)\n",
    "pn = partial_nucleated(ps)\n",
    "ec = entire_cell(ps)\n",
    "\n",
    "x1 = oo[\"recording duration\"]\n",
    "y1 = oo[\"Resolution index\"]\n",
    "x2 = nu[\"recording duration\"]\n",
    "y2 = nu[\"Resolution index\"]\n",
    "x3 = ns[\"recording duration\"]\n",
    "y3 = ns[\"Resolution index\"]\n",
    "x4 = pn[\"recording duration\"]\n",
    "y4 = pn[\"Resolution index\"]\n",
    "\n",
    "fig,ax = plt.subplots(1)\n",
    "axes = plt.gca()\n",
    "axes.set_ylim([0,1.0])\n",
    "ax.spines['top'].set_visible(False)\n",
    "ax.spines['right'].set_visible(False)\n",
    "\n",
    "plt.title('Recording Duration vs Resolution Index')\n",
    "plt.xlabel('Recording Duration (min)')\n",
    "plt.ylabel('Resolution Index')\n",
    "\n",
    "def make_scatter(x,y,c,m,l):\n",
    "    ax.scatter(x,y,s=30,c=c,marker=m, label=l)\n",
    "def make_fits(x,y,c,n):    \n",
    "    z = np.polyfit(x,y,1)\n",
    "    p = np.poly1d(z)\n",
    "    ax.plot(x,p(x),c=c,label=n, linewidth=3)\n",
    "    \n",
    "#make_scatter(x1,y1,\"white\",\"s\",\"outside out\")\n",
    "#make_scatter(x2,y2,\"white\",\"o\",\"nucleated\")\n",
    "#make_scatter(x3,y3,\"white\",\"p\",\"no seal\")\n",
    "#make_scatter(x4,y4,\"white\",\"v\",\"partial nucleus\")     \n",
    "\n",
    "#make_scatter(x1,y1,\"lightsalmon\",\"s\",\"outside out\")\n",
    "#make_scatter(x2,y2,\"lime\",\"o\",\"nucleated\")\n",
    "#make_scatter(x3,y3,\"cornflowerblue\",\"p\",\"no seal\")\n",
    "#make_scatter(x4,y4,\"yellow\",\"v\",\"partial nucleus\")    \n",
    "\n",
    "make_fits(x1,y1,'r','outside out fit')\n",
    "make_fits(x2,y2,'g','nucleated fit')\n",
    "make_fits(x3,y3,'b','no seal fit')\n",
    "make_fits(x4,y4,'gold','partial nucleated fit')\n",
    "\n",
    "handles,labels = ax.get_legend_handles_labels()\n",
    "\n",
    "handles = [handles[1],handles[3],handles[2],handles[0]]\n",
    "labels = [labels[1],labels[3],labels[2],labels[0]]\n",
    "\n",
    "ax.legend(handles,labels,scatterpoints=1,loc='center right',ncol=1,fontsize=7,frameon=False)\n",
    "plt.tight_layout()\n",
    "plt.savefig('recording_duration_vs_resolution_index.png',dpi=300)"
   ]
  },
  {
   "cell_type": "markdown",
   "metadata": {},
   "source": [
    "oo = outside_out(ps)\n",
    "nu = nucleated(ps)\n",
    "ns = no_seal(ps)\n",
    "pn = partial_nucleated(ps)\n",
    "ec = entire_cell(ps)\n",
    "\n",
    "x1 = oo[\"recording duration\"]\n",
    "y1 = oo[\"Resolution index\"]\n",
    "x2 = nu[\"recording duration\"]\n",
    "y2 = nu[\"Resolution index\"]\n",
    "x3 = ns[\"recording duration\"]\n",
    "y3 = ns[\"Resolution index\"]\n",
    "x4 = pn[\"recording duration\"]\n",
    "y4 = pn[\"Resolution index\"]\n",
    "\n",
    "fig,ax = plt.subplots(1)\n",
    "\n",
    "plt.title('Recording Duration vs Resolution Index')\n",
    "plt.xlabel('Recording Duration (min)')\n",
    "plt.ylabel('Resolution Index')\n",
    "\n",
    "def make_plots(x,y,c,m,l,n):\n",
    "    ax.scatter(x,y,s=30,c=c,marker=m, edgecolor='black', label=l)\n",
    "    z = np.polyfit(x,y,1)\n",
    "    p = np.poly1d(z)\n",
    "    ax.plot(x,p(x),c=c,label=n,path_effects=[pe.Stroke(linewidth=3, foreground='k'), pe.Normal()])\n",
    "    \n",
    "make_plots(x1,y1,\"r\",\"s\",\"outside out\",\"outside out fit\")\n",
    "make_plots(x2,y2,\"g\",\"o\",\"nucleated\",\"nucleated fit\")\n",
    "make_plots(x3,y3,\"b\",\"p\",\"no seal\",\"no seal fit\")\n",
    "make_plots(x4,y4,\"y\",\"v\",\"partial nucleus\",\"partial nucleus fit\")    \n",
    "\n",
    "handles,labels = ax.get_legend_handles_labels()\n",
    "\n",
    "handles = [handles[4],handles[0],handles[5],handles[1],handles[6],handles[2],handles[7],handles[3]]\n",
    "labels = [labels[4],labels[0],labels[5],labels[1],labels[6],labels[2],labels[7],labels[3]]\n",
    "\n",
    "ax.legend(handles,labels,scatterpoints=1,loc='upper right',ncol=1,fontsize=7,frameon=False)\n",
    "plt.tight_layout()\n",
    "plt.savefig('recording_duration_vs_resolution_index.png',dpi=300)"
   ]
  },
  {
   "cell_type": "code",
   "execution_count": null,
   "metadata": {},
   "outputs": [],
   "source": []
  },
  {
   "cell_type": "code",
   "execution_count": null,
   "metadata": {
    "collapsed": true
   },
   "outputs": [],
   "source": []
  },
  {
   "cell_type": "code",
   "execution_count": null,
   "metadata": {
    "collapsed": true
   },
   "outputs": [],
   "source": []
  },
  {
   "cell_type": "code",
   "execution_count": null,
   "metadata": {
    "collapsed": true
   },
   "outputs": [],
   "source": []
  },
  {
   "cell_type": "code",
   "execution_count": null,
   "metadata": {
    "collapsed": true
   },
   "outputs": [],
   "source": []
  },
  {
   "cell_type": "code",
   "execution_count": null,
   "metadata": {
    "collapsed": true
   },
   "outputs": [],
   "source": []
  },
  {
   "cell_type": "code",
   "execution_count": null,
   "metadata": {
    "collapsed": true
   },
   "outputs": [],
   "source": []
  },
  {
   "cell_type": "code",
   "execution_count": null,
   "metadata": {
    "collapsed": true
   },
   "outputs": [],
   "source": []
  },
  {
   "cell_type": "code",
   "execution_count": null,
   "metadata": {
    "collapsed": true
   },
   "outputs": [],
   "source": []
  },
  {
   "cell_type": "code",
   "execution_count": null,
   "metadata": {
    "collapsed": true
   },
   "outputs": [],
   "source": []
  },
  {
   "cell_type": "code",
   "execution_count": null,
   "metadata": {
    "collapsed": true
   },
   "outputs": [],
   "source": []
  },
  {
   "cell_type": "code",
   "execution_count": null,
   "metadata": {
    "collapsed": true
   },
   "outputs": [],
   "source": []
  }
 ],
 "metadata": {
  "kernelspec": {
   "display_name": "Python 2",
   "language": "python",
   "name": "python2"
  },
  "language_info": {
   "codemirror_mode": {
    "name": "ipython",
    "version": 2
   },
   "file_extension": ".py",
   "mimetype": "text/x-python",
   "name": "python",
   "nbconvert_exporter": "python",
   "pygments_lexer": "ipython2",
   "version": "2.7.13"
  }
 },
 "nbformat": 4,
 "nbformat_minor": 2
}
