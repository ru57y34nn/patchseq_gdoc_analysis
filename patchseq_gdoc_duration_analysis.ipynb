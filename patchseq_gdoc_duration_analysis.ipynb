{
 "cells": [
  {
   "cell_type": "code",
   "execution_count": 196,
   "metadata": {
    "collapsed": true
   },
   "outputs": [],
   "source": [
    "import csv\n",
    "import pandas as pd\n",
    "import numpy as np\n",
    "%matplotlib inline\n",
    "import matplotlib.pyplot as plt\n",
    "from datetime import datetime"
   ]
  },
  {
   "cell_type": "code",
   "execution_count": 197,
   "metadata": {
    "collapsed": true
   },
   "outputs": [],
   "source": [
    "ps = pd.read_csv('patch_seq_log_mouse.csv')"
   ]
  },
  {
   "cell_type": "code",
   "execution_count": 198,
   "metadata": {
    "collapsed": false,
    "scrolled": false
   },
   "outputs": [
    {
     "data": {
      "text/html": [
       "<div>\n",
       "<table border=\"1\" class=\"dataframe\">\n",
       "  <thead>\n",
       "    <tr style=\"text-align: right;\">\n",
       "      <th></th>\n",
       "      <th>Date</th>\n",
       "      <th>File</th>\n",
       "      <th>Post patch?</th>\n",
       "      <th>Time spent extracting cytosol</th>\n",
       "      <th>patch duration</th>\n",
       "      <th>&gt;400</th>\n",
       "      <th>SM_QC_PF</th>\n",
       "    </tr>\n",
       "  </thead>\n",
       "  <tbody>\n",
       "    <tr>\n",
       "      <th>29</th>\n",
       "      <td>2016-04-07</td>\n",
       "      <td>Ndnf - kjh_160407_03</td>\n",
       "      <td>Nucleated patch</td>\n",
       "      <td>5.0</td>\n",
       "      <td>8.0</td>\n",
       "      <td>96.00</td>\n",
       "      <td>pass</td>\n",
       "    </tr>\n",
       "    <tr>\n",
       "      <th>30</th>\n",
       "      <td>2016-04-07</td>\n",
       "      <td>Ndnf - kjh_160407_04</td>\n",
       "      <td>Partial-Nucleus</td>\n",
       "      <td>5.0</td>\n",
       "      <td>7.0</td>\n",
       "      <td>111.00</td>\n",
       "      <td>pass</td>\n",
       "    </tr>\n",
       "    <tr>\n",
       "      <th>31</th>\n",
       "      <td>2016-04-07</td>\n",
       "      <td>Ndnf - kjh_160407_05</td>\n",
       "      <td>Entire-Cell?</td>\n",
       "      <td>5.0</td>\n",
       "      <td>7.0</td>\n",
       "      <td>27.30</td>\n",
       "      <td>fail</td>\n",
       "    </tr>\n",
       "    <tr>\n",
       "      <th>32</th>\n",
       "      <td>2016-04-07</td>\n",
       "      <td>Ndnf - kjh_160407_06</td>\n",
       "      <td>Outside-Out</td>\n",
       "      <td>5.0</td>\n",
       "      <td>7.0</td>\n",
       "      <td>18.76</td>\n",
       "      <td>fail</td>\n",
       "    </tr>\n",
       "    <tr>\n",
       "      <th>33</th>\n",
       "      <td>2016-04-07</td>\n",
       "      <td>Ndnf - kjh_160407_07</td>\n",
       "      <td>Outside-Out</td>\n",
       "      <td>2.0</td>\n",
       "      <td>4.0</td>\n",
       "      <td>100.00</td>\n",
       "      <td>pass</td>\n",
       "    </tr>\n",
       "  </tbody>\n",
       "</table>\n",
       "</div>"
      ],
      "text/plain": [
       "         Date                  File      Post patch?  \\\n",
       "29 2016-04-07  Ndnf - kjh_160407_03  Nucleated patch   \n",
       "30 2016-04-07  Ndnf - kjh_160407_04  Partial-Nucleus   \n",
       "31 2016-04-07  Ndnf - kjh_160407_05     Entire-Cell?   \n",
       "32 2016-04-07  Ndnf - kjh_160407_06      Outside-Out   \n",
       "33 2016-04-07  Ndnf - kjh_160407_07      Outside-Out   \n",
       "\n",
       "    Time spent extracting cytosol  patch duration    >400 SM_QC_PF  \n",
       "29                            5.0             8.0   96.00     pass  \n",
       "30                            5.0             7.0  111.00     pass  \n",
       "31                            5.0             7.0   27.30     fail  \n",
       "32                            5.0             7.0   18.76     fail  \n",
       "33                            2.0             4.0  100.00     pass  "
      ]
     },
     "execution_count": 198,
     "metadata": {},
     "output_type": "execute_result"
    }
   ],
   "source": [
    "ps = ps[[\"Date\", \"File\", \"Post patch?\", \"Time spent extracting cytosol\", \"patch duration\", \">400\", \"SM_QC_PF\", \"Bad dates\"]]\n",
    "ps[\"Time spent extracting cytosol\"] = pd.to_numeric(ps[\"Time spent extracting cytosol\"].str.replace(' ',''), errors ='coerce')\n",
    "ps.dropna(subset = [\"Post patch?\", \"Time spent extracting cytosol\", \"patch duration\", \"SM_QC_PF\"], inplace = True)\n",
    "ps[\"SM_QC_PF\"] = ps[\"SM_QC_PF\"].astype(\"category\")\n",
    "ps[\"Post patch?\"] = ps[\"Post patch?\"].astype(\"category\")\n",
    "ps[\"patch duration\"] = pd.to_numeric(ps[\"patch duration\"].str.replace(' ',''), errors ='force')\n",
    "ps[\">400\"] = pd.to_numeric(ps[\">400\"].str.replace(' ',''), errors ='force')\n",
    "ps[\"Date\"] = pd.to_datetime(ps[\"Date\"], format = '%y%m%d')\n",
    "ps = ps[ps[\"SM_QC_PF\"] != \"cnt\"]\n",
    "ps = ps[ps[\"Bad dates\"] != \"x\"]\n",
    "ps = ps.drop(\"Bad dates\", 1)\n",
    "ps = ps[ps[\">400\"] < 10000]\n",
    "ps.head()"
   ]
  },
  {
   "cell_type": "code",
   "execution_count": 199,
   "metadata": {
    "collapsed": false
   },
   "outputs": [
    {
     "data": {
      "text/plain": [
       "Outside-Out                       779\n",
       "Nucleated                         562\n",
       "No-Seal                           543\n",
       "Partial-Nucleus                   307\n",
       "Entire-Cell                        25\n",
       "no-seal                             4\n",
       "Entire-Cell?                        2\n",
       "outside-out                         1\n",
       "nucleus                             1\n",
       "nucelated                           1\n",
       "no -seal                            1\n",
       "n                                   1\n",
       "leaky Outside-Out                   1\n",
       "Nucleated patch                     1\n",
       "Nucleated (maybe Entire-Cell?)      1\n",
       "dtype: int64"
      ]
     },
     "execution_count": 199,
     "metadata": {},
     "output_type": "execute_result"
    }
   ],
   "source": [
    "ps[\"Post patch?\"].value_counts()"
   ]
  },
  {
   "cell_type": "code",
   "execution_count": 200,
   "metadata": {
    "collapsed": false
   },
   "outputs": [
    {
     "data": {
      "text/plain": [
       "Nucleated                         423\n",
       "No-Seal                           408\n",
       "Outside-Out                       376\n",
       "Partial-Nucleus                   163\n",
       "Entire-Cell                        16\n",
       "no-seal                             4\n",
       "outside-out                         1\n",
       "nucelated                           1\n",
       "no -seal                            1\n",
       "nucleus                             0\n",
       "n                                   0\n",
       "leaky Outside-Out                   0\n",
       "Nucleated patch                     0\n",
       "Nucleated (maybe Entire-Cell?)      0\n",
       "Entire-Cell?                        0\n",
       "dtype: int64"
      ]
     },
     "execution_count": 200,
     "metadata": {},
     "output_type": "execute_result"
    }
   ],
   "source": [
    "ps = ps[ps[\"Date\"] >= \"2017-01-01\"]\n",
    "#ps.head()\n",
    "ps[\"Post patch?\"].value_counts()"
   ]
  },
  {
   "cell_type": "code",
   "execution_count": 201,
   "metadata": {
    "collapsed": false,
    "scrolled": true
   },
   "outputs": [],
   "source": [
    "#ps[\"Time spent extracting cytosol\"].sort_values()"
   ]
  },
  {
   "cell_type": "code",
   "execution_count": 202,
   "metadata": {
    "collapsed": false,
    "scrolled": true
   },
   "outputs": [],
   "source": [
    "#ps[\"Time spent extracting cytosol\"].value_counts()"
   ]
  },
  {
   "cell_type": "code",
   "execution_count": 208,
   "metadata": {
    "collapsed": false,
    "scrolled": true
   },
   "outputs": [],
   "source": [
    "ps[\"cytosol extraction time bins\"] = ps[\"Time spent extracting cytosol\"].astype(int)\n",
    "#ps.info()\n",
    "#ps[\"cytosol extraction time bins\"].sort_values()\n",
    "mask1 = ps[\"Post patch?\"] == \"Outside-Out\"\n",
    "mask2 = ps[\"Post patch?\"] == \"Nucleated\"\n",
    "mask3 = ps[\"Post patch?\"] == \"No-Seal\"\n",
    "mask4 = ps[\"Post patch?\"] == \"Partial-Nucleus\"\n",
    "mask5 = ps[\"Post patch?\"] == \"Entire-Cell\"\n",
    "oo = ps[mask1]\n",
    "nu = ps[mask2]\n",
    "ns = ps[mask3]\n",
    "pn = ps[mask4]\n",
    "ec = ps[mask5]\n"
   ]
  },
  {
   "cell_type": "code",
   "execution_count": 209,
   "metadata": {
    "collapsed": false
   },
   "outputs": [
    {
     "data": {
      "text/plain": [
       "[<matplotlib.lines.Line2D at 0xfa25ba8>]"
      ]
     },
     "execution_count": 209,
     "metadata": {},
     "output_type": "execute_result"
    },
    {
     "data": {
      "image/png": "[encoded data removed]",
      "text/plain": [
       "<matplotlib.figure.Figure at 0x10bd60b8>"
      ]
     },
     "metadata": {},
     "output_type": "display_data"
    }
   ],
   "source": [
    "x1 = oo[\"Time spent extracting cytosol\"]\n",
    "y1 = oo[\">400\"]\n",
    "x2 = nu[\"Time spent extracting cytosol\"]\n",
    "y2 = nu[\">400\"]\n",
    "x3 = ns[\"Time spent extracting cytosol\"]\n",
    "y3 = ns[\">400\"]\n",
    "x4 = pn[\"Time spent extracting cytosol\"]\n",
    "y4 = pn[\">400\"]\n",
    "\n",
    "#y = ps[\">400\"].where(mask5)\n",
    "#b = ps[\">400\"].where(mask2)\n",
    "#c = ps[\">400\"].where(mask3)\n",
    "#fig = plt.figure()\n",
    "#ax1 = fig.add_subplot(111)\n",
    "\n",
    "plt.scatter(x1,y1,s=30,c='r',marker='s')\n",
    "plt.scatter(x2,y2,s=30,c='g',marker='o')\n",
    "plt.scatter(x3,y3,s=30,c='b',marker='x')\n",
    "plt.scatter(x4,y4,s=30,c='y',marker='v')\n",
    "\n",
    "plt.title('Extraction time vs Concentration (All samples)')\n",
    "plt.xlabel('Extraction time (min)')\n",
    "plt.ylabel('concentration (>400 bp)')\n",
    "\n",
    "#try to define a function here that you can reuse and call for each set of x,y values, blah blah blah\n",
    "z = np.polyfit(x1,y1,1)\n",
    "p = np.poly1d(z)\n",
    "plt.plot(x1,p(x1),\"r\")\n",
    "\n",
    "y = np.polyfit(x2,y2,1)\n",
    "o = np.poly1d(y)\n",
    "plt.plot(x2,o(x2),\"g\")\n",
    "\n",
    "x = np.polyfit(x3,y3,1)\n",
    "n = np.poly1d(x)\n",
    "plt.plot(x3,n(x3),\"b\")\n",
    "\n",
    "w = np.polyfit(x4,y4,1)\n",
    "m = np.poly1d(w)\n",
    "plt.plot(x4,m(x4),\"y\")\n",
    "\n",
    "#ps.plot(kind = \"scatter\", x = \"Time spent extracting cytosol\", y = \">400\")\n"
   ]
  },
  {
   "cell_type": "code",
   "execution_count": 206,
   "metadata": {
    "collapsed": false
   },
   "outputs": [
    {
     "data": {
      "text/html": [
       "<div>\n",
       "<table border=\"1\" class=\"dataframe\">\n",
       "  <thead>\n",
       "    <tr style=\"text-align: right;\">\n",
       "      <th></th>\n",
       "      <th>Date</th>\n",
       "      <th>File</th>\n",
       "      <th>Post patch?</th>\n",
       "      <th>Time spent extracting cytosol</th>\n",
       "      <th>patch duration</th>\n",
       "      <th>&gt;400</th>\n",
       "      <th>SM_QC_PF</th>\n",
       "      <th>cytosol extraction time bins</th>\n",
       "    </tr>\n",
       "  </thead>\n",
       "  <tbody>\n",
       "    <tr>\n",
       "      <th>3153</th>\n",
       "      <td>2017-01-09</td>\n",
       "      <td>Rbp4-Cre_KL100;Ai14-290392.04.02.01</td>\n",
       "      <td>Outside-Out</td>\n",
       "      <td>2.116667</td>\n",
       "      <td>12.316667</td>\n",
       "      <td>192.0</td>\n",
       "      <td>pass</td>\n",
       "      <td>2</td>\n",
       "    </tr>\n",
       "    <tr>\n",
       "      <th>3160</th>\n",
       "      <td>2017-01-10</td>\n",
       "      <td>Rbp4-Cre_KL100;Ai14-290393.03.02.01</td>\n",
       "      <td>Outside-Out</td>\n",
       "      <td>2.116667</td>\n",
       "      <td>11.950000</td>\n",
       "      <td>195.0</td>\n",
       "      <td>pass</td>\n",
       "      <td>2</td>\n",
       "    </tr>\n",
       "    <tr>\n",
       "      <th>3161</th>\n",
       "      <td>2017-01-10</td>\n",
       "      <td>Rbp4-Cre_KL100;Ai14-290393.03.02.02</td>\n",
       "      <td>Outside-Out</td>\n",
       "      <td>2.316667</td>\n",
       "      <td>13.466667</td>\n",
       "      <td>179.0</td>\n",
       "      <td>pass</td>\n",
       "      <td>2</td>\n",
       "    </tr>\n",
       "    <tr>\n",
       "      <th>3162</th>\n",
       "      <td>2017-01-10</td>\n",
       "      <td>Rbp4-Cre_KL100;Ai14-290393.04.02.01</td>\n",
       "      <td>No-Seal</td>\n",
       "      <td>2.233333</td>\n",
       "      <td>12.416667</td>\n",
       "      <td>166.0</td>\n",
       "      <td>pass</td>\n",
       "      <td>2</td>\n",
       "    </tr>\n",
       "    <tr>\n",
       "      <th>3175</th>\n",
       "      <td>2017-01-11</td>\n",
       "      <td>Gad2-IRES-Cre;Ai14-293418.06.02.01</td>\n",
       "      <td>Partial-Nucleus</td>\n",
       "      <td>2.350000</td>\n",
       "      <td>12.116667</td>\n",
       "      <td>148.0</td>\n",
       "      <td>pass</td>\n",
       "      <td>2</td>\n",
       "    </tr>\n",
       "  </tbody>\n",
       "</table>\n",
       "</div>"
      ],
      "text/plain": [
       "           Date                                 File      Post patch?  \\\n",
       "3153 2017-01-09  Rbp4-Cre_KL100;Ai14-290392.04.02.01      Outside-Out   \n",
       "3160 2017-01-10  Rbp4-Cre_KL100;Ai14-290393.03.02.01      Outside-Out   \n",
       "3161 2017-01-10  Rbp4-Cre_KL100;Ai14-290393.03.02.02      Outside-Out   \n",
       "3162 2017-01-10  Rbp4-Cre_KL100;Ai14-290393.04.02.01          No-Seal   \n",
       "3175 2017-01-11   Gad2-IRES-Cre;Ai14-293418.06.02.01  Partial-Nucleus   \n",
       "\n",
       "      Time spent extracting cytosol  patch duration   >400 SM_QC_PF  \\\n",
       "3153                       2.116667       12.316667  192.0     pass   \n",
       "3160                       2.116667       11.950000  195.0     pass   \n",
       "3161                       2.316667       13.466667  179.0     pass   \n",
       "3162                       2.233333       12.416667  166.0     pass   \n",
       "3175                       2.350000       12.116667  148.0     pass   \n",
       "\n",
       "      cytosol extraction time bins  \n",
       "3153                             2  \n",
       "3160                             2  \n",
       "3161                             2  \n",
       "3162                             2  \n",
       "3175                             2  "
      ]
     },
     "execution_count": 206,
     "metadata": {},
     "output_type": "execute_result"
    }
   ],
   "source": [
    "ps_pass = ps[ps[\"SM_QC_PF\"] == \"pass\"]\n",
    "ps_pass.head()"
   ]
  },
  {
   "cell_type": "code",
   "execution_count": 207,
   "metadata": {
    "collapsed": false
   },
   "outputs": [
    {
     "data": {
      "image/png": "[encoded data removed]",
      "text/plain": [
       "<matplotlib.figure.Figure at 0xfcef898>"
      ]
     },
     "metadata": {},
     "output_type": "display_data"
    }
   ],
   "source": [
    "x = ps_pass[\"Time spent extracting cytosol\"]\n",
    "y = ps_pass[\">400\"]\n",
    "plt.scatter(x,y)\n",
    "plt.title('Extraction time vs Concentration (SMQC pass only)')\n",
    "plt.xlabel('Extraction time (min)')\n",
    "plt.ylabel('concentration (>400 bp)')\n",
    "\n",
    "z = np.polyfit(x, y, 1)\n",
    "p = np.poly1d(z)\n",
    "plt.plot(x,p(x),\"r\")\n",
    "plt.savefig('extraction_vs_conc.png')"
   ]
  },
  {
   "cell_type": "code",
   "execution_count": 50,
   "metadata": {
    "collapsed": false
   },
   "outputs": [
    {
     "data": {
      "text/plain": [
       "23"
      ]
     },
     "execution_count": 50,
     "metadata": {},
     "output_type": "execute_result"
    }
   ],
   "source": [
    "zero_one = ps[ps[\"cytosol extraction time bins\"] == 0]\n",
    "z_1_total = zero_one[\"cytosol extraction time bins\"].count()\n",
    "z_1_total"
   ]
  },
  {
   "cell_type": "code",
   "execution_count": 52,
   "metadata": {
    "collapsed": false
   },
   "outputs": [
    {
     "data": {
      "text/plain": [
       "15"
      ]
     },
     "execution_count": 52,
     "metadata": {},
     "output_type": "execute_result"
    }
   ],
   "source": [
    "zero_one_pass = zero_one[zero_one[\"SM_QC_PF\"] == \"pass\"]\n",
    "z_1_pass = zero_one_pass[\"SM_QC_PF\"].count()\n",
    "z_1_pass"
   ]
  },
  {
   "cell_type": "code",
   "execution_count": 55,
   "metadata": {
    "collapsed": false
   },
   "outputs": [
    {
     "name": "stdout",
     "output_type": "stream",
     "text": [
      "0 to 1 minute pass percentage = 0.652173913043\n"
     ]
    }
   ],
   "source": [
    "z_1_pp = float(z_1_pass) / z_1_total\n",
    "print \"0 to 1 minute pass percentage =\", z_1_pp"
   ]
  },
  {
   "cell_type": "code",
   "execution_count": 57,
   "metadata": {
    "collapsed": false
   },
   "outputs": [
    {
     "data": {
      "text/plain": [
       "254"
      ]
     },
     "execution_count": 57,
     "metadata": {},
     "output_type": "execute_result"
    }
   ],
   "source": [
    "one_two = ps[ps[\"cytosol extraction time bins\"] == 1]\n",
    "o_2_total = one_two[\"cytosol extraction time bins\"].count()\n",
    "o_2_total"
   ]
  },
  {
   "cell_type": "code",
   "execution_count": 68,
   "metadata": {
    "collapsed": false
   },
   "outputs": [
    {
     "data": {
      "text/plain": [
       "171"
      ]
     },
     "execution_count": 68,
     "metadata": {},
     "output_type": "execute_result"
    }
   ],
   "source": [
    "one_two_pass = one_two[one_two[\"SM_QC_PF\"] == \"pass\"]\n",
    "o_2_pass = one_two_pass[\"SM_QC_PF\"].count()\n",
    "o_2_pass"
   ]
  },
  {
   "cell_type": "code",
   "execution_count": 73,
   "metadata": {
    "collapsed": false
   },
   "outputs": [
    {
     "name": "stdout",
     "output_type": "stream",
     "text": [
      "1 to 2 minute pass percentage = 0.673228346457\n"
     ]
    }
   ],
   "source": [
    "o_2_pp = float(o_2_pass) / o_2_total\n",
    "print \"1 to 2 minute pass percentage =\", o_2_pp"
   ]
  },
  {
   "cell_type": "code",
   "execution_count": 71,
   "metadata": {
    "collapsed": false
   },
   "outputs": [
    {
     "data": {
      "text/plain": [
       "778"
      ]
     },
     "execution_count": 71,
     "metadata": {},
     "output_type": "execute_result"
    }
   ],
   "source": [
    "two_three = ps[ps[\"cytosol extraction time bins\"] == 2]\n",
    "t_3_total = two_three[\"cytosol extraction time bins\"].count()\n",
    "t_3_total"
   ]
  },
  {
   "cell_type": "code",
   "execution_count": 74,
   "metadata": {
    "collapsed": false
   },
   "outputs": [
    {
     "data": {
      "text/plain": [
       "423"
      ]
     },
     "execution_count": 74,
     "metadata": {},
     "output_type": "execute_result"
    }
   ],
   "source": [
    "two_three_pass = two_three[two_three[\"SM_QC_PF\"] == \"pass\"]\n",
    "t_3_pass = two_three_pass[\"SM_QC_PF\"].count()\n",
    "t_3_pass"
   ]
  },
  {
   "cell_type": "code",
   "execution_count": 75,
   "metadata": {
    "collapsed": false
   },
   "outputs": [
    {
     "name": "stdout",
     "output_type": "stream",
     "text": [
      "two to three minute pass percentage = 0.543701799486\n"
     ]
    }
   ],
   "source": [
    "t_3_pp = float(t_3_pass) / t_3_total\n",
    "print \"two to three minute pass percentage =\", t_3_pp"
   ]
  },
  {
   "cell_type": "code",
   "execution_count": 26,
   "metadata": {
    "collapsed": false
   },
   "outputs": [
    {
     "data": {
      "text/plain": [
       "94"
      ]
     },
     "execution_count": 26,
     "metadata": {},
     "output_type": "execute_result"
    }
   ],
   "source": [
    "three_four = ps[ps[\"cytosol extraction time bins\"] == 3]\n",
    "t_4_total = three_four[\"cytosol extraction time bins\"].count()\n",
    "t_4_total"
   ]
  },
  {
   "cell_type": "code",
   "execution_count": 27,
   "metadata": {
    "collapsed": false
   },
   "outputs": [
    {
     "data": {
      "text/plain": [
       "62"
      ]
     },
     "execution_count": 27,
     "metadata": {},
     "output_type": "execute_result"
    }
   ],
   "source": [
    "three_four_pass = three_four[three_four[\"SM_QC_PF\"] == \"pass\"]\n",
    "t_4_pass = three_four_pass[\"SM_QC_PF\"].count()\n",
    "t_4_pass"
   ]
  },
  {
   "cell_type": "code",
   "execution_count": 31,
   "metadata": {
    "collapsed": false
   },
   "outputs": [
    {
     "name": "stdout",
     "output_type": "stream",
     "text": [
      "three to fourt minute pass percentage = 0.659574468085\n"
     ]
    }
   ],
   "source": [
    "t_4_pp = float(t_4_pass) / t_4_total\n",
    "print \"three to fourt minute pass percentage =\", t_4_pp"
   ]
  },
  {
   "cell_type": "code",
   "execution_count": 32,
   "metadata": {
    "collapsed": false
   },
   "outputs": [
    {
     "data": {
      "text/plain": [
       "11"
      ]
     },
     "execution_count": 32,
     "metadata": {},
     "output_type": "execute_result"
    }
   ],
   "source": [
    "four_five = ps[ps[\"cytosol extraction time bins\"]  == 4]\n",
    "f_5_total = four_five[\"cytosol extraction time bins\"].count()\n",
    "f_5_total"
   ]
  },
  {
   "cell_type": "code",
   "execution_count": 34,
   "metadata": {
    "collapsed": false
   },
   "outputs": [
    {
     "data": {
      "text/plain": [
       "8"
      ]
     },
     "execution_count": 34,
     "metadata": {},
     "output_type": "execute_result"
    }
   ],
   "source": [
    "four_five_pass = four_five[four_five[\"SM_QC_PF\"] == \"pass\"]\n",
    "f_5_pass = four_five_pass[\"SM_QC_PF\"].count()\n",
    "f_5_pass"
   ]
  },
  {
   "cell_type": "code",
   "execution_count": 36,
   "metadata": {
    "collapsed": false
   },
   "outputs": [
    {
     "name": "stdout",
     "output_type": "stream",
     "text": [
      "four to five minute pass percentage = 0.727272727273\n"
     ]
    }
   ],
   "source": [
    "f_5_pp = float(f_5_pass) / f_5_total\n",
    "print \"four to five minute pass percentage =\", f_5_pp"
   ]
  },
  {
   "cell_type": "code",
   "execution_count": 37,
   "metadata": {
    "collapsed": false
   },
   "outputs": [
    {
     "data": {
      "text/plain": [
       "2"
      ]
     },
     "execution_count": 37,
     "metadata": {},
     "output_type": "execute_result"
    }
   ],
   "source": [
    "five_six = ps[ps[\"cytosol extraction time bins\"] == 5]\n",
    "f_5_total = five_six[\"cytosol extraction time bins\"].count()\n",
    "f_5_total"
   ]
  },
  {
   "cell_type": "code",
   "execution_count": null,
   "metadata": {
    "collapsed": true
   },
   "outputs": [],
   "source": []
  }
 ],
 "metadata": {
  "kernelspec": {
   "display_name": "Python 2",
   "language": "python",
   "name": "python2"
  },
  "language_info": {
   "codemirror_mode": {
    "name": "ipython",
    "version": 2
   },
   "file_extension": ".py",
   "mimetype": "text/x-python",
   "name": "python",
   "nbconvert_exporter": "python",
   "pygments_lexer": "ipython2",
   "version": "2.7.11"
  }
 },
 "nbformat": 4,
 "nbformat_minor": 0
}
