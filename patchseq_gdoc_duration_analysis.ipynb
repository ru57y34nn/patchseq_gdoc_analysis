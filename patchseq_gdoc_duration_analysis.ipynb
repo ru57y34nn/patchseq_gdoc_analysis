{
 "cells": [
  {
   "cell_type": "code",
   "execution_count": 30,
   "metadata": {
    "collapsed": true
   },
   "outputs": [],
   "source": [
    "import csv\n",
    "import pandas as pd\n",
    "import numpy as np\n",
    "%matplotlib inline\n",
    "import matplotlib.pyplot as plt\n",
    "from datetime import datetime"
   ]
  },
  {
   "cell_type": "code",
   "execution_count": 58,
   "metadata": {
    "collapsed": true
   },
   "outputs": [],
   "source": [
    "ps = pd.read_csv('patch_seq_log_mouse.csv')"
   ]
  },
  {
   "cell_type": "code",
   "execution_count": 59,
   "metadata": {
    "collapsed": false,
    "scrolled": true
   },
   "outputs": [
    {
     "data": {
      "text/html": [
       "<div>\n",
       "<table border=\"1\" class=\"dataframe\">\n",
       "  <thead>\n",
       "    <tr style=\"text-align: right;\">\n",
       "      <th></th>\n",
       "      <th>Date</th>\n",
       "      <th>File</th>\n",
       "      <th>Post patch?</th>\n",
       "      <th>Time spent extracting cytosol</th>\n",
       "      <th>patch duration</th>\n",
       "      <th>&gt;400</th>\n",
       "      <th>SM_QC_PF</th>\n",
       "    </tr>\n",
       "  </thead>\n",
       "  <tbody>\n",
       "    <tr>\n",
       "      <th>29</th>\n",
       "      <td>2016-04-07</td>\n",
       "      <td>Ndnf - kjh_160407_03</td>\n",
       "      <td>Nucleated patch</td>\n",
       "      <td>5.0</td>\n",
       "      <td>8.0</td>\n",
       "      <td>96.00</td>\n",
       "      <td>pass</td>\n",
       "    </tr>\n",
       "    <tr>\n",
       "      <th>30</th>\n",
       "      <td>2016-04-07</td>\n",
       "      <td>Ndnf - kjh_160407_04</td>\n",
       "      <td>Partial-Nucleus</td>\n",
       "      <td>5.0</td>\n",
       "      <td>7.0</td>\n",
       "      <td>111.00</td>\n",
       "      <td>pass</td>\n",
       "    </tr>\n",
       "    <tr>\n",
       "      <th>31</th>\n",
       "      <td>2016-04-07</td>\n",
       "      <td>Ndnf - kjh_160407_05</td>\n",
       "      <td>Entire-Cell?</td>\n",
       "      <td>5.0</td>\n",
       "      <td>7.0</td>\n",
       "      <td>27.30</td>\n",
       "      <td>fail</td>\n",
       "    </tr>\n",
       "    <tr>\n",
       "      <th>32</th>\n",
       "      <td>2016-04-07</td>\n",
       "      <td>Ndnf - kjh_160407_06</td>\n",
       "      <td>Outside-Out</td>\n",
       "      <td>5.0</td>\n",
       "      <td>7.0</td>\n",
       "      <td>18.76</td>\n",
       "      <td>fail</td>\n",
       "    </tr>\n",
       "    <tr>\n",
       "      <th>33</th>\n",
       "      <td>2016-04-07</td>\n",
       "      <td>Ndnf - kjh_160407_07</td>\n",
       "      <td>Outside-Out</td>\n",
       "      <td>2.0</td>\n",
       "      <td>4.0</td>\n",
       "      <td>100.00</td>\n",
       "      <td>pass</td>\n",
       "    </tr>\n",
       "  </tbody>\n",
       "</table>\n",
       "</div>"
      ],
      "text/plain": [
       "         Date                  File      Post patch?  \\\n",
       "29 2016-04-07  Ndnf - kjh_160407_03  Nucleated patch   \n",
       "30 2016-04-07  Ndnf - kjh_160407_04  Partial-Nucleus   \n",
       "31 2016-04-07  Ndnf - kjh_160407_05     Entire-Cell?   \n",
       "32 2016-04-07  Ndnf - kjh_160407_06      Outside-Out   \n",
       "33 2016-04-07  Ndnf - kjh_160407_07      Outside-Out   \n",
       "\n",
       "    Time spent extracting cytosol  patch duration    >400 SM_QC_PF  \n",
       "29                            5.0             8.0   96.00     pass  \n",
       "30                            5.0             7.0  111.00     pass  \n",
       "31                            5.0             7.0   27.30     fail  \n",
       "32                            5.0             7.0   18.76     fail  \n",
       "33                            2.0             4.0  100.00     pass  "
      ]
     },
     "execution_count": 59,
     "metadata": {},
     "output_type": "execute_result"
    }
   ],
   "source": [
    "ps = ps[[\"Date\", \"File\", \"Post patch?\", \"Time spent extracting cytosol\", \"patch duration\", \">400\", \"SM_QC_PF\", \"Bad dates\"]]\n",
    "ps[\"Time spent extracting cytosol\"] = pd.to_numeric(ps[\"Time spent extracting cytosol\"].str.replace(' ',''), errors ='coerce')\n",
    "ps.dropna(subset = [\"Post patch?\", \"Time spent extracting cytosol\", \"patch duration\", \"SM_QC_PF\"], inplace = True)\n",
    "ps[\"SM_QC_PF\"] = ps[\"SM_QC_PF\"].astype(\"category\")\n",
    "ps[\"Post patch?\"] = ps[\"Post patch?\"].astype(\"category\")\n",
    "ps[\"patch duration\"] = pd.to_numeric(ps[\"patch duration\"].str.replace(' ',''), errors ='force')\n",
    "ps[\">400\"] = pd.to_numeric(ps[\">400\"].str.replace(' ',''), errors ='force')\n",
    "ps[\"Date\"] = pd.to_datetime(ps[\"Date\"], format = '%y%m%d')\n",
    "ps = ps[ps[\"SM_QC_PF\"] != \"cnt\"]\n",
    "ps = ps[ps[\"Bad dates\"] != \"x\"]\n",
    "ps = ps.drop(\"Bad dates\", 1)\n",
    "ps = ps[ps[\">400\"] < 10000]\n",
    "ps.head()"
   ]
  },
  {
   "cell_type": "code",
   "execution_count": 60,
   "metadata": {
    "collapsed": false
   },
   "outputs": [
    {
     "name": "stdout",
     "output_type": "stream",
     "text": [
      "<class 'pandas.core.frame.DataFrame'>\n",
      "Int64Index: 1996 entries, 29 to 5676\n",
      "Data columns (total 7 columns):\n",
      "Date                             1996 non-null datetime64[ns]\n",
      "File                             1995 non-null object\n",
      "Post patch?                      1996 non-null category\n",
      "Time spent extracting cytosol    1996 non-null float64\n",
      "patch duration                   1984 non-null float64\n",
      ">400                             1996 non-null float64\n",
      "SM_QC_PF                         1996 non-null category\n",
      "dtypes: category(2), datetime64[ns](1), float64(3), object(1)\n",
      "memory usage: 97.6+ KB\n"
     ]
    }
   ],
   "source": [
    "ps.info()"
   ]
  },
  {
   "cell_type": "code",
   "execution_count": 61,
   "metadata": {
    "collapsed": false
   },
   "outputs": [
    {
     "data": {
      "text/html": [
       "<div>\n",
       "<table border=\"1\" class=\"dataframe\">\n",
       "  <thead>\n",
       "    <tr style=\"text-align: right;\">\n",
       "      <th></th>\n",
       "      <th>Date</th>\n",
       "      <th>File</th>\n",
       "      <th>Post patch?</th>\n",
       "      <th>Time spent extracting cytosol</th>\n",
       "      <th>patch duration</th>\n",
       "      <th>&gt;400</th>\n",
       "      <th>SM_QC_PF</th>\n",
       "    </tr>\n",
       "  </thead>\n",
       "  <tbody>\n",
       "    <tr>\n",
       "      <th>3153</th>\n",
       "      <td>2017-01-09</td>\n",
       "      <td>Rbp4-Cre_KL100;Ai14-290392.04.02.01</td>\n",
       "      <td>Outside-Out</td>\n",
       "      <td>2.116667</td>\n",
       "      <td>12.316667</td>\n",
       "      <td>192.0</td>\n",
       "      <td>pass</td>\n",
       "    </tr>\n",
       "    <tr>\n",
       "      <th>3154</th>\n",
       "      <td>2017-01-09</td>\n",
       "      <td>Rbp4-Cre_KL100;Ai14-290392.04.02.02</td>\n",
       "      <td>Outside-Out</td>\n",
       "      <td>2.333333</td>\n",
       "      <td>12.533333</td>\n",
       "      <td>98.0</td>\n",
       "      <td>fail</td>\n",
       "    </tr>\n",
       "    <tr>\n",
       "      <th>3160</th>\n",
       "      <td>2017-01-10</td>\n",
       "      <td>Rbp4-Cre_KL100;Ai14-290393.03.02.01</td>\n",
       "      <td>Outside-Out</td>\n",
       "      <td>2.116667</td>\n",
       "      <td>11.950000</td>\n",
       "      <td>195.0</td>\n",
       "      <td>pass</td>\n",
       "    </tr>\n",
       "    <tr>\n",
       "      <th>3161</th>\n",
       "      <td>2017-01-10</td>\n",
       "      <td>Rbp4-Cre_KL100;Ai14-290393.03.02.02</td>\n",
       "      <td>Outside-Out</td>\n",
       "      <td>2.316667</td>\n",
       "      <td>13.466667</td>\n",
       "      <td>179.0</td>\n",
       "      <td>pass</td>\n",
       "    </tr>\n",
       "    <tr>\n",
       "      <th>3162</th>\n",
       "      <td>2017-01-10</td>\n",
       "      <td>Rbp4-Cre_KL100;Ai14-290393.04.02.01</td>\n",
       "      <td>No-Seal</td>\n",
       "      <td>2.233333</td>\n",
       "      <td>12.416667</td>\n",
       "      <td>166.0</td>\n",
       "      <td>pass</td>\n",
       "    </tr>\n",
       "  </tbody>\n",
       "</table>\n",
       "</div>"
      ],
      "text/plain": [
       "           Date                                 File  Post patch?  \\\n",
       "3153 2017-01-09  Rbp4-Cre_KL100;Ai14-290392.04.02.01  Outside-Out   \n",
       "3154 2017-01-09  Rbp4-Cre_KL100;Ai14-290392.04.02.02  Outside-Out   \n",
       "3160 2017-01-10  Rbp4-Cre_KL100;Ai14-290393.03.02.01  Outside-Out   \n",
       "3161 2017-01-10  Rbp4-Cre_KL100;Ai14-290393.03.02.02  Outside-Out   \n",
       "3162 2017-01-10  Rbp4-Cre_KL100;Ai14-290393.04.02.01      No-Seal   \n",
       "\n",
       "      Time spent extracting cytosol  patch duration   >400 SM_QC_PF  \n",
       "3153                       2.116667       12.316667  192.0     pass  \n",
       "3154                       2.333333       12.533333   98.0     fail  \n",
       "3160                       2.116667       11.950000  195.0     pass  \n",
       "3161                       2.316667       13.466667  179.0     pass  \n",
       "3162                       2.233333       12.416667  166.0     pass  "
      ]
     },
     "execution_count": 61,
     "metadata": {},
     "output_type": "execute_result"
    }
   ],
   "source": [
    "ps = ps[ps[\"Date\"] >= \"2017-01-01\"]\n",
    "ps.head()"
   ]
  },
  {
   "cell_type": "code",
   "execution_count": 62,
   "metadata": {
    "collapsed": true
   },
   "outputs": [
    {
     "data": {
      "text/plain": [
       "4097    0.416667\n",
       "5116    0.433333\n",
       "4896    0.483333\n",
       "5052    0.533333\n",
       "4837    0.566667\n",
       "4954    0.583333\n",
       "5662    0.600000\n",
       "4284    0.600000\n",
       "5360    0.616667\n",
       "5286    0.700000\n",
       "4161    0.716667\n",
       "4172    0.750000\n",
       "5646    0.783333\n",
       "5369    0.800000\n",
       "5263    0.816667\n",
       "4180    0.833333\n",
       "5437    0.883333\n",
       "5388    0.900000\n",
       "5370    0.933333\n",
       "5629    0.950000\n",
       "5521    0.950000\n",
       "5661    0.966667\n",
       "4368    0.983333\n",
       "4079    1.000000\n",
       "5467    1.000000\n",
       "5090    1.000000\n",
       "5311    1.016667\n",
       "5361    1.016667\n",
       "4148    1.033333\n",
       "5387    1.050000\n",
       "          ...   \n",
       "5261    3.566667\n",
       "5196    3.566667\n",
       "5171    3.583333\n",
       "5578    3.600000\n",
       "5070    3.616667\n",
       "4819    3.650000\n",
       "5155    3.650000\n",
       "5011    3.650000\n",
       "5003    3.650000\n",
       "5154    3.666667\n",
       "5576    3.750000\n",
       "5085    3.816667\n",
       "5193    3.950000\n",
       "5109    3.966667\n",
       "5352    3.983333\n",
       "5139    3.983333\n",
       "4252    4.000000\n",
       "4915    4.066667\n",
       "4980    4.166667\n",
       "5621    4.250000\n",
       "5241    4.416667\n",
       "5033    4.450000\n",
       "4969    4.450000\n",
       "5216    4.500000\n",
       "5198    4.533333\n",
       "4965    4.600000\n",
       "5351    4.766667\n",
       "5273    5.550000\n",
       "5274    5.916667\n",
       "5057    7.000000\n",
       "Name: Time spent extracting cytosol, dtype: float64"
      ]
     },
     "execution_count": 62,
     "metadata": {},
     "output_type": "execute_result"
    }
   ],
   "source": [
    "ps[\"Time spent extracting cytosol\"].sort_values()"
   ]
  },
  {
   "cell_type": "code",
   "execution_count": 63,
   "metadata": {
    "collapsed": true
   },
   "outputs": [
    {
     "data": {
      "text/plain": [
       "2.000000    38\n",
       "2.100000    29\n",
       "2.083333    27\n",
       "2.150000    24\n",
       "2.133333    23\n",
       "2.300000    22\n",
       "2.350000    22\n",
       "2.266667    20\n",
       "2.250000    19\n",
       "2.016667    18\n",
       "2.050000    18\n",
       "1.983333    17\n",
       "1.966667    17\n",
       "2.550000    16\n",
       "2.283333    15\n",
       "2.016667    15\n",
       "2.333333    14\n",
       "1.916667    13\n",
       "2.116667    13\n",
       "2.650000    12\n",
       "2.316667    12\n",
       "2.416667    12\n",
       "1.900000    12\n",
       "2.400000    11\n",
       "2.066667    11\n",
       "2.366667    11\n",
       "2.066667    11\n",
       "2.183333    11\n",
       "2.083333    11\n",
       "1.966667    10\n",
       "            ..\n",
       "0.900000     1\n",
       "3.016667     1\n",
       "0.700000     1\n",
       "0.716667     1\n",
       "0.483333     1\n",
       "0.616667     1\n",
       "2.583333     1\n",
       "3.550000     1\n",
       "1.366667     1\n",
       "1.266667     1\n",
       "3.966667     1\n",
       "3.583333     1\n",
       "1.333333     1\n",
       "5.550000     1\n",
       "3.266667     1\n",
       "3.566667     1\n",
       "1.033333     1\n",
       "0.966667     1\n",
       "0.983333     1\n",
       "0.783333     1\n",
       "3.950000     1\n",
       "3.133333     1\n",
       "3.516667     1\n",
       "3.416667     1\n",
       "1.050000     1\n",
       "3.416667     1\n",
       "3.400000     1\n",
       "3.366667     1\n",
       "0.583333     1\n",
       "3.183333     1\n",
       "Name: Time spent extracting cytosol, dtype: int64"
      ]
     },
     "execution_count": 63,
     "metadata": {},
     "output_type": "execute_result"
    }
   ],
   "source": [
    "ps[\"Time spent extracting cytosol\"].value_counts()"
   ]
  },
  {
   "cell_type": "code",
   "execution_count": 64,
   "metadata": {
    "collapsed": false,
    "scrolled": true
   },
   "outputs": [
    {
     "name": "stdout",
     "output_type": "stream",
     "text": [
      "<class 'pandas.core.frame.DataFrame'>\n",
      "Int64Index: 1159 entries, 3153 to 5676\n",
      "Data columns (total 8 columns):\n",
      "Date                             1159 non-null datetime64[ns]\n",
      "File                             1158 non-null object\n",
      "Post patch?                      1159 non-null category\n",
      "Time spent extracting cytosol    1159 non-null float64\n",
      "patch duration                   1158 non-null float64\n",
      ">400                             1159 non-null float64\n",
      "SM_QC_PF                         1159 non-null category\n",
      "cytosol extraction time bins     1159 non-null int32\n",
      "dtypes: category(2), datetime64[ns](1), float64(3), int32(1), object(1)\n",
      "memory usage: 61.3+ KB\n"
     ]
    },
    {
     "data": {
      "text/html": [
       "<div>\n",
       "<table border=\"1\" class=\"dataframe\">\n",
       "  <thead>\n",
       "    <tr style=\"text-align: right;\">\n",
       "      <th></th>\n",
       "      <th>Date</th>\n",
       "      <th>File</th>\n",
       "      <th>Post patch?</th>\n",
       "      <th>Time spent extracting cytosol</th>\n",
       "      <th>patch duration</th>\n",
       "      <th>&gt;400</th>\n",
       "      <th>SM_QC_PF</th>\n",
       "      <th>cytosol extraction time bins</th>\n",
       "    </tr>\n",
       "  </thead>\n",
       "  <tbody>\n",
       "    <tr>\n",
       "      <th>3153</th>\n",
       "      <td>2017-01-09</td>\n",
       "      <td>Rbp4-Cre_KL100;Ai14-290392.04.02.01</td>\n",
       "      <td>Outside-Out</td>\n",
       "      <td>2.116667</td>\n",
       "      <td>12.316667</td>\n",
       "      <td>192.0</td>\n",
       "      <td>pass</td>\n",
       "      <td>2</td>\n",
       "    </tr>\n",
       "    <tr>\n",
       "      <th>3154</th>\n",
       "      <td>2017-01-09</td>\n",
       "      <td>Rbp4-Cre_KL100;Ai14-290392.04.02.02</td>\n",
       "      <td>Outside-Out</td>\n",
       "      <td>2.333333</td>\n",
       "      <td>12.533333</td>\n",
       "      <td>98.0</td>\n",
       "      <td>fail</td>\n",
       "      <td>2</td>\n",
       "    </tr>\n",
       "    <tr>\n",
       "      <th>3160</th>\n",
       "      <td>2017-01-10</td>\n",
       "      <td>Rbp4-Cre_KL100;Ai14-290393.03.02.01</td>\n",
       "      <td>Outside-Out</td>\n",
       "      <td>2.116667</td>\n",
       "      <td>11.950000</td>\n",
       "      <td>195.0</td>\n",
       "      <td>pass</td>\n",
       "      <td>2</td>\n",
       "    </tr>\n",
       "    <tr>\n",
       "      <th>3161</th>\n",
       "      <td>2017-01-10</td>\n",
       "      <td>Rbp4-Cre_KL100;Ai14-290393.03.02.02</td>\n",
       "      <td>Outside-Out</td>\n",
       "      <td>2.316667</td>\n",
       "      <td>13.466667</td>\n",
       "      <td>179.0</td>\n",
       "      <td>pass</td>\n",
       "      <td>2</td>\n",
       "    </tr>\n",
       "    <tr>\n",
       "      <th>3162</th>\n",
       "      <td>2017-01-10</td>\n",
       "      <td>Rbp4-Cre_KL100;Ai14-290393.04.02.01</td>\n",
       "      <td>No-Seal</td>\n",
       "      <td>2.233333</td>\n",
       "      <td>12.416667</td>\n",
       "      <td>166.0</td>\n",
       "      <td>pass</td>\n",
       "      <td>2</td>\n",
       "    </tr>\n",
       "  </tbody>\n",
       "</table>\n",
       "</div>"
      ],
      "text/plain": [
       "           Date                                 File  Post patch?  \\\n",
       "3153 2017-01-09  Rbp4-Cre_KL100;Ai14-290392.04.02.01  Outside-Out   \n",
       "3154 2017-01-09  Rbp4-Cre_KL100;Ai14-290392.04.02.02  Outside-Out   \n",
       "3160 2017-01-10  Rbp4-Cre_KL100;Ai14-290393.03.02.01  Outside-Out   \n",
       "3161 2017-01-10  Rbp4-Cre_KL100;Ai14-290393.03.02.02  Outside-Out   \n",
       "3162 2017-01-10  Rbp4-Cre_KL100;Ai14-290393.04.02.01      No-Seal   \n",
       "\n",
       "      Time spent extracting cytosol  patch duration   >400 SM_QC_PF  \\\n",
       "3153                       2.116667       12.316667  192.0     pass   \n",
       "3154                       2.333333       12.533333   98.0     fail   \n",
       "3160                       2.116667       11.950000  195.0     pass   \n",
       "3161                       2.316667       13.466667  179.0     pass   \n",
       "3162                       2.233333       12.416667  166.0     pass   \n",
       "\n",
       "      cytosol extraction time bins  \n",
       "3153                             2  \n",
       "3154                             2  \n",
       "3160                             2  \n",
       "3161                             2  \n",
       "3162                             2  "
      ]
     },
     "execution_count": 64,
     "metadata": {},
     "output_type": "execute_result"
    }
   ],
   "source": [
    "ps[\"cytosol extraction time bins\"] = ps[\"Time spent extracting cytosol\"].astype(int,)\n",
    "ps.info()\n",
    "#ps[\"cytosol extraction time bins\"].sort_values()\n",
    "ps.head()"
   ]
  },
  {
   "cell_type": "markdown",
   "metadata": {},
   "source": [
    "Now try averaging values in >400 column for each unique value in cytosol extraction time bins column."
   ]
  },
  {
   "cell_type": "code",
   "execution_count": 67,
   "metadata": {
    "collapsed": false
   },
   "outputs": [
    {
     "data": {
      "text/plain": [
       "[<matplotlib.lines.Line2D at 0xd3def98>]"
      ]
     },
     "execution_count": 67,
     "metadata": {},
     "output_type": "execute_result"
    },
    {
     "data": {
      "image/png": "[encoded data removed]",
      "text/plain": [
       "<matplotlib.figure.Figure at 0xc7775f8>"
      ]
     },
     "metadata": {},
     "output_type": "display_data"
    }
   ],
   "source": [
    "x = ps[\"Time spent extracting cytosol\"]\n",
    "y = ps[\">400\"]\n",
    "plt.scatter(x,y)\n",
    "\n",
    "z = np.polyfit(x, y, 1)\n",
    "p = np.poly1d(z)\n",
    "plt.plot(x,p(x),\"r--\")\n",
    "#ps.plot(kind = \"scatter\", x = \"Time spent extracting cytosol\", y = \">400\")"
   ]
  },
  {
   "cell_type": "code",
   "execution_count": 50,
   "metadata": {
    "collapsed": false
   },
   "outputs": [
    {
     "data": {
      "text/plain": [
       "23"
      ]
     },
     "execution_count": 50,
     "metadata": {},
     "output_type": "execute_result"
    }
   ],
   "source": [
    "zero_one = ps[ps[\"cytosol extraction time bins\"] == 0]\n",
    "z_1_total = zero_one[\"cytosol extraction time bins\"].count()\n",
    "z_1_total"
   ]
  },
  {
   "cell_type": "code",
   "execution_count": 52,
   "metadata": {
    "collapsed": false
   },
   "outputs": [
    {
     "data": {
      "text/plain": [
       "15"
      ]
     },
     "execution_count": 52,
     "metadata": {},
     "output_type": "execute_result"
    }
   ],
   "source": [
    "zero_one_pass = zero_one[zero_one[\"SM_QC_PF\"] == \"pass\"]\n",
    "z_1_pass = zero_one_pass[\"SM_QC_PF\"].count()\n",
    "z_1_pass"
   ]
  },
  {
   "cell_type": "code",
   "execution_count": 55,
   "metadata": {
    "collapsed": false
   },
   "outputs": [
    {
     "name": "stdout",
     "output_type": "stream",
     "text": [
      "0 to 1 minute pass percentage = 0.652173913043\n"
     ]
    }
   ],
   "source": [
    "z_1_pp = float(z_1_pass) / z_1_total\n",
    "print \"0 to 1 minute pass percentage =\", z_1_pp"
   ]
  },
  {
   "cell_type": "code",
   "execution_count": 57,
   "metadata": {
    "collapsed": false
   },
   "outputs": [
    {
     "data": {
      "text/plain": [
       "254"
      ]
     },
     "execution_count": 57,
     "metadata": {},
     "output_type": "execute_result"
    }
   ],
   "source": [
    "one_two = ps[ps[\"cytosol extraction time bins\"] == 1]\n",
    "o_2_total = one_two[\"cytosol extraction time bins\"].count()\n",
    "o_2_total"
   ]
  },
  {
   "cell_type": "code",
   "execution_count": 68,
   "metadata": {
    "collapsed": false
   },
   "outputs": [
    {
     "data": {
      "text/plain": [
       "171"
      ]
     },
     "execution_count": 68,
     "metadata": {},
     "output_type": "execute_result"
    }
   ],
   "source": [
    "one_two_pass = one_two[one_two[\"SM_QC_PF\"] == \"pass\"]\n",
    "o_2_pass = one_two_pass[\"SM_QC_PF\"].count()\n",
    "o_2_pass"
   ]
  },
  {
   "cell_type": "code",
   "execution_count": 73,
   "metadata": {
    "collapsed": false
   },
   "outputs": [
    {
     "name": "stdout",
     "output_type": "stream",
     "text": [
      "1 to 2 minute pass percentage = 0.673228346457\n"
     ]
    }
   ],
   "source": [
    "o_2_pp = float(o_2_pass) / o_2_total\n",
    "print \"1 to 2 minute pass percentage =\", o_2_pp"
   ]
  },
  {
   "cell_type": "code",
   "execution_count": 71,
   "metadata": {
    "collapsed": false
   },
   "outputs": [
    {
     "data": {
      "text/plain": [
       "778"
      ]
     },
     "execution_count": 71,
     "metadata": {},
     "output_type": "execute_result"
    }
   ],
   "source": [
    "two_three = ps[ps[\"cytosol extraction time bins\"] == 2]\n",
    "t_3_total = two_three[\"cytosol extraction time bins\"].count()\n",
    "t_3_total"
   ]
  },
  {
   "cell_type": "code",
   "execution_count": 74,
   "metadata": {
    "collapsed": false
   },
   "outputs": [
    {
     "data": {
      "text/plain": [
       "423"
      ]
     },
     "execution_count": 74,
     "metadata": {},
     "output_type": "execute_result"
    }
   ],
   "source": [
    "two_three_pass = two_three[two_three[\"SM_QC_PF\"] == \"pass\"]\n",
    "t_3_pass = two_three_pass[\"SM_QC_PF\"].count()\n",
    "t_3_pass"
   ]
  },
  {
   "cell_type": "code",
   "execution_count": 75,
   "metadata": {
    "collapsed": false
   },
   "outputs": [
    {
     "name": "stdout",
     "output_type": "stream",
     "text": [
      "two to three minute pass percentage = 0.543701799486\n"
     ]
    }
   ],
   "source": [
    "t_3_pp = float(t_3_pass) / t_3_total\n",
    "print \"two to three minute pass percentage =\", t_3_pp"
   ]
  },
  {
   "cell_type": "code",
   "execution_count": 76,
   "metadata": {
    "collapsed": false
   },
   "outputs": [
    {
     "data": {
      "text/plain": [
       "94"
      ]
     },
     "execution_count": 76,
     "metadata": {},
     "output_type": "execute_result"
    }
   ],
   "source": [
    "three_four = ps[ps[\"cytosol extraction time bins\"] == 3]\n",
    "t_4_total = three_four[\"cytosol extraction time bins\"].count()\n",
    "t_4_total"
   ]
  },
  {
   "cell_type": "code",
   "execution_count": null,
   "metadata": {
    "collapsed": true
   },
   "outputs": [],
   "source": []
  },
  {
   "cell_type": "code",
   "execution_count": null,
   "metadata": {
    "collapsed": true
   },
   "outputs": [],
   "source": []
  },
  {
   "cell_type": "code",
   "execution_count": null,
   "metadata": {
    "collapsed": true
   },
   "outputs": [],
   "source": []
  },
  {
   "cell_type": "code",
   "execution_count": null,
   "metadata": {
    "collapsed": true
   },
   "outputs": [],
   "source": []
  },
  {
   "cell_type": "code",
   "execution_count": null,
   "metadata": {
    "collapsed": true
   },
   "outputs": [],
   "source": []
  }
 ],
 "metadata": {
  "kernelspec": {
   "display_name": "Python 2",
   "language": "python",
   "name": "python2"
  },
  "language_info": {
   "codemirror_mode": {
    "name": "ipython",
    "version": 2
   },
   "file_extension": ".py",
   "mimetype": "text/x-python",
   "name": "python",
   "nbconvert_exporter": "python",
   "pygments_lexer": "ipython2",
   "version": "2.7.11"
  }
 },
 "nbformat": 4,
 "nbformat_minor": 0
}
