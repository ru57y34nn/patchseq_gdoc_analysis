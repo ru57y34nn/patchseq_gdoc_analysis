{
 "cells": [
  {
   "cell_type": "code",
   "execution_count": 15,
   "metadata": {
    "collapsed": true
   },
   "outputs": [],
   "source": [
    "import csv\n",
    "import pandas as pd\n",
    "import numpy as np\n",
    "%matplotlib inline\n",
    "import matplotlib.pyplot as plt\n",
    "from datetime import datetime"
   ]
  },
  {
   "cell_type": "code",
   "execution_count": 16,
   "metadata": {
    "collapsed": true
   },
   "outputs": [],
   "source": [
    "ps = pd.read_csv('patch_seq_log_mouse.csv')"
   ]
  },
  {
   "cell_type": "code",
   "execution_count": 17,
   "metadata": {
    "collapsed": false,
    "scrolled": false
   },
   "outputs": [
    {
     "data": {
      "text/html": [
       "<div>\n",
       "<table border=\"1\" class=\"dataframe\">\n",
       "  <thead>\n",
       "    <tr style=\"text-align: right;\">\n",
       "      <th></th>\n",
       "      <th>Date</th>\n",
       "      <th>File</th>\n",
       "      <th>Post patch?</th>\n",
       "      <th>Time spent extracting cytosol</th>\n",
       "      <th>patch duration</th>\n",
       "      <th>&gt;400</th>\n",
       "      <th>SM_QC_PF</th>\n",
       "    </tr>\n",
       "  </thead>\n",
       "  <tbody>\n",
       "    <tr>\n",
       "      <th>29</th>\n",
       "      <td>2016-04-07</td>\n",
       "      <td>Ndnf - kjh_160407_03</td>\n",
       "      <td>Nucleated patch</td>\n",
       "      <td>5.0</td>\n",
       "      <td>8.0</td>\n",
       "      <td>96.00</td>\n",
       "      <td>pass</td>\n",
       "    </tr>\n",
       "    <tr>\n",
       "      <th>30</th>\n",
       "      <td>2016-04-07</td>\n",
       "      <td>Ndnf - kjh_160407_04</td>\n",
       "      <td>Partial-Nucleus</td>\n",
       "      <td>5.0</td>\n",
       "      <td>7.0</td>\n",
       "      <td>111.00</td>\n",
       "      <td>pass</td>\n",
       "    </tr>\n",
       "    <tr>\n",
       "      <th>31</th>\n",
       "      <td>2016-04-07</td>\n",
       "      <td>Ndnf - kjh_160407_05</td>\n",
       "      <td>Entire-Cell?</td>\n",
       "      <td>5.0</td>\n",
       "      <td>7.0</td>\n",
       "      <td>27.30</td>\n",
       "      <td>fail</td>\n",
       "    </tr>\n",
       "    <tr>\n",
       "      <th>32</th>\n",
       "      <td>2016-04-07</td>\n",
       "      <td>Ndnf - kjh_160407_06</td>\n",
       "      <td>Outside-Out</td>\n",
       "      <td>5.0</td>\n",
       "      <td>7.0</td>\n",
       "      <td>18.76</td>\n",
       "      <td>fail</td>\n",
       "    </tr>\n",
       "    <tr>\n",
       "      <th>33</th>\n",
       "      <td>2016-04-07</td>\n",
       "      <td>Ndnf - kjh_160407_07</td>\n",
       "      <td>Outside-Out</td>\n",
       "      <td>2.0</td>\n",
       "      <td>4.0</td>\n",
       "      <td>100.00</td>\n",
       "      <td>pass</td>\n",
       "    </tr>\n",
       "  </tbody>\n",
       "</table>\n",
       "</div>"
      ],
      "text/plain": [
       "         Date                  File      Post patch?  \\\n",
       "29 2016-04-07  Ndnf - kjh_160407_03  Nucleated patch   \n",
       "30 2016-04-07  Ndnf - kjh_160407_04  Partial-Nucleus   \n",
       "31 2016-04-07  Ndnf - kjh_160407_05     Entire-Cell?   \n",
       "32 2016-04-07  Ndnf - kjh_160407_06      Outside-Out   \n",
       "33 2016-04-07  Ndnf - kjh_160407_07      Outside-Out   \n",
       "\n",
       "    Time spent extracting cytosol  patch duration    >400 SM_QC_PF  \n",
       "29                            5.0             8.0   96.00     pass  \n",
       "30                            5.0             7.0  111.00     pass  \n",
       "31                            5.0             7.0   27.30     fail  \n",
       "32                            5.0             7.0   18.76     fail  \n",
       "33                            2.0             4.0  100.00     pass  "
      ]
     },
     "execution_count": 17,
     "metadata": {},
     "output_type": "execute_result"
    }
   ],
   "source": [
    "ps = ps[[\"Date\", \"File\", \"Post patch?\", \"Time spent extracting cytosol\", \"patch duration\", \">400\", \"SM_QC_PF\", \"Bad dates\"]]\n",
    "ps[\"Time spent extracting cytosol\"] = pd.to_numeric(ps[\"Time spent extracting cytosol\"].str.replace(' ',''), errors ='coerce')\n",
    "ps.dropna(subset = [\"Post patch?\", \"Time spent extracting cytosol\", \"patch duration\", \"SM_QC_PF\"], inplace = True)\n",
    "ps[\"SM_QC_PF\"] = ps[\"SM_QC_PF\"].astype(\"category\")\n",
    "ps[\"Post patch?\"] = ps[\"Post patch?\"].astype(\"category\")\n",
    "ps[\"patch duration\"] = pd.to_numeric(ps[\"patch duration\"].str.replace(' ',''), errors ='force')\n",
    "ps[\">400\"] = pd.to_numeric(ps[\">400\"].str.replace(' ',''), errors ='force')\n",
    "ps[\"Date\"] = pd.to_datetime(ps[\"Date\"], format = '%y%m%d')\n",
    "ps = ps[ps[\"SM_QC_PF\"] != \"cnt\"]\n",
    "ps = ps[ps[\"Bad dates\"] != \"x\"]\n",
    "ps = ps.drop(\"Bad dates\", 1)\n",
    "ps = ps[ps[\">400\"] < 10000]\n",
    "ps.head()"
   ]
  },
  {
   "cell_type": "code",
   "execution_count": 18,
   "metadata": {
    "collapsed": false
   },
   "outputs": [
    {
     "data": {
      "text/plain": [
       "Outside-Out                       779\n",
       "Nucleated                         562\n",
       "No-Seal                           543\n",
       "Partial-Nucleus                   307\n",
       "Entire-Cell                        25\n",
       "no-seal                             4\n",
       "Entire-Cell?                        2\n",
       "outside-out                         1\n",
       "nucleus                             1\n",
       "nucelated                           1\n",
       "no -seal                            1\n",
       "n                                   1\n",
       "leaky Outside-Out                   1\n",
       "Nucleated patch                     1\n",
       "Nucleated (maybe Entire-Cell?)      1\n",
       "dtype: int64"
      ]
     },
     "execution_count": 18,
     "metadata": {},
     "output_type": "execute_result"
    }
   ],
   "source": [
    "ps[\"Post patch?\"].value_counts()"
   ]
  },
  {
   "cell_type": "markdown",
   "metadata": {},
   "source": [
    "# 4/20/2017 was first day of 21 PCR cycles.  Should be using PCR cycles column to do this filtering "
   ]
  },
  {
   "cell_type": "code",
   "execution_count": 19,
   "metadata": {
    "collapsed": false
   },
   "outputs": [
    {
     "data": {
      "text/plain": [
       "Nucleated                         362\n",
       "No-Seal                           305\n",
       "Partial-Nucleus                   123\n",
       "Outside-Out                        58\n",
       "Entire-Cell                         9\n",
       "outside-out                         0\n",
       "nucleus                             0\n",
       "nucelated                           0\n",
       "no-seal                             0\n",
       "no -seal                            0\n",
       "n                                   0\n",
       "leaky Outside-Out                   0\n",
       "Nucleated patch                     0\n",
       "Nucleated (maybe Entire-Cell?)      0\n",
       "Entire-Cell?                        0\n",
       "dtype: int64"
      ]
     },
     "execution_count": 19,
     "metadata": {},
     "output_type": "execute_result"
    }
   ],
   "source": [
    "ps = ps[ps[\"Date\"] >= \"2017-04-20\"]\n",
    "#ps.head()\n",
    "ps[\"Post patch?\"].value_counts()"
   ]
  },
  {
   "cell_type": "code",
   "execution_count": 6,
   "metadata": {
    "collapsed": false,
    "scrolled": true
   },
   "outputs": [],
   "source": [
    "#ps[\"Time spent extracting cytosol\"].sort_values()"
   ]
  },
  {
   "cell_type": "code",
   "execution_count": 7,
   "metadata": {
    "collapsed": false,
    "scrolled": true
   },
   "outputs": [],
   "source": [
    "#ps[\"Time spent extracting cytosol\"].value_counts()"
   ]
  },
  {
   "cell_type": "markdown",
   "metadata": {},
   "source": [
    "# Plot of >400bp concentration vs extraction time by post patch outcomes"
   ]
  },
  {
   "cell_type": "code",
   "execution_count": 75,
   "metadata": {
    "collapsed": false
   },
   "outputs": [
    {
     "data": {
      "text/plain": [
       "'\\ndef fit_plots(x,y,c):\\n    z = np.polyfit(x,y,1)\\n    p = np.poly1d(z)\\n    plt.plot(x,p(x),c)\\n    \\nfit_plots(x1,y1,\"r\")\\nfit_plots(x2,y2,\"g\")\\nfit_plots(x3,y3,\"b\")\\nfit_plots(x4,y4,\"y\")\\n'"
      ]
     },
     "execution_count": 75,
     "metadata": {},
     "output_type": "execute_result"
    },
    {
     "data": {
      "image/png": "[encoded data removed]",
      "text/plain": [
       "<matplotlib.figure.Figure at 0xb9ce940>"
      ]
     },
     "metadata": {},
     "output_type": "display_data"
    }
   ],
   "source": [
    "mask1 = ps[\"Post patch?\"] == \"Outside-Out\"\n",
    "mask2 = ps[\"Post patch?\"] == \"Nucleated\"\n",
    "mask3 = ps[\"Post patch?\"] == \"No-Seal\"\n",
    "mask4 = ps[\"Post patch?\"] == \"Partial-Nucleus\"\n",
    "mask5 = ps[\"Post patch?\"] == \"Entire-Cell\"\n",
    "oo = ps[mask1]\n",
    "nu = ps[mask2]\n",
    "ns = ps[mask3]\n",
    "pn = ps[mask4]\n",
    "ec = ps[mask5]\n",
    "\n",
    "x1 = oo[\"Time spent extracting cytosol\"]\n",
    "y1 = oo[\">400\"]\n",
    "x2 = nu[\"Time spent extracting cytosol\"]\n",
    "y2 = nu[\">400\"]\n",
    "x3 = ns[\"Time spent extracting cytosol\"]\n",
    "y3 = ns[\">400\"]\n",
    "x4 = pn[\"Time spent extracting cytosol\"]\n",
    "y4 = pn[\">400\"]\n",
    "\n",
    "def make_plots(x,y,c,m,l):\n",
    "    plt.scatter(x,y,s=30,c=c,marker=m,label=l)\n",
    "    z = np.polyfit(x,y,1)\n",
    "    p = np.poly1d(z)\n",
    "    plt.plot(x,p(x),c=c,label=l)\n",
    "    \n",
    "make_plots(x1,y1,\"r\",\"s\",\"outside out\")\n",
    "make_plots(x2,y2,\"g\",\"o\",\"nucleated\")\n",
    "make_plots(x3,y3,\"b\",\"x\",\"no seal\")\n",
    "make_plots(x4,y4,\"y\",\"v\",\"partially nucleated\")\n",
    "\n",
    "plt.title('Extraction time vs Concentration (All samples)')\n",
    "plt.xlabel('Extraction time (min)')\n",
    "plt.ylabel('concentration (>400 bp)')\n",
    "\n",
    "plt.legend(scatterpoints=1,loc='upper right',ncol=1,fontsize=10)\n",
    "\n",
    "'''\n",
    "def fit_plots(x,y,c):\n",
    "    z = np.polyfit(x,y,1)\n",
    "    p = np.poly1d(z)\n",
    "    plt.plot(x,p(x),c)\n",
    "    \n",
    "fit_plots(x1,y1,\"r\")\n",
    "fit_plots(x2,y2,\"g\")\n",
    "fit_plots(x3,y3,\"b\")\n",
    "fit_plots(x4,y4,\"y\")\n",
    "'''"
   ]
  },
  {
   "cell_type": "markdown",
   "metadata": {},
   "source": [
    "# Filtering down to SMQC passing samples only"
   ]
  },
  {
   "cell_type": "code",
   "execution_count": 23,
   "metadata": {
    "collapsed": false
   },
   "outputs": [
    {
     "data": {
      "text/html": [
       "<div>\n",
       "<table border=\"1\" class=\"dataframe\">\n",
       "  <thead>\n",
       "    <tr style=\"text-align: right;\">\n",
       "      <th></th>\n",
       "      <th>Date</th>\n",
       "      <th>File</th>\n",
       "      <th>Post patch?</th>\n",
       "      <th>Time spent extracting cytosol</th>\n",
       "      <th>patch duration</th>\n",
       "      <th>&gt;400</th>\n",
       "      <th>SM_QC_PF</th>\n",
       "      <th>cytosol extraction time bins</th>\n",
       "    </tr>\n",
       "  </thead>\n",
       "  <tbody>\n",
       "    <tr>\n",
       "      <th>4737</th>\n",
       "      <td>2017-04-20</td>\n",
       "      <td>Vip-IRES-Cre;Ai14-313534.03.01.01</td>\n",
       "      <td>Nucleated</td>\n",
       "      <td>2.366667</td>\n",
       "      <td>3.766667</td>\n",
       "      <td>894.0</td>\n",
       "      <td>pass</td>\n",
       "      <td>2</td>\n",
       "    </tr>\n",
       "    <tr>\n",
       "      <th>4738</th>\n",
       "      <td>2017-04-20</td>\n",
       "      <td>Vip-IRES-Cre;Ai14-313534.03.01.02</td>\n",
       "      <td>No-Seal</td>\n",
       "      <td>2.700000</td>\n",
       "      <td>6.766667</td>\n",
       "      <td>376.0</td>\n",
       "      <td>pass</td>\n",
       "      <td>2</td>\n",
       "    </tr>\n",
       "    <tr>\n",
       "      <th>4739</th>\n",
       "      <td>2017-04-20</td>\n",
       "      <td>Vip-IRES-Cre;Ai14-313534.03.01.03</td>\n",
       "      <td>No-Seal</td>\n",
       "      <td>1.983333</td>\n",
       "      <td>10.250000</td>\n",
       "      <td>338.0</td>\n",
       "      <td>pass</td>\n",
       "      <td>1</td>\n",
       "    </tr>\n",
       "    <tr>\n",
       "      <th>4740</th>\n",
       "      <td>2017-04-20</td>\n",
       "      <td>Vip-IRES-Cre;Ai14-313534.03.01.04</td>\n",
       "      <td>No-Seal</td>\n",
       "      <td>1.933333</td>\n",
       "      <td>3.816667</td>\n",
       "      <td>518.0</td>\n",
       "      <td>pass</td>\n",
       "      <td>1</td>\n",
       "    </tr>\n",
       "    <tr>\n",
       "      <th>4741</th>\n",
       "      <td>2017-04-20</td>\n",
       "      <td>Vip-IRES-Cre;Ai14-313534.03.01.05</td>\n",
       "      <td>No-Seal</td>\n",
       "      <td>1.750000</td>\n",
       "      <td>6.083333</td>\n",
       "      <td>439.0</td>\n",
       "      <td>pass</td>\n",
       "      <td>1</td>\n",
       "    </tr>\n",
       "  </tbody>\n",
       "</table>\n",
       "</div>"
      ],
      "text/plain": [
       "           Date                               File Post patch?  \\\n",
       "4737 2017-04-20  Vip-IRES-Cre;Ai14-313534.03.01.01   Nucleated   \n",
       "4738 2017-04-20  Vip-IRES-Cre;Ai14-313534.03.01.02     No-Seal   \n",
       "4739 2017-04-20  Vip-IRES-Cre;Ai14-313534.03.01.03     No-Seal   \n",
       "4740 2017-04-20  Vip-IRES-Cre;Ai14-313534.03.01.04     No-Seal   \n",
       "4741 2017-04-20  Vip-IRES-Cre;Ai14-313534.03.01.05     No-Seal   \n",
       "\n",
       "      Time spent extracting cytosol  patch duration   >400 SM_QC_PF  \\\n",
       "4737                       2.366667        3.766667  894.0     pass   \n",
       "4738                       2.700000        6.766667  376.0     pass   \n",
       "4739                       1.983333       10.250000  338.0     pass   \n",
       "4740                       1.933333        3.816667  518.0     pass   \n",
       "4741                       1.750000        6.083333  439.0     pass   \n",
       "\n",
       "      cytosol extraction time bins  \n",
       "4737                             2  \n",
       "4738                             2  \n",
       "4739                             1  \n",
       "4740                             1  \n",
       "4741                             1  "
      ]
     },
     "execution_count": 23,
     "metadata": {},
     "output_type": "execute_result"
    }
   ],
   "source": [
    "ps_pass = ps[ps[\"SM_QC_PF\"] == \"pass\"]\n",
    "ps_pass.head()"
   ]
  },
  {
   "cell_type": "markdown",
   "metadata": {},
   "source": [
    "# Plot of >400bp concentration vs extraction time by post patch outcomes - SMQC passing samples only"
   ]
  },
  {
   "cell_type": "code",
   "execution_count": 71,
   "metadata": {
    "collapsed": false
   },
   "outputs": [
    {
     "data": {
      "image/png": "[encoded data removed]",
      "text/plain": [
       "<matplotlib.figure.Figure at 0xb7ee208>"
      ]
     },
     "metadata": {},
     "output_type": "display_data"
    }
   ],
   "source": [
    "oo = ps_pass[ps_pass[\"Post patch?\"] == \"Outside-Out\"]\n",
    "nu = ps_pass[ps_pass[\"Post patch?\"] == \"Nucleated\"]\n",
    "ns = ps_pass[ps_pass[\"Post patch?\"] == \"No-Seal\"]\n",
    "pn = ps_pass[ps_pass[\"Post patch?\"] == \"Partial-Nucleus\"]\n",
    "ec = ps_pass[ps_pass[\"Post patch?\"] == \"Entire-Cell\"]\n",
    "\n",
    "x1 = oo[\"Time spent extracting cytosol\"]\n",
    "y1 = oo[\">400\"]\n",
    "x2 = nu[\"Time spent extracting cytosol\"]\n",
    "y2 = nu[\">400\"]\n",
    "x3 = ns[\"Time spent extracting cytosol\"]\n",
    "y3 = ns[\">400\"]\n",
    "x4 = pn[\"Time spent extracting cytosol\"]\n",
    "y4 = pn[\">400\"]\n",
    "\n",
    "def make_plots(x,y,c,m,l):\n",
    "    plt.scatter(x,y,s=30,c=c,marker=m,label=l)\n",
    "\n",
    "make_plots(x1,y1,\"r\",\"s\",\"outside out\")\n",
    "make_plots(x2,y2,\"g\",\"o\",\"nucleated\")\n",
    "make_plots(x3,y3,\"b\",\"x\",\"no seal\")\n",
    "make_plots(x4,y4,\"y\",\"v\",\"partially nucleated\")\n",
    "\n",
    "plt.title('Extraction time vs Concentration (SMQC pass only)')\n",
    "plt.xlabel('Extraction time (min)')\n",
    "plt.ylabel('concentration (>400 bp)')\n",
    "\n",
    "def fit_plots(x,y,c):\n",
    "    z = np.polyfit(x,y,1)\n",
    "    p = np.poly1d(z)\n",
    "    plt.plot(x,p(x),c)\n",
    "\n",
    "fit_plots(x1,y1,\"r\")\n",
    "fit_plots(x2,y2,\"g\")\n",
    "fit_plots(x3,y3,\"b\")\n",
    "fit_plots(x4,y4,\"y\")    \n",
    "\n",
    "plt.legend(scatterpoints=1,loc='upper right',ncol=1,fontsize=10)\n",
    "\n",
    "plt.savefig('extraction_vs_conc.png',dpi=300)"
   ]
  },
  {
   "cell_type": "markdown",
   "metadata": {},
   "source": [
    "# Putting extraction times into 1 minute time bins "
   ]
  },
  {
   "cell_type": "code",
   "execution_count": 42,
   "metadata": {
    "collapsed": false
   },
   "outputs": [
    {
     "name": "stdout",
     "output_type": "stream",
     "text": [
      "<class 'pandas.core.frame.DataFrame'>\n",
      "Int64Index: 857 entries, 4737 to 6064\n",
      "Data columns (total 8 columns):\n",
      "Date                             857 non-null datetime64[ns]\n",
      "File                             857 non-null object\n",
      "Post patch?                      857 non-null category\n",
      "Time spent extracting cytosol    857 non-null float64\n",
      "patch duration                   856 non-null float64\n",
      ">400                             857 non-null float64\n",
      "SM_QC_PF                         857 non-null category\n",
      "cytosol extraction time bins     857 non-null int32\n",
      "dtypes: category(2), datetime64[ns](1), float64(3), int32(1), object(1)\n",
      "memory usage: 45.3+ KB\n"
     ]
    }
   ],
   "source": [
    "ps[\"cytosol extraction time bins\"] = ps[\"Time spent extracting cytosol\"].astype(int)\n",
    "ps.info()\n",
    "#ps[\"cytosol extraction time bins\"].sort_values()"
   ]
  },
  {
   "cell_type": "markdown",
   "metadata": {},
   "source": [
    "# Functions for getting pass percentages by time bins "
   ]
  },
  {
   "cell_type": "code",
   "execution_count": 66,
   "metadata": {
    "collapsed": false
   },
   "outputs": [],
   "source": [
    "def timebin(x):\n",
    "    time_bin = ps[ps[\"cytosol extraction time bins\"] == x]\n",
    "    return time_bin\n",
    "\n",
    "def timebin_total(x):\n",
    "    bin_total = x[\"cytosol extraction time bins\"].count()\n",
    "    return bin_total\n",
    "\n",
    "def timebin_pass(x):\n",
    "    timebin_pass = x[x[\"SM_QC_PF\"] == \"pass\"]\n",
    "    pass_total = timebin_pass[\"SM_QC_PF\"].count()\n",
    "    return pass_total\n",
    "\n",
    "def timebin_pp(x):\n",
    "    timebin_pp = float(timebin_pass(x)) / float(timebin_total(x))\n",
    "    return timebin_pp"
   ]
  },
  {
   "cell_type": "markdown",
   "metadata": {},
   "source": [
    "# 0-1 Minute Extraction "
   ]
  },
  {
   "cell_type": "code",
   "execution_count": 44,
   "metadata": {
    "collapsed": false
   },
   "outputs": [
    {
     "name": "stdout",
     "output_type": "stream",
     "text": [
      "Total count = 137\n",
      "Pass count = 92\n",
      "Pass percentage = 0.671532846715\n"
     ]
    }
   ],
   "source": [
    "print \"Total count =\", timebin_total(timebin(0))\n",
    "print \"Pass count =\", timebin_pass(timebin(0))\n",
    "print \"Pass percentage =\", timebin_pp(timebin(0))"
   ]
  },
  {
   "cell_type": "markdown",
   "metadata": {},
   "source": [
    "# 1-2 Minute Extraction "
   ]
  },
  {
   "cell_type": "code",
   "execution_count": 48,
   "metadata": {
    "collapsed": false
   },
   "outputs": [
    {
     "name": "stdout",
     "output_type": "stream",
     "text": [
      "Total count = 293\n",
      "Pass count = 223\n",
      "Pass percentage = 0.761092150171\n"
     ]
    }
   ],
   "source": [
    "print \"Total count =\", timebin_total(timebin(1))\n",
    "print \"Pass count =\", timebin_pass(timebin(1))\n",
    "print \"Pass percentage =\", timebin_pp(timebin(1))"
   ]
  },
  {
   "cell_type": "markdown",
   "metadata": {},
   "source": [
    "# 2-3 Minute Extraction"
   ]
  },
  {
   "cell_type": "code",
   "execution_count": 49,
   "metadata": {
    "collapsed": false
   },
   "outputs": [
    {
     "name": "stdout",
     "output_type": "stream",
     "text": [
      "Total count = 353\n",
      "Pass count = 277\n",
      "Pass percentage = 0.784702549575\n"
     ]
    }
   ],
   "source": [
    "print \"Total count =\", timebin_total(timebin(2))\n",
    "print \"Pass count =\", timebin_pass(timebin(2))\n",
    "print \"Pass percentage =\", timebin_pp(timebin(2))"
   ]
  },
  {
   "cell_type": "markdown",
   "metadata": {},
   "source": [
    "# 3-4 Minute Extraction"
   ]
  },
  {
   "cell_type": "code",
   "execution_count": 50,
   "metadata": {
    "collapsed": false
   },
   "outputs": [
    {
     "name": "stdout",
     "output_type": "stream",
     "text": [
      "Total count = 60\n",
      "Pass count = 47\n",
      "Pass percentage = 0.783333333333\n"
     ]
    }
   ],
   "source": [
    "print \"Total count =\", timebin_total(timebin(3))\n",
    "print \"Pass count =\", timebin_pass(timebin(3))\n",
    "print \"Pass percentage =\", timebin_pp(timebin(3))"
   ]
  },
  {
   "cell_type": "markdown",
   "metadata": {},
   "source": [
    "# 4-5 Minute Extraction"
   ]
  },
  {
   "cell_type": "code",
   "execution_count": 64,
   "metadata": {
    "collapsed": false
   },
   "outputs": [
    {
     "name": "stdout",
     "output_type": "stream",
     "text": [
      "Total count = 11\n",
      "Pass count = 8\n",
      "Pass percentage = 0.727272727273\n"
     ]
    }
   ],
   "source": [
    "print \"Total count =\", timebin_total(timebin(4))\n",
    "print \"Pass count =\", timebin_pass(timebin(4))\n",
    "print \"Pass percentage =\", timebin_pp(timebin(4))"
   ]
  },
  {
   "cell_type": "markdown",
   "metadata": {},
   "source": [
    "# 5-6 Minute Extraction"
   ]
  },
  {
   "cell_type": "code",
   "execution_count": 65,
   "metadata": {
    "collapsed": false
   },
   "outputs": [
    {
     "name": "stdout",
     "output_type": "stream",
     "text": [
      "Total count = 2\n",
      "Pass count = 2\n",
      "Pass percentage = 1.0\n"
     ]
    }
   ],
   "source": [
    "print \"Total count =\", timebin_total(timebin(5))\n",
    "print \"Pass count =\", timebin_pass(timebin(5))\n",
    "print \"Pass percentage =\", timebin_pp(timebin(5))"
   ]
  },
  {
   "cell_type": "code",
   "execution_count": 45,
   "metadata": {
    "collapsed": false
   },
   "outputs": [
    {
     "data": {
      "text/plain": [
       "137"
      ]
     },
     "execution_count": 45,
     "metadata": {},
     "output_type": "execute_result"
    }
   ],
   "source": [
    "zero_one = ps[ps[\"cytosol extraction time bins\"] == 0]\n",
    "z_1_total = zero_one[\"cytosol extraction time bins\"].count()\n",
    "z_1_total"
   ]
  },
  {
   "cell_type": "code",
   "execution_count": 46,
   "metadata": {
    "collapsed": false
   },
   "outputs": [
    {
     "data": {
      "text/plain": [
       "92"
      ]
     },
     "execution_count": 46,
     "metadata": {},
     "output_type": "execute_result"
    }
   ],
   "source": [
    "zero_one_pass = zero_one[zero_one[\"SM_QC_PF\"] == \"pass\"]\n",
    "z_1_pass = zero_one_pass[\"SM_QC_PF\"].count()\n",
    "z_1_pass"
   ]
  },
  {
   "cell_type": "code",
   "execution_count": 47,
   "metadata": {
    "collapsed": false
   },
   "outputs": [
    {
     "name": "stdout",
     "output_type": "stream",
     "text": [
      "0 to 1 minute pass percentage = 0.671532846715\n"
     ]
    }
   ],
   "source": [
    "z_1_pp = float(z_1_pass) / z_1_total\n",
    "print \"0 to 1 minute pass percentage =\", z_1_pp"
   ]
  },
  {
   "cell_type": "code",
   "execution_count": 51,
   "metadata": {
    "collapsed": false
   },
   "outputs": [
    {
     "data": {
      "text/plain": [
       "293"
      ]
     },
     "execution_count": 51,
     "metadata": {},
     "output_type": "execute_result"
    }
   ],
   "source": [
    "one_two = ps[ps[\"cytosol extraction time bins\"] == 1]\n",
    "o_2_total = one_two[\"cytosol extraction time bins\"].count()\n",
    "o_2_total"
   ]
  },
  {
   "cell_type": "code",
   "execution_count": 52,
   "metadata": {
    "collapsed": false
   },
   "outputs": [
    {
     "data": {
      "text/plain": [
       "223"
      ]
     },
     "execution_count": 52,
     "metadata": {},
     "output_type": "execute_result"
    }
   ],
   "source": [
    "one_two_pass = one_two[one_two[\"SM_QC_PF\"] == \"pass\"]\n",
    "o_2_pass = one_two_pass[\"SM_QC_PF\"].count()\n",
    "o_2_pass"
   ]
  },
  {
   "cell_type": "code",
   "execution_count": 53,
   "metadata": {
    "collapsed": false
   },
   "outputs": [
    {
     "name": "stdout",
     "output_type": "stream",
     "text": [
      "1 to 2 minute pass percentage = 0.761092150171\n"
     ]
    }
   ],
   "source": [
    "o_2_pp = float(o_2_pass) / o_2_total\n",
    "print \"1 to 2 minute pass percentage =\", o_2_pp"
   ]
  },
  {
   "cell_type": "code",
   "execution_count": 54,
   "metadata": {
    "collapsed": false
   },
   "outputs": [
    {
     "data": {
      "text/plain": [
       "353"
      ]
     },
     "execution_count": 54,
     "metadata": {},
     "output_type": "execute_result"
    }
   ],
   "source": [
    "two_three = ps[ps[\"cytosol extraction time bins\"] == 2]\n",
    "t_3_total = two_three[\"cytosol extraction time bins\"].count()\n",
    "t_3_total"
   ]
  },
  {
   "cell_type": "code",
   "execution_count": 55,
   "metadata": {
    "collapsed": false
   },
   "outputs": [
    {
     "data": {
      "text/plain": [
       "277"
      ]
     },
     "execution_count": 55,
     "metadata": {},
     "output_type": "execute_result"
    }
   ],
   "source": [
    "two_three_pass = two_three[two_three[\"SM_QC_PF\"] == \"pass\"]\n",
    "t_3_pass = two_three_pass[\"SM_QC_PF\"].count()\n",
    "t_3_pass"
   ]
  },
  {
   "cell_type": "code",
   "execution_count": 56,
   "metadata": {
    "collapsed": false
   },
   "outputs": [
    {
     "name": "stdout",
     "output_type": "stream",
     "text": [
      "two to three minute pass percentage = 0.784702549575\n"
     ]
    }
   ],
   "source": [
    "t_3_pp = float(t_3_pass) / t_3_total\n",
    "print \"two to three minute pass percentage =\", t_3_pp"
   ]
  },
  {
   "cell_type": "code",
   "execution_count": 57,
   "metadata": {
    "collapsed": false
   },
   "outputs": [
    {
     "data": {
      "text/plain": [
       "60"
      ]
     },
     "execution_count": 57,
     "metadata": {},
     "output_type": "execute_result"
    }
   ],
   "source": [
    "three_four = ps[ps[\"cytosol extraction time bins\"] == 3]\n",
    "t_4_total = three_four[\"cytosol extraction time bins\"].count()\n",
    "t_4_total"
   ]
  },
  {
   "cell_type": "code",
   "execution_count": 58,
   "metadata": {
    "collapsed": false
   },
   "outputs": [
    {
     "data": {
      "text/plain": [
       "47"
      ]
     },
     "execution_count": 58,
     "metadata": {},
     "output_type": "execute_result"
    }
   ],
   "source": [
    "three_four_pass = three_four[three_four[\"SM_QC_PF\"] == \"pass\"]\n",
    "t_4_pass = three_four_pass[\"SM_QC_PF\"].count()\n",
    "t_4_pass"
   ]
  },
  {
   "cell_type": "code",
   "execution_count": 59,
   "metadata": {
    "collapsed": false
   },
   "outputs": [
    {
     "name": "stdout",
     "output_type": "stream",
     "text": [
      "three to fourt minute pass percentage = 0.783333333333\n"
     ]
    }
   ],
   "source": [
    "t_4_pp = float(t_4_pass) / t_4_total\n",
    "print \"three to fourt minute pass percentage =\", t_4_pp"
   ]
  },
  {
   "cell_type": "code",
   "execution_count": 60,
   "metadata": {
    "collapsed": false
   },
   "outputs": [
    {
     "data": {
      "text/plain": [
       "11"
      ]
     },
     "execution_count": 60,
     "metadata": {},
     "output_type": "execute_result"
    }
   ],
   "source": [
    "four_five = ps[ps[\"cytosol extraction time bins\"]  == 4]\n",
    "f_5_total = four_five[\"cytosol extraction time bins\"].count()\n",
    "f_5_total"
   ]
  },
  {
   "cell_type": "code",
   "execution_count": 61,
   "metadata": {
    "collapsed": false
   },
   "outputs": [
    {
     "data": {
      "text/plain": [
       "8"
      ]
     },
     "execution_count": 61,
     "metadata": {},
     "output_type": "execute_result"
    }
   ],
   "source": [
    "four_five_pass = four_five[four_five[\"SM_QC_PF\"] == \"pass\"]\n",
    "f_5_pass = four_five_pass[\"SM_QC_PF\"].count()\n",
    "f_5_pass"
   ]
  },
  {
   "cell_type": "code",
   "execution_count": 62,
   "metadata": {
    "collapsed": false
   },
   "outputs": [
    {
     "name": "stdout",
     "output_type": "stream",
     "text": [
      "four to five minute pass percentage = 0.727272727273\n"
     ]
    }
   ],
   "source": [
    "f_5_pp = float(f_5_pass) / f_5_total\n",
    "print \"four to five minute pass percentage =\", f_5_pp"
   ]
  },
  {
   "cell_type": "code",
   "execution_count": 63,
   "metadata": {
    "collapsed": false
   },
   "outputs": [
    {
     "data": {
      "text/plain": [
       "2"
      ]
     },
     "execution_count": 63,
     "metadata": {},
     "output_type": "execute_result"
    }
   ],
   "source": [
    "five_six = ps[ps[\"cytosol extraction time bins\"] == 5]\n",
    "f_5_total = five_six[\"cytosol extraction time bins\"].count()\n",
    "f_5_total"
   ]
  },
  {
   "cell_type": "code",
   "execution_count": null,
   "metadata": {
    "collapsed": true
   },
   "outputs": [],
   "source": []
  }
 ],
 "metadata": {
  "kernelspec": {
   "display_name": "Python 2",
   "language": "python",
   "name": "python2"
  },
  "language_info": {
   "codemirror_mode": {
    "name": "ipython",
    "version": 2
   },
   "file_extension": ".py",
   "mimetype": "text/x-python",
   "name": "python",
   "nbconvert_exporter": "python",
   "pygments_lexer": "ipython2",
   "version": "2.7.11"
  }
 },
 "nbformat": 4,
 "nbformat_minor": 0
}
