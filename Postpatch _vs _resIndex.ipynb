{
 "cells": [
  {
   "cell_type": "code",
   "execution_count": 11,
   "metadata": {
    "collapsed": true
   },
   "outputs": [],
   "source": [
    "import csv\n",
    "import pandas as pd\n",
    "import numpy as np\n",
    "import matplotlib.pyplot as plt\n",
    "from datetime import datetime\n",
    "from scipy import stats\n",
    "import math\n",
    "import seaborn as sns\n",
    "%matplotlib inline\n",
    "sns.set(style='whitegrid', color_codes = True)"
   ]
  },
  {
   "cell_type": "code",
   "execution_count": 12,
   "metadata": {
    "collapsed": true
   },
   "outputs": [],
   "source": [
    "ps = pd.read_csv('patch_seq_log_mouse.csv')"
   ]
  },
  {
   "cell_type": "code",
<<<<<<< HEAD
   "execution_count": 3,
   "metadata": {},
=======
   "execution_count": 13,
   "metadata": {
    "collapsed": false
   },
>>>>>>> bb26d9b31ad9b92a84281604beca7ee562bf2713
   "outputs": [
    {
     "data": {
      "text/plain": [
       "pass    1430\n",
       "fail     415\n",
       "na        16\n",
       "Name: SM_QC_PF, dtype: int64"
      ]
     },
     "execution_count": 13,
     "metadata": {},
     "output_type": "execute_result"
    }
   ],
   "source": [
    "ps = ps[['Date', 'User', 'Post patch?', 'Notes', 'PCR cycles', 'SM_QC_PF', 'Resolution index', 'Bad dates']]\n",
    "ps = ps[ps['PCR cycles'] == 21]\n",
    "ps['Date'] = pd.to_datetime(ps['Date'], format = '%y%m%d')\n",
    "ps = ps[ps['Bad dates'] != 'x']\n",
    "ps = ps.drop('Bad dates', 1)\n",
    "ps = ps[ps['SM_QC_PF'] != 'cnt']\n",
    "ps.dropna(subset = ['Post patch?', 'SM_QC_PF'], inplace = True)\n",
    "ps['Post patch?'] = ps['Post patch?'].astype('category')\n",
    "ps['SM_QC_PF'].value_counts()"
   ]
  },
  {
   "cell_type": "markdown",
   "metadata": {},
   "source": [
    "#### Total # of experiments since April 20 "
   ]
  },
  {
   "cell_type": "code",
<<<<<<< HEAD
   "execution_count": 4,
   "metadata": {},
=======
   "execution_count": 14,
   "metadata": {
    "collapsed": false
   },
>>>>>>> bb26d9b31ad9b92a84281604beca7ee562bf2713
   "outputs": [
    {
     "data": {
      "text/plain": [
       "1861"
      ]
     },
     "execution_count": 14,
     "metadata": {},
     "output_type": "execute_result"
    }
   ],
   "source": [
    "total = ps[\"SM_QC_PF\"].count()\n",
    "total"
   ]
  },
  {
   "cell_type": "markdown",
   "metadata": {},
   "source": [
    "#### # of experiments passing smqc "
   ]
  },
  {
   "cell_type": "code",
<<<<<<< HEAD
   "execution_count": 5,
   "metadata": {},
=======
   "execution_count": 15,
   "metadata": {
    "collapsed": false
   },
>>>>>>> bb26d9b31ad9b92a84281604beca7ee562bf2713
   "outputs": [
    {
     "data": {
      "text/plain": [
       "1430"
      ]
     },
     "execution_count": 15,
     "metadata": {},
     "output_type": "execute_result"
    }
   ],
   "source": [
    "passing = ps[ps['SM_QC_PF'] == 'pass']\n",
    "passed = passing['SM_QC_PF'].count()\n",
    "passed"
   ]
  },
  {
   "cell_type": "markdown",
   "metadata": {},
   "source": [
    "#### # of experiments with Resolution index >= 0.8 "
   ]
  },
  {
   "cell_type": "code",
<<<<<<< HEAD
   "execution_count": 6,
   "metadata": {},
=======
   "execution_count": 16,
   "metadata": {
    "collapsed": false
   },
>>>>>>> bb26d9b31ad9b92a84281604beca7ee562bf2713
   "outputs": [
    {
     "data": {
      "text/plain": [
       "573"
      ]
     },
     "execution_count": 16,
     "metadata": {},
     "output_type": "execute_result"
    }
   ],
   "source": [
    "high_res = ps[ps['Resolution index'] >= 0.8]\n",
    "hi_res = high_res['Resolution index'].count()\n",
    "hi_res"
   ]
  },
  {
   "cell_type": "markdown",
   "metadata": {},
   "source": [
    "#### percentage of experiments with Resolution index >= 0.8 "
   ]
  },
  {
   "cell_type": "code",
<<<<<<< HEAD
   "execution_count": 7,
   "metadata": {},
=======
   "execution_count": 17,
   "metadata": {
    "collapsed": false
   },
>>>>>>> bb26d9b31ad9b92a84281604beca7ee562bf2713
   "outputs": [
    {
     "name": "stdout",
     "output_type": "stream",
     "text": [
      "percentage of total samples with Resolution index >= 0.8 = 0.307898979044\n",
      "percentage of smqc pass samples with Resolution index >= 0.8 = 0.400699300699\n"
     ]
    }
   ],
   "source": [
    "pct_ttl = float(hi_res) / total\n",
    "print 'percentage of total samples with Resolution index >= 0.8 =', pct_ttl\n",
    "pct_pass = float(hi_res) / passed\n",
    "print 'percentage of smqc pass samples with Resolution index >= 0.8 =', pct_pass"
   ]
  },
  {
   "cell_type": "markdown",
   "metadata": {},
   "source": [
    "#### Filtering to only experiments that have Resolution index data "
   ]
  },
  {
   "cell_type": "code",
<<<<<<< HEAD
   "execution_count": 8,
   "metadata": {},
=======
   "execution_count": 18,
   "metadata": {
    "collapsed": false
   },
>>>>>>> bb26d9b31ad9b92a84281604beca7ee562bf2713
   "outputs": [
    {
     "data": {
      "text/html": [
       "<div>\n",
       "<style>\n",
       "    .dataframe thead tr:only-child th {\n",
       "        text-align: right;\n",
       "    }\n",
       "\n",
       "    .dataframe thead th {\n",
       "        text-align: left;\n",
       "    }\n",
       "\n",
       "    .dataframe tbody tr th {\n",
       "        vertical-align: top;\n",
       "    }\n",
       "</style>\n",
       "<table border=\"1\" class=\"dataframe\">\n",
       "  <thead>\n",
       "    <tr style=\"text-align: right;\">\n",
       "      <th></th>\n",
       "      <th>Date</th>\n",
       "      <th>User</th>\n",
       "      <th>Post patch?</th>\n",
       "      <th>Notes</th>\n",
       "      <th>PCR cycles</th>\n",
       "      <th>SM_QC_PF</th>\n",
       "      <th>Resolution index</th>\n",
       "    </tr>\n",
       "  </thead>\n",
       "  <tbody>\n",
       "    <tr>\n",
       "      <th>7244</th>\n",
       "      <td>2017-09-21</td>\n",
       "      <td>P8</td>\n",
       "      <td>Nucleated</td>\n",
       "      <td>Fluorescence in Pipette,Cell Dimmed,Cell Shrun...</td>\n",
       "      <td>21.0</td>\n",
       "      <td>pass</td>\n",
       "      <td>0.322631</td>\n",
       "    </tr>\n",
       "    <tr>\n",
       "      <th>7245</th>\n",
       "      <td>2017-09-21</td>\n",
       "      <td>P8</td>\n",
       "      <td>Nucleated</td>\n",
       "      <td>Fluorescence in Pipette,Cell Dimmed,Cell Shrun...</td>\n",
       "      <td>21.0</td>\n",
       "      <td>pass</td>\n",
       "      <td>0.322631</td>\n",
       "    </tr>\n",
       "    <tr>\n",
       "      <th>7246</th>\n",
       "      <td>2017-09-21</td>\n",
       "      <td>P9</td>\n",
       "      <td>Nucleated</td>\n",
       "      <td>2 min retraction period</td>\n",
       "      <td>21.0</td>\n",
       "      <td>pass</td>\n",
       "      <td>0.556320</td>\n",
       "    </tr>\n",
       "    <tr>\n",
       "      <th>7247</th>\n",
       "      <td>2017-09-21</td>\n",
       "      <td>P9</td>\n",
       "      <td>Nucleated</td>\n",
       "      <td>3 min retraction period</td>\n",
       "      <td>21.0</td>\n",
       "      <td>pass</td>\n",
       "      <td>1.000000</td>\n",
       "    </tr>\n",
       "    <tr>\n",
       "      <th>7252</th>\n",
       "      <td>2017-09-21</td>\n",
       "      <td>PA</td>\n",
       "      <td>Nucleated</td>\n",
       "      <td>Fluorescence in Pipette,Too Deep Small Bubbles...</td>\n",
       "      <td>21.0</td>\n",
       "      <td>pass</td>\n",
       "      <td>0.877682</td>\n",
       "    </tr>\n",
       "  </tbody>\n",
       "</table>\n",
       "</div>"
      ],
      "text/plain": [
       "           Date User Post patch?  \\\n",
       "7244 2017-09-21   P8   Nucleated   \n",
       "7245 2017-09-21   P8   Nucleated   \n",
       "7246 2017-09-21   P9   Nucleated   \n",
       "7247 2017-09-21   P9   Nucleated   \n",
       "7252 2017-09-21   PA   Nucleated   \n",
       "\n",
       "                                                  Notes  PCR cycles SM_QC_PF  \\\n",
       "7244  Fluorescence in Pipette,Cell Dimmed,Cell Shrun...        21.0     pass   \n",
       "7245  Fluorescence in Pipette,Cell Dimmed,Cell Shrun...        21.0     pass   \n",
       "7246                            2 min retraction period        21.0     pass   \n",
       "7247                            3 min retraction period        21.0     pass   \n",
       "7252  Fluorescence in Pipette,Too Deep Small Bubbles...        21.0     pass   \n",
       "\n",
       "      Resolution index  \n",
       "7244          0.322631  \n",
       "7245          0.322631  \n",
       "7246          0.556320  \n",
       "7247          1.000000  \n",
       "7252          0.877682  "
      ]
     },
     "execution_count": 18,
     "metadata": {},
     "output_type": "execute_result"
    }
   ],
   "source": [
    "ps.dropna(subset = ['Resolution index'], inplace = True)\n",
    "ps.tail()"
   ]
  },
  {
   "cell_type": "markdown",
   "metadata": {},
   "source": [
    "#### swarm-plot with Seaborn "
   ]
  },
  {
   "cell_type": "code",
<<<<<<< HEAD
   "execution_count": 13,
   "metadata": {},
=======
   "execution_count": 19,
   "metadata": {
    "collapsed": false
   },
>>>>>>> bb26d9b31ad9b92a84281604beca7ee562bf2713
   "outputs": [
    {
     "data": {
      "text/plain": [
<<<<<<< HEAD
       "<matplotlib.axes._subplots.AxesSubplot at 0xf9509b0>"
      ]
     },
     "execution_count": 13,
=======
       "<matplotlib.axes._subplots.AxesSubplot at 0xd7c92e8>"
      ]
     },
     "execution_count": 19,
>>>>>>> bb26d9b31ad9b92a84281604beca7ee562bf2713
     "metadata": {},
     "output_type": "execute_result"
    },
    {
     "data": {
      "image/png": "iVBORw0KGgoAAAANSUhEUgAAAZIAAAEFCAYAAADJ4WEBAAAABHNCSVQICAgIfAhkiAAAAAlwSFlz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\nRQQSQRAEoVz+Hz8ou2qkB4HAAAAAAElFTkSuQmCC\n",
      "text/plain": [
<<<<<<< HEAD
       "<matplotlib.figure.Figure at 0xf973588>"
=======
       "<matplotlib.figure.Figure at 0xd639908>"
>>>>>>> bb26d9b31ad9b92a84281604beca7ee562bf2713
      ]
     },
     "metadata": {},
     "output_type": "display_data"
    }
   ],
   "source": [
    "sns.swarmplot(x='Post patch?', y='Resolution index', data=ps)"
   ]
  },
  {
   "cell_type": "markdown",
   "metadata": {},
   "source": [
    "#### box-plot with Seaborn "
   ]
  },
  {
   "cell_type": "code",
<<<<<<< HEAD
   "execution_count": 10,
   "metadata": {},
=======
   "execution_count": 20,
   "metadata": {
    "collapsed": false
   },
>>>>>>> bb26d9b31ad9b92a84281604beca7ee562bf2713
   "outputs": [
    {
     "data": {
      "text/plain": [
<<<<<<< HEAD
       "<matplotlib.axes._subplots.AxesSubplot at 0xbfbe630>"
=======
       "<matplotlib.axes._subplots.AxesSubplot at 0xd24b908>"
>>>>>>> bb26d9b31ad9b92a84281604beca7ee562bf2713
      ]
     },
     "execution_count": 20,
     "metadata": {},
     "output_type": "execute_result"
    },
    {
     "data": {
      "image/png": "iVBORw0KGgoAAAANSUhEUgAAAZIAAAEFCAYAAADJ4WEBAAAABHNCSVQICAgIfAhkiAAAAAlwSFlz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\niYJERERcoiARERGXKEhERMQl/wefxQiRTNmVFwAAAABJRU5ErkJggg==\n",
      "text/plain": [
<<<<<<< HEAD
       "<matplotlib.figure.Figure at 0xbedc8d0>"
=======
       "<matplotlib.figure.Figure at 0xd744278>"
>>>>>>> bb26d9b31ad9b92a84281604beca7ee562bf2713
      ]
     },
     "metadata": {},
     "output_type": "display_data"
    }
   ],
   "source": [
    "sns.boxplot(x='Post patch?', y='Resolution index', data=ps)"
   ]
  },
  {
   "cell_type": "markdown",
   "metadata": {},
   "source": [
    "#### violin-plot with Seaborn "
   ]
  },
  {
   "cell_type": "code",
<<<<<<< HEAD
   "execution_count": 11,
   "metadata": {},
=======
   "execution_count": 21,
   "metadata": {
    "collapsed": false
   },
>>>>>>> bb26d9b31ad9b92a84281604beca7ee562bf2713
   "outputs": [
    {
     "data": {
      "text/plain": [
<<<<<<< HEAD
       "<matplotlib.axes._subplots.AxesSubplot at 0xf939908>"
=======
       "<matplotlib.axes._subplots.AxesSubplot at 0xdf9b748>"
>>>>>>> bb26d9b31ad9b92a84281604beca7ee562bf2713
      ]
     },
     "execution_count": 21,
     "metadata": {},
     "output_type": "execute_result"
    },
    {
     "data": {
<<<<<<< HEAD
      "image/png": "iVBORw0KGgoAAAANSUhEUgAAAZ4AAAEFCAYAAADT3YGPAAAABHNCSVQICAgIfAhkiAAAAAlwSFlz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\nAAAAAElFTkSuQmCC\n",
      "text/plain": [
       "<matplotlib.figure.Figure at 0x4f64588>"
=======
      "image/png": "iVBORw0KGgoAAAANSUhEUgAAAZkAAAERCAYAAACpRtp7AAAABHNCSVQICAgIfAhkiAAAAAlwSFlz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\nMWckyAghhJgzEmSEEELMmf8AuU2tuDpuev0AAAAASUVORK5CYII=\n",
      "text/plain": [
       "<matplotlib.figure.Figure at 0xdc3c320>"
>>>>>>> bb26d9b31ad9b92a84281604beca7ee562bf2713
      ]
     },
     "metadata": {},
     "output_type": "display_data"
    }
   ],
   "source": [
    "sns.violinplot(x='Post patch?', y='Resolution index', data=ps)"
   ]
  },
  {
   "cell_type": "markdown",
   "metadata": {},
   "source": [
    "#### violin-plot and swarm-plot with Seaborn "
   ]
  },
  {
   "cell_type": "code",
<<<<<<< HEAD
   "execution_count": 12,
   "metadata": {},
=======
   "execution_count": 22,
   "metadata": {
    "collapsed": false
   },
>>>>>>> bb26d9b31ad9b92a84281604beca7ee562bf2713
   "outputs": [
    {
     "data": {
      "text/plain": [
<<<<<<< HEAD
       "<matplotlib.axes._subplots.AxesSubplot at 0xfc75400>"
=======
       "<matplotlib.axes._subplots.AxesSubplot at 0xd97ee10>"
>>>>>>> bb26d9b31ad9b92a84281604beca7ee562bf2713
      ]
     },
     "execution_count": 22,
     "metadata": {},
     "output_type": "execute_result"
    },
    {
     "data": {
<<<<<<< HEAD
      "image/png": "iVBORw0KGgoAAAANSUhEUgAAAZ4AAAEFCAYAAADT3YGPAAAABHNCSVQICAgIfAhkiAAAAAlwSFlz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\n",
      "text/plain": [
       "<matplotlib.figure.Figure at 0xc2d6cc0>"
=======
      "image/png": "iVBORw0KGgoAAAANSUhEUgAAAZkAAAERCAYAAACpRtp7AAAABHNCSVQICAgIfAhkiAAAAAlwSFlz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\ngiAIDUYEGUEQBKHB/D+GXBNPOu1iRQAAAABJRU5ErkJggg==\n",
      "text/plain": [
       "<matplotlib.figure.Figure at 0xe022e10>"
>>>>>>> bb26d9b31ad9b92a84281604beca7ee562bf2713
      ]
     },
     "metadata": {},
     "output_type": "display_data"
    }
   ],
   "source": [
    "sns.violinplot(x='Post patch?', y='Resolution index', data=ps, inner=None)\n",
    "sns.swarmplot(x='Post patch?', y='Resolution index', data=ps, color='w', alpha=.5)"
   ]
  },
  {
   "cell_type": "code",
<<<<<<< HEAD
   "execution_count": 10,
   "metadata": {},
=======
   "execution_count": 23,
   "metadata": {
    "collapsed": false
   },
>>>>>>> bb26d9b31ad9b92a84281604beca7ee562bf2713
   "outputs": [
    {
     "data": {
      "text/html": [
       "<div>\n",
       "<table border=\"1\" class=\"dataframe\">\n",
       "  <thead>\n",
       "    <tr style=\"text-align: right;\">\n",
       "      <th></th>\n",
       "      <th>Date</th>\n",
       "      <th>User</th>\n",
       "      <th>Post patch?</th>\n",
       "      <th>Notes</th>\n",
       "      <th>PCR cycles</th>\n",
       "      <th>SM_QC_PF</th>\n",
       "      <th>Resolution index</th>\n",
       "    </tr>\n",
       "  </thead>\n",
       "  <tbody>\n",
       "    <tr>\n",
       "      <th>5021</th>\n",
       "      <td>2017-04-21</td>\n",
       "      <td>P1</td>\n",
       "      <td>Partial-Nucleus</td>\n",
       "      <td>Fluorescence in Pipette,Cell Dimmed</td>\n",
       "      <td>21.0</td>\n",
       "      <td>pass</td>\n",
       "      <td>1.0</td>\n",
       "    </tr>\n",
       "    <tr>\n",
       "      <th>5026</th>\n",
       "      <td>2017-04-21</td>\n",
       "      <td>P2</td>\n",
       "      <td>Nucleated</td>\n",
       "      <td>Fluorescence in Pipette</td>\n",
       "      <td>21.0</td>\n",
       "      <td>pass</td>\n",
       "      <td>1.0</td>\n",
       "    </tr>\n",
       "    <tr>\n",
       "      <th>5051</th>\n",
       "      <td>2017-04-24</td>\n",
       "      <td>P1</td>\n",
       "      <td>Nucleated</td>\n",
       "      <td>Fluorescence in Pipette   a few small bubbles</td>\n",
       "      <td>21.0</td>\n",
       "      <td>pass</td>\n",
       "      <td>1.0</td>\n",
       "    </tr>\n",
       "    <tr>\n",
       "      <th>5084</th>\n",
       "      <td>2017-04-25</td>\n",
       "      <td>P2</td>\n",
       "      <td>Nucleated</td>\n",
       "      <td>NaN</td>\n",
       "      <td>21.0</td>\n",
       "      <td>pass</td>\n",
       "      <td>1.0</td>\n",
       "    </tr>\n",
       "    <tr>\n",
       "      <th>5085</th>\n",
       "      <td>2017-04-25</td>\n",
       "      <td>P2</td>\n",
       "      <td>Nucleated</td>\n",
       "      <td>Fluorescence in Pipette</td>\n",
       "      <td>21.0</td>\n",
       "      <td>pass</td>\n",
       "      <td>1.0</td>\n",
       "    </tr>\n",
       "  </tbody>\n",
       "</table>\n",
       "</div>"
      ],
      "text/plain": [
       "           Date User      Post patch?  \\\n",
       "5021 2017-04-21   P1  Partial-Nucleus   \n",
       "5026 2017-04-21   P2        Nucleated   \n",
       "5051 2017-04-24   P1        Nucleated   \n",
       "5084 2017-04-25   P2        Nucleated   \n",
       "5085 2017-04-25   P2        Nucleated   \n",
       "\n",
       "                                              Notes  PCR cycles SM_QC_PF  \\\n",
       "5021            Fluorescence in Pipette,Cell Dimmed        21.0     pass   \n",
       "5026                        Fluorescence in Pipette        21.0     pass   \n",
       "5051  Fluorescence in Pipette   a few small bubbles        21.0     pass   \n",
       "5084                                            NaN        21.0     pass   \n",
       "5085                        Fluorescence in Pipette        21.0     pass   \n",
       "\n",
       "      Resolution index  \n",
       "5021               1.0  \n",
       "5026               1.0  \n",
       "5051               1.0  \n",
       "5084               1.0  \n",
       "5085               1.0  "
      ]
     },
     "execution_count": 23,
     "metadata": {},
     "output_type": "execute_result"
    }
   ],
   "source": [
    "res_1 = ps[ps['Resolution index'] == 1]\n",
    "res_1.head()"
   ]
  },
  {
   "cell_type": "markdown",
   "metadata": {},
   "source": [
    "#### first attempt at plotting with Plotly "
   ]
  },
  {
   "cell_type": "code",
<<<<<<< HEAD
   "execution_count": 11,
   "metadata": {},
=======
   "execution_count": 24,
   "metadata": {
    "collapsed": false
   },
>>>>>>> bb26d9b31ad9b92a84281604beca7ee562bf2713
   "outputs": [
    {
     "ename": "ImportError",
     "evalue": "No module named plotly.plotly",
     "output_type": "error",
     "traceback": [
      "\u001b[1;31m---------------------------------------------------------------------------\u001b[0m",
      "\u001b[1;31mImportError\u001b[0m                               Traceback (most recent call last)",
      "\u001b[1;32m<ipython-input-24-abd0f72ca8ab>\u001b[0m in \u001b[0;36m<module>\u001b[1;34m()\u001b[0m\n\u001b[1;32m----> 1\u001b[1;33m \u001b[1;32mimport\u001b[0m \u001b[0mplotly\u001b[0m\u001b[1;33m.\u001b[0m\u001b[0mplotly\u001b[0m \u001b[1;32mas\u001b[0m \u001b[0mpy\u001b[0m\u001b[1;33m\u001b[0m\u001b[0m\n\u001b[0m\u001b[0;32m      2\u001b[0m \u001b[1;32mfrom\u001b[0m \u001b[0mplotly\u001b[0m\u001b[1;33m.\u001b[0m\u001b[0mgraph_objs\u001b[0m \u001b[1;32mimport\u001b[0m \u001b[1;33m*\u001b[0m\u001b[1;33m\u001b[0m\u001b[0m\n\u001b[0;32m      3\u001b[0m \u001b[1;32mimport\u001b[0m \u001b[0mplotly\u001b[0m\u001b[1;33m.\u001b[0m\u001b[0mfigure_factory\u001b[0m \u001b[1;32mas\u001b[0m \u001b[0mff\u001b[0m\u001b[1;33m\u001b[0m\u001b[0m\n\u001b[0;32m      4\u001b[0m \u001b[1;32mimport\u001b[0m \u001b[0mplotly\u001b[0m\u001b[1;33m.\u001b[0m\u001b[0mgraph_objs\u001b[0m \u001b[1;32mas\u001b[0m \u001b[0mgo\u001b[0m\u001b[1;33m\u001b[0m\u001b[0m\n\u001b[0;32m      5\u001b[0m \u001b[1;33m\u001b[0m\u001b[0m\n",
      "\u001b[1;31mImportError\u001b[0m: No module named plotly.plotly"
     ]
    }
   ],
   "source": [
    "import plotly.plotly as py\n",
    "from plotly.graph_objs import *\n",
    "import plotly.figure_factory as ff\n",
    "import plotly.graph_objs as go\n",
    "\n",
    "table = ff.create_table(ps)\n",
    "#py.iplot(table, filename='table1')\n",
    "dots = go.Scatter(x=ps['Post patch?'], y=ps['Resolution index'], mode='markers', name='dots')\n",
    "data = [dots]\n",
    "py.iplot(data, name='scatter')\n",
    "#py.iplot(plotly, x='Post patch?', y='Resolution index')"
   ]
  },
  {
   "cell_type": "markdown",
   "metadata": {},
   "source": [
    "#### violin and rug plots with Plotly "
   ]
  },
  {
   "cell_type": "code",
   "execution_count": 12,
   "metadata": {},
   "outputs": [
    {
     "data": {
      "text/html": [
       "<iframe id=\"igraph\" scrolling=\"no\" style=\"border:none;\" seamless=\"seamless\" src=\"https://plot.ly/~rustymann/11.embed\" height=\"500px\" width=\"800px\"></iframe>"
      ],
      "text/plain": [
       "<plotly.tools.PlotlyDisplay object>"
      ]
     },
     "execution_count": 12,
     "metadata": {},
     "output_type": "execute_result"
    }
   ],
   "source": [
    "from plotly.graph_objs import graph_objs\n",
    "df = ps[['Post patch?','Resolution index']]\n",
    "df = df[df['Post patch?'] != 'missing'] #there was only one data point for \"missing\" which was causing an error with violin plot\n",
    "fig = ff.create_violin(df, data_header='Resolution index', group_header='Post patch?', height=500, width=800)\n",
    "py.iplot(fig, filename='violin plot')\n"
   ]
  },
  {
   "cell_type": "markdown",
   "metadata": {},
   "source": [
    "#### using regex to search for and extract exact strings to get bubble conditions from Notes field.    "
   ]
  },
  {
   "cell_type": "code",
   "execution_count": 15,
   "metadata": {
    "scrolled": true
   },
   "outputs": [
    {
     "name": "stderr",
     "output_type": "stream",
     "text": [
      "C:\\Anaconda2\\lib\\site-packages\\ipykernel\\__main__.py:6: FutureWarning: currently extract(expand=None) means expand=False (return Index/Series/DataFrame) but in a future version of pandas this will be changed to expand=True (return DataFrame)\n"
     ]
    },
    {
     "data": {
      "text/html": [
       "<div>\n",
       "<table border=\"1\" class=\"dataframe\">\n",
       "  <thead>\n",
       "    <tr style=\"text-align: right;\">\n",
       "      <th></th>\n",
       "      <th>Date</th>\n",
       "      <th>User</th>\n",
       "      <th>Post patch?</th>\n",
       "      <th>Notes</th>\n",
       "      <th>PCR cycles</th>\n",
       "      <th>SM_QC_PF</th>\n",
       "      <th>Resolution index</th>\n",
       "      <th>Bubbles</th>\n",
       "    </tr>\n",
       "  </thead>\n",
       "  <tbody>\n",
       "    <tr>\n",
       "      <th>5211</th>\n",
       "      <td>2017-05-16</td>\n",
       "      <td>P1</td>\n",
       "      <td>Nucleated</td>\n",
       "      <td>Small Bubbles</td>\n",
       "      <td>21.0</td>\n",
       "      <td>pass</td>\n",
       "      <td>1.000000</td>\n",
       "      <td>Small Bubbles</td>\n",
       "    </tr>\n",
       "    <tr>\n",
       "      <th>5215</th>\n",
       "      <td>2017-05-16</td>\n",
       "      <td>P2</td>\n",
       "      <td>Outside-Out</td>\n",
       "      <td>Small Bubbles</td>\n",
       "      <td>21.0</td>\n",
       "      <td>pass</td>\n",
       "      <td>1.000000</td>\n",
       "      <td>Small Bubbles</td>\n",
       "    </tr>\n",
       "    <tr>\n",
       "      <th>5216</th>\n",
       "      <td>2017-05-16</td>\n",
       "      <td>P2</td>\n",
       "      <td>Nucleated</td>\n",
       "      <td>No Bubbles</td>\n",
       "      <td>21.0</td>\n",
       "      <td>pass</td>\n",
       "      <td>0.601033</td>\n",
       "      <td>No Bubbles</td>\n",
       "    </tr>\n",
       "    <tr>\n",
       "      <th>5217</th>\n",
       "      <td>2017-05-16</td>\n",
       "      <td>P2</td>\n",
       "      <td>Nucleated</td>\n",
       "      <td>No Bubbles</td>\n",
       "      <td>21.0</td>\n",
       "      <td>pass</td>\n",
       "      <td>0.875031</td>\n",
       "      <td>No Bubbles</td>\n",
       "    </tr>\n",
       "    <tr>\n",
       "      <th>5228</th>\n",
       "      <td>2017-05-17</td>\n",
       "      <td>P1</td>\n",
       "      <td>Nucleated</td>\n",
       "      <td>Small Bubbles,Medium Bubbles</td>\n",
       "      <td>21.0</td>\n",
       "      <td>pass</td>\n",
       "      <td>0.825809</td>\n",
       "      <td>Small Bubbles,Medium Bubbles</td>\n",
       "    </tr>\n",
       "    <tr>\n",
       "      <th>5229</th>\n",
       "      <td>2017-05-17</td>\n",
       "      <td>P1</td>\n",
       "      <td>Partial-Nucleus</td>\n",
       "      <td>Small Bubbles</td>\n",
       "      <td>21.0</td>\n",
       "      <td>pass</td>\n",
       "      <td>0.000000</td>\n",
       "      <td>Small Bubbles</td>\n",
       "    </tr>\n",
       "    <tr>\n",
       "      <th>5230</th>\n",
       "      <td>2017-05-17</td>\n",
       "      <td>P1</td>\n",
       "      <td>Nucleated</td>\n",
       "      <td>Small Bubbles</td>\n",
       "      <td>21.0</td>\n",
       "      <td>pass</td>\n",
       "      <td>0.858195</td>\n",
       "      <td>Small Bubbles</td>\n",
       "    </tr>\n",
       "    <tr>\n",
       "      <th>5231</th>\n",
       "      <td>2017-05-17</td>\n",
       "      <td>P1</td>\n",
       "      <td>Nucleated</td>\n",
       "      <td>Small Bubbles</td>\n",
       "      <td>21.0</td>\n",
       "      <td>pass</td>\n",
       "      <td>0.900094</td>\n",
       "      <td>Small Bubbles</td>\n",
       "    </tr>\n",
       "    <tr>\n",
       "      <th>5234</th>\n",
       "      <td>2017-05-17</td>\n",
       "      <td>P1</td>\n",
       "      <td>Nucleated</td>\n",
       "      <td>Small Bubbles</td>\n",
       "      <td>21.0</td>\n",
       "      <td>pass</td>\n",
       "      <td>0.695597</td>\n",
       "      <td>Small Bubbles</td>\n",
       "    </tr>\n",
       "    <tr>\n",
       "      <th>5235</th>\n",
       "      <td>2017-05-17</td>\n",
       "      <td>P1</td>\n",
       "      <td>Nucleated</td>\n",
       "      <td>Large Bubbles</td>\n",
       "      <td>21.0</td>\n",
       "      <td>pass</td>\n",
       "      <td>0.787397</td>\n",
       "      <td>Large Bubbles</td>\n",
       "    </tr>\n",
       "    <tr>\n",
       "      <th>5236</th>\n",
       "      <td>2017-05-17</td>\n",
       "      <td>P1</td>\n",
       "      <td>Nucleated</td>\n",
       "      <td>Small Bubbles,Medium Bubbles</td>\n",
       "      <td>21.0</td>\n",
       "      <td>pass</td>\n",
       "      <td>1.000000</td>\n",
       "      <td>Small Bubbles,Medium Bubbles</td>\n",
       "    </tr>\n",
       "    <tr>\n",
       "      <th>5240</th>\n",
       "      <td>2017-05-17</td>\n",
       "      <td>P2</td>\n",
       "      <td>Partial-Nucleus</td>\n",
       "      <td>No Bubbles got nucleus and gigaohm seal but th...</td>\n",
       "      <td>21.0</td>\n",
       "      <td>pass</td>\n",
       "      <td>0.601033</td>\n",
       "      <td>No Bubbles</td>\n",
       "    </tr>\n",
       "    <tr>\n",
       "      <th>5241</th>\n",
       "      <td>2017-05-17</td>\n",
       "      <td>P2</td>\n",
       "      <td>Partial-Nucleus</td>\n",
       "      <td>Small Bubbles</td>\n",
       "      <td>21.0</td>\n",
       "      <td>pass</td>\n",
       "      <td>1.000000</td>\n",
       "      <td>Small Bubbles</td>\n",
       "    </tr>\n",
       "    <tr>\n",
       "      <th>5242</th>\n",
       "      <td>2017-05-17</td>\n",
       "      <td>P2</td>\n",
       "      <td>Outside-Out</td>\n",
       "      <td>No Bubbles lost seal on cell during extraction...</td>\n",
       "      <td>21.0</td>\n",
       "      <td>pass</td>\n",
       "      <td>1.000000</td>\n",
       "      <td>No Bubbles</td>\n",
       "    </tr>\n",
       "    <tr>\n",
       "      <th>5243</th>\n",
       "      <td>2017-05-17</td>\n",
       "      <td>P2</td>\n",
       "      <td>Nucleated</td>\n",
       "      <td>Large Bubbles,Solution in Pipette Shank</td>\n",
       "      <td>21.0</td>\n",
       "      <td>pass</td>\n",
       "      <td>0.601033</td>\n",
       "      <td>Large Bubbles,Solution in Pipette Shank</td>\n",
       "    </tr>\n",
       "    <tr>\n",
       "      <th>5244</th>\n",
       "      <td>2017-05-17</td>\n",
       "      <td>P2</td>\n",
       "      <td>Nucleated</td>\n",
       "      <td>No Bubbles</td>\n",
       "      <td>21.0</td>\n",
       "      <td>pass</td>\n",
       "      <td>0.601033</td>\n",
       "      <td>No Bubbles</td>\n",
       "    </tr>\n",
       "    <tr>\n",
       "      <th>5246</th>\n",
       "      <td>2017-05-17</td>\n",
       "      <td>P2</td>\n",
       "      <td>Nucleated</td>\n",
       "      <td>No Bubbles</td>\n",
       "      <td>21.0</td>\n",
       "      <td>pass</td>\n",
       "      <td>0.875031</td>\n",
       "      <td>No Bubbles</td>\n",
       "    </tr>\n",
       "    <tr>\n",
       "      <th>5247</th>\n",
       "      <td>2017-05-17</td>\n",
       "      <td>P2</td>\n",
       "      <td>Nucleated</td>\n",
       "      <td>No Bubbles</td>\n",
       "      <td>21.0</td>\n",
       "      <td>pass</td>\n",
       "      <td>0.630983</td>\n",
       "      <td>No Bubbles</td>\n",
       "    </tr>\n",
       "    <tr>\n",
       "      <th>5248</th>\n",
       "      <td>2017-05-17</td>\n",
       "      <td>P2</td>\n",
       "      <td>Nucleated</td>\n",
       "      <td>No Bubbles</td>\n",
       "      <td>21.0</td>\n",
       "      <td>pass</td>\n",
       "      <td>0.773439</td>\n",
       "      <td>No Bubbles</td>\n",
       "    </tr>\n",
       "    <tr>\n",
       "      <th>5260</th>\n",
       "      <td>2017-05-18</td>\n",
       "      <td>P1</td>\n",
       "      <td>Nucleated</td>\n",
       "      <td>Fluorescence in Pipette,Cell Dimmed   Small Bu...</td>\n",
       "      <td>21.0</td>\n",
       "      <td>pass</td>\n",
       "      <td>0.927767</td>\n",
       "      <td>Small Bubbles</td>\n",
       "    </tr>\n",
       "    <tr>\n",
       "      <th>5261</th>\n",
       "      <td>2017-05-18</td>\n",
       "      <td>P1</td>\n",
       "      <td>Nucleated</td>\n",
       "      <td>Fluorescence in Pipette,Cell Dimmed   Small Bu...</td>\n",
       "      <td>21.0</td>\n",
       "      <td>pass</td>\n",
       "      <td>0.927767</td>\n",
       "      <td>Small Bubbles</td>\n",
       "    </tr>\n",
       "    <tr>\n",
       "      <th>5262</th>\n",
       "      <td>2017-05-18</td>\n",
       "      <td>P1</td>\n",
       "      <td>Outside-Out</td>\n",
       "      <td>Cell Dimmed   Small Bubbles,Medium Bubbles</td>\n",
       "      <td>21.0</td>\n",
       "      <td>pass</td>\n",
       "      <td>0.836284</td>\n",
       "      <td>Small Bubbles,Medium Bubbles</td>\n",
       "    </tr>\n",
       "    <tr>\n",
       "      <th>5263</th>\n",
       "      <td>2017-05-18</td>\n",
       "      <td>P1</td>\n",
       "      <td>Partial-Nucleus</td>\n",
       "      <td>Fluorescence in Pipette   Small Bubbles</td>\n",
       "      <td>21.0</td>\n",
       "      <td>pass</td>\n",
       "      <td>0.729438</td>\n",
       "      <td>Small Bubbles</td>\n",
       "    </tr>\n",
       "    <tr>\n",
       "      <th>5269</th>\n",
       "      <td>2017-05-18</td>\n",
       "      <td>P2</td>\n",
       "      <td>Partial-Nucleus</td>\n",
       "      <td>Fluorescence in Pipette No Bubbles</td>\n",
       "      <td>21.0</td>\n",
       "      <td>pass</td>\n",
       "      <td>0.836284</td>\n",
       "      <td>No Bubbles</td>\n",
       "    </tr>\n",
       "    <tr>\n",
       "      <th>5271</th>\n",
       "      <td>2017-05-18</td>\n",
       "      <td>P2</td>\n",
       "      <td>No-Seal</td>\n",
       "      <td>Fluorescence in Pipette No Bubbles</td>\n",
       "      <td>21.0</td>\n",
       "      <td>pass</td>\n",
       "      <td>1.000000</td>\n",
       "      <td>No Bubbles</td>\n",
       "    </tr>\n",
       "    <tr>\n",
       "      <th>5272</th>\n",
       "      <td>2017-05-18</td>\n",
       "      <td>P2</td>\n",
       "      <td>Nucleated</td>\n",
       "      <td>Fluorescence in Pipette Small Bubbles</td>\n",
       "      <td>21.0</td>\n",
       "      <td>pass</td>\n",
       "      <td>0.469928</td>\n",
       "      <td>Small Bubbles</td>\n",
       "    </tr>\n",
       "    <tr>\n",
       "      <th>5273</th>\n",
       "      <td>2017-05-18</td>\n",
       "      <td>P2</td>\n",
       "      <td>Nucleated</td>\n",
       "      <td>Fluorescence in Pipette No Bubbles</td>\n",
       "      <td>21.0</td>\n",
       "      <td>pass</td>\n",
       "      <td>0.322631</td>\n",
       "      <td>No Bubbles</td>\n",
       "    </tr>\n",
       "    <tr>\n",
       "      <th>5274</th>\n",
       "      <td>2017-05-18</td>\n",
       "      <td>P2</td>\n",
       "      <td>Nucleated</td>\n",
       "      <td>Fluorescence in Pipette No Bubbles</td>\n",
       "      <td>21.0</td>\n",
       "      <td>pass</td>\n",
       "      <td>0.836284</td>\n",
       "      <td>No Bubbles</td>\n",
       "    </tr>\n",
       "    <tr>\n",
       "      <th>5275</th>\n",
       "      <td>2017-05-18</td>\n",
       "      <td>P2</td>\n",
       "      <td>Nucleated</td>\n",
       "      <td>Fluorescence in Pipette Small Bubbles</td>\n",
       "      <td>21.0</td>\n",
       "      <td>pass</td>\n",
       "      <td>0.836284</td>\n",
       "      <td>Small Bubbles</td>\n",
       "    </tr>\n",
       "    <tr>\n",
       "      <th>5276</th>\n",
       "      <td>2017-05-18</td>\n",
       "      <td>P2</td>\n",
       "      <td>Nucleated</td>\n",
       "      <td>Fluorescence in Pipette Small Bubbles</td>\n",
       "      <td>21.0</td>\n",
       "      <td>pass</td>\n",
       "      <td>0.836284</td>\n",
       "      <td>Small Bubbles</td>\n",
       "    </tr>\n",
       "    <tr>\n",
       "      <th>...</th>\n",
       "      <td>...</td>\n",
       "      <td>...</td>\n",
       "      <td>...</td>\n",
       "      <td>...</td>\n",
       "      <td>...</td>\n",
       "      <td>...</td>\n",
       "      <td>...</td>\n",
       "      <td>...</td>\n",
       "    </tr>\n",
       "    <tr>\n",
       "      <th>5389</th>\n",
       "      <td>2017-05-25</td>\n",
       "      <td>P2</td>\n",
       "      <td>No-Seal</td>\n",
       "      <td>Fluorescence in Pipette Small Bubbles,Medium B...</td>\n",
       "      <td>21.0</td>\n",
       "      <td>pass</td>\n",
       "      <td>0.000000</td>\n",
       "      <td>Small Bubbles,Medium Bubbles</td>\n",
       "    </tr>\n",
       "    <tr>\n",
       "      <th>5390</th>\n",
       "      <td>2017-05-25</td>\n",
       "      <td>P2</td>\n",
       "      <td>No-Seal</td>\n",
       "      <td>Fluorescence in Pipette Medium Bubbles may hav...</td>\n",
       "      <td>21.0</td>\n",
       "      <td>pass</td>\n",
       "      <td>0.763111</td>\n",
       "      <td>Medium Bubbles</td>\n",
       "    </tr>\n",
       "    <tr>\n",
       "      <th>5391</th>\n",
       "      <td>2017-05-25</td>\n",
       "      <td>P2</td>\n",
       "      <td>Partial-Nucleus</td>\n",
       "      <td>Fluorescence in Pipette Small Bubbles</td>\n",
       "      <td>21.0</td>\n",
       "      <td>pass</td>\n",
       "      <td>0.860881</td>\n",
       "      <td>Small Bubbles</td>\n",
       "    </tr>\n",
       "    <tr>\n",
       "      <th>5392</th>\n",
       "      <td>2017-05-25</td>\n",
       "      <td>P2</td>\n",
       "      <td>Nucleated</td>\n",
       "      <td>Fluorescence in Pipette Small Bubbles,Large Bu...</td>\n",
       "      <td>21.0</td>\n",
       "      <td>pass</td>\n",
       "      <td>0.746661</td>\n",
       "      <td>Small Bubbles,Large Bubbles</td>\n",
       "    </tr>\n",
       "    <tr>\n",
       "      <th>5393</th>\n",
       "      <td>2017-05-25</td>\n",
       "      <td>P2</td>\n",
       "      <td>Nucleated</td>\n",
       "      <td>Fluorescence in Pipette Medium Bubbles</td>\n",
       "      <td>21.0</td>\n",
       "      <td>pass</td>\n",
       "      <td>0.469928</td>\n",
       "      <td>Medium Bubbles</td>\n",
       "    </tr>\n",
       "    <tr>\n",
       "      <th>5394</th>\n",
       "      <td>2017-05-25</td>\n",
       "      <td>P2</td>\n",
       "      <td>Nucleated</td>\n",
       "      <td>Fluorescence in Pipette No Bubbles</td>\n",
       "      <td>21.0</td>\n",
       "      <td>pass</td>\n",
       "      <td>0.781350</td>\n",
       "      <td>No Bubbles</td>\n",
       "    </tr>\n",
       "    <tr>\n",
       "      <th>5396</th>\n",
       "      <td>2017-05-25</td>\n",
       "      <td>P2</td>\n",
       "      <td>Nucleated</td>\n",
       "      <td>Fluorescence in Pipette Small Bubbles,Medium B...</td>\n",
       "      <td>21.0</td>\n",
       "      <td>pass</td>\n",
       "      <td>0.688154</td>\n",
       "      <td>Small Bubbles,Medium Bubbles</td>\n",
       "    </tr>\n",
       "    <tr>\n",
       "      <th>5403</th>\n",
       "      <td>2017-05-26</td>\n",
       "      <td>P1</td>\n",
       "      <td>Nucleated</td>\n",
       "      <td>Fluorescence in Pipette,Cell Dimmed   No Bubbles</td>\n",
       "      <td>21.0</td>\n",
       "      <td>pass</td>\n",
       "      <td>0.688154</td>\n",
       "      <td>No Bubbles</td>\n",
       "    </tr>\n",
       "    <tr>\n",
       "      <th>5404</th>\n",
       "      <td>2017-05-26</td>\n",
       "      <td>P1</td>\n",
       "      <td>Nucleated</td>\n",
       "      <td>Cell Dimmed   No Bubbles</td>\n",
       "      <td>21.0</td>\n",
       "      <td>pass</td>\n",
       "      <td>1.000000</td>\n",
       "      <td>No Bubbles</td>\n",
       "    </tr>\n",
       "    <tr>\n",
       "      <th>5405</th>\n",
       "      <td>2017-05-26</td>\n",
       "      <td>P1</td>\n",
       "      <td>Partial-Nucleus</td>\n",
       "      <td>Fluorescence in Pipette,Cell Dimmed   Small Bu...</td>\n",
       "      <td>21.0</td>\n",
       "      <td>pass</td>\n",
       "      <td>0.890764</td>\n",
       "      <td>Small Bubbles</td>\n",
       "    </tr>\n",
       "    <tr>\n",
       "      <th>5407</th>\n",
       "      <td>2017-05-26</td>\n",
       "      <td>P1</td>\n",
       "      <td>Partial-Nucleus</td>\n",
       "      <td>Fluorescence in Pipette,Cell Dimmed   Small Bu...</td>\n",
       "      <td>21.0</td>\n",
       "      <td>pass</td>\n",
       "      <td>0.864362</td>\n",
       "      <td>Small Bubbles</td>\n",
       "    </tr>\n",
       "    <tr>\n",
       "      <th>5408</th>\n",
       "      <td>2017-05-26</td>\n",
       "      <td>P1</td>\n",
       "      <td>Nucleated</td>\n",
       "      <td>Fluorescence in Pipette,Cell Dimmed   Small Bu...</td>\n",
       "      <td>21.0</td>\n",
       "      <td>pass</td>\n",
       "      <td>0.927767</td>\n",
       "      <td>Small Bubbles</td>\n",
       "    </tr>\n",
       "    <tr>\n",
       "      <th>5409</th>\n",
       "      <td>2017-05-26</td>\n",
       "      <td>P1</td>\n",
       "      <td>Nucleated</td>\n",
       "      <td>Fluorescence in Pipette,Cell Dimmed   Small Bu...</td>\n",
       "      <td>21.0</td>\n",
       "      <td>pass</td>\n",
       "      <td>0.890764</td>\n",
       "      <td>Small Bubbles</td>\n",
       "    </tr>\n",
       "    <tr>\n",
       "      <th>5410</th>\n",
       "      <td>2017-05-26</td>\n",
       "      <td>P1</td>\n",
       "      <td>Nucleated</td>\n",
       "      <td>Fluorescence in Pipette,Cell Dimmed   Small Bu...</td>\n",
       "      <td>21.0</td>\n",
       "      <td>pass</td>\n",
       "      <td>0.660082</td>\n",
       "      <td>Small Bubbles</td>\n",
       "    </tr>\n",
       "    <tr>\n",
       "      <th>5412</th>\n",
       "      <td>2017-05-26</td>\n",
       "      <td>P1</td>\n",
       "      <td>Nucleated</td>\n",
       "      <td>Cell Dimmed   Small Bubbles</td>\n",
       "      <td>21.0</td>\n",
       "      <td>pass</td>\n",
       "      <td>0.688154</td>\n",
       "      <td>Small Bubbles</td>\n",
       "    </tr>\n",
       "    <tr>\n",
       "      <th>5415</th>\n",
       "      <td>2017-05-26</td>\n",
       "      <td>P2</td>\n",
       "      <td>No-Seal</td>\n",
       "      <td>Small Bubbles</td>\n",
       "      <td>21.0</td>\n",
       "      <td>pass</td>\n",
       "      <td>0.885860</td>\n",
       "      <td>Small Bubbles</td>\n",
       "    </tr>\n",
       "    <tr>\n",
       "      <th>5416</th>\n",
       "      <td>2017-05-26</td>\n",
       "      <td>P2</td>\n",
       "      <td>Nucleated</td>\n",
       "      <td>Fluorescence in Pipette No Bubbles</td>\n",
       "      <td>21.0</td>\n",
       "      <td>pass</td>\n",
       "      <td>0.890764</td>\n",
       "      <td>No Bubbles</td>\n",
       "    </tr>\n",
       "    <tr>\n",
       "      <th>5417</th>\n",
       "      <td>2017-05-26</td>\n",
       "      <td>P2</td>\n",
       "      <td>Partial-Nucleus</td>\n",
       "      <td>Fluorescence in Pipette Small Bubbles</td>\n",
       "      <td>21.0</td>\n",
       "      <td>pass</td>\n",
       "      <td>0.888508</td>\n",
       "      <td>Small Bubbles</td>\n",
       "    </tr>\n",
       "    <tr>\n",
       "      <th>5418</th>\n",
       "      <td>2017-05-26</td>\n",
       "      <td>P2</td>\n",
       "      <td>Nucleated</td>\n",
       "      <td>Fluorescence in Pipette Small Bubbles</td>\n",
       "      <td>21.0</td>\n",
       "      <td>pass</td>\n",
       "      <td>0.765569</td>\n",
       "      <td>Small Bubbles</td>\n",
       "    </tr>\n",
       "    <tr>\n",
       "      <th>5420</th>\n",
       "      <td>2017-05-26</td>\n",
       "      <td>P2</td>\n",
       "      <td>Partial-Nucleus</td>\n",
       "      <td>Fluorescence in Pipette Small Bubbles</td>\n",
       "      <td>21.0</td>\n",
       "      <td>pass</td>\n",
       "      <td>0.842398</td>\n",
       "      <td>Small Bubbles</td>\n",
       "    </tr>\n",
       "    <tr>\n",
       "      <th>5421</th>\n",
       "      <td>2017-05-26</td>\n",
       "      <td>P2</td>\n",
       "      <td>No-Seal</td>\n",
       "      <td>Fluorescence in Pipette No Bubbles</td>\n",
       "      <td>21.0</td>\n",
       "      <td>pass</td>\n",
       "      <td>1.000000</td>\n",
       "      <td>No Bubbles</td>\n",
       "    </tr>\n",
       "    <tr>\n",
       "      <th>5422</th>\n",
       "      <td>2017-05-26</td>\n",
       "      <td>P2</td>\n",
       "      <td>No-Seal</td>\n",
       "      <td>Fluorescence in Pipette Small Bubbles might ha...</td>\n",
       "      <td>21.0</td>\n",
       "      <td>pass</td>\n",
       "      <td>0.521240</td>\n",
       "      <td>Small Bubbles</td>\n",
       "    </tr>\n",
       "    <tr>\n",
       "      <th>5423</th>\n",
       "      <td>2017-05-26</td>\n",
       "      <td>P2</td>\n",
       "      <td>Nucleated</td>\n",
       "      <td>Fluorescence in Pipette No Bubbles</td>\n",
       "      <td>21.0</td>\n",
       "      <td>pass</td>\n",
       "      <td>0.322631</td>\n",
       "      <td>No Bubbles</td>\n",
       "    </tr>\n",
       "    <tr>\n",
       "      <th>5424</th>\n",
       "      <td>2017-05-26</td>\n",
       "      <td>P2</td>\n",
       "      <td>Nucleated</td>\n",
       "      <td>Fluorescence in Pipette Small Bubbles</td>\n",
       "      <td>21.0</td>\n",
       "      <td>pass</td>\n",
       "      <td>0.836284</td>\n",
       "      <td>Small Bubbles</td>\n",
       "    </tr>\n",
       "    <tr>\n",
       "      <th>5432</th>\n",
       "      <td>2017-06-01</td>\n",
       "      <td>P1</td>\n",
       "      <td>No-Seal</td>\n",
       "      <td>Fluorescence in Pipette,Cell Dimmed,Cell Shrun...</td>\n",
       "      <td>21.0</td>\n",
       "      <td>pass</td>\n",
       "      <td>0.835709</td>\n",
       "      <td>Small Bubbles</td>\n",
       "    </tr>\n",
       "    <tr>\n",
       "      <th>5433</th>\n",
       "      <td>2017-06-01</td>\n",
       "      <td>P1</td>\n",
       "      <td>No-Seal</td>\n",
       "      <td>Fluorescence in Pipette,Cell Dimmed,Cell Shrun...</td>\n",
       "      <td>21.0</td>\n",
       "      <td>pass</td>\n",
       "      <td>0.660082</td>\n",
       "      <td>Small Bubbles</td>\n",
       "    </tr>\n",
       "    <tr>\n",
       "      <th>5434</th>\n",
       "      <td>2017-06-01</td>\n",
       "      <td>P1</td>\n",
       "      <td>Partial-Nucleus</td>\n",
       "      <td>Fluorescence in Pipette,Cell Dimmed,Cell Shrun...</td>\n",
       "      <td>21.0</td>\n",
       "      <td>pass</td>\n",
       "      <td>0.556320</td>\n",
       "      <td>Small Bubbles,Medium Bubbles</td>\n",
       "    </tr>\n",
       "    <tr>\n",
       "      <th>5435</th>\n",
       "      <td>2017-06-01</td>\n",
       "      <td>P1</td>\n",
       "      <td>Nucleated</td>\n",
       "      <td>Fluorescence in Pipette,Cell Dimmed   Small Bu...</td>\n",
       "      <td>21.0</td>\n",
       "      <td>pass</td>\n",
       "      <td>0.556320</td>\n",
       "      <td>Small Bubbles,Medium Bubbles</td>\n",
       "    </tr>\n",
       "    <tr>\n",
       "      <th>5436</th>\n",
       "      <td>2017-06-01</td>\n",
       "      <td>P1</td>\n",
       "      <td>Entire-Cell</td>\n",
       "      <td>Fluorescence in Pipette,Cell Dimmed,Cell Shrun...</td>\n",
       "      <td>21.0</td>\n",
       "      <td>pass</td>\n",
       "      <td>0.860881</td>\n",
       "      <td>Small Bubbles</td>\n",
       "    </tr>\n",
       "    <tr>\n",
       "      <th>5440</th>\n",
       "      <td>2017-06-01</td>\n",
       "      <td>P2</td>\n",
       "      <td>No-Seal</td>\n",
       "      <td>Fluorescence in Pipette Large Bubbles Pretty s...</td>\n",
       "      <td>21.0</td>\n",
       "      <td>pass</td>\n",
       "      <td>0.660082</td>\n",
       "      <td>Large Bubbles</td>\n",
       "    </tr>\n",
       "  </tbody>\n",
       "</table>\n",
       "<p>118 rows × 8 columns</p>\n",
       "</div>"
      ],
      "text/plain": [
       "           Date User      Post patch?  \\\n",
       "5211 2017-05-16   P1        Nucleated   \n",
       "5215 2017-05-16   P2      Outside-Out   \n",
       "5216 2017-05-16   P2        Nucleated   \n",
       "5217 2017-05-16   P2        Nucleated   \n",
       "5228 2017-05-17   P1        Nucleated   \n",
       "5229 2017-05-17   P1  Partial-Nucleus   \n",
       "5230 2017-05-17   P1        Nucleated   \n",
       "5231 2017-05-17   P1        Nucleated   \n",
       "5234 2017-05-17   P1        Nucleated   \n",
       "5235 2017-05-17   P1        Nucleated   \n",
       "5236 2017-05-17   P1        Nucleated   \n",
       "5240 2017-05-17   P2  Partial-Nucleus   \n",
       "5241 2017-05-17   P2  Partial-Nucleus   \n",
       "5242 2017-05-17   P2      Outside-Out   \n",
       "5243 2017-05-17   P2        Nucleated   \n",
       "5244 2017-05-17   P2        Nucleated   \n",
       "5246 2017-05-17   P2        Nucleated   \n",
       "5247 2017-05-17   P2        Nucleated   \n",
       "5248 2017-05-17   P2        Nucleated   \n",
       "5260 2017-05-18   P1        Nucleated   \n",
       "5261 2017-05-18   P1        Nucleated   \n",
       "5262 2017-05-18   P1      Outside-Out   \n",
       "5263 2017-05-18   P1  Partial-Nucleus   \n",
       "5269 2017-05-18   P2  Partial-Nucleus   \n",
       "5271 2017-05-18   P2          No-Seal   \n",
       "5272 2017-05-18   P2        Nucleated   \n",
       "5273 2017-05-18   P2        Nucleated   \n",
       "5274 2017-05-18   P2        Nucleated   \n",
       "5275 2017-05-18   P2        Nucleated   \n",
       "5276 2017-05-18   P2        Nucleated   \n",
       "...         ...  ...              ...   \n",
       "5389 2017-05-25   P2          No-Seal   \n",
       "5390 2017-05-25   P2          No-Seal   \n",
       "5391 2017-05-25   P2  Partial-Nucleus   \n",
       "5392 2017-05-25   P2        Nucleated   \n",
       "5393 2017-05-25   P2        Nucleated   \n",
       "5394 2017-05-25   P2        Nucleated   \n",
       "5396 2017-05-25   P2        Nucleated   \n",
       "5403 2017-05-26   P1        Nucleated   \n",
       "5404 2017-05-26   P1        Nucleated   \n",
       "5405 2017-05-26   P1  Partial-Nucleus   \n",
       "5407 2017-05-26   P1  Partial-Nucleus   \n",
       "5408 2017-05-26   P1        Nucleated   \n",
       "5409 2017-05-26   P1        Nucleated   \n",
       "5410 2017-05-26   P1        Nucleated   \n",
       "5412 2017-05-26   P1        Nucleated   \n",
       "5415 2017-05-26   P2          No-Seal   \n",
       "5416 2017-05-26   P2        Nucleated   \n",
       "5417 2017-05-26   P2  Partial-Nucleus   \n",
       "5418 2017-05-26   P2        Nucleated   \n",
       "5420 2017-05-26   P2  Partial-Nucleus   \n",
       "5421 2017-05-26   P2          No-Seal   \n",
       "5422 2017-05-26   P2          No-Seal   \n",
       "5423 2017-05-26   P2        Nucleated   \n",
       "5424 2017-05-26   P2        Nucleated   \n",
       "5432 2017-06-01   P1          No-Seal   \n",
       "5433 2017-06-01   P1          No-Seal   \n",
       "5434 2017-06-01   P1  Partial-Nucleus   \n",
       "5435 2017-06-01   P1        Nucleated   \n",
       "5436 2017-06-01   P1      Entire-Cell   \n",
       "5440 2017-06-01   P2          No-Seal   \n",
       "\n",
       "                                                  Notes  PCR cycles SM_QC_PF  \\\n",
       "5211                                      Small Bubbles        21.0     pass   \n",
       "5215                                      Small Bubbles        21.0     pass   \n",
       "5216                                         No Bubbles        21.0     pass   \n",
       "5217                                         No Bubbles        21.0     pass   \n",
       "5228                       Small Bubbles,Medium Bubbles        21.0     pass   \n",
       "5229                                      Small Bubbles        21.0     pass   \n",
       "5230                                      Small Bubbles        21.0     pass   \n",
       "5231                                      Small Bubbles        21.0     pass   \n",
       "5234                                      Small Bubbles        21.0     pass   \n",
       "5235                                      Large Bubbles        21.0     pass   \n",
       "5236                       Small Bubbles,Medium Bubbles        21.0     pass   \n",
       "5240  No Bubbles got nucleus and gigaohm seal but th...        21.0     pass   \n",
       "5241                                      Small Bubbles        21.0     pass   \n",
       "5242  No Bubbles lost seal on cell during extraction...        21.0     pass   \n",
       "5243            Large Bubbles,Solution in Pipette Shank        21.0     pass   \n",
       "5244                                         No Bubbles        21.0     pass   \n",
       "5246                                         No Bubbles        21.0     pass   \n",
       "5247                                         No Bubbles        21.0     pass   \n",
       "5248                                         No Bubbles        21.0     pass   \n",
       "5260  Fluorescence in Pipette,Cell Dimmed   Small Bu...        21.0     pass   \n",
       "5261  Fluorescence in Pipette,Cell Dimmed   Small Bu...        21.0     pass   \n",
       "5262         Cell Dimmed   Small Bubbles,Medium Bubbles        21.0     pass   \n",
       "5263            Fluorescence in Pipette   Small Bubbles        21.0     pass   \n",
       "5269                 Fluorescence in Pipette No Bubbles        21.0     pass   \n",
       "5271                 Fluorescence in Pipette No Bubbles        21.0     pass   \n",
       "5272              Fluorescence in Pipette Small Bubbles        21.0     pass   \n",
       "5273                 Fluorescence in Pipette No Bubbles        21.0     pass   \n",
       "5274                 Fluorescence in Pipette No Bubbles        21.0     pass   \n",
       "5275              Fluorescence in Pipette Small Bubbles        21.0     pass   \n",
       "5276              Fluorescence in Pipette Small Bubbles        21.0     pass   \n",
       "...                                                 ...         ...      ...   \n",
       "5389  Fluorescence in Pipette Small Bubbles,Medium B...        21.0     pass   \n",
       "5390  Fluorescence in Pipette Medium Bubbles may hav...        21.0     pass   \n",
       "5391              Fluorescence in Pipette Small Bubbles        21.0     pass   \n",
       "5392  Fluorescence in Pipette Small Bubbles,Large Bu...        21.0     pass   \n",
       "5393             Fluorescence in Pipette Medium Bubbles        21.0     pass   \n",
       "5394                 Fluorescence in Pipette No Bubbles        21.0     pass   \n",
       "5396  Fluorescence in Pipette Small Bubbles,Medium B...        21.0     pass   \n",
       "5403   Fluorescence in Pipette,Cell Dimmed   No Bubbles        21.0     pass   \n",
       "5404                           Cell Dimmed   No Bubbles        21.0     pass   \n",
       "5405  Fluorescence in Pipette,Cell Dimmed   Small Bu...        21.0     pass   \n",
       "5407  Fluorescence in Pipette,Cell Dimmed   Small Bu...        21.0     pass   \n",
       "5408  Fluorescence in Pipette,Cell Dimmed   Small Bu...        21.0     pass   \n",
       "5409  Fluorescence in Pipette,Cell Dimmed   Small Bu...        21.0     pass   \n",
       "5410  Fluorescence in Pipette,Cell Dimmed   Small Bu...        21.0     pass   \n",
       "5412                        Cell Dimmed   Small Bubbles        21.0     pass   \n",
       "5415                                      Small Bubbles        21.0     pass   \n",
       "5416                 Fluorescence in Pipette No Bubbles        21.0     pass   \n",
       "5417              Fluorescence in Pipette Small Bubbles        21.0     pass   \n",
       "5418              Fluorescence in Pipette Small Bubbles        21.0     pass   \n",
       "5420              Fluorescence in Pipette Small Bubbles        21.0     pass   \n",
       "5421                 Fluorescence in Pipette No Bubbles        21.0     pass   \n",
       "5422  Fluorescence in Pipette Small Bubbles might ha...        21.0     pass   \n",
       "5423                 Fluorescence in Pipette No Bubbles        21.0     pass   \n",
       "5424              Fluorescence in Pipette Small Bubbles        21.0     pass   \n",
       "5432  Fluorescence in Pipette,Cell Dimmed,Cell Shrun...        21.0     pass   \n",
       "5433  Fluorescence in Pipette,Cell Dimmed,Cell Shrun...        21.0     pass   \n",
       "5434  Fluorescence in Pipette,Cell Dimmed,Cell Shrun...        21.0     pass   \n",
       "5435  Fluorescence in Pipette,Cell Dimmed   Small Bu...        21.0     pass   \n",
       "5436  Fluorescence in Pipette,Cell Dimmed,Cell Shrun...        21.0     pass   \n",
       "5440  Fluorescence in Pipette Large Bubbles Pretty s...        21.0     pass   \n",
       "\n",
       "      Resolution index                                  Bubbles  \n",
       "5211          1.000000                            Small Bubbles  \n",
       "5215          1.000000                            Small Bubbles  \n",
       "5216          0.601033                               No Bubbles  \n",
       "5217          0.875031                               No Bubbles  \n",
       "5228          0.825809             Small Bubbles,Medium Bubbles  \n",
       "5229          0.000000                            Small Bubbles  \n",
       "5230          0.858195                            Small Bubbles  \n",
       "5231          0.900094                            Small Bubbles  \n",
       "5234          0.695597                            Small Bubbles  \n",
       "5235          0.787397                            Large Bubbles  \n",
       "5236          1.000000             Small Bubbles,Medium Bubbles  \n",
       "5240          0.601033                               No Bubbles  \n",
       "5241          1.000000                            Small Bubbles  \n",
       "5242          1.000000                               No Bubbles  \n",
       "5243          0.601033  Large Bubbles,Solution in Pipette Shank  \n",
       "5244          0.601033                               No Bubbles  \n",
       "5246          0.875031                               No Bubbles  \n",
       "5247          0.630983                               No Bubbles  \n",
       "5248          0.773439                               No Bubbles  \n",
       "5260          0.927767                            Small Bubbles  \n",
       "5261          0.927767                            Small Bubbles  \n",
       "5262          0.836284             Small Bubbles,Medium Bubbles  \n",
       "5263          0.729438                            Small Bubbles  \n",
       "5269          0.836284                               No Bubbles  \n",
       "5271          1.000000                               No Bubbles  \n",
       "5272          0.469928                            Small Bubbles  \n",
       "5273          0.322631                               No Bubbles  \n",
       "5274          0.836284                               No Bubbles  \n",
       "5275          0.836284                            Small Bubbles  \n",
       "5276          0.836284                            Small Bubbles  \n",
       "...                ...                                      ...  \n",
       "5389          0.000000             Small Bubbles,Medium Bubbles  \n",
       "5390          0.763111                           Medium Bubbles  \n",
       "5391          0.860881                            Small Bubbles  \n",
       "5392          0.746661              Small Bubbles,Large Bubbles  \n",
       "5393          0.469928                           Medium Bubbles  \n",
       "5394          0.781350                               No Bubbles  \n",
       "5396          0.688154             Small Bubbles,Medium Bubbles  \n",
       "5403          0.688154                               No Bubbles  \n",
       "5404          1.000000                               No Bubbles  \n",
       "5405          0.890764                            Small Bubbles  \n",
       "5407          0.864362                            Small Bubbles  \n",
       "5408          0.927767                            Small Bubbles  \n",
       "5409          0.890764                            Small Bubbles  \n",
       "5410          0.660082                            Small Bubbles  \n",
       "5412          0.688154                            Small Bubbles  \n",
       "5415          0.885860                            Small Bubbles  \n",
       "5416          0.890764                               No Bubbles  \n",
       "5417          0.888508                            Small Bubbles  \n",
       "5418          0.765569                            Small Bubbles  \n",
       "5420          0.842398                            Small Bubbles  \n",
       "5421          1.000000                               No Bubbles  \n",
       "5422          0.521240                            Small Bubbles  \n",
       "5423          0.322631                               No Bubbles  \n",
       "5424          0.836284                            Small Bubbles  \n",
       "5432          0.835709                            Small Bubbles  \n",
       "5433          0.660082                            Small Bubbles  \n",
       "5434          0.556320             Small Bubbles,Medium Bubbles  \n",
       "5435          0.556320             Small Bubbles,Medium Bubbles  \n",
       "5436          0.860881                            Small Bubbles  \n",
       "5440          0.660082                            Large Bubbles  \n",
       "\n",
       "[118 rows x 8 columns]"
      ]
     },
     "execution_count": 15,
     "metadata": {},
     "output_type": "execute_result"
    }
   ],
   "source": [
    "ps.dropna(subset = ['Notes'], inplace = True)\n",
    "ps = ps[ps['Notes'].str.contains('Bubbles')]\n",
    "a_regex = '(No Bubbles|Small Bubbles,Medium Bubbles|Small Bubbles,Large Bubbles|Small Bubbles|Medium Bubbles,Large Bubbles|Medium Bubbles|Large Bubbles,Solution in Pipette Shank|Large Bubbles)'\n",
    "#a_regex = '(Large Bubbles,Solution in Pipette Shank|Large Bubbles|No Bubbles|Small Bubbles,Medium Bubbles|Small Bubbles,Large Bubbles|Small Bubbles||Medium Bubbles,Large Bubbles|Medium Bubbles)'\n",
    "#replacements = {'Large Bubbles,Solution in Pipette Shank':'Solution in Pipette Shank', 'Large Bubbles':'Large Bubbles', 'No Bubbles':'No Bubbles', 'Small Bubbles,Medium Bubbles':'Medium Bubbles', 'Small Bubbles,Large Bubbles':'Large Bubbles', 'Small Bubbles':'Small Bubbles', 'Medium Bubbles, Large Bubbles':'Large Bubbles', 'Medium Bubbles':'Medium Bubbles'}\n",
    "ps['Bubbles'] = ps['Notes'].str.extract(a_regex).fillna('')\n",
    "#ps['Bubbles'] = ps['Bubbles'].apply(lambda x: replacements.get(x,''))\n",
    "ps\n"
   ]
  },
  {
   "cell_type": "markdown",
   "metadata": {},
   "source": [
    "#### swarm-plot of post patch vs resolution index by bubble condition "
   ]
  },
  {
   "cell_type": "code",
   "execution_count": 10,
   "metadata": {},
   "outputs": [
    {
     "data": {
      "text/plain": [
       "<matplotlib.legend.Legend at 0xd16c588>"
      ]
     },
     "execution_count": 10,
     "metadata": {},
     "output_type": "execute_result"
    },
    {
     "data": {
      "image/png": "iVBORw0KGgoAAAANSUhEUgAAAm8AAAERCAYAAAAt9kCkAAAABHNCSVQICAgIfAhkiAAAAAlwSFlz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\nbwAAhYg3AIBCHtdMsacmIXa2AAAAAElFTkSuQmCC\n",
      "text/plain": [
       "<matplotlib.figure.Figure at 0x5c749b0>"
      ]
     },
     "metadata": {},
     "output_type": "display_data"
    }
   ],
   "source": [
    "sns.swarmplot(x='Post patch?', y='Resolution index', hue='Bubbles', data=ps)\n",
    "plt.legend(bbox_to_anchor=(1.05,1), loc=2, borderaxespad=0.)"
   ]
  },
  {
   "cell_type": "code",
   "execution_count": 11,
   "metadata": {
    "collapsed": true
   },
   "outputs": [],
   "source": [
    "def bubb_filter(x):\n",
    "    df = ps[ps['Bubbles'] == x]\n",
    "    return df\n",
    "\n",
    "def pp_filter(y):\n",
    "    df2 = ps[ps['Post patch?'] == y]\n",
    "    return df2\n",
    "\n",
    "def hires_filter(z):\n",
    "    df3 = z[z['Resolution index'] >= 0.8]\n",
    "    return df3\n",
    "\n",
    "def get_count(v):\n",
    "    count = v['Bubbles'].count()\n",
    "    return count\n",
    "\n",
    "def calc_pct(passing, total):\n",
    "    pct = float(get_count(passing)) / get_count(total)\n",
    "    return pct\n",
    "    \n"
   ]
  },
  {
   "cell_type": "markdown",
   "metadata": {},
   "source": [
    "#### percentage with resolution index >=0.8 by bubble and post patch condition "
   ]
  },
  {
   "cell_type": "code",
   "execution_count": 12,
   "metadata": {},
   "outputs": [
    {
     "name": "stdout",
     "output_type": "stream",
     "text": [
      "no bubbles hires pct = 0.447368421053\n"
     ]
    }
   ],
   "source": [
    "nb = bubb_filter('No Bubbles')\n",
    "nbhr = hires_filter(bubb_filter('No Bubbles'))\n",
    "nbhrpp = calc_pct(nbhr,nb)\n",
    "print 'no bubbles hi-res pct =', nbhrpp"
   ]
  },
  {
   "cell_type": "code",
   "execution_count": 13,
   "metadata": {},
   "outputs": [
    {
     "name": "stdout",
     "output_type": "stream",
     "text": [
      "small bubbles hires pct = 0.584905660377\n"
     ]
    }
   ],
   "source": [
    "sb = bubb_filter('Small Bubbles')\n",
    "sbhr = hires_filter(bubb_filter('Small Bubbles'))\n",
    "sbhrpp = calc_pct(sbhr,sb)\n",
    "print 'small bubbles hi-res pct =', sbhrpp"
   ]
  },
  {
   "cell_type": "code",
   "execution_count": 14,
   "metadata": {},
   "outputs": [
    {
     "name": "stdout",
     "output_type": "stream",
     "text": [
      "nucleated patch hires pct = 0.415384615385\n"
     ]
    }
   ],
   "source": [
    "nu = pp_filter('Nucleated')\n",
    "nuhr = hires_filter(pp_filter('Nucleated'))\n",
    "nuhrpp = calc_pct(nuhr,nu)\n",
    "print 'nucleated patch hi-res pct =', nuhrpp"
   ]
  },
  {
   "cell_type": "code",
   "execution_count": 15,
   "metadata": {},
   "outputs": [
    {
     "name": "stdout",
     "output_type": "stream",
     "text": [
      "no-seal hires pct = 0.51724137931\n"
     ]
    }
   ],
   "source": [
    "ns = pp_filter('No-Seal')\n",
    "nshr = hires_filter(pp_filter('No-Seal'))\n",
    "nshrpp = calc_pct(nshr,ns) \n",
    "print 'no-seal hi-res pct =', nshrpp"
   ]
  },
  {
   "cell_type": "code",
   "execution_count": null,
   "metadata": {
    "collapsed": true
   },
   "outputs": [],
   "source": []
  },
  {
   "cell_type": "code",
   "execution_count": null,
   "metadata": {
    "collapsed": true
   },
   "outputs": [],
   "source": []
  },
  {
   "cell_type": "code",
   "execution_count": null,
   "metadata": {
    "collapsed": true
   },
   "outputs": [],
   "source": []
  },
  {
   "cell_type": "code",
   "execution_count": null,
   "metadata": {
    "collapsed": true
   },
   "outputs": [],
   "source": []
  },
  {
   "cell_type": "code",
   "execution_count": null,
   "metadata": {
    "collapsed": true
   },
   "outputs": [],
   "source": []
  },
  {
   "cell_type": "code",
   "execution_count": null,
   "metadata": {
    "collapsed": true
   },
   "outputs": [],
   "source": []
  },
  {
   "cell_type": "code",
   "execution_count": null,
   "metadata": {
    "collapsed": true
   },
   "outputs": [],
   "source": []
  },
  {
   "cell_type": "code",
   "execution_count": null,
   "metadata": {
    "collapsed": true
   },
   "outputs": [],
   "source": []
  },
  {
   "cell_type": "code",
   "execution_count": null,
   "metadata": {
    "collapsed": true
   },
   "outputs": [],
   "source": []
  },
  {
   "cell_type": "code",
   "execution_count": null,
   "metadata": {
    "collapsed": true
   },
   "outputs": [],
   "source": []
  },
  {
   "cell_type": "code",
   "execution_count": null,
   "metadata": {
    "collapsed": true
   },
   "outputs": [],
   "source": []
  },
  {
   "cell_type": "code",
   "execution_count": null,
   "metadata": {
    "collapsed": true
   },
   "outputs": [],
   "source": []
  },
  {
   "cell_type": "code",
   "execution_count": null,
   "metadata": {
    "collapsed": true
   },
   "outputs": [],
   "source": []
  },
  {
   "cell_type": "code",
   "execution_count": null,
   "metadata": {
    "collapsed": true
   },
   "outputs": [],
   "source": []
  },
  {
   "cell_type": "code",
   "execution_count": null,
   "metadata": {
    "collapsed": true
   },
   "outputs": [],
   "source": []
  },
  {
   "cell_type": "code",
   "execution_count": null,
   "metadata": {
    "collapsed": true
   },
   "outputs": [],
   "source": []
  },
  {
   "cell_type": "code",
   "execution_count": null,
   "metadata": {
    "collapsed": true
   },
   "outputs": [],
   "source": []
  }
 ],
 "metadata": {
  "anaconda-cloud": {},
  "kernelspec": {
   "display_name": "Python 2",
   "language": "python",
   "name": "python2"
  },
  "language_info": {
   "codemirror_mode": {
    "name": "ipython",
    "version": 2
   },
   "file_extension": ".py",
   "mimetype": "text/x-python",
   "name": "python",
   "nbconvert_exporter": "python",
   "pygments_lexer": "ipython2",
   "version": "2.7.13"
  }
 },
 "nbformat": 4,
 "nbformat_minor": 1
}
