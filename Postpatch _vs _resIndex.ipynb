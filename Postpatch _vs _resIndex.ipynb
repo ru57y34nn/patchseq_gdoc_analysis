{
 "cells": [
  {
   "cell_type": "code",
   "execution_count": 1,
   "metadata": {
    "collapsed": true
   },
   "outputs": [],
   "source": [
    "import csv\n",
    "import pandas as pd\n",
    "import numpy as np\n",
    "import matplotlib.pyplot as plt\n",
    "from datetime import datetime\n",
    "from scipy import stats\n",
    "import math\n",
    "import seaborn as sns\n",
    "%matplotlib inline\n",
    "sns.set(style='whitegrid', color_codes = True)"
   ]
  },
  {
   "cell_type": "code",
   "execution_count": 2,
   "metadata": {
    "collapsed": true
   },
   "outputs": [],
   "source": [
    "ps = pd.read_csv('patch_seq_log_mouse.csv')"
   ]
  },
  {
   "cell_type": "code",
   "execution_count": 3,
   "metadata": {
    "collapsed": false
   },
   "outputs": [
    {
     "data": {
      "text/plain": [
       "pass    1430\n",
       "fail     415\n",
       "na        16\n",
       "Name: SM_QC_PF, dtype: int64"
      ]
     },
     "execution_count": 3,
     "metadata": {},
     "output_type": "execute_result"
    }
   ],
   "source": [
    "ps = ps[['Date', 'User', 'Post patch?', 'Notes', 'PCR cycles', 'SM_QC_PF', 'Resolution index', 'Bad dates']]\n",
    "ps = ps[ps['PCR cycles'] == 21]\n",
    "ps['Date'] = pd.to_datetime(ps['Date'], format = '%y%m%d')\n",
    "ps = ps[ps['Bad dates'] != 'x']\n",
    "ps = ps.drop('Bad dates', 1)\n",
    "ps = ps[ps['SM_QC_PF'] != 'cnt']\n",
    "ps.dropna(subset = ['Post patch?', 'SM_QC_PF'], inplace = True)\n",
    "ps['Post patch?'] = ps['Post patch?'].astype('category')\n",
    "ps['SM_QC_PF'].value_counts()"
   ]
  },
  {
   "cell_type": "markdown",
   "metadata": {},
   "source": [
    "#### Total # of experiments since April 20 "
   ]
  },
  {
   "cell_type": "code",
   "execution_count": 4,
   "metadata": {
    "collapsed": false
   },
   "outputs": [
    {
     "data": {
      "text/plain": [
       "1861"
      ]
     },
     "execution_count": 4,
     "metadata": {},
     "output_type": "execute_result"
    }
   ],
   "source": [
    "total = ps[\"SM_QC_PF\"].count()\n",
    "total"
   ]
  },
  {
   "cell_type": "markdown",
   "metadata": {},
   "source": [
    "#### # of experiments passing smqc "
   ]
  },
  {
   "cell_type": "code",
   "execution_count": 5,
   "metadata": {
    "collapsed": false
   },
   "outputs": [
    {
     "data": {
      "text/plain": [
       "1430"
      ]
     },
     "execution_count": 5,
     "metadata": {},
     "output_type": "execute_result"
    }
   ],
   "source": [
    "passing = ps[ps['SM_QC_PF'] == 'pass']\n",
    "passed = passing['SM_QC_PF'].count()\n",
    "passed"
   ]
  },
  {
   "cell_type": "markdown",
   "metadata": {},
   "source": [
    "#### # of experiments with Resolution index >= 0.8 "
   ]
  },
  {
   "cell_type": "code",
   "execution_count": 6,
   "metadata": {
    "collapsed": false
   },
   "outputs": [
    {
     "data": {
      "text/plain": [
       "573"
      ]
     },
     "execution_count": 6,
     "metadata": {},
     "output_type": "execute_result"
    }
   ],
   "source": [
    "high_res = ps[ps['Resolution index'] >= 0.8]\n",
    "hi_res = high_res['Resolution index'].count()\n",
    "hi_res"
   ]
  },
  {
   "cell_type": "markdown",
   "metadata": {},
   "source": [
    "#### percentage of experiments with Resolution index >= 0.8 "
   ]
  },
  {
   "cell_type": "code",
   "execution_count": 7,
   "metadata": {
    "collapsed": false
   },
   "outputs": [
    {
     "name": "stdout",
     "output_type": "stream",
     "text": [
      "percentage of total samples with Resolution index >= 0.8 = 0.307898979044\n",
      "percentage of smqc pass samples with Resolution index >= 0.8 = 0.400699300699\n"
     ]
    }
   ],
   "source": [
    "pct_ttl = float(hi_res) / total\n",
    "print 'percentage of total samples with Resolution index >= 0.8 =', pct_ttl\n",
    "pct_pass = float(hi_res) / passed\n",
    "print 'percentage of smqc pass samples with Resolution index >= 0.8 =', pct_pass"
   ]
  },
  {
   "cell_type": "markdown",
   "metadata": {},
   "source": [
    "#### Filtering to only experiments that have Resolution index data "
   ]
  },
  {
   "cell_type": "code",
   "execution_count": 8,
   "metadata": {
    "collapsed": false
   },
   "outputs": [
    {
     "data": {
      "text/html": [
       "<div>\n",
       "<table border=\"1\" class=\"dataframe\">\n",
       "  <thead>\n",
       "    <tr style=\"text-align: right;\">\n",
       "      <th></th>\n",
       "      <th>Date</th>\n",
       "      <th>User</th>\n",
       "      <th>Post patch?</th>\n",
       "      <th>Notes</th>\n",
       "      <th>PCR cycles</th>\n",
       "      <th>SM_QC_PF</th>\n",
       "      <th>Resolution index</th>\n",
       "    </tr>\n",
       "  </thead>\n",
       "  <tbody>\n",
       "    <tr>\n",
       "      <th>7244</th>\n",
       "      <td>2017-09-21</td>\n",
       "      <td>P8</td>\n",
       "      <td>Nucleated</td>\n",
       "      <td>Fluorescence in Pipette,Cell Dimmed,Cell Shrun...</td>\n",
       "      <td>21.0</td>\n",
       "      <td>pass</td>\n",
       "      <td>0.322631</td>\n",
       "    </tr>\n",
       "    <tr>\n",
       "      <th>7245</th>\n",
       "      <td>2017-09-21</td>\n",
       "      <td>P8</td>\n",
       "      <td>Nucleated</td>\n",
       "      <td>Fluorescence in Pipette,Cell Dimmed,Cell Shrun...</td>\n",
       "      <td>21.0</td>\n",
       "      <td>pass</td>\n",
       "      <td>0.322631</td>\n",
       "    </tr>\n",
       "    <tr>\n",
       "      <th>7246</th>\n",
       "      <td>2017-09-21</td>\n",
       "      <td>P9</td>\n",
       "      <td>Nucleated</td>\n",
       "      <td>2 min retraction period</td>\n",
       "      <td>21.0</td>\n",
       "      <td>pass</td>\n",
       "      <td>0.556320</td>\n",
       "    </tr>\n",
       "    <tr>\n",
       "      <th>7247</th>\n",
       "      <td>2017-09-21</td>\n",
       "      <td>P9</td>\n",
       "      <td>Nucleated</td>\n",
       "      <td>3 min retraction period</td>\n",
       "      <td>21.0</td>\n",
       "      <td>pass</td>\n",
       "      <td>1.000000</td>\n",
       "    </tr>\n",
       "    <tr>\n",
       "      <th>7252</th>\n",
       "      <td>2017-09-21</td>\n",
       "      <td>PA</td>\n",
       "      <td>Nucleated</td>\n",
       "      <td>Fluorescence in Pipette,Too Deep Small Bubbles...</td>\n",
       "      <td>21.0</td>\n",
       "      <td>pass</td>\n",
       "      <td>0.877682</td>\n",
       "    </tr>\n",
       "  </tbody>\n",
       "</table>\n",
       "</div>"
      ],
      "text/plain": [
       "           Date User Post patch?  \\\n",
       "7244 2017-09-21   P8   Nucleated   \n",
       "7245 2017-09-21   P8   Nucleated   \n",
       "7246 2017-09-21   P9   Nucleated   \n",
       "7247 2017-09-21   P9   Nucleated   \n",
       "7252 2017-09-21   PA   Nucleated   \n",
       "\n",
       "                                                  Notes  PCR cycles SM_QC_PF  \\\n",
       "7244  Fluorescence in Pipette,Cell Dimmed,Cell Shrun...        21.0     pass   \n",
       "7245  Fluorescence in Pipette,Cell Dimmed,Cell Shrun...        21.0     pass   \n",
       "7246                            2 min retraction period        21.0     pass   \n",
       "7247                            3 min retraction period        21.0     pass   \n",
       "7252  Fluorescence in Pipette,Too Deep Small Bubbles...        21.0     pass   \n",
       "\n",
       "      Resolution index  \n",
       "7244          0.322631  \n",
       "7245          0.322631  \n",
       "7246          0.556320  \n",
       "7247          1.000000  \n",
       "7252          0.877682  "
      ]
     },
     "execution_count": 8,
     "metadata": {},
     "output_type": "execute_result"
    }
   ],
   "source": [
    "ps.dropna(subset = ['Resolution index'], inplace = True)\n",
    "ps.tail()"
   ]
  },
  {
   "cell_type": "markdown",
   "metadata": {},
   "source": [
    "#### swarm-plot with Seaborn "
   ]
  },
  {
   "cell_type": "code",
   "execution_count": 9,
   "metadata": {
    "collapsed": false
   },
   "outputs": [
    {
     "data": {
      "text/plain": [
       "<matplotlib.axes._subplots.AxesSubplot at 0xad81320>"
      ]
     },
     "execution_count": 9,
     "metadata": {},
     "output_type": "execute_result"
    },
    {
     "data": {
      "image/png": "[encoded data removed]",
      "text/plain": [
       "<matplotlib.figure.Figure at 0xad89c18>"
      ]
     },
     "metadata": {},
     "output_type": "display_data"
    }
   ],
   "source": [
    "sns.swarmplot(x='Post patch?', y='Resolution index', hue='User', data=ps)"
   ]
  },
  {
   "cell_type": "markdown",
   "metadata": {},
   "source": [
    "#### box-plot with Seaborn "
   ]
  },
  {
   "cell_type": "code",
   "execution_count": 10,
   "metadata": {
    "collapsed": false
   },
   "outputs": [
    {
     "data": {
      "text/plain": [
       "<matplotlib.axes._subplots.AxesSubplot at 0xabe9b70>"
      ]
     },
     "execution_count": 10,
     "metadata": {},
     "output_type": "execute_result"
    },
    {
     "data": {
      "image/png": "[encoded data removed]",
      "text/plain": [
       "<matplotlib.figure.Figure at 0xad81390>"
      ]
     },
     "metadata": {},
     "output_type": "display_data"
    }
   ],
   "source": [
    "sns.boxplot(x='Post patch?', y='Resolution index', data=ps)"
   ]
  },
  {
   "cell_type": "markdown",
   "metadata": {},
   "source": [
    "#### violin-plot with Seaborn "
   ]
  },
  {
   "cell_type": "code",
   "execution_count": 11,
   "metadata": {
    "collapsed": false
   },
   "outputs": [
    {
     "data": {
      "text/plain": [
       "<matplotlib.axes._subplots.AxesSubplot at 0xb36f240>"
      ]
     },
     "execution_count": 11,
     "metadata": {},
     "output_type": "execute_result"
    },
    {
     "data": {
      "image/png": "[encoded data removed]",
      "text/plain": [
       "<matplotlib.figure.Figure at 0xb1634a8>"
      ]
     },
     "metadata": {},
     "output_type": "display_data"
    }
   ],
   "source": [
    "sns.violinplot(x='Post patch?', y='Resolution index', data=ps)"
   ]
  },
  {
   "cell_type": "markdown",
   "metadata": {},
   "source": [
    "#### violin-plot and swarm-plot with Seaborn "
   ]
  },
  {
   "cell_type": "code",
   "execution_count": 12,
   "metadata": {
    "collapsed": false
   },
   "outputs": [
    {
     "data": {
      "text/plain": [
       "<matplotlib.axes._subplots.AxesSubplot at 0xbf5be10>"
      ]
     },
     "execution_count": 12,
     "metadata": {},
     "output_type": "execute_result"
    },
    {
     "data": {
      "image/png": "[encoded data removed]",
      "text/plain": [
       "<matplotlib.figure.Figure at 0xc0924a8>"
      ]
     },
     "metadata": {},
     "output_type": "display_data"
    }
   ],
   "source": [
    "sns.violinplot(x='Post patch?', y='Resolution index', data=ps, inner=None)\n",
    "sns.swarmplot(x='Post patch?', y='Resolution index', data=ps, color='w', alpha=.5)"
   ]
  },
  {
   "cell_type": "code",
   "execution_count": 10,
   "metadata": {
    "collapsed": false
   },
   "outputs": [
    {
     "data": {
      "text/html": [
       "<div>\n",
       "<table border=\"1\" class=\"dataframe\">\n",
       "  <thead>\n",
       "    <tr style=\"text-align: right;\">\n",
       "      <th></th>\n",
       "      <th>Date</th>\n",
       "      <th>User</th>\n",
       "      <th>Post patch?</th>\n",
       "      <th>Notes</th>\n",
       "      <th>PCR cycles</th>\n",
       "      <th>SM_QC_PF</th>\n",
       "      <th>Resolution index</th>\n",
       "    </tr>\n",
       "  </thead>\n",
       "  <tbody>\n",
       "    <tr>\n",
       "      <th>4775</th>\n",
       "      <td>2017-04-21</td>\n",
       "      <td>P2</td>\n",
       "      <td>Nucleated</td>\n",
       "      <td>Fluorescence in Pipette</td>\n",
       "      <td>21.0</td>\n",
       "      <td>pass</td>\n",
       "      <td>1.0</td>\n",
       "    </tr>\n",
       "    <tr>\n",
       "      <th>4803</th>\n",
       "      <td>2017-04-24</td>\n",
       "      <td>P2</td>\n",
       "      <td>No-Seal</td>\n",
       "      <td>NaN</td>\n",
       "      <td>21.0</td>\n",
       "      <td>pass</td>\n",
       "      <td>1.0</td>\n",
       "    </tr>\n",
       "    <tr>\n",
       "      <th>4838</th>\n",
       "      <td>2017-04-25</td>\n",
       "      <td>P2</td>\n",
       "      <td>Nucleated</td>\n",
       "      <td>no bubbles during expulsion.</td>\n",
       "      <td>21.0</td>\n",
       "      <td>pass</td>\n",
       "      <td>1.0</td>\n",
       "    </tr>\n",
       "    <tr>\n",
       "      <th>4920</th>\n",
       "      <td>2017-04-28</td>\n",
       "      <td>P2</td>\n",
       "      <td>Partial-Nucleus</td>\n",
       "      <td>no bubbles during expulsion.</td>\n",
       "      <td>21.0</td>\n",
       "      <td>pass</td>\n",
       "      <td>1.0</td>\n",
       "    </tr>\n",
       "    <tr>\n",
       "      <th>4946</th>\n",
       "      <td>2017-05-01</td>\n",
       "      <td>P6</td>\n",
       "      <td>No-Seal</td>\n",
       "      <td>NaN</td>\n",
       "      <td>21.0</td>\n",
       "      <td>pass</td>\n",
       "      <td>1.0</td>\n",
       "    </tr>\n",
       "  </tbody>\n",
       "</table>\n",
       "</div>"
      ],
      "text/plain": [
       "           Date User      Post patch?                         Notes  \\\n",
       "4775 2017-04-21   P2        Nucleated       Fluorescence in Pipette   \n",
       "4803 2017-04-24   P2          No-Seal                           NaN   \n",
       "4838 2017-04-25   P2        Nucleated  no bubbles during expulsion.   \n",
       "4920 2017-04-28   P2  Partial-Nucleus  no bubbles during expulsion.   \n",
       "4946 2017-05-01   P6          No-Seal                           NaN   \n",
       "\n",
       "      PCR cycles SM_QC_PF  Resolution index  \n",
       "4775        21.0     pass               1.0  \n",
       "4803        21.0     pass               1.0  \n",
       "4838        21.0     pass               1.0  \n",
       "4920        21.0     pass               1.0  \n",
       "4946        21.0     pass               1.0  "
      ]
     },
     "execution_count": 10,
     "metadata": {},
     "output_type": "execute_result"
    }
   ],
   "source": [
    "res_1 = ps[ps['Resolution index'] == 1]\n",
    "res_1.head()"
   ]
  },
  {
   "cell_type": "markdown",
   "metadata": {},
   "source": [
    "#### first attempt at plotting with Plotly "
   ]
  },
  {
   "cell_type": "code",
   "execution_count": 11,
   "metadata": {
    "collapsed": false
   },
   "outputs": [
    {
     "data": {
      "text/html": [
       "<iframe id=\"igraph\" scrolling=\"no\" style=\"border:none;\" seamless=\"seamless\" src=\"https://plot.ly/~rustymann/25.embed\" height=\"525px\" width=\"100%\"></iframe>"
      ],
      "text/plain": [
       "<plotly.tools.PlotlyDisplay object>"
      ]
     },
     "execution_count": 11,
     "metadata": {},
     "output_type": "execute_result"
    }
   ],
   "source": [
    "import plotly.plotly as py\n",
    "from plotly.graph_objs import *\n",
    "import plotly.figure_factory as ff\n",
    "import plotly.graph_objs as go\n",
    "\n",
    "table = ff.create_table(ps)\n",
    "#py.iplot(table, filename='table1')\n",
    "dots = go.Scatter(x=ps['Post patch?'], y=ps['Resolution index'], mode='markers', name='dots')\n",
    "data = [dots]\n",
    "py.iplot(data, name='scatter')\n",
    "#py.iplot(plotly, x='Post patch?', y='Resolution index')"
   ]
  },
  {
   "cell_type": "markdown",
   "metadata": {},
   "source": [
    "#### violin and rug plots with Plotly "
   ]
  },
  {
   "cell_type": "code",
   "execution_count": 12,
   "metadata": {
    "collapsed": false
   },
   "outputs": [
    {
     "data": {
      "text/html": [
       "<iframe id=\"igraph\" scrolling=\"no\" style=\"border:none;\" seamless=\"seamless\" src=\"https://plot.ly/~rustymann/11.embed\" height=\"500px\" width=\"800px\"></iframe>"
      ],
      "text/plain": [
       "<plotly.tools.PlotlyDisplay object>"
      ]
     },
     "execution_count": 12,
     "metadata": {},
     "output_type": "execute_result"
    }
   ],
   "source": [
    "from plotly.graph_objs import graph_objs\n",
    "df = ps[['Post patch?','Resolution index']]\n",
    "df = df[df['Post patch?'] != 'missing'] #there was only one data point for \"missing\" which was causing an error with violin plot\n",
    "fig = ff.create_violin(df, data_header='Resolution index', group_header='Post patch?', height=500, width=800)\n",
    "py.iplot(fig, filename='violin plot')\n"
   ]
  },
  {
   "cell_type": "markdown",
   "metadata": {},
   "source": [
    "#### using regex to search for and extract exact strings to get bubble conditions from Notes field.    "
   ]
  },
  {
   "cell_type": "code",
   "execution_count": 15,
   "metadata": {
    "collapsed": false,
    "scrolled": true
   },
   "outputs": [
    {
     "name": "stderr",
     "output_type": "stream",
     "text": [
      "C:\\Anaconda2\\lib\\site-packages\\ipykernel\\__main__.py:6: FutureWarning: currently extract(expand=None) means expand=False (return Index/Series/DataFrame) but in a future version of pandas this will be changed to expand=True (return DataFrame)\n"
     ]
    },
    {
     "data": {
      "text/html": [
       "<div>\n",
       "<table border=\"1\" class=\"dataframe\">\n",
       "  <thead>\n",
       "    <tr style=\"text-align: right;\">\n",
       "      <th></th>\n",
       "      <th>Date</th>\n",
       "      <th>User</th>\n",
       "      <th>Post patch?</th>\n",
       "      <th>Notes</th>\n",
       "      <th>PCR cycles</th>\n",
       "      <th>SM_QC_PF</th>\n",
       "      <th>Resolution index</th>\n",
       "      <th>Bubbles</th>\n",
       "    </tr>\n",
       "  </thead>\n",
       "  <tbody>\n",
       "    <tr>\n",
       "      <th>5211</th>\n",
       "      <td>2017-05-16</td>\n",
       "      <td>P1</td>\n",
       "      <td>Nucleated</td>\n",
       "      <td>Small Bubbles</td>\n",
       "      <td>21.0</td>\n",
       "      <td>pass</td>\n",
       "      <td>1.000000</td>\n",
       "      <td>Small Bubbles</td>\n",
       "    </tr>\n",
       "    <tr>\n",
       "      <th>5215</th>\n",
       "      <td>2017-05-16</td>\n",
       "      <td>P2</td>\n",
       "      <td>Outside-Out</td>\n",
       "      <td>Small Bubbles</td>\n",
       "      <td>21.0</td>\n",
       "      <td>pass</td>\n",
       "      <td>1.000000</td>\n",
       "      <td>Small Bubbles</td>\n",
       "    </tr>\n",
       "    <tr>\n",
       "      <th>5216</th>\n",
       "      <td>2017-05-16</td>\n",
       "      <td>P2</td>\n",
       "      <td>Nucleated</td>\n",
       "      <td>No Bubbles</td>\n",
       "      <td>21.0</td>\n",
       "      <td>pass</td>\n",
       "      <td>0.601033</td>\n",
       "      <td>No Bubbles</td>\n",
       "    </tr>\n",
       "    <tr>\n",
       "      <th>5217</th>\n",
       "      <td>2017-05-16</td>\n",
       "      <td>P2</td>\n",
       "      <td>Nucleated</td>\n",
       "      <td>No Bubbles</td>\n",
       "      <td>21.0</td>\n",
       "      <td>pass</td>\n",
       "      <td>0.875031</td>\n",
       "      <td>No Bubbles</td>\n",
       "    </tr>\n",
       "    <tr>\n",
       "      <th>5228</th>\n",
       "      <td>2017-05-17</td>\n",
       "      <td>P1</td>\n",
       "      <td>Nucleated</td>\n",
       "      <td>Small Bubbles,Medium Bubbles</td>\n",
       "      <td>21.0</td>\n",
       "      <td>pass</td>\n",
       "      <td>0.825809</td>\n",
       "      <td>Small Bubbles,Medium Bubbles</td>\n",
       "    </tr>\n",
       "    <tr>\n",
       "      <th>5229</th>\n",
       "      <td>2017-05-17</td>\n",
       "      <td>P1</td>\n",
       "      <td>Partial-Nucleus</td>\n",
       "      <td>Small Bubbles</td>\n",
       "      <td>21.0</td>\n",
       "      <td>pass</td>\n",
       "      <td>0.000000</td>\n",
       "      <td>Small Bubbles</td>\n",
       "    </tr>\n",
       "    <tr>\n",
       "      <th>5230</th>\n",
       "      <td>2017-05-17</td>\n",
       "      <td>P1</td>\n",
       "      <td>Nucleated</td>\n",
       "      <td>Small Bubbles</td>\n",
       "      <td>21.0</td>\n",
       "      <td>pass</td>\n",
       "      <td>0.858195</td>\n",
       "      <td>Small Bubbles</td>\n",
       "    </tr>\n",
       "    <tr>\n",
       "      <th>5231</th>\n",
       "      <td>2017-05-17</td>\n",
       "      <td>P1</td>\n",
       "      <td>Nucleated</td>\n",
       "      <td>Small Bubbles</td>\n",
       "      <td>21.0</td>\n",
       "      <td>pass</td>\n",
       "      <td>0.900094</td>\n",
       "      <td>Small Bubbles</td>\n",
       "    </tr>\n",
       "    <tr>\n",
       "      <th>5234</th>\n",
       "      <td>2017-05-17</td>\n",
       "      <td>P1</td>\n",
       "      <td>Nucleated</td>\n",
       "      <td>Small Bubbles</td>\n",
       "      <td>21.0</td>\n",
       "      <td>pass</td>\n",
       "      <td>0.695597</td>\n",
       "      <td>Small Bubbles</td>\n",
       "    </tr>\n",
       "    <tr>\n",
       "      <th>5235</th>\n",
       "      <td>2017-05-17</td>\n",
       "      <td>P1</td>\n",
       "      <td>Nucleated</td>\n",
       "      <td>Large Bubbles</td>\n",
       "      <td>21.0</td>\n",
       "      <td>pass</td>\n",
       "      <td>0.787397</td>\n",
       "      <td>Large Bubbles</td>\n",
       "    </tr>\n",
       "    <tr>\n",
       "      <th>5236</th>\n",
       "      <td>2017-05-17</td>\n",
       "      <td>P1</td>\n",
       "      <td>Nucleated</td>\n",
       "      <td>Small Bubbles,Medium Bubbles</td>\n",
       "      <td>21.0</td>\n",
       "      <td>pass</td>\n",
       "      <td>1.000000</td>\n",
       "      <td>Small Bubbles,Medium Bubbles</td>\n",
       "    </tr>\n",
       "    <tr>\n",
       "      <th>5240</th>\n",
       "      <td>2017-05-17</td>\n",
       "      <td>P2</td>\n",
       "      <td>Partial-Nucleus</td>\n",
       "      <td>No Bubbles got nucleus and gigaohm seal but th...</td>\n",
       "      <td>21.0</td>\n",
       "      <td>pass</td>\n",
       "      <td>0.601033</td>\n",
       "      <td>No Bubbles</td>\n",
       "    </tr>\n",
       "    <tr>\n",
       "      <th>5241</th>\n",
       "      <td>2017-05-17</td>\n",
       "      <td>P2</td>\n",
       "      <td>Partial-Nucleus</td>\n",
       "      <td>Small Bubbles</td>\n",
       "      <td>21.0</td>\n",
       "      <td>pass</td>\n",
       "      <td>1.000000</td>\n",
       "      <td>Small Bubbles</td>\n",
       "    </tr>\n",
       "    <tr>\n",
       "      <th>5242</th>\n",
       "      <td>2017-05-17</td>\n",
       "      <td>P2</td>\n",
       "      <td>Outside-Out</td>\n",
       "      <td>No Bubbles lost seal on cell during extraction...</td>\n",
       "      <td>21.0</td>\n",
       "      <td>pass</td>\n",
       "      <td>1.000000</td>\n",
       "      <td>No Bubbles</td>\n",
       "    </tr>\n",
       "    <tr>\n",
       "      <th>5243</th>\n",
       "      <td>2017-05-17</td>\n",
       "      <td>P2</td>\n",
       "      <td>Nucleated</td>\n",
       "      <td>Large Bubbles,Solution in Pipette Shank</td>\n",
       "      <td>21.0</td>\n",
       "      <td>pass</td>\n",
       "      <td>0.601033</td>\n",
       "      <td>Large Bubbles,Solution in Pipette Shank</td>\n",
       "    </tr>\n",
       "    <tr>\n",
       "      <th>5244</th>\n",
       "      <td>2017-05-17</td>\n",
       "      <td>P2</td>\n",
       "      <td>Nucleated</td>\n",
       "      <td>No Bubbles</td>\n",
       "      <td>21.0</td>\n",
       "      <td>pass</td>\n",
       "      <td>0.601033</td>\n",
       "      <td>No Bubbles</td>\n",
       "    </tr>\n",
       "    <tr>\n",
       "      <th>5246</th>\n",
       "      <td>2017-05-17</td>\n",
       "      <td>P2</td>\n",
       "      <td>Nucleated</td>\n",
       "      <td>No Bubbles</td>\n",
       "      <td>21.0</td>\n",
       "      <td>pass</td>\n",
       "      <td>0.875031</td>\n",
       "      <td>No Bubbles</td>\n",
       "    </tr>\n",
       "    <tr>\n",
       "      <th>5247</th>\n",
       "      <td>2017-05-17</td>\n",
       "      <td>P2</td>\n",
       "      <td>Nucleated</td>\n",
       "      <td>No Bubbles</td>\n",
       "      <td>21.0</td>\n",
       "      <td>pass</td>\n",
       "      <td>0.630983</td>\n",
       "      <td>No Bubbles</td>\n",
       "    </tr>\n",
       "    <tr>\n",
       "      <th>5248</th>\n",
       "      <td>2017-05-17</td>\n",
       "      <td>P2</td>\n",
       "      <td>Nucleated</td>\n",
       "      <td>No Bubbles</td>\n",
       "      <td>21.0</td>\n",
       "      <td>pass</td>\n",
       "      <td>0.773439</td>\n",
       "      <td>No Bubbles</td>\n",
       "    </tr>\n",
       "    <tr>\n",
       "      <th>5260</th>\n",
       "      <td>2017-05-18</td>\n",
       "      <td>P1</td>\n",
       "      <td>Nucleated</td>\n",
       "      <td>Fluorescence in Pipette,Cell Dimmed   Small Bu...</td>\n",
       "      <td>21.0</td>\n",
       "      <td>pass</td>\n",
       "      <td>0.927767</td>\n",
       "      <td>Small Bubbles</td>\n",
       "    </tr>\n",
       "    <tr>\n",
       "      <th>5261</th>\n",
       "      <td>2017-05-18</td>\n",
       "      <td>P1</td>\n",
       "      <td>Nucleated</td>\n",
       "      <td>Fluorescence in Pipette,Cell Dimmed   Small Bu...</td>\n",
       "      <td>21.0</td>\n",
       "      <td>pass</td>\n",
       "      <td>0.927767</td>\n",
       "      <td>Small Bubbles</td>\n",
       "    </tr>\n",
       "    <tr>\n",
       "      <th>5262</th>\n",
       "      <td>2017-05-18</td>\n",
       "      <td>P1</td>\n",
       "      <td>Outside-Out</td>\n",
       "      <td>Cell Dimmed   Small Bubbles,Medium Bubbles</td>\n",
       "      <td>21.0</td>\n",
       "      <td>pass</td>\n",
       "      <td>0.836284</td>\n",
       "      <td>Small Bubbles,Medium Bubbles</td>\n",
       "    </tr>\n",
       "    <tr>\n",
       "      <th>5263</th>\n",
       "      <td>2017-05-18</td>\n",
       "      <td>P1</td>\n",
       "      <td>Partial-Nucleus</td>\n",
       "      <td>Fluorescence in Pipette   Small Bubbles</td>\n",
       "      <td>21.0</td>\n",
       "      <td>pass</td>\n",
       "      <td>0.729438</td>\n",
       "      <td>Small Bubbles</td>\n",
       "    </tr>\n",
       "    <tr>\n",
       "      <th>5269</th>\n",
       "      <td>2017-05-18</td>\n",
       "      <td>P2</td>\n",
       "      <td>Partial-Nucleus</td>\n",
       "      <td>Fluorescence in Pipette No Bubbles</td>\n",
       "      <td>21.0</td>\n",
       "      <td>pass</td>\n",
       "      <td>0.836284</td>\n",
       "      <td>No Bubbles</td>\n",
       "    </tr>\n",
       "    <tr>\n",
       "      <th>5271</th>\n",
       "      <td>2017-05-18</td>\n",
       "      <td>P2</td>\n",
       "      <td>No-Seal</td>\n",
       "      <td>Fluorescence in Pipette No Bubbles</td>\n",
       "      <td>21.0</td>\n",
       "      <td>pass</td>\n",
       "      <td>1.000000</td>\n",
       "      <td>No Bubbles</td>\n",
       "    </tr>\n",
       "    <tr>\n",
       "      <th>5272</th>\n",
       "      <td>2017-05-18</td>\n",
       "      <td>P2</td>\n",
       "      <td>Nucleated</td>\n",
       "      <td>Fluorescence in Pipette Small Bubbles</td>\n",
       "      <td>21.0</td>\n",
       "      <td>pass</td>\n",
       "      <td>0.469928</td>\n",
       "      <td>Small Bubbles</td>\n",
       "    </tr>\n",
       "    <tr>\n",
       "      <th>5273</th>\n",
       "      <td>2017-05-18</td>\n",
       "      <td>P2</td>\n",
       "      <td>Nucleated</td>\n",
       "      <td>Fluorescence in Pipette No Bubbles</td>\n",
       "      <td>21.0</td>\n",
       "      <td>pass</td>\n",
       "      <td>0.322631</td>\n",
       "      <td>No Bubbles</td>\n",
       "    </tr>\n",
       "    <tr>\n",
       "      <th>5274</th>\n",
       "      <td>2017-05-18</td>\n",
       "      <td>P2</td>\n",
       "      <td>Nucleated</td>\n",
       "      <td>Fluorescence in Pipette No Bubbles</td>\n",
       "      <td>21.0</td>\n",
       "      <td>pass</td>\n",
       "      <td>0.836284</td>\n",
       "      <td>No Bubbles</td>\n",
       "    </tr>\n",
       "    <tr>\n",
       "      <th>5275</th>\n",
       "      <td>2017-05-18</td>\n",
       "      <td>P2</td>\n",
       "      <td>Nucleated</td>\n",
       "      <td>Fluorescence in Pipette Small Bubbles</td>\n",
       "      <td>21.0</td>\n",
       "      <td>pass</td>\n",
       "      <td>0.836284</td>\n",
       "      <td>Small Bubbles</td>\n",
       "    </tr>\n",
       "    <tr>\n",
       "      <th>5276</th>\n",
       "      <td>2017-05-18</td>\n",
       "      <td>P2</td>\n",
       "      <td>Nucleated</td>\n",
       "      <td>Fluorescence in Pipette Small Bubbles</td>\n",
       "      <td>21.0</td>\n",
       "      <td>pass</td>\n",
       "      <td>0.836284</td>\n",
       "      <td>Small Bubbles</td>\n",
       "    </tr>\n",
       "    <tr>\n",
       "      <th>...</th>\n",
       "      <td>...</td>\n",
       "      <td>...</td>\n",
       "      <td>...</td>\n",
       "      <td>...</td>\n",
       "      <td>...</td>\n",
       "      <td>...</td>\n",
       "      <td>...</td>\n",
       "      <td>...</td>\n",
       "    </tr>\n",
       "    <tr>\n",
       "      <th>5389</th>\n",
       "      <td>2017-05-25</td>\n",
       "      <td>P2</td>\n",
       "      <td>No-Seal</td>\n",
       "      <td>Fluorescence in Pipette Small Bubbles,Medium B...</td>\n",
       "      <td>21.0</td>\n",
       "      <td>pass</td>\n",
       "      <td>0.000000</td>\n",
       "      <td>Small Bubbles,Medium Bubbles</td>\n",
       "    </tr>\n",
       "    <tr>\n",
       "      <th>5390</th>\n",
       "      <td>2017-05-25</td>\n",
       "      <td>P2</td>\n",
       "      <td>No-Seal</td>\n",
       "      <td>Fluorescence in Pipette Medium Bubbles may hav...</td>\n",
       "      <td>21.0</td>\n",
       "      <td>pass</td>\n",
       "      <td>0.763111</td>\n",
       "      <td>Medium Bubbles</td>\n",
       "    </tr>\n",
       "    <tr>\n",
       "      <th>5391</th>\n",
       "      <td>2017-05-25</td>\n",
       "      <td>P2</td>\n",
       "      <td>Partial-Nucleus</td>\n",
       "      <td>Fluorescence in Pipette Small Bubbles</td>\n",
       "      <td>21.0</td>\n",
       "      <td>pass</td>\n",
       "      <td>0.860881</td>\n",
       "      <td>Small Bubbles</td>\n",
       "    </tr>\n",
       "    <tr>\n",
       "      <th>5392</th>\n",
       "      <td>2017-05-25</td>\n",
       "      <td>P2</td>\n",
       "      <td>Nucleated</td>\n",
       "      <td>Fluorescence in Pipette Small Bubbles,Large Bu...</td>\n",
       "      <td>21.0</td>\n",
       "      <td>pass</td>\n",
       "      <td>0.746661</td>\n",
       "      <td>Small Bubbles,Large Bubbles</td>\n",
       "    </tr>\n",
       "    <tr>\n",
       "      <th>5393</th>\n",
       "      <td>2017-05-25</td>\n",
       "      <td>P2</td>\n",
       "      <td>Nucleated</td>\n",
       "      <td>Fluorescence in Pipette Medium Bubbles</td>\n",
       "      <td>21.0</td>\n",
       "      <td>pass</td>\n",
       "      <td>0.469928</td>\n",
       "      <td>Medium Bubbles</td>\n",
       "    </tr>\n",
       "    <tr>\n",
       "      <th>5394</th>\n",
       "      <td>2017-05-25</td>\n",
       "      <td>P2</td>\n",
       "      <td>Nucleated</td>\n",
       "      <td>Fluorescence in Pipette No Bubbles</td>\n",
       "      <td>21.0</td>\n",
       "      <td>pass</td>\n",
       "      <td>0.781350</td>\n",
       "      <td>No Bubbles</td>\n",
       "    </tr>\n",
       "    <tr>\n",
       "      <th>5396</th>\n",
       "      <td>2017-05-25</td>\n",
       "      <td>P2</td>\n",
       "      <td>Nucleated</td>\n",
       "      <td>Fluorescence in Pipette Small Bubbles,Medium B...</td>\n",
       "      <td>21.0</td>\n",
       "      <td>pass</td>\n",
       "      <td>0.688154</td>\n",
       "      <td>Small Bubbles,Medium Bubbles</td>\n",
       "    </tr>\n",
       "    <tr>\n",
       "      <th>5403</th>\n",
       "      <td>2017-05-26</td>\n",
       "      <td>P1</td>\n",
       "      <td>Nucleated</td>\n",
       "      <td>Fluorescence in Pipette,Cell Dimmed   No Bubbles</td>\n",
       "      <td>21.0</td>\n",
       "      <td>pass</td>\n",
       "      <td>0.688154</td>\n",
       "      <td>No Bubbles</td>\n",
       "    </tr>\n",
       "    <tr>\n",
       "      <th>5404</th>\n",
       "      <td>2017-05-26</td>\n",
       "      <td>P1</td>\n",
       "      <td>Nucleated</td>\n",
       "      <td>Cell Dimmed   No Bubbles</td>\n",
       "      <td>21.0</td>\n",
       "      <td>pass</td>\n",
       "      <td>1.000000</td>\n",
       "      <td>No Bubbles</td>\n",
       "    </tr>\n",
       "    <tr>\n",
       "      <th>5405</th>\n",
       "      <td>2017-05-26</td>\n",
       "      <td>P1</td>\n",
       "      <td>Partial-Nucleus</td>\n",
       "      <td>Fluorescence in Pipette,Cell Dimmed   Small Bu...</td>\n",
       "      <td>21.0</td>\n",
       "      <td>pass</td>\n",
       "      <td>0.890764</td>\n",
       "      <td>Small Bubbles</td>\n",
       "    </tr>\n",
       "    <tr>\n",
       "      <th>5407</th>\n",
       "      <td>2017-05-26</td>\n",
       "      <td>P1</td>\n",
       "      <td>Partial-Nucleus</td>\n",
       "      <td>Fluorescence in Pipette,Cell Dimmed   Small Bu...</td>\n",
       "      <td>21.0</td>\n",
       "      <td>pass</td>\n",
       "      <td>0.864362</td>\n",
       "      <td>Small Bubbles</td>\n",
       "    </tr>\n",
       "    <tr>\n",
       "      <th>5408</th>\n",
       "      <td>2017-05-26</td>\n",
       "      <td>P1</td>\n",
       "      <td>Nucleated</td>\n",
       "      <td>Fluorescence in Pipette,Cell Dimmed   Small Bu...</td>\n",
       "      <td>21.0</td>\n",
       "      <td>pass</td>\n",
       "      <td>0.927767</td>\n",
       "      <td>Small Bubbles</td>\n",
       "    </tr>\n",
       "    <tr>\n",
       "      <th>5409</th>\n",
       "      <td>2017-05-26</td>\n",
       "      <td>P1</td>\n",
       "      <td>Nucleated</td>\n",
       "      <td>Fluorescence in Pipette,Cell Dimmed   Small Bu...</td>\n",
       "      <td>21.0</td>\n",
       "      <td>pass</td>\n",
       "      <td>0.890764</td>\n",
       "      <td>Small Bubbles</td>\n",
       "    </tr>\n",
       "    <tr>\n",
       "      <th>5410</th>\n",
       "      <td>2017-05-26</td>\n",
       "      <td>P1</td>\n",
       "      <td>Nucleated</td>\n",
       "      <td>Fluorescence in Pipette,Cell Dimmed   Small Bu...</td>\n",
       "      <td>21.0</td>\n",
       "      <td>pass</td>\n",
       "      <td>0.660082</td>\n",
       "      <td>Small Bubbles</td>\n",
       "    </tr>\n",
       "    <tr>\n",
       "      <th>5412</th>\n",
       "      <td>2017-05-26</td>\n",
       "      <td>P1</td>\n",
       "      <td>Nucleated</td>\n",
       "      <td>Cell Dimmed   Small Bubbles</td>\n",
       "      <td>21.0</td>\n",
       "      <td>pass</td>\n",
       "      <td>0.688154</td>\n",
       "      <td>Small Bubbles</td>\n",
       "    </tr>\n",
       "    <tr>\n",
       "      <th>5415</th>\n",
       "      <td>2017-05-26</td>\n",
       "      <td>P2</td>\n",
       "      <td>No-Seal</td>\n",
       "      <td>Small Bubbles</td>\n",
       "      <td>21.0</td>\n",
       "      <td>pass</td>\n",
       "      <td>0.885860</td>\n",
       "      <td>Small Bubbles</td>\n",
       "    </tr>\n",
       "    <tr>\n",
       "      <th>5416</th>\n",
       "      <td>2017-05-26</td>\n",
       "      <td>P2</td>\n",
       "      <td>Nucleated</td>\n",
       "      <td>Fluorescence in Pipette No Bubbles</td>\n",
       "      <td>21.0</td>\n",
       "      <td>pass</td>\n",
       "      <td>0.890764</td>\n",
       "      <td>No Bubbles</td>\n",
       "    </tr>\n",
       "    <tr>\n",
       "      <th>5417</th>\n",
       "      <td>2017-05-26</td>\n",
       "      <td>P2</td>\n",
       "      <td>Partial-Nucleus</td>\n",
       "      <td>Fluorescence in Pipette Small Bubbles</td>\n",
       "      <td>21.0</td>\n",
       "      <td>pass</td>\n",
       "      <td>0.888508</td>\n",
       "      <td>Small Bubbles</td>\n",
       "    </tr>\n",
       "    <tr>\n",
       "      <th>5418</th>\n",
       "      <td>2017-05-26</td>\n",
       "      <td>P2</td>\n",
       "      <td>Nucleated</td>\n",
       "      <td>Fluorescence in Pipette Small Bubbles</td>\n",
       "      <td>21.0</td>\n",
       "      <td>pass</td>\n",
       "      <td>0.765569</td>\n",
       "      <td>Small Bubbles</td>\n",
       "    </tr>\n",
       "    <tr>\n",
       "      <th>5420</th>\n",
       "      <td>2017-05-26</td>\n",
       "      <td>P2</td>\n",
       "      <td>Partial-Nucleus</td>\n",
       "      <td>Fluorescence in Pipette Small Bubbles</td>\n",
       "      <td>21.0</td>\n",
       "      <td>pass</td>\n",
       "      <td>0.842398</td>\n",
       "      <td>Small Bubbles</td>\n",
       "    </tr>\n",
       "    <tr>\n",
       "      <th>5421</th>\n",
       "      <td>2017-05-26</td>\n",
       "      <td>P2</td>\n",
       "      <td>No-Seal</td>\n",
       "      <td>Fluorescence in Pipette No Bubbles</td>\n",
       "      <td>21.0</td>\n",
       "      <td>pass</td>\n",
       "      <td>1.000000</td>\n",
       "      <td>No Bubbles</td>\n",
       "    </tr>\n",
       "    <tr>\n",
       "      <th>5422</th>\n",
       "      <td>2017-05-26</td>\n",
       "      <td>P2</td>\n",
       "      <td>No-Seal</td>\n",
       "      <td>Fluorescence in Pipette Small Bubbles might ha...</td>\n",
       "      <td>21.0</td>\n",
       "      <td>pass</td>\n",
       "      <td>0.521240</td>\n",
       "      <td>Small Bubbles</td>\n",
       "    </tr>\n",
       "    <tr>\n",
       "      <th>5423</th>\n",
       "      <td>2017-05-26</td>\n",
       "      <td>P2</td>\n",
       "      <td>Nucleated</td>\n",
       "      <td>Fluorescence in Pipette No Bubbles</td>\n",
       "      <td>21.0</td>\n",
       "      <td>pass</td>\n",
       "      <td>0.322631</td>\n",
       "      <td>No Bubbles</td>\n",
       "    </tr>\n",
       "    <tr>\n",
       "      <th>5424</th>\n",
       "      <td>2017-05-26</td>\n",
       "      <td>P2</td>\n",
       "      <td>Nucleated</td>\n",
       "      <td>Fluorescence in Pipette Small Bubbles</td>\n",
       "      <td>21.0</td>\n",
       "      <td>pass</td>\n",
       "      <td>0.836284</td>\n",
       "      <td>Small Bubbles</td>\n",
       "    </tr>\n",
       "    <tr>\n",
       "      <th>5432</th>\n",
       "      <td>2017-06-01</td>\n",
       "      <td>P1</td>\n",
       "      <td>No-Seal</td>\n",
       "      <td>Fluorescence in Pipette,Cell Dimmed,Cell Shrun...</td>\n",
       "      <td>21.0</td>\n",
       "      <td>pass</td>\n",
       "      <td>0.835709</td>\n",
       "      <td>Small Bubbles</td>\n",
       "    </tr>\n",
       "    <tr>\n",
       "      <th>5433</th>\n",
       "      <td>2017-06-01</td>\n",
       "      <td>P1</td>\n",
       "      <td>No-Seal</td>\n",
       "      <td>Fluorescence in Pipette,Cell Dimmed,Cell Shrun...</td>\n",
       "      <td>21.0</td>\n",
       "      <td>pass</td>\n",
       "      <td>0.660082</td>\n",
       "      <td>Small Bubbles</td>\n",
       "    </tr>\n",
       "    <tr>\n",
       "      <th>5434</th>\n",
       "      <td>2017-06-01</td>\n",
       "      <td>P1</td>\n",
       "      <td>Partial-Nucleus</td>\n",
       "      <td>Fluorescence in Pipette,Cell Dimmed,Cell Shrun...</td>\n",
       "      <td>21.0</td>\n",
       "      <td>pass</td>\n",
       "      <td>0.556320</td>\n",
       "      <td>Small Bubbles,Medium Bubbles</td>\n",
       "    </tr>\n",
       "    <tr>\n",
       "      <th>5435</th>\n",
       "      <td>2017-06-01</td>\n",
       "      <td>P1</td>\n",
       "      <td>Nucleated</td>\n",
       "      <td>Fluorescence in Pipette,Cell Dimmed   Small Bu...</td>\n",
       "      <td>21.0</td>\n",
       "      <td>pass</td>\n",
       "      <td>0.556320</td>\n",
       "      <td>Small Bubbles,Medium Bubbles</td>\n",
       "    </tr>\n",
       "    <tr>\n",
       "      <th>5436</th>\n",
       "      <td>2017-06-01</td>\n",
       "      <td>P1</td>\n",
       "      <td>Entire-Cell</td>\n",
       "      <td>Fluorescence in Pipette,Cell Dimmed,Cell Shrun...</td>\n",
       "      <td>21.0</td>\n",
       "      <td>pass</td>\n",
       "      <td>0.860881</td>\n",
       "      <td>Small Bubbles</td>\n",
       "    </tr>\n",
       "    <tr>\n",
       "      <th>5440</th>\n",
       "      <td>2017-06-01</td>\n",
       "      <td>P2</td>\n",
       "      <td>No-Seal</td>\n",
       "      <td>Fluorescence in Pipette Large Bubbles Pretty s...</td>\n",
       "      <td>21.0</td>\n",
       "      <td>pass</td>\n",
       "      <td>0.660082</td>\n",
       "      <td>Large Bubbles</td>\n",
       "    </tr>\n",
       "  </tbody>\n",
       "</table>\n",
       "<p>118 rows × 8 columns</p>\n",
       "</div>"
      ],
      "text/plain": [
       "           Date User      Post patch?  \\\n",
       "5211 2017-05-16   P1        Nucleated   \n",
       "5215 2017-05-16   P2      Outside-Out   \n",
       "5216 2017-05-16   P2        Nucleated   \n",
       "5217 2017-05-16   P2        Nucleated   \n",
       "5228 2017-05-17   P1        Nucleated   \n",
       "5229 2017-05-17   P1  Partial-Nucleus   \n",
       "5230 2017-05-17   P1        Nucleated   \n",
       "5231 2017-05-17   P1        Nucleated   \n",
       "5234 2017-05-17   P1        Nucleated   \n",
       "5235 2017-05-17   P1        Nucleated   \n",
       "5236 2017-05-17   P1        Nucleated   \n",
       "5240 2017-05-17   P2  Partial-Nucleus   \n",
       "5241 2017-05-17   P2  Partial-Nucleus   \n",
       "5242 2017-05-17   P2      Outside-Out   \n",
       "5243 2017-05-17   P2        Nucleated   \n",
       "5244 2017-05-17   P2        Nucleated   \n",
       "5246 2017-05-17   P2        Nucleated   \n",
       "5247 2017-05-17   P2        Nucleated   \n",
       "5248 2017-05-17   P2        Nucleated   \n",
       "5260 2017-05-18   P1        Nucleated   \n",
       "5261 2017-05-18   P1        Nucleated   \n",
       "5262 2017-05-18   P1      Outside-Out   \n",
       "5263 2017-05-18   P1  Partial-Nucleus   \n",
       "5269 2017-05-18   P2  Partial-Nucleus   \n",
       "5271 2017-05-18   P2          No-Seal   \n",
       "5272 2017-05-18   P2        Nucleated   \n",
       "5273 2017-05-18   P2        Nucleated   \n",
       "5274 2017-05-18   P2        Nucleated   \n",
       "5275 2017-05-18   P2        Nucleated   \n",
       "5276 2017-05-18   P2        Nucleated   \n",
       "...         ...  ...              ...   \n",
       "5389 2017-05-25   P2          No-Seal   \n",
       "5390 2017-05-25   P2          No-Seal   \n",
       "5391 2017-05-25   P2  Partial-Nucleus   \n",
       "5392 2017-05-25   P2        Nucleated   \n",
       "5393 2017-05-25   P2        Nucleated   \n",
       "5394 2017-05-25   P2        Nucleated   \n",
       "5396 2017-05-25   P2        Nucleated   \n",
       "5403 2017-05-26   P1        Nucleated   \n",
       "5404 2017-05-26   P1        Nucleated   \n",
       "5405 2017-05-26   P1  Partial-Nucleus   \n",
       "5407 2017-05-26   P1  Partial-Nucleus   \n",
       "5408 2017-05-26   P1        Nucleated   \n",
       "5409 2017-05-26   P1        Nucleated   \n",
       "5410 2017-05-26   P1        Nucleated   \n",
       "5412 2017-05-26   P1        Nucleated   \n",
       "5415 2017-05-26   P2          No-Seal   \n",
       "5416 2017-05-26   P2        Nucleated   \n",
       "5417 2017-05-26   P2  Partial-Nucleus   \n",
       "5418 2017-05-26   P2        Nucleated   \n",
       "5420 2017-05-26   P2  Partial-Nucleus   \n",
       "5421 2017-05-26   P2          No-Seal   \n",
       "5422 2017-05-26   P2          No-Seal   \n",
       "5423 2017-05-26   P2        Nucleated   \n",
       "5424 2017-05-26   P2        Nucleated   \n",
       "5432 2017-06-01   P1          No-Seal   \n",
       "5433 2017-06-01   P1          No-Seal   \n",
       "5434 2017-06-01   P1  Partial-Nucleus   \n",
       "5435 2017-06-01   P1        Nucleated   \n",
       "5436 2017-06-01   P1      Entire-Cell   \n",
       "5440 2017-06-01   P2          No-Seal   \n",
       "\n",
       "                                                  Notes  PCR cycles SM_QC_PF  \\\n",
       "5211                                      Small Bubbles        21.0     pass   \n",
       "5215                                      Small Bubbles        21.0     pass   \n",
       "5216                                         No Bubbles        21.0     pass   \n",
       "5217                                         No Bubbles        21.0     pass   \n",
       "5228                       Small Bubbles,Medium Bubbles        21.0     pass   \n",
       "5229                                      Small Bubbles        21.0     pass   \n",
       "5230                                      Small Bubbles        21.0     pass   \n",
       "5231                                      Small Bubbles        21.0     pass   \n",
       "5234                                      Small Bubbles        21.0     pass   \n",
       "5235                                      Large Bubbles        21.0     pass   \n",
       "5236                       Small Bubbles,Medium Bubbles        21.0     pass   \n",
       "5240  No Bubbles got nucleus and gigaohm seal but th...        21.0     pass   \n",
       "5241                                      Small Bubbles        21.0     pass   \n",
       "5242  No Bubbles lost seal on cell during extraction...        21.0     pass   \n",
       "5243            Large Bubbles,Solution in Pipette Shank        21.0     pass   \n",
       "5244                                         No Bubbles        21.0     pass   \n",
       "5246                                         No Bubbles        21.0     pass   \n",
       "5247                                         No Bubbles        21.0     pass   \n",
       "5248                                         No Bubbles        21.0     pass   \n",
       "5260  Fluorescence in Pipette,Cell Dimmed   Small Bu...        21.0     pass   \n",
       "5261  Fluorescence in Pipette,Cell Dimmed   Small Bu...        21.0     pass   \n",
       "5262         Cell Dimmed   Small Bubbles,Medium Bubbles        21.0     pass   \n",
       "5263            Fluorescence in Pipette   Small Bubbles        21.0     pass   \n",
       "5269                 Fluorescence in Pipette No Bubbles        21.0     pass   \n",
       "5271                 Fluorescence in Pipette No Bubbles        21.0     pass   \n",
       "5272              Fluorescence in Pipette Small Bubbles        21.0     pass   \n",
       "5273                 Fluorescence in Pipette No Bubbles        21.0     pass   \n",
       "5274                 Fluorescence in Pipette No Bubbles        21.0     pass   \n",
       "5275              Fluorescence in Pipette Small Bubbles        21.0     pass   \n",
       "5276              Fluorescence in Pipette Small Bubbles        21.0     pass   \n",
       "...                                                 ...         ...      ...   \n",
       "5389  Fluorescence in Pipette Small Bubbles,Medium B...        21.0     pass   \n",
       "5390  Fluorescence in Pipette Medium Bubbles may hav...        21.0     pass   \n",
       "5391              Fluorescence in Pipette Small Bubbles        21.0     pass   \n",
       "5392  Fluorescence in Pipette Small Bubbles,Large Bu...        21.0     pass   \n",
       "5393             Fluorescence in Pipette Medium Bubbles        21.0     pass   \n",
       "5394                 Fluorescence in Pipette No Bubbles        21.0     pass   \n",
       "5396  Fluorescence in Pipette Small Bubbles,Medium B...        21.0     pass   \n",
       "5403   Fluorescence in Pipette,Cell Dimmed   No Bubbles        21.0     pass   \n",
       "5404                           Cell Dimmed   No Bubbles        21.0     pass   \n",
       "5405  Fluorescence in Pipette,Cell Dimmed   Small Bu...        21.0     pass   \n",
       "5407  Fluorescence in Pipette,Cell Dimmed   Small Bu...        21.0     pass   \n",
       "5408  Fluorescence in Pipette,Cell Dimmed   Small Bu...        21.0     pass   \n",
       "5409  Fluorescence in Pipette,Cell Dimmed   Small Bu...        21.0     pass   \n",
       "5410  Fluorescence in Pipette,Cell Dimmed   Small Bu...        21.0     pass   \n",
       "5412                        Cell Dimmed   Small Bubbles        21.0     pass   \n",
       "5415                                      Small Bubbles        21.0     pass   \n",
       "5416                 Fluorescence in Pipette No Bubbles        21.0     pass   \n",
       "5417              Fluorescence in Pipette Small Bubbles        21.0     pass   \n",
       "5418              Fluorescence in Pipette Small Bubbles        21.0     pass   \n",
       "5420              Fluorescence in Pipette Small Bubbles        21.0     pass   \n",
       "5421                 Fluorescence in Pipette No Bubbles        21.0     pass   \n",
       "5422  Fluorescence in Pipette Small Bubbles might ha...        21.0     pass   \n",
       "5423                 Fluorescence in Pipette No Bubbles        21.0     pass   \n",
       "5424              Fluorescence in Pipette Small Bubbles        21.0     pass   \n",
       "5432  Fluorescence in Pipette,Cell Dimmed,Cell Shrun...        21.0     pass   \n",
       "5433  Fluorescence in Pipette,Cell Dimmed,Cell Shrun...        21.0     pass   \n",
       "5434  Fluorescence in Pipette,Cell Dimmed,Cell Shrun...        21.0     pass   \n",
       "5435  Fluorescence in Pipette,Cell Dimmed   Small Bu...        21.0     pass   \n",
       "5436  Fluorescence in Pipette,Cell Dimmed,Cell Shrun...        21.0     pass   \n",
       "5440  Fluorescence in Pipette Large Bubbles Pretty s...        21.0     pass   \n",
       "\n",
       "      Resolution index                                  Bubbles  \n",
       "5211          1.000000                            Small Bubbles  \n",
       "5215          1.000000                            Small Bubbles  \n",
       "5216          0.601033                               No Bubbles  \n",
       "5217          0.875031                               No Bubbles  \n",
       "5228          0.825809             Small Bubbles,Medium Bubbles  \n",
       "5229          0.000000                            Small Bubbles  \n",
       "5230          0.858195                            Small Bubbles  \n",
       "5231          0.900094                            Small Bubbles  \n",
       "5234          0.695597                            Small Bubbles  \n",
       "5235          0.787397                            Large Bubbles  \n",
       "5236          1.000000             Small Bubbles,Medium Bubbles  \n",
       "5240          0.601033                               No Bubbles  \n",
       "5241          1.000000                            Small Bubbles  \n",
       "5242          1.000000                               No Bubbles  \n",
       "5243          0.601033  Large Bubbles,Solution in Pipette Shank  \n",
       "5244          0.601033                               No Bubbles  \n",
       "5246          0.875031                               No Bubbles  \n",
       "5247          0.630983                               No Bubbles  \n",
       "5248          0.773439                               No Bubbles  \n",
       "5260          0.927767                            Small Bubbles  \n",
       "5261          0.927767                            Small Bubbles  \n",
       "5262          0.836284             Small Bubbles,Medium Bubbles  \n",
       "5263          0.729438                            Small Bubbles  \n",
       "5269          0.836284                               No Bubbles  \n",
       "5271          1.000000                               No Bubbles  \n",
       "5272          0.469928                            Small Bubbles  \n",
       "5273          0.322631                               No Bubbles  \n",
       "5274          0.836284                               No Bubbles  \n",
       "5275          0.836284                            Small Bubbles  \n",
       "5276          0.836284                            Small Bubbles  \n",
       "...                ...                                      ...  \n",
       "5389          0.000000             Small Bubbles,Medium Bubbles  \n",
       "5390          0.763111                           Medium Bubbles  \n",
       "5391          0.860881                            Small Bubbles  \n",
       "5392          0.746661              Small Bubbles,Large Bubbles  \n",
       "5393          0.469928                           Medium Bubbles  \n",
       "5394          0.781350                               No Bubbles  \n",
       "5396          0.688154             Small Bubbles,Medium Bubbles  \n",
       "5403          0.688154                               No Bubbles  \n",
       "5404          1.000000                               No Bubbles  \n",
       "5405          0.890764                            Small Bubbles  \n",
       "5407          0.864362                            Small Bubbles  \n",
       "5408          0.927767                            Small Bubbles  \n",
       "5409          0.890764                            Small Bubbles  \n",
       "5410          0.660082                            Small Bubbles  \n",
       "5412          0.688154                            Small Bubbles  \n",
       "5415          0.885860                            Small Bubbles  \n",
       "5416          0.890764                               No Bubbles  \n",
       "5417          0.888508                            Small Bubbles  \n",
       "5418          0.765569                            Small Bubbles  \n",
       "5420          0.842398                            Small Bubbles  \n",
       "5421          1.000000                               No Bubbles  \n",
       "5422          0.521240                            Small Bubbles  \n",
       "5423          0.322631                               No Bubbles  \n",
       "5424          0.836284                            Small Bubbles  \n",
       "5432          0.835709                            Small Bubbles  \n",
       "5433          0.660082                            Small Bubbles  \n",
       "5434          0.556320             Small Bubbles,Medium Bubbles  \n",
       "5435          0.556320             Small Bubbles,Medium Bubbles  \n",
       "5436          0.860881                            Small Bubbles  \n",
       "5440          0.660082                            Large Bubbles  \n",
       "\n",
       "[118 rows x 8 columns]"
      ]
     },
     "execution_count": 15,
     "metadata": {},
     "output_type": "execute_result"
    }
   ],
   "source": [
    "ps.dropna(subset = ['Notes'], inplace = True)\n",
    "ps = ps[ps['Notes'].str.contains('Bubbles')]\n",
    "a_regex = '(No Bubbles|Small Bubbles,Medium Bubbles|Small Bubbles,Large Bubbles|Small Bubbles|Medium Bubbles,Large Bubbles|Medium Bubbles|Large Bubbles,Solution in Pipette Shank|Large Bubbles)'\n",
    "#a_regex = '(Large Bubbles,Solution in Pipette Shank|Large Bubbles|No Bubbles|Small Bubbles,Medium Bubbles|Small Bubbles,Large Bubbles|Small Bubbles||Medium Bubbles,Large Bubbles|Medium Bubbles)'\n",
    "#replacements = {'Large Bubbles,Solution in Pipette Shank':'Solution in Pipette Shank', 'Large Bubbles':'Large Bubbles', 'No Bubbles':'No Bubbles', 'Small Bubbles,Medium Bubbles':'Medium Bubbles', 'Small Bubbles,Large Bubbles':'Large Bubbles', 'Small Bubbles':'Small Bubbles', 'Medium Bubbles, Large Bubbles':'Large Bubbles', 'Medium Bubbles':'Medium Bubbles'}\n",
    "ps['Bubbles'] = ps['Notes'].str.extract(a_regex).fillna('')\n",
    "#ps['Bubbles'] = ps['Bubbles'].apply(lambda x: replacements.get(x,''))\n",
    "ps\n"
   ]
  },
  {
   "cell_type": "markdown",
   "metadata": {},
   "source": [
    "#### swarm-plot of post patch vs resolution index by bubble condition "
   ]
  },
  {
   "cell_type": "code",
   "execution_count": 10,
   "metadata": {
    "collapsed": false
   },
   "outputs": [
    {
     "data": {
      "text/plain": [
       "<matplotlib.legend.Legend at 0xd16c588>"
      ]
     },
     "execution_count": 10,
     "metadata": {},
     "output_type": "execute_result"
    },
    {
     "data": {
      "image/png": "[encoded data removed]",
      "text/plain": [
       "<matplotlib.figure.Figure at 0x5c749b0>"
      ]
     },
     "metadata": {},
     "output_type": "display_data"
    }
   ],
   "source": [
    "sns.swarmplot(x='Post patch?', y='Resolution index', hue='Bubbles', data=ps)\n",
    "plt.legend(bbox_to_anchor=(1.05,1), loc=2, borderaxespad=0.)"
   ]
  },
  {
   "cell_type": "code",
   "execution_count": 11,
   "metadata": {
    "collapsed": true
   },
   "outputs": [],
   "source": [
    "def bubb_filter(x):\n",
    "    df = ps[ps['Bubbles'] == x]\n",
    "    return df\n",
    "\n",
    "def pp_filter(y):\n",
    "    df2 = ps[ps['Post patch?'] == y]\n",
    "    return df2\n",
    "\n",
    "def hires_filter(z):\n",
    "    df3 = z[z['Resolution index'] >= 0.8]\n",
    "    return df3\n",
    "\n",
    "def get_count(v):\n",
    "    count = v['Bubbles'].count()\n",
    "    return count\n",
    "\n",
    "def calc_pct(passing, total):\n",
    "    pct = float(get_count(passing)) / get_count(total)\n",
    "    return pct\n",
    "    \n"
   ]
  },
  {
   "cell_type": "markdown",
   "metadata": {},
   "source": [
    "#### percentage with resolution index >=0.8 by bubble and post patch condition "
   ]
  },
  {
   "cell_type": "code",
   "execution_count": 12,
   "metadata": {
    "collapsed": false
   },
   "outputs": [
    {
     "name": "stdout",
     "output_type": "stream",
     "text": [
      "no bubbles hires pct = 0.447368421053\n"
     ]
    }
   ],
   "source": [
    "nb = bubb_filter('No Bubbles')\n",
    "nbhr = hires_filter(bubb_filter('No Bubbles'))\n",
    "nbhrpp = calc_pct(nbhr,nb)\n",
    "print 'no bubbles hi-res pct =', nbhrpp"
   ]
  },
  {
   "cell_type": "code",
   "execution_count": 13,
   "metadata": {
    "collapsed": false
   },
   "outputs": [
    {
     "name": "stdout",
     "output_type": "stream",
     "text": [
      "small bubbles hires pct = 0.584905660377\n"
     ]
    }
   ],
   "source": [
    "sb = bubb_filter('Small Bubbles')\n",
    "sbhr = hires_filter(bubb_filter('Small Bubbles'))\n",
    "sbhrpp = calc_pct(sbhr,sb)\n",
    "print 'small bubbles hi-res pct =', sbhrpp"
   ]
  },
  {
   "cell_type": "code",
   "execution_count": 14,
   "metadata": {
    "collapsed": false
   },
   "outputs": [
    {
     "name": "stdout",
     "output_type": "stream",
     "text": [
      "nucleated patch hires pct = 0.415384615385\n"
     ]
    }
   ],
   "source": [
    "nu = pp_filter('Nucleated')\n",
    "nuhr = hires_filter(pp_filter('Nucleated'))\n",
    "nuhrpp = calc_pct(nuhr,nu)\n",
    "print 'nucleated patch hi-res pct =', nuhrpp"
   ]
  },
  {
   "cell_type": "code",
   "execution_count": 15,
   "metadata": {
    "collapsed": false
   },
   "outputs": [
    {
     "name": "stdout",
     "output_type": "stream",
     "text": [
      "no-seal hires pct = 0.51724137931\n"
     ]
    }
   ],
   "source": [
    "ns = pp_filter('No-Seal')\n",
    "nshr = hires_filter(pp_filter('No-Seal'))\n",
    "nshrpp = calc_pct(nshr,ns) \n",
    "print 'no-seal hi-res pct =', nshrpp"
   ]
  },
  {
   "cell_type": "code",
   "execution_count": null,
   "metadata": {
    "collapsed": true
   },
   "outputs": [],
   "source": []
  },
  {
   "cell_type": "code",
   "execution_count": null,
   "metadata": {
    "collapsed": true
   },
   "outputs": [],
   "source": []
  },
  {
   "cell_type": "code",
   "execution_count": null,
   "metadata": {
    "collapsed": true
   },
   "outputs": [],
   "source": []
  },
  {
   "cell_type": "code",
   "execution_count": null,
   "metadata": {
    "collapsed": true
   },
   "outputs": [],
   "source": []
  },
  {
   "cell_type": "code",
   "execution_count": null,
   "metadata": {
    "collapsed": true
   },
   "outputs": [],
   "source": []
  },
  {
   "cell_type": "code",
   "execution_count": null,
   "metadata": {
    "collapsed": true
   },
   "outputs": [],
   "source": []
  },
  {
   "cell_type": "code",
   "execution_count": null,
   "metadata": {
    "collapsed": true
   },
   "outputs": [],
   "source": []
  },
  {
   "cell_type": "code",
   "execution_count": null,
   "metadata": {
    "collapsed": true
   },
   "outputs": [],
   "source": []
  },
  {
   "cell_type": "code",
   "execution_count": null,
   "metadata": {
    "collapsed": true
   },
   "outputs": [],
   "source": []
  },
  {
   "cell_type": "code",
   "execution_count": null,
   "metadata": {
    "collapsed": true
   },
   "outputs": [],
   "source": []
  },
  {
   "cell_type": "code",
   "execution_count": null,
   "metadata": {
    "collapsed": true
   },
   "outputs": [],
   "source": []
  },
  {
   "cell_type": "code",
   "execution_count": null,
   "metadata": {
    "collapsed": true
   },
   "outputs": [],
   "source": []
  },
  {
   "cell_type": "code",
   "execution_count": null,
   "metadata": {
    "collapsed": true
   },
   "outputs": [],
   "source": []
  },
  {
   "cell_type": "code",
   "execution_count": null,
   "metadata": {
    "collapsed": true
   },
   "outputs": [],
   "source": []
  },
  {
   "cell_type": "code",
   "execution_count": null,
   "metadata": {
    "collapsed": true
   },
   "outputs": [],
   "source": []
  },
  {
   "cell_type": "code",
   "execution_count": null,
   "metadata": {
    "collapsed": true
   },
   "outputs": [],
   "source": []
  },
  {
   "cell_type": "code",
   "execution_count": null,
   "metadata": {
    "collapsed": true
   },
   "outputs": [],
   "source": []
  }
 ],
 "metadata": {
  "anaconda-cloud": {},
  "kernelspec": {
   "display_name": "Python 2",
   "language": "python",
   "name": "python2"
  },
  "language_info": {
   "codemirror_mode": {
    "name": "ipython",
    "version": 2
   },
   "file_extension": ".py",
   "mimetype": "text/x-python",
   "name": "python",
   "nbconvert_exporter": "python",
   "pygments_lexer": "ipython2",
   "version": "2.7.13"
  }
 },
 "nbformat": 4,
 "nbformat_minor": 1
}
