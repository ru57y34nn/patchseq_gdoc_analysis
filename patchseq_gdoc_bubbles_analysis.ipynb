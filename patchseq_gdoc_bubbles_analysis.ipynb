{
 "cells": [
  {
   "cell_type": "code",
   "execution_count": 1,
   "metadata": {
    "collapsed": false
   },
   "outputs": [],
   "source": [
    "import csv\n",
    "import pandas as pd\n",
    "import numpy as np\n",
    "import matplotlib.pyplot as plt\n",
    "from datetime import datetime\n",
    "from scipy import stats\n",
    "import math"
   ]
  },
  {
   "cell_type": "markdown",
   "metadata": {},
   "source": [
    "\n",
    "\n",
    "\n",
    "# Import Sheet as csv "
   ]
  },
  {
   "cell_type": "code",
   "execution_count": 2,
   "metadata": {
    "collapsed": false
   },
   "outputs": [],
   "source": [
    "ps = pd.read_csv('patch_seq_log_mouse.csv')"
   ]
  },
  {
   "cell_type": "markdown",
   "metadata": {},
   "source": [
    "# Format sheet "
   ]
  },
  {
   "cell_type": "code",
   "execution_count": 3,
   "metadata": {
    "collapsed": false,
    "scrolled": true
   },
   "outputs": [
    {
     "data": {
      "text/html": [
       "<div>\n",
       "<table border=\"1\" class=\"dataframe\">\n",
       "  <thead>\n",
       "    <tr style=\"text-align: right;\">\n",
       "      <th></th>\n",
       "      <th>Date</th>\n",
       "      <th>User</th>\n",
       "      <th>File</th>\n",
       "      <th>Post patch?</th>\n",
       "      <th>Notes</th>\n",
       "      <th>Conc.</th>\n",
       "      <th>&gt;400</th>\n",
       "      <th>Ratio</th>\n",
       "      <th>SM_QC_PF</th>\n",
       "      <th>Bad dates</th>\n",
       "    </tr>\n",
       "  </thead>\n",
       "  <tbody>\n",
       "    <tr>\n",
       "      <th>3</th>\n",
       "      <td>2016-03-18</td>\n",
       "      <td>P5</td>\n",
       "      <td>Ndnf - brl_160318_04</td>\n",
       "      <td>Outside-Out</td>\n",
       "      <td>broke in on its own, leaky</td>\n",
       "      <td>320.83</td>\n",
       "      <td>278.00</td>\n",
       "      <td>0.81</td>\n",
       "      <td>pass</td>\n",
       "      <td>NaN</td>\n",
       "    </tr>\n",
       "    <tr>\n",
       "      <th>16</th>\n",
       "      <td>2016-04-06</td>\n",
       "      <td>P5</td>\n",
       "      <td>Ndnf - brl_160406_03</td>\n",
       "      <td>Outside-Out</td>\n",
       "      <td>wiped with kim wipe without water before loadi...</td>\n",
       "      <td>100.61</td>\n",
       "      <td>37.65</td>\n",
       "      <td>NaN</td>\n",
       "      <td>fail</td>\n",
       "      <td>NaN</td>\n",
       "    </tr>\n",
       "    <tr>\n",
       "      <th>17</th>\n",
       "      <td>2016-04-06</td>\n",
       "      <td>P5</td>\n",
       "      <td>Ndnf - brl_160406_04</td>\n",
       "      <td>Nucleated</td>\n",
       "      <td>NaN</td>\n",
       "      <td>209.76</td>\n",
       "      <td>167.00</td>\n",
       "      <td>0.69</td>\n",
       "      <td>pass</td>\n",
       "      <td>NaN</td>\n",
       "    </tr>\n",
       "    <tr>\n",
       "      <th>18</th>\n",
       "      <td>2016-04-06</td>\n",
       "      <td>P5</td>\n",
       "      <td>Ndnf - brl_160406_05</td>\n",
       "      <td>Partial-Nucleus</td>\n",
       "      <td>cell swelled</td>\n",
       "      <td>125.58</td>\n",
       "      <td>92.00</td>\n",
       "      <td>0.61</td>\n",
       "      <td>pass</td>\n",
       "      <td>NaN</td>\n",
       "    </tr>\n",
       "    <tr>\n",
       "      <th>20</th>\n",
       "      <td>2016-04-06</td>\n",
       "      <td>P5</td>\n",
       "      <td>Ndnf - brl_160406_07</td>\n",
       "      <td>partial Nucleated</td>\n",
       "      <td>NaN</td>\n",
       "      <td>135.18</td>\n",
       "      <td>128.00</td>\n",
       "      <td>0.87</td>\n",
       "      <td>pass</td>\n",
       "      <td>NaN</td>\n",
       "    </tr>\n",
       "  </tbody>\n",
       "</table>\n",
       "</div>"
      ],
      "text/plain": [
       "         Date User                  File        Post patch?  \\\n",
       "3  2016-03-18   P5  Ndnf - brl_160318_04        Outside-Out   \n",
       "16 2016-04-06   P5  Ndnf - brl_160406_03        Outside-Out   \n",
       "17 2016-04-06   P5  Ndnf - brl_160406_04          Nucleated   \n",
       "18 2016-04-06   P5  Ndnf - brl_160406_05    Partial-Nucleus   \n",
       "20 2016-04-06   P5  Ndnf - brl_160406_07  partial Nucleated   \n",
       "\n",
       "                                                Notes   Conc.    >400 Ratio  \\\n",
       "3                          broke in on its own, leaky  320.83  278.00  0.81   \n",
       "16  wiped with kim wipe without water before loadi...  100.61   37.65   NaN   \n",
       "17                                                NaN  209.76  167.00  0.69   \n",
       "18                                       cell swelled  125.58   92.00  0.61   \n",
       "20                                                NaN  135.18  128.00  0.87   \n",
       "\n",
       "   SM_QC_PF Bad dates  \n",
       "3      pass       NaN  \n",
       "16     fail       NaN  \n",
       "17     pass       NaN  \n",
       "18     pass       NaN  \n",
       "20     pass       NaN  "
      ]
     },
     "execution_count": 3,
     "metadata": {},
     "output_type": "execute_result"
    }
   ],
   "source": [
    "ps = ps[[\"Date\", \"User\", \"File\", \"Post patch?\", \"Notes\", \"Conc.\", \">400\", \"Ratio\", \"SM_QC_PF\", \"Bad dates\"]]\n",
    "ps.dropna(subset = [\"SM_QC_PF\", \"Post patch?\"], inplace = True)\n",
    "ps[\"User\"] = ps[\"User\"].astype(\"category\")\n",
    "ps[\"SM_QC_PF\"] = ps[\"SM_QC_PF\"].astype(\"category\")\n",
    "ps[\"Post patch?\"] = ps[\"Post patch?\"].astype(\"category\")\n",
    "ps[\"Conc.\"] = pd.to_numeric(ps[\"Conc.\"].str.replace(' ',''), errors ='force')\n",
    "ps[\">400\"] = pd.to_numeric(ps[\">400\"].str.replace(' ',''), errors ='force')\n",
    "ps[\"Date\"] = pd.to_datetime(ps[\"Date\"], format = '%y%m%d')\n",
    "ps = ps[ps[\"SM_QC_PF\"] != \"cnt\"]\n",
    "ps = ps[ps[\"Bad dates\"] != \"x\"]\n",
    "ps.head()"
   ]
  },
  {
   "cell_type": "code",
   "execution_count": 4,
   "metadata": {
    "collapsed": false
   },
   "outputs": [
    {
     "name": "stdout",
     "output_type": "stream",
     "text": [
      "<class 'pandas.core.frame.DataFrame'>\n",
      "Int64Index: 2693 entries, 3 to 6064\n",
      "Data columns (total 10 columns):\n",
      "Date           2693 non-null datetime64[ns]\n",
      "User           2688 non-null category\n",
      "File           2692 non-null object\n",
      "Post patch?    2693 non-null category\n",
      "Notes          1610 non-null object\n",
      "Conc.          2605 non-null float64\n",
      ">400           2654 non-null float64\n",
      "Ratio          2603 non-null object\n",
      "SM_QC_PF       2693 non-null category\n",
      "Bad dates      123 non-null object\n",
      "dtypes: category(3), datetime64[ns](1), float64(2), object(4)\n",
      "memory usage: 176.4+ KB\n"
     ]
    }
   ],
   "source": [
    "ps.info()"
   ]
  },
  {
   "cell_type": "markdown",
   "metadata": {},
   "source": [
    "# Percentage of nucleated patches passing SM_QC "
   ]
  },
  {
   "cell_type": "code",
   "execution_count": 5,
   "metadata": {
    "collapsed": false,
    "scrolled": true
   },
   "outputs": [
    {
     "data": {
      "text/plain": [
       "693"
      ]
     },
     "execution_count": 5,
     "metadata": {},
     "output_type": "execute_result"
    }
   ],
   "source": [
    "mask = ps[\"Post patch?\"] == \"Nucleated\"\n",
    "mask\n",
    "nuc = ps[mask]\n",
    "nuc\n",
    "nuc_count = nuc[\"Post patch?\"].count()\n",
    "nuc_count"
   ]
  },
  {
   "cell_type": "code",
   "execution_count": 6,
   "metadata": {
    "collapsed": false
   },
   "outputs": [
    {
     "data": {
      "text/plain": [
       "Outside-Out                       876\n",
       "No-Seal                           739\n",
       "Nucleated                         693\n",
       "Partial-Nucleus                   336\n",
       "Entire-Cell                        29\n",
       "no-seal                             5\n",
       "Entire-Cell?                        3\n",
       "partial Nucleated                   2\n",
       "no -seal                            1\n",
       "n                                   1\n",
       "missing                             1\n",
       "leaky Outside-Out                   1\n",
       "outside-out                         1\n",
       "Outside-Out?                        1\n",
       "Nucleated patch                     1\n",
       "Nucleated (maybe Entire-Cell?)      1\n",
       "nucelated                           1\n",
       "nucleus                             1\n",
       "Name: Post patch?, dtype: int64"
      ]
     },
     "execution_count": 6,
     "metadata": {},
     "output_type": "execute_result"
    }
   ],
   "source": [
    "ps[\"Post patch?\"].value_counts()"
   ]
  },
  {
   "cell_type": "code",
   "execution_count": 7,
   "metadata": {
    "collapsed": false,
    "scrolled": true
   },
   "outputs": [
    {
     "data": {
      "text/plain": [
       "3      True\n",
       "16    False\n",
       "17     True\n",
       "18     True\n",
       "20     True\n",
       "Name: SM_QC_PF, dtype: bool"
      ]
     },
     "execution_count": 7,
     "metadata": {},
     "output_type": "execute_result"
    }
   ],
   "source": [
    "pas = ps[\"SM_QC_PF\"] == \"pass\"\n",
    "pas.head()"
   ]
  },
  {
   "cell_type": "code",
   "execution_count": 8,
   "metadata": {
    "collapsed": false,
    "scrolled": true
   },
   "outputs": [
    {
     "data": {
      "text/html": [
       "<div>\n",
       "<table border=\"1\" class=\"dataframe\">\n",
       "  <thead>\n",
       "    <tr style=\"text-align: right;\">\n",
       "      <th></th>\n",
       "      <th>Date</th>\n",
       "      <th>User</th>\n",
       "      <th>File</th>\n",
       "      <th>Post patch?</th>\n",
       "      <th>Notes</th>\n",
       "      <th>Conc.</th>\n",
       "      <th>&gt;400</th>\n",
       "      <th>Ratio</th>\n",
       "      <th>SM_QC_PF</th>\n",
       "      <th>Bad dates</th>\n",
       "    </tr>\n",
       "  </thead>\n",
       "  <tbody>\n",
       "    <tr>\n",
       "      <th>17</th>\n",
       "      <td>2016-04-06</td>\n",
       "      <td>P5</td>\n",
       "      <td>Ndnf - brl_160406_04</td>\n",
       "      <td>Nucleated</td>\n",
       "      <td>NaN</td>\n",
       "      <td>209.76</td>\n",
       "      <td>167.0</td>\n",
       "      <td>0.69</td>\n",
       "      <td>pass</td>\n",
       "      <td>NaN</td>\n",
       "    </tr>\n",
       "    <tr>\n",
       "      <th>69</th>\n",
       "      <td>2016-04-12</td>\n",
       "      <td>P5</td>\n",
       "      <td>Rorb - brl_160412_01</td>\n",
       "      <td>Nucleated</td>\n",
       "      <td>couldnt see flourescence - cell too deep, but ...</td>\n",
       "      <td>195.16</td>\n",
       "      <td>183.0</td>\n",
       "      <td>0.87</td>\n",
       "      <td>pass</td>\n",
       "      <td>no slide in LIMS</td>\n",
       "    </tr>\n",
       "    <tr>\n",
       "      <th>109</th>\n",
       "      <td>2016-04-18</td>\n",
       "      <td>P5</td>\n",
       "      <td>Chat - brl_160418_02</td>\n",
       "      <td>Nucleated</td>\n",
       "      <td>coudlnt get gigaseal, put still saw flur in pi...</td>\n",
       "      <td>135.75</td>\n",
       "      <td>116.0</td>\n",
       "      <td>0.85</td>\n",
       "      <td>pass</td>\n",
       "      <td>NaN</td>\n",
       "    </tr>\n",
       "    <tr>\n",
       "      <th>112</th>\n",
       "      <td>2016-04-18</td>\n",
       "      <td>P5</td>\n",
       "      <td>Chat - brl_160418_05</td>\n",
       "      <td>Nucleated</td>\n",
       "      <td>lost seal at  3 mins but still able to pull ou...</td>\n",
       "      <td>158.45</td>\n",
       "      <td>113.0</td>\n",
       "      <td>0.62</td>\n",
       "      <td>pass</td>\n",
       "      <td>NaN</td>\n",
       "    </tr>\n",
       "    <tr>\n",
       "      <th>125</th>\n",
       "      <td>2016-04-19</td>\n",
       "      <td>P1</td>\n",
       "      <td>Chat - kjh_160419_03</td>\n",
       "      <td>Nucleated</td>\n",
       "      <td>saw fluorescence in pipette</td>\n",
       "      <td>423.02</td>\n",
       "      <td>203.0</td>\n",
       "      <td>0.48</td>\n",
       "      <td>pass</td>\n",
       "      <td>NaN</td>\n",
       "    </tr>\n",
       "  </tbody>\n",
       "</table>\n",
       "</div>"
      ],
      "text/plain": [
       "          Date User                  File Post patch?  \\\n",
       "17  2016-04-06   P5  Ndnf - brl_160406_04   Nucleated   \n",
       "69  2016-04-12   P5  Rorb - brl_160412_01   Nucleated   \n",
       "109 2016-04-18   P5  Chat - brl_160418_02   Nucleated   \n",
       "112 2016-04-18   P5  Chat - brl_160418_05   Nucleated   \n",
       "125 2016-04-19   P1  Chat - kjh_160419_03   Nucleated   \n",
       "\n",
       "                                                 Notes   Conc.   >400 Ratio  \\\n",
       "17                                                 NaN  209.76  167.0  0.69   \n",
       "69   couldnt see flourescence - cell too deep, but ...  195.16  183.0  0.87   \n",
       "109  coudlnt get gigaseal, put still saw flur in pi...  135.75  116.0  0.85   \n",
       "112  lost seal at  3 mins but still able to pull ou...  158.45  113.0  0.62   \n",
       "125                        saw fluorescence in pipette  423.02  203.0  0.48   \n",
       "\n",
       "    SM_QC_PF         Bad dates  \n",
       "17      pass               NaN  \n",
       "69      pass  no slide in LIMS  \n",
       "109     pass               NaN  \n",
       "112     pass               NaN  \n",
       "125     pass               NaN  "
      ]
     },
     "execution_count": 8,
     "metadata": {},
     "output_type": "execute_result"
    }
   ],
   "source": [
    "np = ps[mask & pas]\n",
    "np.head()"
   ]
  },
  {
   "cell_type": "code",
   "execution_count": 9,
   "metadata": {
    "collapsed": false
   },
   "outputs": [
    {
     "data": {
      "text/plain": [
       "564"
      ]
     },
     "execution_count": 9,
     "metadata": {},
     "output_type": "execute_result"
    }
   ],
   "source": [
    "nuc_pass = np[\"Post patch?\"].count()\n",
    "nuc_pass\n",
    "#np[\"Post patch?\"].count()"
   ]
  },
  {
   "cell_type": "code",
   "execution_count": 10,
   "metadata": {
    "collapsed": false
   },
   "outputs": [
    {
     "data": {
      "text/plain": [
       "0.8138528138528138"
      ]
     },
     "execution_count": 10,
     "metadata": {},
     "output_type": "execute_result"
    }
   ],
   "source": [
    "float(nuc_pass)/nuc_count"
   ]
  },
  {
   "cell_type": "markdown",
   "metadata": {},
   "source": [
    "# Bubbles Analysis "
   ]
  },
  {
   "cell_type": "code",
   "execution_count": 11,
   "metadata": {
    "collapsed": false,
    "scrolled": true
   },
   "outputs": [
    {
     "data": {
      "text/html": [
       "<div>\n",
       "<table border=\"1\" class=\"dataframe\">\n",
       "  <thead>\n",
       "    <tr style=\"text-align: right;\">\n",
       "      <th></th>\n",
       "      <th>Date</th>\n",
       "      <th>User</th>\n",
       "      <th>File</th>\n",
       "      <th>Post patch?</th>\n",
       "      <th>Notes</th>\n",
       "      <th>Conc.</th>\n",
       "      <th>&gt;400</th>\n",
       "      <th>Ratio</th>\n",
       "      <th>SM_QC_PF</th>\n",
       "      <th>Bad dates</th>\n",
       "    </tr>\n",
       "  </thead>\n",
       "  <tbody>\n",
       "    <tr>\n",
       "      <th>3</th>\n",
       "      <td>2016-03-18</td>\n",
       "      <td>P5</td>\n",
       "      <td>Ndnf - brl_160318_04</td>\n",
       "      <td>Outside-Out</td>\n",
       "      <td>broke in on its own, leaky</td>\n",
       "      <td>320.83</td>\n",
       "      <td>278.00</td>\n",
       "      <td>0.81</td>\n",
       "      <td>pass</td>\n",
       "      <td>NaN</td>\n",
       "    </tr>\n",
       "    <tr>\n",
       "      <th>16</th>\n",
       "      <td>2016-04-06</td>\n",
       "      <td>P5</td>\n",
       "      <td>Ndnf - brl_160406_03</td>\n",
       "      <td>Outside-Out</td>\n",
       "      <td>wiped with kim wipe without water before loadi...</td>\n",
       "      <td>100.61</td>\n",
       "      <td>37.65</td>\n",
       "      <td>NaN</td>\n",
       "      <td>fail</td>\n",
       "      <td>NaN</td>\n",
       "    </tr>\n",
       "    <tr>\n",
       "      <th>18</th>\n",
       "      <td>2016-04-06</td>\n",
       "      <td>P5</td>\n",
       "      <td>Ndnf - brl_160406_05</td>\n",
       "      <td>Partial-Nucleus</td>\n",
       "      <td>cell swelled</td>\n",
       "      <td>125.58</td>\n",
       "      <td>92.00</td>\n",
       "      <td>0.61</td>\n",
       "      <td>pass</td>\n",
       "      <td>NaN</td>\n",
       "    </tr>\n",
       "    <tr>\n",
       "      <th>29</th>\n",
       "      <td>2016-04-07</td>\n",
       "      <td>P1</td>\n",
       "      <td>Ndnf - kjh_160407_03</td>\n",
       "      <td>Nucleated patch</td>\n",
       "      <td>cell swelled, no fluorescence visible in pipette</td>\n",
       "      <td>114.09</td>\n",
       "      <td>96.00</td>\n",
       "      <td>0.73</td>\n",
       "      <td>pass</td>\n",
       "      <td>NaN</td>\n",
       "    </tr>\n",
       "    <tr>\n",
       "      <th>30</th>\n",
       "      <td>2016-04-07</td>\n",
       "      <td>P1</td>\n",
       "      <td>Ndnf - kjh_160407_04</td>\n",
       "      <td>Partial-Nucleus</td>\n",
       "      <td>cell swelled a lot, no fluorescence visible in...</td>\n",
       "      <td>129.23</td>\n",
       "      <td>111.00</td>\n",
       "      <td>0.79</td>\n",
       "      <td>pass</td>\n",
       "      <td>NaN</td>\n",
       "    </tr>\n",
       "  </tbody>\n",
       "</table>\n",
       "</div>"
      ],
      "text/plain": [
       "         Date User                  File      Post patch?  \\\n",
       "3  2016-03-18   P5  Ndnf - brl_160318_04      Outside-Out   \n",
       "16 2016-04-06   P5  Ndnf - brl_160406_03      Outside-Out   \n",
       "18 2016-04-06   P5  Ndnf - brl_160406_05  Partial-Nucleus   \n",
       "29 2016-04-07   P1  Ndnf - kjh_160407_03  Nucleated patch   \n",
       "30 2016-04-07   P1  Ndnf - kjh_160407_04  Partial-Nucleus   \n",
       "\n",
       "                                                Notes   Conc.    >400 Ratio  \\\n",
       "3                          broke in on its own, leaky  320.83  278.00  0.81   \n",
       "16  wiped with kim wipe without water before loadi...  100.61   37.65   NaN   \n",
       "18                                       cell swelled  125.58   92.00  0.61   \n",
       "29   cell swelled, no fluorescence visible in pipette  114.09   96.00  0.73   \n",
       "30  cell swelled a lot, no fluorescence visible in...  129.23  111.00  0.79   \n",
       "\n",
       "   SM_QC_PF Bad dates  \n",
       "3      pass       NaN  \n",
       "16     fail       NaN  \n",
       "18     pass       NaN  \n",
       "29     pass       NaN  \n",
       "30     pass       NaN  "
      ]
     },
     "execution_count": 11,
     "metadata": {},
     "output_type": "execute_result"
    }
   ],
   "source": [
    "bubbles = ps.dropna(subset = [\"Notes\"])\n",
    "bubbles.head()"
   ]
  },
  {
   "cell_type": "code",
   "execution_count": 12,
   "metadata": {
    "collapsed": false
   },
   "outputs": [],
   "source": [
    "def make_mask(v,x):\n",
    "    mask = v[\"Notes\"].str.contains(x)\n",
    "    df = v[mask]\n",
    "    return df\n",
    "\n",
    "def pass_only(y):\n",
    "    mask = y[\"SM_QC_PF\"] == \"pass\"\n",
    "    df2 = y[mask]\n",
    "    return df2\n",
    "\n",
    "#Should also define a function to calculate pass percentages"
   ]
  },
  {
   "cell_type": "code",
   "execution_count": 16,
   "metadata": {
    "collapsed": false
   },
   "outputs": [],
   "source": [
    "def get_count(x):    \n",
    "    count = x[\">400\"].count()\n",
    "    return count\n",
    "\n",
    "def get_sqrtct(x):\n",
    "    sqrt_ct = math.sqrt(get_count(x))\n",
    "    return sqrt_ct\n",
    "\n",
    "def calc_mean(x):\n",
    "    mean = x[\">400\"].mean()\n",
    "    return mean\n",
    "\n",
    "def calc_std(x):\n",
    "    std_dev = x[\">400\"].std()\n",
    "    return std_dev\n",
    "\n",
    "def calc_stderr(x):\n",
    "    std_err = calc_std(x) / get_sqrtct(x)\n",
    "    return std_err\n",
    "\n",
    "def calc_pp(passing,total):\n",
    "    pp = float(get_count(passing)) / get_count(total)\n",
    "    return pp"
   ]
  },
  {
   "cell_type": "markdown",
   "metadata": {},
   "source": [
    "# No Bubbles Stats - All Samples"
   ]
  },
  {
   "cell_type": "code",
   "execution_count": 17,
   "metadata": {
    "collapsed": false
   },
   "outputs": [
    {
     "name": "stdout",
     "output_type": "stream",
     "text": [
      "mean 1204.97952756\n",
      "standard error of the mean 75.0964256974\n"
     ]
    }
   ],
   "source": [
    "nb = make_mask(bubbles,\"No Bubbles\")\n",
    "\n",
    "nb_mean = calc_mean(nb)\n",
    "print \"mean\", nb_mean\n",
    "\n",
    "nb_stderr = calc_stderr(nb)\n",
    "print \"standard error of the mean\", nb_stderr"
   ]
  },
  {
   "cell_type": "markdown",
   "metadata": {},
   "source": [
    "# No Bubbles Stats - SMQC Pass Only "
   ]
  },
  {
   "cell_type": "code",
   "execution_count": 18,
   "metadata": {
    "collapsed": false
   },
   "outputs": [
    {
     "name": "stdout",
     "output_type": "stream",
     "text": [
      "mean = 1422.10582524\n",
      "standard error of the mean = 77.1113916828\n",
      "pass percentage = 0.811023622047\n"
     ]
    }
   ],
   "source": [
    "nb_p = pass_only(make_mask(bubbles,\"No Bubbles\"))\n",
    "\n",
    "nb_mean = calc_mean(nb_p)\n",
    "print \"mean =\", nb_mean\n",
    "\n",
    "nb_stderr = calc_stderr(nb_p)\n",
    "print \"standard error of the mean =\", nb_stderr\n",
    "\n",
    "nb_pp = calc_pp(nb_p,nb)\n",
    "print \"pass percentage =\", nb_pp"
   ]
  },
  {
   "cell_type": "markdown",
   "metadata": {},
   "source": [
    "# Small Bubbles Stats - All Samples "
   ]
  },
  {
   "cell_type": "code",
   "execution_count": 20,
   "metadata": {
    "collapsed": false
   },
   "outputs": [
    {
     "name": "stdout",
     "output_type": "stream",
     "text": [
      "mean 1289.76590909\n",
      "standard error of the mean 73.8746475655\n"
     ]
    }
   ],
   "source": [
    "sb = make_mask(bubbles,\"Small Bubbles\")\n",
    "\n",
    "sb_mean = calc_mean(sb)\n",
    "print \"mean\", sb_mean\n",
    "\n",
    "sb_stderr = calc_stderr(sb)\n",
    "print \"standard error of the mean\", sb_stderr"
   ]
  },
  {
   "cell_type": "markdown",
   "metadata": {},
   "source": [
    "# Small Bubbles Stats - SMQC Pass Only "
   ]
  },
  {
   "cell_type": "code",
   "execution_count": 21,
   "metadata": {
    "collapsed": false
   },
   "outputs": [
    {
     "name": "stdout",
     "output_type": "stream",
     "text": [
      "mean 1634.91622642\n",
      "standard error of the mean 88.1827531095\n",
      "pass percentage = 0.752840909091\n"
     ]
    }
   ],
   "source": [
    "sb_p = pass_only(make_mask(bubbles,\"Small Bubbles\"))\n",
    "\n",
    "sb_mean = calc_mean(sb_p)\n",
    "print \"mean\", sb_mean\n",
    "\n",
    "sb_stderr = calc_stderr(sb_p)\n",
    "print \"standard error of the mean\", sb_stderr\n",
    "\n",
    "sb_pp = calc_pp(sb_p,sb)\n",
    "print \"pass percentage =\", sb_pp"
   ]
  },
  {
   "cell_type": "markdown",
   "metadata": {},
   "source": [
    "# Medium bubbles Stats - All Samples "
   ]
  },
  {
   "cell_type": "code",
   "execution_count": 23,
   "metadata": {
    "collapsed": false
   },
   "outputs": [
    {
     "name": "stdout",
     "output_type": "stream",
     "text": [
      "mean = 1269.43797468\n",
      "standard error of the mean = 102.163034743\n"
     ]
    }
   ],
   "source": [
    "mb = make_mask(bubbles,\"Medium Bubbles\")\n",
    "\n",
    "mb_mean = calc_mean(mb)\n",
    "print \"mean =\", mb_mean\n",
    "\n",
    "mb_stderr = calc_stderr(mb)\n",
    "print \"standard error of the mean =\", mb_stderr"
   ]
  },
  {
   "cell_type": "markdown",
   "metadata": {},
   "source": [
    "# Medium Bubbles Stats - SMQC Pass Only"
   ]
  },
  {
   "cell_type": "code",
   "execution_count": 27,
   "metadata": {
    "collapsed": false
   },
   "outputs": [
    {
     "name": "stdout",
     "output_type": "stream",
     "text": [
      "mean = 1480.50909091\n",
      "standard error of the mean = 103.721800082\n",
      "pass percentage = 0.835443037975\n",
      "79\n",
      "66\n"
     ]
    }
   ],
   "source": [
    "mb_p = pass_only(make_mask(bubbles, \"Medium Bubbles\"))\n",
    "\n",
    "mb_mean = calc_mean(mb_p)\n",
    "print \"mean =\", mb_mean\n",
    "\n",
    "mb_stderr = calc_stderr(mb_p)\n",
    "print \"standard error of the mean =\", calc_stderr(mb_p)\n",
    "\n",
    "mb_pp = calc_pp(mb_p,mb)\n",
    "print \"pass percentage =\", mb_pp\n",
    "\n",
    "print get_count(mb)\n",
    "print get_count(mb_p)"
   ]
  },
  {
   "cell_type": "markdown",
   "metadata": {},
   "source": [
    "# Large Bubbles Stats - All Samples "
   ]
  },
  {
   "cell_type": "code",
   "execution_count": 28,
   "metadata": {
    "collapsed": false
   },
   "outputs": [
    {
     "name": "stdout",
     "output_type": "stream",
     "text": [
      "mean = 1036.77\n",
      "standard error of the mean 161.663318094\n"
     ]
    }
   ],
   "source": [
    "lb = make_mask(bubbles,\"Large Bubbles\")\n",
    "\n",
    "lb_mean = calc_mean(lb)\n",
    "print \"mean =\", lb_mean\n",
    "\n",
    "lb_stderr = calc_stderr(lb)\n",
    "print \"standard error of the mean\", lb_stderr"
   ]
  },
  {
   "cell_type": "markdown",
   "metadata": {},
   "source": [
    "# Large Bubbles Stats - SMQC Pass Only "
   ]
  },
  {
   "cell_type": "code",
   "execution_count": 30,
   "metadata": {
    "collapsed": false
   },
   "outputs": [
    {
     "name": "stdout",
     "output_type": "stream",
     "text": [
      "mean = 1399.33809524\n",
      "standard error of the mean = 177.726086259\n",
      "pass percentage = 0.7\n"
     ]
    }
   ],
   "source": [
    "lb_p = pass_only(make_mask(bubbles,\"Large Bubbles\"))\n",
    "\n",
    "lb_mean = calc_mean(lb_p)\n",
    "print \"mean =\", lb_mean\n",
    "\n",
    "lb_stderr = calc_stderr(lb_p)\n",
    "print \"standard error of the mean =\", lb_stderr\n",
    "\n",
    "lb_pp = calc_pp(lb_p,lb)\n",
    "print \"pass percentage =\", lb_pp"
   ]
  },
  {
   "cell_type": "markdown",
   "metadata": {},
   "source": [
    "# Solution up Pipette - All Samples "
   ]
  },
  {
   "cell_type": "code",
   "execution_count": 31,
   "metadata": {
    "collapsed": false
   },
   "outputs": [
    {
     "name": "stdout",
     "output_type": "stream",
     "text": [
      "mean = 574.08125\n",
      "standard error of the mean = 129.675736364\n"
     ]
    }
   ],
   "source": [
    "sp = make_mask(bubbles,\"Solution in Pipette Shank\")\n",
    "\n",
    "sp_mean = calc_mean(sp)\n",
    "print \"mean =\", sp_mean\n",
    "\n",
    "sp_stderr = calc_stderr(sp)\n",
    "print \"standard error of the mean =\", sp_stderr"
   ]
  },
  {
   "cell_type": "markdown",
   "metadata": {
    "collapsed": true
   },
   "source": [
    "# Solution up Pipette - SMQC Pass Only "
   ]
  },
  {
   "cell_type": "code",
   "execution_count": 34,
   "metadata": {
    "collapsed": false
   },
   "outputs": [
    {
     "name": "stdout",
     "output_type": "stream",
     "text": [
      "mean = 915.6625\n",
      "standard error of the mean = 186.951539689\n",
      "pass percentage = 0.5\n",
      "16\n",
      "8\n"
     ]
    }
   ],
   "source": [
    "sp_p = pass_only(make_mask(bubbles, \"Solution in Pipette Shank\"))\n",
    "\n",
    "sp_mean = calc_mean(sp_p)\n",
    "print \"mean =\", sp_mean\n",
    "\n",
    "sp_stderr = calc_stderr(sp_p)\n",
    "print \"standard error of the mean =\", sp_stderr\n",
    "\n",
    "sp_pp = calc_pp(sp_p,sp)\n",
    "print \"pass percentage =\", sp_pp\n",
    "\n",
    "print get_count(sp)\n",
    "print get_count(sp_p)"
   ]
  },
  {
   "cell_type": "code",
   "execution_count": null,
   "metadata": {
    "collapsed": true
   },
   "outputs": [],
   "source": []
  },
  {
   "cell_type": "code",
   "execution_count": null,
   "metadata": {
    "collapsed": true
   },
   "outputs": [],
   "source": []
  },
  {
   "cell_type": "code",
   "execution_count": null,
   "metadata": {
    "collapsed": true
   },
   "outputs": [],
   "source": []
  },
  {
   "cell_type": "code",
   "execution_count": null,
   "metadata": {
    "collapsed": true
   },
   "outputs": [],
   "source": []
  },
  {
   "cell_type": "code",
   "execution_count": null,
   "metadata": {
    "collapsed": true
   },
   "outputs": [],
   "source": []
  },
  {
   "cell_type": "code",
   "execution_count": null,
   "metadata": {
    "collapsed": true
   },
   "outputs": [],
   "source": []
  },
  {
   "cell_type": "code",
   "execution_count": null,
   "metadata": {
    "collapsed": true
   },
   "outputs": [],
   "source": []
  },
  {
   "cell_type": "code",
   "execution_count": null,
   "metadata": {
    "collapsed": true
   },
   "outputs": [],
   "source": []
  },
  {
   "cell_type": "code",
   "execution_count": null,
   "metadata": {
    "collapsed": true
   },
   "outputs": [],
   "source": []
  },
  {
   "cell_type": "code",
   "execution_count": null,
   "metadata": {
    "collapsed": true
   },
   "outputs": [],
   "source": []
  },
  {
   "cell_type": "code",
   "execution_count": null,
   "metadata": {
    "collapsed": true
   },
   "outputs": [],
   "source": []
  },
  {
   "cell_type": "code",
   "execution_count": null,
   "metadata": {
    "collapsed": true
   },
   "outputs": [],
   "source": []
  },
  {
   "cell_type": "code",
   "execution_count": null,
   "metadata": {
    "collapsed": true
   },
   "outputs": [],
   "source": []
  },
  {
   "cell_type": "code",
   "execution_count": null,
   "metadata": {
    "collapsed": true
   },
   "outputs": [],
   "source": []
  },
  {
   "cell_type": "code",
   "execution_count": null,
   "metadata": {
    "collapsed": true
   },
   "outputs": [],
   "source": []
  },
  {
   "cell_type": "code",
   "execution_count": null,
   "metadata": {
    "collapsed": true
   },
   "outputs": [],
   "source": []
  },
  {
   "cell_type": "code",
   "execution_count": null,
   "metadata": {
    "collapsed": true
   },
   "outputs": [],
   "source": []
  }
 ],
 "metadata": {
  "anaconda-cloud": {},
  "kernelspec": {
   "display_name": "Python 2",
   "language": "python",
   "name": "python2"
  },
  "language_info": {
   "codemirror_mode": {
    "name": "ipython",
    "version": 2
   },
   "file_extension": ".py",
   "mimetype": "text/x-python",
   "name": "python",
   "nbconvert_exporter": "python",
   "pygments_lexer": "ipython2",
   "version": "2.7.13"
  }
 },
 "nbformat": 4,
 "nbformat_minor": 0
}
