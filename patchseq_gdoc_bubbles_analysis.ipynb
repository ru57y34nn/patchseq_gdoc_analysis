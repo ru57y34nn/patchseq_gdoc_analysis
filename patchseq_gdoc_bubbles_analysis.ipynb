{
 "cells": [
  {
   "cell_type": "code",
   "execution_count": 134,
   "metadata": {
    "collapsed": true
   },
   "outputs": [],
   "source": [
    "import csv\n",
    "import pandas as pd\n",
    "import numpy as np\n",
    "import matplotlib.pyplot as plt\n",
    "from datetime import datetime"
   ]
  },
  {
   "cell_type": "markdown",
   "metadata": {},
   "source": [
    "# Import Sheet as csv "
   ]
  },
  {
   "cell_type": "code",
   "execution_count": 135,
   "metadata": {
    "collapsed": false
   },
   "outputs": [],
   "source": [
    "ps = pd.read_csv('patch_seq_log_mouse.csv')"
   ]
  },
  {
   "cell_type": "markdown",
   "metadata": {},
   "source": [
    "# Format sheet "
   ]
  },
  {
   "cell_type": "code",
   "execution_count": 136,
   "metadata": {
    "collapsed": false
   },
   "outputs": [
    {
     "data": {
      "text/html": [
       "<div>\n",
       "<table border=\"1\" class=\"dataframe\">\n",
       "  <thead>\n",
       "    <tr style=\"text-align: right;\">\n",
       "      <th></th>\n",
       "      <th>Date</th>\n",
       "      <th>User</th>\n",
       "      <th>File</th>\n",
       "      <th>Post patch?</th>\n",
       "      <th>Notes</th>\n",
       "      <th>Conc.</th>\n",
       "      <th>&gt;400</th>\n",
       "      <th>Ratio</th>\n",
       "      <th>SM_QC_PF</th>\n",
       "      <th>Bad dates</th>\n",
       "    </tr>\n",
       "  </thead>\n",
       "  <tbody>\n",
       "    <tr>\n",
       "      <th>5670</th>\n",
       "      <td>2017-06-20</td>\n",
       "      <td>P8</td>\n",
       "      <td>Slc32a1-IRES-Cre;Ai14-326814.04.02.02</td>\n",
       "      <td>Nucleated</td>\n",
       "      <td>Fluorescence in Pipette,Cell Dimmed,Cell Shrun...</td>\n",
       "      <td>378.6</td>\n",
       "      <td>356.0</td>\n",
       "      <td>0.94</td>\n",
       "      <td>fail</td>\n",
       "      <td>NaN</td>\n",
       "    </tr>\n",
       "    <tr>\n",
       "      <th>5671</th>\n",
       "      <td>2017-06-20</td>\n",
       "      <td>P8</td>\n",
       "      <td>Slc32a1-IRES-Cre;Ai14-326814.04.02.03</td>\n",
       "      <td>No-Seal</td>\n",
       "      <td>Cell Dimmed,Cell Shrunk Small Bubbles Seal got...</td>\n",
       "      <td>708.5</td>\n",
       "      <td>271.0</td>\n",
       "      <td>0.38</td>\n",
       "      <td>fail</td>\n",
       "      <td>NaN</td>\n",
       "    </tr>\n",
       "    <tr>\n",
       "      <th>5672</th>\n",
       "      <td>2017-06-20</td>\n",
       "      <td>P8</td>\n",
       "      <td>Slc32a1-IRES-Cre;Ai14-326814.04.02.04</td>\n",
       "      <td>Partial-Nucleus</td>\n",
       "      <td>Cell Dimmed,Cell Shrunk Small Bubbles Max seal...</td>\n",
       "      <td>2316.2</td>\n",
       "      <td>1330.0</td>\n",
       "      <td>0.57</td>\n",
       "      <td>pass</td>\n",
       "      <td>NaN</td>\n",
       "    </tr>\n",
       "    <tr>\n",
       "      <th>5675</th>\n",
       "      <td>2017-06-20</td>\n",
       "      <td>P2</td>\n",
       "      <td>Slc32a1-IRES-Cre;Ai14-326814.02.02.01</td>\n",
       "      <td>Nucleated</td>\n",
       "      <td>Fluorescence in Pipette Small Bubbles</td>\n",
       "      <td>5776.2</td>\n",
       "      <td>3666.0</td>\n",
       "      <td>0.63</td>\n",
       "      <td>pass</td>\n",
       "      <td>NaN</td>\n",
       "    </tr>\n",
       "    <tr>\n",
       "      <th>5676</th>\n",
       "      <td>2017-06-20</td>\n",
       "      <td>P2</td>\n",
       "      <td>Slc32a1-IRES-Cre;Ai14-326814.02.02.02</td>\n",
       "      <td>Nucleated</td>\n",
       "      <td>Fluorescence in Pipette Small Bubbles</td>\n",
       "      <td>2814.0</td>\n",
       "      <td>1469.0</td>\n",
       "      <td>0.52</td>\n",
       "      <td>pass</td>\n",
       "      <td>NaN</td>\n",
       "    </tr>\n",
       "  </tbody>\n",
       "</table>\n",
       "</div>"
      ],
      "text/plain": [
       "           Date User                                   File      Post patch?  \\\n",
       "5670 2017-06-20   P8  Slc32a1-IRES-Cre;Ai14-326814.04.02.02        Nucleated   \n",
       "5671 2017-06-20   P8  Slc32a1-IRES-Cre;Ai14-326814.04.02.03          No-Seal   \n",
       "5672 2017-06-20   P8  Slc32a1-IRES-Cre;Ai14-326814.04.02.04  Partial-Nucleus   \n",
       "5675 2017-06-20   P2  Slc32a1-IRES-Cre;Ai14-326814.02.02.01        Nucleated   \n",
       "5676 2017-06-20   P2  Slc32a1-IRES-Cre;Ai14-326814.02.02.02        Nucleated   \n",
       "\n",
       "                                                  Notes   Conc.    >400 Ratio  \\\n",
       "5670  Fluorescence in Pipette,Cell Dimmed,Cell Shrun...   378.6   356.0  0.94   \n",
       "5671  Cell Dimmed,Cell Shrunk Small Bubbles Seal got...   708.5   271.0  0.38   \n",
       "5672  Cell Dimmed,Cell Shrunk Small Bubbles Max seal...  2316.2  1330.0  0.57   \n",
       "5675              Fluorescence in Pipette Small Bubbles  5776.2  3666.0  0.63   \n",
       "5676              Fluorescence in Pipette Small Bubbles  2814.0  1469.0  0.52   \n",
       "\n",
       "     SM_QC_PF Bad dates  \n",
       "5670     fail       NaN  \n",
       "5671     fail       NaN  \n",
       "5672     pass       NaN  \n",
       "5675     pass       NaN  \n",
       "5676     pass       NaN  "
      ]
     },
     "execution_count": 136,
     "metadata": {},
     "output_type": "execute_result"
    }
   ],
   "source": [
    "ps = ps[[\"Date\", \"User\", \"File\", \"Post patch?\", \"Notes\", \"Conc.\", \">400\", \"Ratio\", \"SM_QC_PF\", \"Bad dates\"]]\n",
    "ps.dropna(subset = [\"SM_QC_PF\", \"Post patch?\"], inplace = True)\n",
    "ps[\"User\"] = ps[\"User\"].astype(\"category\")\n",
    "ps[\"SM_QC_PF\"] = ps[\"SM_QC_PF\"].astype(\"category\")\n",
    "ps[\"Post patch?\"] = ps[\"Post patch?\"].astype(\"category\")\n",
    "ps[\"Conc.\"] = pd.to_numeric(ps[\"Conc.\"].str.replace(' ',''), errors ='force')\n",
    "ps[\">400\"] = pd.to_numeric(ps[\">400\"].str.replace(' ',''), errors ='force')\n",
    "ps[\"Date\"] = pd.to_datetime(ps[\"Date\"], format = '%y%m%d')\n",
    "ps.tail()"
   ]
  },
  {
   "cell_type": "code",
   "execution_count": 137,
   "metadata": {
    "collapsed": false
   },
   "outputs": [
    {
     "name": "stdout",
     "output_type": "stream",
     "text": [
      "<class 'pandas.core.frame.DataFrame'>\n",
      "Int64Index: 3171 entries, 3 to 5676\n",
      "Data columns (total 10 columns):\n",
      "Date           3171 non-null datetime64[ns]\n",
      "User           3166 non-null category\n",
      "File           3170 non-null object\n",
      "Post patch?    3171 non-null category\n",
      "Notes          1724 non-null object\n",
      "Conc.          3084 non-null float64\n",
      ">400           3159 non-null float64\n",
      "Ratio          3084 non-null object\n",
      "SM_QC_PF       3171 non-null category\n",
      "Bad dates      870 non-null object\n",
      "dtypes: category(3), datetime64[ns](1), float64(2), object(4)\n",
      "memory usage: 207.7+ KB\n"
     ]
    }
   ],
   "source": [
    "ps.info()"
   ]
  },
  {
   "cell_type": "markdown",
   "metadata": {},
   "source": [
    "# Filter out controls and contaminated samples"
   ]
  },
  {
   "cell_type": "code",
   "execution_count": 140,
   "metadata": {
    "collapsed": false
   },
   "outputs": [
    {
     "data": {
      "text/html": [
       "<div>\n",
       "<table border=\"1\" class=\"dataframe\">\n",
       "  <thead>\n",
       "    <tr style=\"text-align: right;\">\n",
       "      <th></th>\n",
       "      <th>Date</th>\n",
       "      <th>User</th>\n",
       "      <th>File</th>\n",
       "      <th>Post patch?</th>\n",
       "      <th>Notes</th>\n",
       "      <th>Conc.</th>\n",
       "      <th>&gt;400</th>\n",
       "      <th>Ratio</th>\n",
       "      <th>SM_QC_PF</th>\n",
       "      <th>Bad dates</th>\n",
       "    </tr>\n",
       "  </thead>\n",
       "  <tbody>\n",
       "    <tr>\n",
       "      <th>3</th>\n",
       "      <td>2016-03-18</td>\n",
       "      <td>P5</td>\n",
       "      <td>Ndnf - brl_160318_04</td>\n",
       "      <td>Outside-Out</td>\n",
       "      <td>broke in on its own, leaky</td>\n",
       "      <td>320.83</td>\n",
       "      <td>278.00</td>\n",
       "      <td>0.81</td>\n",
       "      <td>pass</td>\n",
       "      <td>NaN</td>\n",
       "    </tr>\n",
       "    <tr>\n",
       "      <th>16</th>\n",
       "      <td>2016-04-06</td>\n",
       "      <td>P5</td>\n",
       "      <td>Ndnf - brl_160406_03</td>\n",
       "      <td>Outside-Out</td>\n",
       "      <td>wiped with kim wipe without water before loadi...</td>\n",
       "      <td>100.61</td>\n",
       "      <td>37.65</td>\n",
       "      <td>NaN</td>\n",
       "      <td>fail</td>\n",
       "      <td>NaN</td>\n",
       "    </tr>\n",
       "    <tr>\n",
       "      <th>17</th>\n",
       "      <td>2016-04-06</td>\n",
       "      <td>P5</td>\n",
       "      <td>Ndnf - brl_160406_04</td>\n",
       "      <td>Nucleated</td>\n",
       "      <td>NaN</td>\n",
       "      <td>209.76</td>\n",
       "      <td>167.00</td>\n",
       "      <td>0.69</td>\n",
       "      <td>pass</td>\n",
       "      <td>NaN</td>\n",
       "    </tr>\n",
       "    <tr>\n",
       "      <th>18</th>\n",
       "      <td>2016-04-06</td>\n",
       "      <td>P5</td>\n",
       "      <td>Ndnf - brl_160406_05</td>\n",
       "      <td>Partial-Nucleus</td>\n",
       "      <td>cell swelled</td>\n",
       "      <td>125.58</td>\n",
       "      <td>92.00</td>\n",
       "      <td>0.61</td>\n",
       "      <td>pass</td>\n",
       "      <td>NaN</td>\n",
       "    </tr>\n",
       "    <tr>\n",
       "      <th>20</th>\n",
       "      <td>2016-04-06</td>\n",
       "      <td>P5</td>\n",
       "      <td>Ndnf - brl_160406_07</td>\n",
       "      <td>partial Nucleated</td>\n",
       "      <td>NaN</td>\n",
       "      <td>135.18</td>\n",
       "      <td>128.00</td>\n",
       "      <td>0.87</td>\n",
       "      <td>pass</td>\n",
       "      <td>NaN</td>\n",
       "    </tr>\n",
       "  </tbody>\n",
       "</table>\n",
       "</div>"
      ],
      "text/plain": [
       "         Date User                  File        Post patch?  \\\n",
       "3  2016-03-18   P5  Ndnf - brl_160318_04        Outside-Out   \n",
       "16 2016-04-06   P5  Ndnf - brl_160406_03        Outside-Out   \n",
       "17 2016-04-06   P5  Ndnf - brl_160406_04          Nucleated   \n",
       "18 2016-04-06   P5  Ndnf - brl_160406_05    Partial-Nucleus   \n",
       "20 2016-04-06   P5  Ndnf - brl_160406_07  partial Nucleated   \n",
       "\n",
       "                                                Notes   Conc.    >400 Ratio  \\\n",
       "3                          broke in on its own, leaky  320.83  278.00  0.81   \n",
       "16  wiped with kim wipe without water before loadi...  100.61   37.65   NaN   \n",
       "17                                                NaN  209.76  167.00  0.69   \n",
       "18                                       cell swelled  125.58   92.00  0.61   \n",
       "20                                                NaN  135.18  128.00  0.87   \n",
       "\n",
       "   SM_QC_PF Bad dates  \n",
       "3      pass       NaN  \n",
       "16     fail       NaN  \n",
       "17     pass       NaN  \n",
       "18     pass       NaN  \n",
       "20     pass       NaN  "
      ]
     },
     "execution_count": 140,
     "metadata": {},
     "output_type": "execute_result"
    }
   ],
   "source": [
    "#may be redundant as controls are getting filtered out based on dropping na values from \"Post patch?\" column\n",
    "ps = ps[ps[\"SM_QC_PF\"] != \"cnt\"]\n",
    "ps = ps[ps[\"Bad dates\"] != \"x\"]\n",
    "#ps = ps[mask]\n",
    "#ps.info()\n",
    "ps.head()"
   ]
  },
  {
   "cell_type": "markdown",
   "metadata": {},
   "source": [
    "# Percentage of nucleated patches passing SM_QC "
   ]
  },
  {
   "cell_type": "code",
   "execution_count": 90,
   "metadata": {
    "collapsed": false,
    "scrolled": true
   },
   "outputs": [
    {
     "data": {
      "text/plain": [
       "581"
      ]
     },
     "execution_count": 90,
     "metadata": {},
     "output_type": "execute_result"
    }
   ],
   "source": [
    "mask = ps[\"Post patch?\"] == \"Nucleated\"\n",
    "mask\n",
    "nuc = ps[mask]\n",
    "nuc\n",
    "nuc_count = nuc[\"Post patch?\"].count()\n",
    "nuc_count"
   ]
  },
  {
   "cell_type": "code",
   "execution_count": 91,
   "metadata": {
    "collapsed": false
   },
   "outputs": [
    {
     "data": {
      "text/plain": [
       "Outside-Out                       1157\n",
       "No-Seal                           1003\n",
       "Nucleated                          581\n",
       "Partial-Nucleus                    372\n",
       "Entire-Cell                         37\n",
       "no-seal                              5\n",
       "Entire-Cell?                         3\n",
       "partial Nucleated                    2\n",
       "no -seal                             1\n",
       "n                                    1\n",
       "missing                              1\n",
       "leaky Outside-Out                    1\n",
       "outside-out                          1\n",
       "Outside-Out?                         1\n",
       "Nucleated patch                      1\n",
       "Nucleated (maybe Entire-Cell?)       1\n",
       "nucelated                            1\n",
       "nucleus                              1\n",
       "dtype: int64"
      ]
     },
     "execution_count": 91,
     "metadata": {},
     "output_type": "execute_result"
    }
   ],
   "source": [
    "ps[\"Post patch?\"].value_counts()"
   ]
  },
  {
   "cell_type": "code",
   "execution_count": 92,
   "metadata": {
    "collapsed": false,
    "scrolled": true
   },
   "outputs": [
    {
     "data": {
      "text/plain": [
       "3      True\n",
       "16    False\n",
       "17     True\n",
       "18     True\n",
       "20     True\n",
       "Name: SM_QC_PF, dtype: bool"
      ]
     },
     "execution_count": 92,
     "metadata": {},
     "output_type": "execute_result"
    }
   ],
   "source": [
    "pas = ps[\"SM_QC_PF\"] == \"pass\"\n",
    "pas.head()"
   ]
  },
  {
   "cell_type": "code",
   "execution_count": 93,
   "metadata": {
    "collapsed": false,
    "scrolled": true
   },
   "outputs": [
    {
     "data": {
      "text/html": [
       "<div>\n",
       "<table border=\"1\" class=\"dataframe\">\n",
       "  <thead>\n",
       "    <tr style=\"text-align: right;\">\n",
       "      <th></th>\n",
       "      <th>Date</th>\n",
       "      <th>User</th>\n",
       "      <th>File</th>\n",
       "      <th>Post patch?</th>\n",
       "      <th>Notes</th>\n",
       "      <th>Conc.</th>\n",
       "      <th>&gt;400</th>\n",
       "      <th>Ratio</th>\n",
       "      <th>SM_QC_PF</th>\n",
       "    </tr>\n",
       "  </thead>\n",
       "  <tbody>\n",
       "    <tr>\n",
       "      <th>17</th>\n",
       "      <td>2016-04-06</td>\n",
       "      <td>P5</td>\n",
       "      <td>Ndnf - brl_160406_04</td>\n",
       "      <td>Nucleated</td>\n",
       "      <td>NaN</td>\n",
       "      <td>209.76</td>\n",
       "      <td>167.0</td>\n",
       "      <td>0.69</td>\n",
       "      <td>pass</td>\n",
       "    </tr>\n",
       "    <tr>\n",
       "      <th>69</th>\n",
       "      <td>2016-04-12</td>\n",
       "      <td>P5</td>\n",
       "      <td>Rorb - brl_160412_01</td>\n",
       "      <td>Nucleated</td>\n",
       "      <td>couldnt see flourescence - cell too deep, but ...</td>\n",
       "      <td>195.16</td>\n",
       "      <td>183.0</td>\n",
       "      <td>0.87</td>\n",
       "      <td>pass</td>\n",
       "    </tr>\n",
       "    <tr>\n",
       "      <th>109</th>\n",
       "      <td>2016-04-18</td>\n",
       "      <td>P5</td>\n",
       "      <td>Chat - brl_160418_02</td>\n",
       "      <td>Nucleated</td>\n",
       "      <td>coudlnt get gigaseal, put still saw flur in pi...</td>\n",
       "      <td>135.75</td>\n",
       "      <td>116.0</td>\n",
       "      <td>0.85</td>\n",
       "      <td>pass</td>\n",
       "    </tr>\n",
       "    <tr>\n",
       "      <th>112</th>\n",
       "      <td>2016-04-18</td>\n",
       "      <td>P5</td>\n",
       "      <td>Chat - brl_160418_05</td>\n",
       "      <td>Nucleated</td>\n",
       "      <td>lost seal at  3 mins but still able to pull ou...</td>\n",
       "      <td>158.45</td>\n",
       "      <td>113.0</td>\n",
       "      <td>0.62</td>\n",
       "      <td>pass</td>\n",
       "    </tr>\n",
       "    <tr>\n",
       "      <th>125</th>\n",
       "      <td>2016-04-19</td>\n",
       "      <td>P1</td>\n",
       "      <td>Chat - kjh_160419_03</td>\n",
       "      <td>Nucleated</td>\n",
       "      <td>saw fluorescence in pipette</td>\n",
       "      <td>423.02</td>\n",
       "      <td>203.0</td>\n",
       "      <td>0.48</td>\n",
       "      <td>pass</td>\n",
       "    </tr>\n",
       "  </tbody>\n",
       "</table>\n",
       "</div>"
      ],
      "text/plain": [
       "          Date User                  File Post patch?  \\\n",
       "17  2016-04-06   P5  Ndnf - brl_160406_04   Nucleated   \n",
       "69  2016-04-12   P5  Rorb - brl_160412_01   Nucleated   \n",
       "109 2016-04-18   P5  Chat - brl_160418_02   Nucleated   \n",
       "112 2016-04-18   P5  Chat - brl_160418_05   Nucleated   \n",
       "125 2016-04-19   P1  Chat - kjh_160419_03   Nucleated   \n",
       "\n",
       "                                                 Notes   Conc.   >400 Ratio  \\\n",
       "17                                                 NaN  209.76  167.0  0.69   \n",
       "69   couldnt see flourescence - cell too deep, but ...  195.16  183.0  0.87   \n",
       "109  coudlnt get gigaseal, put still saw flur in pi...  135.75  116.0  0.85   \n",
       "112  lost seal at  3 mins but still able to pull ou...  158.45  113.0  0.62   \n",
       "125                        saw fluorescence in pipette  423.02  203.0  0.48   \n",
       "\n",
       "    SM_QC_PF  \n",
       "17      pass  \n",
       "69      pass  \n",
       "109     pass  \n",
       "112     pass  \n",
       "125     pass  "
      ]
     },
     "execution_count": 93,
     "metadata": {},
     "output_type": "execute_result"
    }
   ],
   "source": [
    "np = ps[mask & pas]\n",
    "np.head()"
   ]
  },
  {
   "cell_type": "code",
   "execution_count": 94,
   "metadata": {
    "collapsed": false
   },
   "outputs": [
    {
     "data": {
      "text/plain": [
       "466"
      ]
     },
     "execution_count": 94,
     "metadata": {},
     "output_type": "execute_result"
    }
   ],
   "source": [
    "nuc_pass = np[\"Post patch?\"].count()\n",
    "nuc_pass\n",
    "#np[\"Post patch?\"].count()"
   ]
  },
  {
   "cell_type": "code",
   "execution_count": 95,
   "metadata": {
    "collapsed": false
   },
   "outputs": [
    {
     "data": {
      "text/plain": [
       "0.802065404475043"
      ]
     },
     "execution_count": 95,
     "metadata": {},
     "output_type": "execute_result"
    }
   ],
   "source": [
    "float(nuc_pass)/nuc_count"
   ]
  },
  {
   "cell_type": "markdown",
   "metadata": {},
   "source": [
    "# Bubbles Analysis "
   ]
  },
  {
   "cell_type": "code",
   "execution_count": 96,
   "metadata": {
    "collapsed": false,
    "scrolled": true
   },
   "outputs": [
    {
     "data": {
      "text/html": [
       "<div>\n",
       "<table border=\"1\" class=\"dataframe\">\n",
       "  <thead>\n",
       "    <tr style=\"text-align: right;\">\n",
       "      <th></th>\n",
       "      <th>Date</th>\n",
       "      <th>User</th>\n",
       "      <th>File</th>\n",
       "      <th>Post patch?</th>\n",
       "      <th>Notes</th>\n",
       "      <th>Conc.</th>\n",
       "      <th>&gt;400</th>\n",
       "      <th>Ratio</th>\n",
       "      <th>SM_QC_PF</th>\n",
       "    </tr>\n",
       "  </thead>\n",
       "  <tbody>\n",
       "    <tr>\n",
       "      <th>3</th>\n",
       "      <td>2016-03-18</td>\n",
       "      <td>P5</td>\n",
       "      <td>Ndnf - brl_160318_04</td>\n",
       "      <td>Outside-Out</td>\n",
       "      <td>broke in on its own, leaky</td>\n",
       "      <td>320.83</td>\n",
       "      <td>278.00</td>\n",
       "      <td>0.81</td>\n",
       "      <td>pass</td>\n",
       "    </tr>\n",
       "    <tr>\n",
       "      <th>16</th>\n",
       "      <td>2016-04-06</td>\n",
       "      <td>P5</td>\n",
       "      <td>Ndnf - brl_160406_03</td>\n",
       "      <td>Outside-Out</td>\n",
       "      <td>wiped with kim wipe without water before loadi...</td>\n",
       "      <td>100.61</td>\n",
       "      <td>37.65</td>\n",
       "      <td>NaN</td>\n",
       "      <td>fail</td>\n",
       "    </tr>\n",
       "    <tr>\n",
       "      <th>18</th>\n",
       "      <td>2016-04-06</td>\n",
       "      <td>P5</td>\n",
       "      <td>Ndnf - brl_160406_05</td>\n",
       "      <td>Partial-Nucleus</td>\n",
       "      <td>cell swelled</td>\n",
       "      <td>125.58</td>\n",
       "      <td>92.00</td>\n",
       "      <td>0.61</td>\n",
       "      <td>pass</td>\n",
       "    </tr>\n",
       "    <tr>\n",
       "      <th>29</th>\n",
       "      <td>2016-04-07</td>\n",
       "      <td>P1</td>\n",
       "      <td>Ndnf - kjh_160407_03</td>\n",
       "      <td>Nucleated patch</td>\n",
       "      <td>cell swelled, no fluorescence visible in pipette</td>\n",
       "      <td>114.09</td>\n",
       "      <td>96.00</td>\n",
       "      <td>0.73</td>\n",
       "      <td>pass</td>\n",
       "    </tr>\n",
       "    <tr>\n",
       "      <th>30</th>\n",
       "      <td>2016-04-07</td>\n",
       "      <td>P1</td>\n",
       "      <td>Ndnf - kjh_160407_04</td>\n",
       "      <td>Partial-Nucleus</td>\n",
       "      <td>cell swelled a lot, no fluorescence visible in...</td>\n",
       "      <td>129.23</td>\n",
       "      <td>111.00</td>\n",
       "      <td>0.79</td>\n",
       "      <td>pass</td>\n",
       "    </tr>\n",
       "  </tbody>\n",
       "</table>\n",
       "</div>"
      ],
      "text/plain": [
       "         Date User                  File      Post patch?  \\\n",
       "3  2016-03-18   P5  Ndnf - brl_160318_04      Outside-Out   \n",
       "16 2016-04-06   P5  Ndnf - brl_160406_03      Outside-Out   \n",
       "18 2016-04-06   P5  Ndnf - brl_160406_05  Partial-Nucleus   \n",
       "29 2016-04-07   P1  Ndnf - kjh_160407_03  Nucleated patch   \n",
       "30 2016-04-07   P1  Ndnf - kjh_160407_04  Partial-Nucleus   \n",
       "\n",
       "                                                Notes   Conc.    >400 Ratio  \\\n",
       "3                          broke in on its own, leaky  320.83  278.00  0.81   \n",
       "16  wiped with kim wipe without water before loadi...  100.61   37.65   NaN   \n",
       "18                                       cell swelled  125.58   92.00  0.61   \n",
       "29   cell swelled, no fluorescence visible in pipette  114.09   96.00  0.73   \n",
       "30  cell swelled a lot, no fluorescence visible in...  129.23  111.00  0.79   \n",
       "\n",
       "   SM_QC_PF  \n",
       "3      pass  \n",
       "16     fail  \n",
       "18     pass  \n",
       "29     pass  \n",
       "30     pass  "
      ]
     },
     "execution_count": 96,
     "metadata": {},
     "output_type": "execute_result"
    }
   ],
   "source": [
    "bubbles = ps.dropna(subset = [\"Notes\"])\n",
    "bubbles.head()"
   ]
  },
  {
   "cell_type": "markdown",
   "metadata": {},
   "source": [
    "# No Bubbles Analysis"
   ]
  },
  {
   "cell_type": "code",
   "execution_count": 97,
   "metadata": {
    "collapsed": false,
    "scrolled": false
   },
   "outputs": [
    {
     "data": {
      "text/plain": [
       "74"
      ]
     },
     "execution_count": 97,
     "metadata": {},
     "output_type": "execute_result"
    }
   ],
   "source": [
    "mask2 = bubbles[\"Notes\"].str.contains(\"No Bubbles\")\n",
    "no_bubbles = bubbles[mask2]\n",
    "no_bubbles.head(3)\n",
    "nb = no_bubbles[\"Notes\"].count()\n",
    "nb\n",
    "#no_bubbles[\">400\"].sort_values()"
   ]
  },
  {
   "cell_type": "markdown",
   "metadata": {},
   "source": [
    "# Mean Conc. (>400bp) No Bubbles (pg/ul)"
   ]
  },
  {
   "cell_type": "code",
   "execution_count": 98,
   "metadata": {
    "collapsed": false
   },
   "outputs": [
    {
     "name": "stdout",
     "output_type": "stream",
     "text": [
      "No Bubbles: concentration in pg/ul of fragments >400 b.p.\n",
      "\n",
      "Average = 1062.26027397\n",
      "Standard Deviation = 722.270167739\n",
      "Max = 3341.0\n",
      "Median = 914.0\n",
      "Min = 82.0\n"
     ]
    }
   ],
   "source": [
    "print \"No Bubbles: concentration in pg/ul of fragments >400 b.p.\\n\"\n",
    "print \"Average =\", no_bubbles[\">400\"].mean()\n",
    "print \"Standard Deviation =\", no_bubbles[\">400\"].std()\n",
    "print \"Max =\", no_bubbles[\">400\"].max()\n",
    "print \"Median =\", no_bubbles[\">400\"].median()\n",
    "print \"Min =\", no_bubbles[\">400\"].min()\n",
    "#no_bubbles[\">400\"].value_counts()"
   ]
  },
  {
   "cell_type": "code",
   "execution_count": 99,
   "metadata": {
    "collapsed": false,
    "scrolled": true
   },
   "outputs": [
    {
     "name": "stdout",
     "output_type": "stream",
     "text": [
      "<class 'pandas.core.frame.DataFrame'>\n",
      "Int64Index: 74 entries, 5216 to 5662\n",
      "Data columns (total 9 columns):\n",
      "Date           74 non-null datetime64[ns]\n",
      "User           74 non-null category\n",
      "File           74 non-null object\n",
      "Post patch?    74 non-null category\n",
      "Notes          74 non-null object\n",
      "Conc.          73 non-null float64\n",
      ">400           73 non-null float64\n",
      "Ratio          73 non-null object\n",
      "SM_QC_PF       74 non-null category\n",
      "dtypes: category(3), datetime64[ns](1), float64(2), object(3)\n",
      "memory usage: 4.5+ KB\n"
     ]
    }
   ],
   "source": [
    "no_bubbles.info()"
   ]
  },
  {
   "cell_type": "code",
   "execution_count": 100,
   "metadata": {
    "collapsed": false,
    "scrolled": true
   },
   "outputs": [
    {
     "data": {
      "text/html": [
       "<div>\n",
       "<table border=\"1\" class=\"dataframe\">\n",
       "  <thead>\n",
       "    <tr style=\"text-align: right;\">\n",
       "      <th></th>\n",
       "      <th>Date</th>\n",
       "      <th>User</th>\n",
       "      <th>File</th>\n",
       "      <th>Post patch?</th>\n",
       "      <th>Notes</th>\n",
       "      <th>Conc.</th>\n",
       "      <th>&gt;400</th>\n",
       "      <th>Ratio</th>\n",
       "      <th>SM_QC_PF</th>\n",
       "    </tr>\n",
       "  </thead>\n",
       "  <tbody>\n",
       "    <tr>\n",
       "      <th>5216</th>\n",
       "      <td>2017-05-16</td>\n",
       "      <td>P2</td>\n",
       "      <td>Gad2-IRES-Cre;Ai14-318382.03.02.02</td>\n",
       "      <td>Nucleated</td>\n",
       "      <td>No Bubbles</td>\n",
       "      <td>904.0</td>\n",
       "      <td>644.0</td>\n",
       "      <td>0.71</td>\n",
       "      <td>pass</td>\n",
       "    </tr>\n",
       "    <tr>\n",
       "      <th>5217</th>\n",
       "      <td>2017-05-16</td>\n",
       "      <td>P2</td>\n",
       "      <td>Gad2-IRES-Cre;Ai14-318382.03.02.03</td>\n",
       "      <td>Nucleated</td>\n",
       "      <td>No Bubbles</td>\n",
       "      <td>760.2</td>\n",
       "      <td>570.0</td>\n",
       "      <td>0.75</td>\n",
       "      <td>pass</td>\n",
       "    </tr>\n",
       "    <tr>\n",
       "      <th>5240</th>\n",
       "      <td>2017-05-17</td>\n",
       "      <td>P2</td>\n",
       "      <td>Gad2-IRES-Cre;Ai14-318381.03.02.01</td>\n",
       "      <td>Partial-Nucleus</td>\n",
       "      <td>No Bubbles got nucleus and gigaohm seal but th...</td>\n",
       "      <td>2569.0</td>\n",
       "      <td>750.0</td>\n",
       "      <td>0.29</td>\n",
       "      <td>pass</td>\n",
       "    </tr>\n",
       "    <tr>\n",
       "      <th>5242</th>\n",
       "      <td>2017-05-17</td>\n",
       "      <td>P2</td>\n",
       "      <td>Gad2-IRES-Cre;Ai14-318381.03.02.03</td>\n",
       "      <td>Outside-Out</td>\n",
       "      <td>No Bubbles lost seal on cell during extraction...</td>\n",
       "      <td>758.6</td>\n",
       "      <td>608.0</td>\n",
       "      <td>0.8</td>\n",
       "      <td>pass</td>\n",
       "    </tr>\n",
       "    <tr>\n",
       "      <th>5244</th>\n",
       "      <td>2017-05-17</td>\n",
       "      <td>P2</td>\n",
       "      <td>Gad2-IRES-Cre;Ai14-318381.04.02.02</td>\n",
       "      <td>Nucleated</td>\n",
       "      <td>No Bubbles</td>\n",
       "      <td>644.3</td>\n",
       "      <td>423.0</td>\n",
       "      <td>0.66</td>\n",
       "      <td>pass</td>\n",
       "    </tr>\n",
       "  </tbody>\n",
       "</table>\n",
       "</div>"
      ],
      "text/plain": [
       "           Date User                                File      Post patch?  \\\n",
       "5216 2017-05-16   P2  Gad2-IRES-Cre;Ai14-318382.03.02.02        Nucleated   \n",
       "5217 2017-05-16   P2  Gad2-IRES-Cre;Ai14-318382.03.02.03        Nucleated   \n",
       "5240 2017-05-17   P2  Gad2-IRES-Cre;Ai14-318381.03.02.01  Partial-Nucleus   \n",
       "5242 2017-05-17   P2  Gad2-IRES-Cre;Ai14-318381.03.02.03      Outside-Out   \n",
       "5244 2017-05-17   P2  Gad2-IRES-Cre;Ai14-318381.04.02.02        Nucleated   \n",
       "\n",
       "                                                  Notes   Conc.   >400 Ratio  \\\n",
       "5216                                         No Bubbles   904.0  644.0  0.71   \n",
       "5217                                         No Bubbles   760.2  570.0  0.75   \n",
       "5240  No Bubbles got nucleus and gigaohm seal but th...  2569.0  750.0  0.29   \n",
       "5242  No Bubbles lost seal on cell during extraction...   758.6  608.0   0.8   \n",
       "5244                                         No Bubbles   644.3  423.0  0.66   \n",
       "\n",
       "     SM_QC_PF  \n",
       "5216     pass  \n",
       "5217     pass  \n",
       "5240     pass  \n",
       "5242     pass  \n",
       "5244     pass  "
      ]
     },
     "execution_count": 100,
     "metadata": {},
     "output_type": "execute_result"
    }
   ],
   "source": [
    "bubb_pass = bubbles[\"SM_QC_PF\"] == 'pass'\n",
    "nb_pass = bubbles[mask2 & bubb_pass]\n",
    "nb_pass.head()"
   ]
  },
  {
   "cell_type": "markdown",
   "metadata": {},
   "source": [
    "# No bubbles pass percentage "
   ]
  },
  {
   "cell_type": "code",
   "execution_count": 114,
   "metadata": {
    "collapsed": false
   },
   "outputs": [
    {
     "data": {
      "text/plain": [
       "0.8918918918918919"
      ]
     },
     "execution_count": 114,
     "metadata": {},
     "output_type": "execute_result"
    }
   ],
   "source": [
    "'''No bubbles pass percentage'''\n",
    "nb_p = nb_pass[\"Notes\"].count()\n",
    "nb_p\n",
    "nb_pp = float(nb_p) / nb\n",
    "nb_pp"
   ]
  },
  {
   "cell_type": "markdown",
   "metadata": {},
   "source": [
    "# Small Bubbles Analysis"
   ]
  },
  {
   "cell_type": "code",
   "execution_count": 115,
   "metadata": {
    "collapsed": false,
    "scrolled": true
   },
   "outputs": [
    {
     "data": {
      "text/plain": [
       "184"
      ]
     },
     "execution_count": 115,
     "metadata": {},
     "output_type": "execute_result"
    }
   ],
   "source": [
    "mask3 = bubbles[\"Notes\"].str.contains(\"Small Bubbles\")\n",
    "#mask3\n",
    "sm_bubbles = bubbles[mask3]\n",
    "sm_bubbles\n",
    "sb = sm_bubbles[\"Notes\"].count()\n",
    "sb\n",
    "#sm_bubbles[\"Conc.\"].sort_values()"
   ]
  },
  {
   "cell_type": "markdown",
   "metadata": {},
   "source": [
    "# Mean Conc. (>400bp) Small Bubbles (pg/ul) "
   ]
  },
  {
   "cell_type": "code",
   "execution_count": 116,
   "metadata": {
    "collapsed": false,
    "scrolled": true
   },
   "outputs": [
    {
     "name": "stdout",
     "output_type": "stream",
     "text": [
      "Small Bubbles: concentration in pg/ul of fragments >400 b.p.\n",
      "\n",
      "Average = 991.756906077\n",
      "Standard Deviation = 1063.11110349\n",
      "Max = 11538.0\n",
      "Median = 758.0\n",
      "Min = 73.0\n"
     ]
    }
   ],
   "source": [
    "print \"Small Bubbles: concentration in pg/ul of fragments >400 b.p.\\n\"\n",
    "print \"Average =\", sm_bubbles[\">400\"].mean()\n",
    "print \"Standard Deviation =\", sm_bubbles[\">400\"].std()\n",
    "print \"Max =\", sm_bubbles[\">400\"].max()\n",
    "print \"Median =\", sm_bubbles[\">400\"].median()\n",
    "print \"Min =\", sm_bubbles[\">400\"].min()\n",
    "#sm_bubbles[\">400\"].value_counts()"
   ]
  },
  {
   "cell_type": "code",
   "execution_count": 117,
   "metadata": {
    "collapsed": false
   },
   "outputs": [
    {
     "name": "stdout",
     "output_type": "stream",
     "text": [
      "<class 'pandas.core.frame.DataFrame'>\n",
      "Int64Index: 184 entries, 5209 to 5676\n",
      "Data columns (total 9 columns):\n",
      "Date           184 non-null datetime64[ns]\n",
      "User           184 non-null category\n",
      "File           184 non-null object\n",
      "Post patch?    184 non-null category\n",
      "Notes          184 non-null object\n",
      "Conc.          181 non-null float64\n",
      ">400           181 non-null float64\n",
      "Ratio          181 non-null object\n",
      "SM_QC_PF       184 non-null category\n",
      "dtypes: category(3), datetime64[ns](1), float64(2), object(3)\n",
      "memory usage: 10.8+ KB\n"
     ]
    }
   ],
   "source": [
    "sm_bubbles.info()"
   ]
  },
  {
   "cell_type": "code",
   "execution_count": 118,
   "metadata": {
    "collapsed": false,
    "scrolled": true
   },
   "outputs": [
    {
     "data": {
      "text/html": [
       "<div>\n",
       "<table border=\"1\" class=\"dataframe\">\n",
       "  <thead>\n",
       "    <tr style=\"text-align: right;\">\n",
       "      <th></th>\n",
       "      <th>Date</th>\n",
       "      <th>User</th>\n",
       "      <th>File</th>\n",
       "      <th>Post patch?</th>\n",
       "      <th>Notes</th>\n",
       "      <th>Conc.</th>\n",
       "      <th>&gt;400</th>\n",
       "      <th>Ratio</th>\n",
       "      <th>SM_QC_PF</th>\n",
       "    </tr>\n",
       "  </thead>\n",
       "  <tbody>\n",
       "    <tr>\n",
       "      <th>5211</th>\n",
       "      <td>2017-05-16</td>\n",
       "      <td>P1</td>\n",
       "      <td>Gad2-IRES-Cre;Ai14-318382.04.01.03</td>\n",
       "      <td>Nucleated</td>\n",
       "      <td>Small Bubbles</td>\n",
       "      <td>713.7</td>\n",
       "      <td>504.0</td>\n",
       "      <td>0.71</td>\n",
       "      <td>pass</td>\n",
       "    </tr>\n",
       "    <tr>\n",
       "      <th>5215</th>\n",
       "      <td>2017-05-16</td>\n",
       "      <td>P2</td>\n",
       "      <td>Gad2-IRES-Cre;Ai14-318382.03.02.01</td>\n",
       "      <td>Outside-Out</td>\n",
       "      <td>Small Bubbles</td>\n",
       "      <td>1338.9</td>\n",
       "      <td>758.0</td>\n",
       "      <td>0.57</td>\n",
       "      <td>pass</td>\n",
       "    </tr>\n",
       "    <tr>\n",
       "      <th>5228</th>\n",
       "      <td>2017-05-17</td>\n",
       "      <td>P1</td>\n",
       "      <td>Gad2-IRES-Cre;Ai14-318381.03.01.01</td>\n",
       "      <td>Nucleated</td>\n",
       "      <td>Small Bubbles,Medium Bubbles</td>\n",
       "      <td>866.1</td>\n",
       "      <td>580.0</td>\n",
       "      <td>0.67</td>\n",
       "      <td>pass</td>\n",
       "    </tr>\n",
       "    <tr>\n",
       "      <th>5229</th>\n",
       "      <td>2017-05-17</td>\n",
       "      <td>P1</td>\n",
       "      <td>Gad2-IRES-Cre;Ai14-318381.03.01.02</td>\n",
       "      <td>Partial-Nucleus</td>\n",
       "      <td>Small Bubbles</td>\n",
       "      <td>382.8</td>\n",
       "      <td>229.0</td>\n",
       "      <td>0.6</td>\n",
       "      <td>pass</td>\n",
       "    </tr>\n",
       "    <tr>\n",
       "      <th>5230</th>\n",
       "      <td>2017-05-17</td>\n",
       "      <td>P1</td>\n",
       "      <td>Gad2-IRES-Cre;Ai14-318381.03.01.03</td>\n",
       "      <td>Nucleated</td>\n",
       "      <td>Small Bubbles</td>\n",
       "      <td>1712.6</td>\n",
       "      <td>1197.0</td>\n",
       "      <td>0.7</td>\n",
       "      <td>pass</td>\n",
       "    </tr>\n",
       "  </tbody>\n",
       "</table>\n",
       "</div>"
      ],
      "text/plain": [
       "           Date User                                File      Post patch?  \\\n",
       "5211 2017-05-16   P1  Gad2-IRES-Cre;Ai14-318382.04.01.03        Nucleated   \n",
       "5215 2017-05-16   P2  Gad2-IRES-Cre;Ai14-318382.03.02.01      Outside-Out   \n",
       "5228 2017-05-17   P1  Gad2-IRES-Cre;Ai14-318381.03.01.01        Nucleated   \n",
       "5229 2017-05-17   P1  Gad2-IRES-Cre;Ai14-318381.03.01.02  Partial-Nucleus   \n",
       "5230 2017-05-17   P1  Gad2-IRES-Cre;Ai14-318381.03.01.03        Nucleated   \n",
       "\n",
       "                             Notes   Conc.    >400 Ratio SM_QC_PF  \n",
       "5211                 Small Bubbles   713.7   504.0  0.71     pass  \n",
       "5215                 Small Bubbles  1338.9   758.0  0.57     pass  \n",
       "5228  Small Bubbles,Medium Bubbles   866.1   580.0  0.67     pass  \n",
       "5229                 Small Bubbles   382.8   229.0   0.6     pass  \n",
       "5230                 Small Bubbles  1712.6  1197.0   0.7     pass  "
      ]
     },
     "execution_count": 118,
     "metadata": {},
     "output_type": "execute_result"
    }
   ],
   "source": [
    "sb_pass = bubbles[mask3 & bubb_pass]\n",
    "sb_pass.head()"
   ]
  },
  {
   "cell_type": "code",
   "execution_count": 119,
   "metadata": {
    "collapsed": false
   },
   "outputs": [
    {
     "name": "stdout",
     "output_type": "stream",
     "text": [
      "<class 'pandas.core.frame.DataFrame'>\n",
      "Int64Index: 144 entries, 5211 to 5676\n",
      "Data columns (total 9 columns):\n",
      "Date           144 non-null datetime64[ns]\n",
      "User           144 non-null category\n",
      "File           144 non-null object\n",
      "Post patch?    144 non-null category\n",
      "Notes          144 non-null object\n",
      "Conc.          141 non-null float64\n",
      ">400           141 non-null float64\n",
      "Ratio          141 non-null object\n",
      "SM_QC_PF       144 non-null category\n",
      "dtypes: category(3), datetime64[ns](1), float64(2), object(3)\n",
      "memory usage: 8.5+ KB\n"
     ]
    }
   ],
   "source": [
    "sb_pass.info()"
   ]
  },
  {
   "cell_type": "markdown",
   "metadata": {},
   "source": [
    "# Small bubbles pass percentage"
   ]
  },
  {
   "cell_type": "code",
   "execution_count": 120,
   "metadata": {
    "collapsed": false
   },
   "outputs": [
    {
     "data": {
      "text/plain": [
       "0.782608695652174"
      ]
     },
     "execution_count": 120,
     "metadata": {},
     "output_type": "execute_result"
    }
   ],
   "source": [
    "sb_p = sb_pass[\"Notes\"].count()\n",
    "sb_pp = float(sb_p) / sb\n",
    "sb_pp"
   ]
  },
  {
   "cell_type": "markdown",
   "metadata": {},
   "source": [
    "# Medium Bubbles Analysis"
   ]
  },
  {
   "cell_type": "code",
   "execution_count": 121,
   "metadata": {
    "collapsed": false,
    "scrolled": true
   },
   "outputs": [
    {
     "data": {
      "text/plain": [
       "50"
      ]
     },
     "execution_count": 121,
     "metadata": {},
     "output_type": "execute_result"
    }
   ],
   "source": [
    "mask4 = bubbles[\"Notes\"].str.contains(\"Medium Bubbles\")\n",
    "med_bubbles = bubbles[mask4]\n",
    "med_bubbles\n",
    "mb = med_bubbles[\"Notes\"].count()\n",
    "mb\n",
    "#med_bubbles[\"Conc.\"].sort_values()\n",
    "#med_bubbles.sort_values(\"Conc.\")"
   ]
  },
  {
   "cell_type": "markdown",
   "metadata": {},
   "source": [
    "# Mean Conc. (>400bp) Med Bubbles (pg/ul) "
   ]
  },
  {
   "cell_type": "code",
   "execution_count": 122,
   "metadata": {
    "collapsed": false
   },
   "outputs": [
    {
     "name": "stdout",
     "output_type": "stream",
     "text": [
      "Medium Bubbles: concentration in pg/ul of fragments >400 b.p.\n",
      "\n",
      "Average = 932.58\n",
      "Standard Deviation = 650.155086365\n",
      "Max = 2651.0\n",
      "Median = 756.5\n",
      "Min = 73.0\n"
     ]
    }
   ],
   "source": [
    "print \"Medium Bubbles: concentration in pg/ul of fragments >400 b.p.\\n\"\n",
    "print \"Average =\", med_bubbles[\">400\"].mean()\n",
    "print \"Standard Deviation =\", med_bubbles[\">400\"].std()\n",
    "print \"Max =\", med_bubbles[\">400\"].max()\n",
    "print \"Median =\", med_bubbles[\">400\"].median()\n",
    "print \"Min =\", med_bubbles[\">400\"].min()\n",
    "#med_bubbles[\">400\"].value_counts()"
   ]
  },
  {
   "cell_type": "code",
   "execution_count": 124,
   "metadata": {
    "collapsed": false,
    "scrolled": true
   },
   "outputs": [
    {
     "data": {
      "text/html": [
       "<div>\n",
       "<table border=\"1\" class=\"dataframe\">\n",
       "  <thead>\n",
       "    <tr style=\"text-align: right;\">\n",
       "      <th></th>\n",
       "      <th>Date</th>\n",
       "      <th>User</th>\n",
       "      <th>File</th>\n",
       "      <th>Post patch?</th>\n",
       "      <th>Notes</th>\n",
       "      <th>Conc.</th>\n",
       "      <th>&gt;400</th>\n",
       "      <th>Ratio</th>\n",
       "      <th>SM_QC_PF</th>\n",
       "    </tr>\n",
       "  </thead>\n",
       "  <tbody>\n",
       "    <tr>\n",
       "      <th>5228</th>\n",
       "      <td>2017-05-17</td>\n",
       "      <td>P1</td>\n",
       "      <td>Gad2-IRES-Cre;Ai14-318381.03.01.01</td>\n",
       "      <td>Nucleated</td>\n",
       "      <td>Small Bubbles,Medium Bubbles</td>\n",
       "      <td>866.1</td>\n",
       "      <td>580.0</td>\n",
       "      <td>0.67</td>\n",
       "      <td>pass</td>\n",
       "    </tr>\n",
       "    <tr>\n",
       "      <th>5236</th>\n",
       "      <td>2017-05-17</td>\n",
       "      <td>P1</td>\n",
       "      <td>Gad2-IRES-Cre;Ai14-318381.05.01.05</td>\n",
       "      <td>Nucleated</td>\n",
       "      <td>Small Bubbles,Medium Bubbles</td>\n",
       "      <td>919.8</td>\n",
       "      <td>697.0</td>\n",
       "      <td>0.76</td>\n",
       "      <td>pass</td>\n",
       "    </tr>\n",
       "    <tr>\n",
       "      <th>5262</th>\n",
       "      <td>2017-05-18</td>\n",
       "      <td>P1</td>\n",
       "      <td>Pvalb-IRES-Cre;Ai14-316465.04.01.03</td>\n",
       "      <td>Outside-Out</td>\n",
       "      <td>Cell Dimmed   Small Bubbles,Medium Bubbles</td>\n",
       "      <td>813.3</td>\n",
       "      <td>517.0</td>\n",
       "      <td>0.64</td>\n",
       "      <td>pass</td>\n",
       "    </tr>\n",
       "    <tr>\n",
       "      <th>5300</th>\n",
       "      <td>2017-05-19</td>\n",
       "      <td>P1</td>\n",
       "      <td>Gad2-IRES-Cre;Ai14-318383.04.02.03</td>\n",
       "      <td>No-Seal</td>\n",
       "      <td>Fluorescence in Pipette,Cell Dimmed,Cell Shrun...</td>\n",
       "      <td>641.8</td>\n",
       "      <td>457.0</td>\n",
       "      <td>0.71</td>\n",
       "      <td>pass</td>\n",
       "    </tr>\n",
       "    <tr>\n",
       "      <th>5302</th>\n",
       "      <td>2017-05-19</td>\n",
       "      <td>P1</td>\n",
       "      <td>Gad2-IRES-Cre;Ai14-318383.04.02.05</td>\n",
       "      <td>Nucleated</td>\n",
       "      <td>Cell Dimmed   Medium Bubbles</td>\n",
       "      <td>748.5</td>\n",
       "      <td>597.0</td>\n",
       "      <td>0.8</td>\n",
       "      <td>pass</td>\n",
       "    </tr>\n",
       "  </tbody>\n",
       "</table>\n",
       "</div>"
      ],
      "text/plain": [
       "           Date User                                 File  Post patch?  \\\n",
       "5228 2017-05-17   P1   Gad2-IRES-Cre;Ai14-318381.03.01.01    Nucleated   \n",
       "5236 2017-05-17   P1   Gad2-IRES-Cre;Ai14-318381.05.01.05    Nucleated   \n",
       "5262 2017-05-18   P1  Pvalb-IRES-Cre;Ai14-316465.04.01.03  Outside-Out   \n",
       "5300 2017-05-19   P1   Gad2-IRES-Cre;Ai14-318383.04.02.03      No-Seal   \n",
       "5302 2017-05-19   P1   Gad2-IRES-Cre;Ai14-318383.04.02.05    Nucleated   \n",
       "\n",
       "                                                  Notes  Conc.   >400 Ratio  \\\n",
       "5228                       Small Bubbles,Medium Bubbles  866.1  580.0  0.67   \n",
       "5236                       Small Bubbles,Medium Bubbles  919.8  697.0  0.76   \n",
       "5262         Cell Dimmed   Small Bubbles,Medium Bubbles  813.3  517.0  0.64   \n",
       "5300  Fluorescence in Pipette,Cell Dimmed,Cell Shrun...  641.8  457.0  0.71   \n",
       "5302                       Cell Dimmed   Medium Bubbles  748.5  597.0   0.8   \n",
       "\n",
       "     SM_QC_PF  \n",
       "5228     pass  \n",
       "5236     pass  \n",
       "5262     pass  \n",
       "5300     pass  \n",
       "5302     pass  "
      ]
     },
     "execution_count": 124,
     "metadata": {},
     "output_type": "execute_result"
    }
   ],
   "source": [
    "mb_pass = bubbles[mask4 & bubb_pass]\n",
    "mb_pass.head()"
   ]
  },
  {
   "cell_type": "markdown",
   "metadata": {},
   "source": [
    "# Medium bubbles pass percentage"
   ]
  },
  {
   "cell_type": "code",
   "execution_count": 125,
   "metadata": {
    "collapsed": false
   },
   "outputs": [
    {
     "data": {
      "text/plain": [
       "0.82"
      ]
     },
     "execution_count": 125,
     "metadata": {},
     "output_type": "execute_result"
    }
   ],
   "source": [
    "mb_p = mb_pass[\"Notes\"].count()\n",
    "mb_pp = float(mb_p)/ mb\n",
    "mb_pp"
   ]
  },
  {
   "cell_type": "markdown",
   "metadata": {},
   "source": [
    "# Large Bubbles Analysis"
   ]
  },
  {
   "cell_type": "code",
   "execution_count": 126,
   "metadata": {
    "collapsed": false,
    "scrolled": true
   },
   "outputs": [
    {
     "data": {
      "text/plain": [
       "20"
      ]
     },
     "execution_count": 126,
     "metadata": {},
     "output_type": "execute_result"
    }
   ],
   "source": [
    "mask5 = bubbles[\"Notes\"].str.contains(\"Large Bubbles\")\n",
    "lg_bubbles = bubbles[mask5]\n",
    "lg_bubbles\n",
    "lb = lg_bubbles[\"Notes\"].count()\n",
    "lb\n",
    "#lg_bubbles[\"Conc.\"].sort_values()\n",
    "#lg_bubbles.info()"
   ]
  },
  {
   "cell_type": "markdown",
   "metadata": {},
   "source": [
    "# Mean Conc. (>400bp) Large Bubbles (pg/ul) "
   ]
  },
  {
   "cell_type": "code",
   "execution_count": 127,
   "metadata": {
    "collapsed": false
   },
   "outputs": [
    {
     "name": "stdout",
     "output_type": "stream",
     "text": [
      "Medium Bubbles: concentration in pg/ul of fragments >400 b.p.\n",
      "\n",
      "Average = 834.0\n",
      "Standard Deviation = 732.746280176\n",
      "Max = 3041.0\n",
      "Median = 827.0\n",
      "Min = 73.0\n"
     ]
    }
   ],
   "source": [
    "print \"Medium Bubbles: concentration in pg/ul of fragments >400 b.p.\\n\"\n",
    "print \"Average =\", lg_bubbles[\">400\"].mean()\n",
    "print \"Standard Deviation =\", lg_bubbles[\">400\"].std()\n",
    "print \"Max =\", lg_bubbles[\">400\"].max()\n",
    "print \"Median =\", lg_bubbles[\">400\"].median()\n",
    "print \"Min =\", lg_bubbles[\">400\"].min()\n",
    "#lg_bubbles[\">400\"].value_counts()"
   ]
  },
  {
   "cell_type": "code",
   "execution_count": 128,
   "metadata": {
    "collapsed": false,
    "scrolled": true
   },
   "outputs": [
    {
     "data": {
      "text/html": [
       "<div>\n",
       "<table border=\"1\" class=\"dataframe\">\n",
       "  <thead>\n",
       "    <tr style=\"text-align: right;\">\n",
       "      <th></th>\n",
       "      <th>Date</th>\n",
       "      <th>User</th>\n",
       "      <th>File</th>\n",
       "      <th>Post patch?</th>\n",
       "      <th>Notes</th>\n",
       "      <th>Conc.</th>\n",
       "      <th>&gt;400</th>\n",
       "      <th>Ratio</th>\n",
       "      <th>SM_QC_PF</th>\n",
       "    </tr>\n",
       "  </thead>\n",
       "  <tbody>\n",
       "    <tr>\n",
       "      <th>5235</th>\n",
       "      <td>2017-05-17</td>\n",
       "      <td>P1</td>\n",
       "      <td>Gad2-IRES-Cre;Ai14-318381.05.01.04</td>\n",
       "      <td>Nucleated</td>\n",
       "      <td>Large Bubbles</td>\n",
       "      <td>1086.7</td>\n",
       "      <td>827.0</td>\n",
       "      <td>0.76</td>\n",
       "      <td>pass</td>\n",
       "    </tr>\n",
       "    <tr>\n",
       "      <th>5243</th>\n",
       "      <td>2017-05-17</td>\n",
       "      <td>P2</td>\n",
       "      <td>Gad2-IRES-Cre;Ai14-318381.04.02.01</td>\n",
       "      <td>Nucleated</td>\n",
       "      <td>Large Bubbles,Solution in Pipette Shank</td>\n",
       "      <td>988.1</td>\n",
       "      <td>494.0</td>\n",
       "      <td>0.5</td>\n",
       "      <td>pass</td>\n",
       "    </tr>\n",
       "    <tr>\n",
       "      <th>5277</th>\n",
       "      <td>2017-05-18</td>\n",
       "      <td>P2</td>\n",
       "      <td>Pvalb-IRES-Cre;Ai14-316465.06.01.01</td>\n",
       "      <td>Partial-Nucleus</td>\n",
       "      <td>Fluorescence in Pipette Large Bubbles</td>\n",
       "      <td>1267.7</td>\n",
       "      <td>888.0</td>\n",
       "      <td>0.7</td>\n",
       "      <td>pass</td>\n",
       "    </tr>\n",
       "    <tr>\n",
       "      <th>5347</th>\n",
       "      <td>2017-05-23</td>\n",
       "      <td>P2</td>\n",
       "      <td>Slc32a1-IRES-Cre;Ai14-321268.04.02.02</td>\n",
       "      <td>No-Seal</td>\n",
       "      <td>Fluorescence in Pipette Large Bubbles may have...</td>\n",
       "      <td>3641.2</td>\n",
       "      <td>3041.0</td>\n",
       "      <td>0.84</td>\n",
       "      <td>pass</td>\n",
       "    </tr>\n",
       "    <tr>\n",
       "      <th>5355</th>\n",
       "      <td>2017-05-23</td>\n",
       "      <td>P2</td>\n",
       "      <td>Slc32a1-IRES-Cre;Ai14-321268.05.02.05</td>\n",
       "      <td>Nucleated</td>\n",
       "      <td>Fluorescence in Pipette Large Bubbles</td>\n",
       "      <td>1984.1</td>\n",
       "      <td>1100.0</td>\n",
       "      <td>0.55</td>\n",
       "      <td>pass</td>\n",
       "    </tr>\n",
       "  </tbody>\n",
       "</table>\n",
       "</div>"
      ],
      "text/plain": [
       "           Date User                                   File      Post patch?  \\\n",
       "5235 2017-05-17   P1     Gad2-IRES-Cre;Ai14-318381.05.01.04        Nucleated   \n",
       "5243 2017-05-17   P2     Gad2-IRES-Cre;Ai14-318381.04.02.01        Nucleated   \n",
       "5277 2017-05-18   P2    Pvalb-IRES-Cre;Ai14-316465.06.01.01  Partial-Nucleus   \n",
       "5347 2017-05-23   P2  Slc32a1-IRES-Cre;Ai14-321268.04.02.02          No-Seal   \n",
       "5355 2017-05-23   P2  Slc32a1-IRES-Cre;Ai14-321268.05.02.05        Nucleated   \n",
       "\n",
       "                                                  Notes   Conc.    >400 Ratio  \\\n",
       "5235                                      Large Bubbles  1086.7   827.0  0.76   \n",
       "5243            Large Bubbles,Solution in Pipette Shank   988.1   494.0   0.5   \n",
       "5277              Fluorescence in Pipette Large Bubbles  1267.7   888.0   0.7   \n",
       "5347  Fluorescence in Pipette Large Bubbles may have...  3641.2  3041.0  0.84   \n",
       "5355              Fluorescence in Pipette Large Bubbles  1984.1  1100.0  0.55   \n",
       "\n",
       "     SM_QC_PF  \n",
       "5235     pass  \n",
       "5243     pass  \n",
       "5277     pass  \n",
       "5347     pass  \n",
       "5355     pass  "
      ]
     },
     "execution_count": 128,
     "metadata": {},
     "output_type": "execute_result"
    }
   ],
   "source": [
    "lb_pass = bubbles[mask5 & bubb_pass]\n",
    "lb_pass.head()"
   ]
  },
  {
   "cell_type": "markdown",
   "metadata": {},
   "source": [
    "# Large Bubbles pass percentage "
   ]
  },
  {
   "cell_type": "code",
   "execution_count": 129,
   "metadata": {
    "collapsed": false
   },
   "outputs": [
    {
     "data": {
      "text/plain": [
       "0.7"
      ]
     },
     "execution_count": 129,
     "metadata": {},
     "output_type": "execute_result"
    }
   ],
   "source": [
    "lb_p = lb_pass[\"Notes\"].count()\n",
    "lb_p\n",
    "lb_pp = float(lb_p)/lb\n",
    "lb_pp"
   ]
  },
  {
   "cell_type": "markdown",
   "metadata": {
    "collapsed": true
   },
   "source": [
    "# Solution up Pipette Shank Analysis "
   ]
  },
  {
   "cell_type": "code",
   "execution_count": 130,
   "metadata": {
    "collapsed": false
   },
   "outputs": [
    {
     "data": {
      "text/plain": [
       "13"
      ]
     },
     "execution_count": 130,
     "metadata": {},
     "output_type": "execute_result"
    }
   ],
   "source": [
    "mask6 = bubbles[\"Notes\"].str.contains(\"Solution in Pipette Shank\")\n",
    "sol_pip = bubbles[mask6]\n",
    "sol_pip\n",
    "sp = sol_pip[\"Notes\"].count()\n",
    "sp"
   ]
  },
  {
   "cell_type": "markdown",
   "metadata": {},
   "source": [
    "# Mean Conc. (>400bp) Solution up Pipette (pg/ul) "
   ]
  },
  {
   "cell_type": "code",
   "execution_count": 131,
   "metadata": {
    "collapsed": false
   },
   "outputs": [
    {
     "data": {
      "text/plain": [
       "377.8333333333333"
      ]
     },
     "execution_count": 131,
     "metadata": {},
     "output_type": "execute_result"
    }
   ],
   "source": [
    "sol_pip[\">400\"].mean()"
   ]
  },
  {
   "cell_type": "code",
   "execution_count": 132,
   "metadata": {
    "collapsed": false,
    "scrolled": false
   },
   "outputs": [
    {
     "data": {
      "text/html": [
       "<div>\n",
       "<table border=\"1\" class=\"dataframe\">\n",
       "  <thead>\n",
       "    <tr style=\"text-align: right;\">\n",
       "      <th></th>\n",
       "      <th>Date</th>\n",
       "      <th>User</th>\n",
       "      <th>File</th>\n",
       "      <th>Post patch?</th>\n",
       "      <th>Notes</th>\n",
       "      <th>Conc.</th>\n",
       "      <th>&gt;400</th>\n",
       "      <th>Ratio</th>\n",
       "      <th>SM_QC_PF</th>\n",
       "    </tr>\n",
       "  </thead>\n",
       "  <tbody>\n",
       "    <tr>\n",
       "      <th>5243</th>\n",
       "      <td>2017-05-17</td>\n",
       "      <td>P2</td>\n",
       "      <td>Gad2-IRES-Cre;Ai14-318381.04.02.01</td>\n",
       "      <td>Nucleated</td>\n",
       "      <td>Large Bubbles,Solution in Pipette Shank</td>\n",
       "      <td>988.1</td>\n",
       "      <td>494.0</td>\n",
       "      <td>0.5</td>\n",
       "      <td>pass</td>\n",
       "    </tr>\n",
       "    <tr>\n",
       "      <th>5284</th>\n",
       "      <td>2017-05-18</td>\n",
       "      <td>P6</td>\n",
       "      <td>Pvalb-IRES-Cre;Ai14-316465.03.01.04</td>\n",
       "      <td>Partial-Nucleus</td>\n",
       "      <td>No Bubbles,Solution in Pipette Shank</td>\n",
       "      <td>636.1</td>\n",
       "      <td>316.0</td>\n",
       "      <td>0.5</td>\n",
       "      <td>pass</td>\n",
       "    </tr>\n",
       "    <tr>\n",
       "      <th>5591</th>\n",
       "      <td>2017-06-13</td>\n",
       "      <td>P1</td>\n",
       "      <td>Gad2-IRES-Cre;Ai14-326032.04.01.01</td>\n",
       "      <td>Nucleated</td>\n",
       "      <td>Fluorescence in Pipette,Cell Dimmed   Large Bu...</td>\n",
       "      <td>1297.4</td>\n",
       "      <td>560.0</td>\n",
       "      <td>0.43</td>\n",
       "      <td>pass</td>\n",
       "    </tr>\n",
       "    <tr>\n",
       "      <th>5644</th>\n",
       "      <td>2017-06-19</td>\n",
       "      <td>P2</td>\n",
       "      <td>Slc32a1-IRES-Cre;Ai14-326813.03.02.01</td>\n",
       "      <td>No-Seal</td>\n",
       "      <td>Fluorescence in Pipette Large Bubbles,Solution...</td>\n",
       "      <td>NaN</td>\n",
       "      <td>NaN</td>\n",
       "      <td>NaN</td>\n",
       "      <td>pass</td>\n",
       "    </tr>\n",
       "    <tr>\n",
       "      <th>5647</th>\n",
       "      <td>2017-06-19</td>\n",
       "      <td>P8</td>\n",
       "      <td>Slc32a1-IRES-Cre;Ai14-326813.04.02.02</td>\n",
       "      <td>Partial-Nucleus</td>\n",
       "      <td>Fluorescence in Pipette,Cell Dimmed Small Bubb...</td>\n",
       "      <td>2043.0</td>\n",
       "      <td>1368.0</td>\n",
       "      <td>0.67</td>\n",
       "      <td>pass</td>\n",
       "    </tr>\n",
       "  </tbody>\n",
       "</table>\n",
       "</div>"
      ],
      "text/plain": [
       "           Date User                                   File      Post patch?  \\\n",
       "5243 2017-05-17   P2     Gad2-IRES-Cre;Ai14-318381.04.02.01        Nucleated   \n",
       "5284 2017-05-18   P6    Pvalb-IRES-Cre;Ai14-316465.03.01.04  Partial-Nucleus   \n",
       "5591 2017-06-13   P1     Gad2-IRES-Cre;Ai14-326032.04.01.01        Nucleated   \n",
       "5644 2017-06-19   P2  Slc32a1-IRES-Cre;Ai14-326813.03.02.01          No-Seal   \n",
       "5647 2017-06-19   P8  Slc32a1-IRES-Cre;Ai14-326813.04.02.02  Partial-Nucleus   \n",
       "\n",
       "                                                  Notes   Conc.    >400 Ratio  \\\n",
       "5243            Large Bubbles,Solution in Pipette Shank   988.1   494.0   0.5   \n",
       "5284               No Bubbles,Solution in Pipette Shank   636.1   316.0   0.5   \n",
       "5591  Fluorescence in Pipette,Cell Dimmed   Large Bu...  1297.4   560.0  0.43   \n",
       "5644  Fluorescence in Pipette Large Bubbles,Solution...     NaN     NaN   NaN   \n",
       "5647  Fluorescence in Pipette,Cell Dimmed Small Bubb...  2043.0  1368.0  0.67   \n",
       "\n",
       "     SM_QC_PF  \n",
       "5243     pass  \n",
       "5284     pass  \n",
       "5591     pass  \n",
       "5644     pass  \n",
       "5647     pass  "
      ]
     },
     "execution_count": 132,
     "metadata": {},
     "output_type": "execute_result"
    }
   ],
   "source": [
    "sp_pass = bubbles[mask6 & bubb_pass]\n",
    "sp_pass.head()"
   ]
  },
  {
   "cell_type": "markdown",
   "metadata": {},
   "source": [
    "# Solution up Pipette Shank pass percentage "
   ]
  },
  {
   "cell_type": "code",
   "execution_count": 133,
   "metadata": {
    "collapsed": false
   },
   "outputs": [
    {
     "data": {
      "text/plain": [
       "0.46153846153846156"
      ]
     },
     "execution_count": 133,
     "metadata": {},
     "output_type": "execute_result"
    }
   ],
   "source": [
    "sp_p = sp_pass[\"Notes\"].count()\n",
    "sp_p\n",
    "sp_pp = float(sp_p)/sp\n",
    "sp_pp"
   ]
  },
  {
   "cell_type": "code",
   "execution_count": null,
   "metadata": {
    "collapsed": true
   },
   "outputs": [],
   "source": []
  },
  {
   "cell_type": "code",
   "execution_count": null,
   "metadata": {
    "collapsed": true
   },
   "outputs": [],
   "source": []
  },
  {
   "cell_type": "code",
   "execution_count": null,
   "metadata": {
    "collapsed": true
   },
   "outputs": [],
   "source": []
  },
  {
   "cell_type": "code",
   "execution_count": null,
   "metadata": {
    "collapsed": true
   },
   "outputs": [],
   "source": []
  },
  {
   "cell_type": "code",
   "execution_count": null,
   "metadata": {
    "collapsed": true
   },
   "outputs": [],
   "source": []
  },
  {
   "cell_type": "code",
   "execution_count": null,
   "metadata": {
    "collapsed": true
   },
   "outputs": [],
   "source": []
  },
  {
   "cell_type": "code",
   "execution_count": null,
   "metadata": {
    "collapsed": true
   },
   "outputs": [],
   "source": []
  },
  {
   "cell_type": "code",
   "execution_count": null,
   "metadata": {
    "collapsed": true
   },
   "outputs": [],
   "source": []
  },
  {
   "cell_type": "code",
   "execution_count": null,
   "metadata": {
    "collapsed": true
   },
   "outputs": [],
   "source": []
  },
  {
   "cell_type": "code",
   "execution_count": null,
   "metadata": {
    "collapsed": true
   },
   "outputs": [],
   "source": []
  },
  {
   "cell_type": "code",
   "execution_count": null,
   "metadata": {
    "collapsed": true
   },
   "outputs": [],
   "source": []
  },
  {
   "cell_type": "code",
   "execution_count": null,
   "metadata": {
    "collapsed": true
   },
   "outputs": [],
   "source": []
  },
  {
   "cell_type": "code",
   "execution_count": null,
   "metadata": {
    "collapsed": true
   },
   "outputs": [],
   "source": []
  },
  {
   "cell_type": "code",
   "execution_count": null,
   "metadata": {
    "collapsed": true
   },
   "outputs": [],
   "source": []
  },
  {
   "cell_type": "code",
   "execution_count": null,
   "metadata": {
    "collapsed": true
   },
   "outputs": [],
   "source": []
  },
  {
   "cell_type": "code",
   "execution_count": null,
   "metadata": {
    "collapsed": true
   },
   "outputs": [],
   "source": []
  },
  {
   "cell_type": "code",
   "execution_count": null,
   "metadata": {
    "collapsed": true
   },
   "outputs": [],
   "source": []
  },
  {
   "cell_type": "code",
   "execution_count": null,
   "metadata": {
    "collapsed": true
   },
   "outputs": [],
   "source": []
  },
  {
   "cell_type": "code",
   "execution_count": null,
   "metadata": {
    "collapsed": true
   },
   "outputs": [],
   "source": []
  }
 ],
 "metadata": {
  "anaconda-cloud": {},
  "kernelspec": {
   "display_name": "Python 2",
   "language": "python",
   "name": "python2"
  },
  "language_info": {
   "codemirror_mode": {
    "name": "ipython",
    "version": 2
   },
   "file_extension": ".py",
   "mimetype": "text/x-python",
   "name": "python",
   "nbconvert_exporter": "python",
   "pygments_lexer": "ipython2",
   "version": "2.7.11"
  }
 },
 "nbformat": 4,
 "nbformat_minor": 0
}
