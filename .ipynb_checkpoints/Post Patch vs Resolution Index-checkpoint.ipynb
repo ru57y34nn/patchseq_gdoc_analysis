{
 "cells": [
  {
   "cell_type": "code",
   "execution_count": 226,
   "metadata": {
    "collapsed": false
   },
   "outputs": [],
   "source": [
    "import csv\n",
    "import pandas as pd\n",
    "import numpy as np\n",
    "import matplotlib.pyplot as plt\n",
    "from datetime import datetime\n",
    "from scipy import stats\n",
    "import math\n",
    "import seaborn as sns\n",
    "%matplotlib inline\n",
    "sns.set(style='whitegrid', color_codes = True)"
   ]
  },
  {
   "cell_type": "code",
   "execution_count": 227,
   "metadata": {
    "collapsed": true
   },
   "outputs": [],
   "source": [
    "ps = pd.read_csv('patch_seq_log_mouse.csv')"
   ]
  },
  {
   "cell_type": "code",
   "execution_count": 228,
   "metadata": {
    "collapsed": false
   },
   "outputs": [
    {
     "data": {
      "text/plain": [
       "pass    709\n",
       "fail    182\n",
       "Name: SM_QC_PF, dtype: int64"
      ]
     },
     "execution_count": 228,
     "metadata": {},
     "output_type": "execute_result"
    }
   ],
   "source": [
    "ps = ps[['Date', 'User', 'Post patch?', 'Notes', 'PCR cycles', 'SM_QC_PF', 'Resolution index', 'Bad dates']]\n",
    "ps = ps[ps['PCR cycles'] == 21]\n",
    "ps['Date'] = pd.to_datetime(ps['Date'], format = '%y%m%d')\n",
    "ps = ps[ps['Bad dates'] != 'x']\n",
    "ps = ps.drop('Bad dates', 1)\n",
    "ps = ps[ps['SM_QC_PF'] != 'cnt']\n",
    "ps.dropna(subset = ['Post patch?', 'SM_QC_PF'], inplace = True)\n",
    "ps['Post patch?'] = ps['Post patch?'].astype('category')\n",
    "ps['SM_QC_PF'].value_counts()"
   ]
  },
  {
   "cell_type": "code",
   "execution_count": 229,
   "metadata": {
    "collapsed": false
   },
   "outputs": [
    {
     "data": {
      "text/plain": [
       "891"
      ]
     },
     "execution_count": 229,
     "metadata": {},
     "output_type": "execute_result"
    }
   ],
   "source": [
    "total = ps[\"SM_QC_PF\"].count()\n",
    "total"
   ]
  },
  {
   "cell_type": "code",
   "execution_count": 230,
   "metadata": {
    "collapsed": false
   },
   "outputs": [
    {
     "data": {
      "text/plain": [
       "709"
      ]
     },
     "execution_count": 230,
     "metadata": {},
     "output_type": "execute_result"
    }
   ],
   "source": [
    "passing = ps[ps['SM_QC_PF'] == 'pass']\n",
    "passed = passing['SM_QC_PF'].count()\n",
    "passed"
   ]
  },
  {
   "cell_type": "code",
   "execution_count": 231,
   "metadata": {
    "collapsed": false
   },
   "outputs": [
    {
     "data": {
      "text/plain": [
       "136"
      ]
     },
     "execution_count": 231,
     "metadata": {},
     "output_type": "execute_result"
    }
   ],
   "source": [
    "high_res = ps[ps['Resolution index'] >= 0.8]\n",
    "hi_res = high_res['Resolution index'].count()\n",
    "hi_res"
   ]
  },
  {
   "cell_type": "code",
   "execution_count": 232,
   "metadata": {
    "collapsed": false
   },
   "outputs": [
    {
     "name": "stdout",
     "output_type": "stream",
     "text": [
      "0.152637485971\n",
      "0.191819464034\n"
     ]
    }
   ],
   "source": [
    "pct_ttl = float(hi_res) / total\n",
    "print pct_ttl\n",
    "pct_pass = float(hi_res) / passed\n",
    "print pct_pass"
   ]
  },
  {
   "cell_type": "code",
   "execution_count": 233,
   "metadata": {
    "collapsed": false
   },
   "outputs": [
    {
     "data": {
      "text/html": [
       "<div>\n",
       "<table border=\"1\" class=\"dataframe\">\n",
       "  <thead>\n",
       "    <tr style=\"text-align: right;\">\n",
       "      <th></th>\n",
       "      <th>Date</th>\n",
       "      <th>User</th>\n",
       "      <th>Post patch?</th>\n",
       "      <th>Notes</th>\n",
       "      <th>PCR cycles</th>\n",
       "      <th>SM_QC_PF</th>\n",
       "      <th>Resolution index</th>\n",
       "    </tr>\n",
       "  </thead>\n",
       "  <tbody>\n",
       "    <tr>\n",
       "      <th>5433</th>\n",
       "      <td>2017-06-01</td>\n",
       "      <td>P1</td>\n",
       "      <td>No-Seal</td>\n",
       "      <td>Fluorescence in Pipette,Cell Dimmed,Cell Shrun...</td>\n",
       "      <td>21.0</td>\n",
       "      <td>pass</td>\n",
       "      <td>0.660082</td>\n",
       "    </tr>\n",
       "    <tr>\n",
       "      <th>5434</th>\n",
       "      <td>2017-06-01</td>\n",
       "      <td>P1</td>\n",
       "      <td>Partial-Nucleus</td>\n",
       "      <td>Fluorescence in Pipette,Cell Dimmed,Cell Shrun...</td>\n",
       "      <td>21.0</td>\n",
       "      <td>pass</td>\n",
       "      <td>0.556320</td>\n",
       "    </tr>\n",
       "    <tr>\n",
       "      <th>5435</th>\n",
       "      <td>2017-06-01</td>\n",
       "      <td>P1</td>\n",
       "      <td>Nucleated</td>\n",
       "      <td>Fluorescence in Pipette,Cell Dimmed   Small Bu...</td>\n",
       "      <td>21.0</td>\n",
       "      <td>pass</td>\n",
       "      <td>0.556320</td>\n",
       "    </tr>\n",
       "    <tr>\n",
       "      <th>5436</th>\n",
       "      <td>2017-06-01</td>\n",
       "      <td>P1</td>\n",
       "      <td>Entire-Cell</td>\n",
       "      <td>Fluorescence in Pipette,Cell Dimmed,Cell Shrun...</td>\n",
       "      <td>21.0</td>\n",
       "      <td>pass</td>\n",
       "      <td>0.860881</td>\n",
       "    </tr>\n",
       "    <tr>\n",
       "      <th>5440</th>\n",
       "      <td>2017-06-01</td>\n",
       "      <td>P2</td>\n",
       "      <td>No-Seal</td>\n",
       "      <td>Fluorescence in Pipette Large Bubbles Pretty s...</td>\n",
       "      <td>21.0</td>\n",
       "      <td>pass</td>\n",
       "      <td>0.660082</td>\n",
       "    </tr>\n",
       "  </tbody>\n",
       "</table>\n",
       "</div>"
      ],
      "text/plain": [
       "           Date User      Post patch?  \\\n",
       "5433 2017-06-01   P1          No-Seal   \n",
       "5434 2017-06-01   P1  Partial-Nucleus   \n",
       "5435 2017-06-01   P1        Nucleated   \n",
       "5436 2017-06-01   P1      Entire-Cell   \n",
       "5440 2017-06-01   P2          No-Seal   \n",
       "\n",
       "                                                  Notes  PCR cycles SM_QC_PF  \\\n",
       "5433  Fluorescence in Pipette,Cell Dimmed,Cell Shrun...        21.0     pass   \n",
       "5434  Fluorescence in Pipette,Cell Dimmed,Cell Shrun...        21.0     pass   \n",
       "5435  Fluorescence in Pipette,Cell Dimmed   Small Bu...        21.0     pass   \n",
       "5436  Fluorescence in Pipette,Cell Dimmed,Cell Shrun...        21.0     pass   \n",
       "5440  Fluorescence in Pipette Large Bubbles Pretty s...        21.0     pass   \n",
       "\n",
       "      Resolution index  \n",
       "5433          0.660082  \n",
       "5434          0.556320  \n",
       "5435          0.556320  \n",
       "5436          0.860881  \n",
       "5440          0.660082  "
      ]
     },
     "execution_count": 233,
     "metadata": {},
     "output_type": "execute_result"
    }
   ],
   "source": [
    "ps.dropna(subset = ['Resolution index'], inplace = True)\n",
    "\n",
    "ps.tail()"
   ]
  },
  {
   "cell_type": "code",
   "execution_count": 234,
   "metadata": {
    "collapsed": false
   },
   "outputs": [
    {
     "data": {
      "text/plain": [
       "<matplotlib.axes._subplots.AxesSubplot at 0x13c83d30>"
      ]
     },
     "execution_count": 234,
     "metadata": {},
     "output_type": "execute_result"
    },
    {
     "data": {
      "image/png": "[encoded data removed]",
      "text/plain": [
       "<matplotlib.figure.Figure at 0x10ff5ef0>"
      ]
     },
     "metadata": {},
     "output_type": "display_data"
    }
   ],
   "source": [
    "sns.swarmplot(x='Post patch?', y='Resolution index', hue='User', data=ps)\n"
   ]
  },
  {
   "cell_type": "code",
   "execution_count": 235,
   "metadata": {
    "collapsed": false
   },
   "outputs": [
    {
     "data": {
      "text/plain": [
       "<matplotlib.axes._subplots.AxesSubplot at 0x12eaa4a8>"
      ]
     },
     "execution_count": 235,
     "metadata": {},
     "output_type": "execute_result"
    },
    {
     "data": {
      "image/png": "[encoded data removed]",
      "text/plain": [
       "<matplotlib.figure.Figure at 0x111f1da0>"
      ]
     },
     "metadata": {},
     "output_type": "display_data"
    }
   ],
   "source": [
    "sns.boxplot(x='Post patch?', y='Resolution index', data=ps)"
   ]
  },
  {
   "cell_type": "code",
   "execution_count": 236,
   "metadata": {
    "collapsed": false
   },
   "outputs": [
    {
     "data": {
      "text/plain": [
       "<matplotlib.axes._subplots.AxesSubplot at 0x11b5ef60>"
      ]
     },
     "execution_count": 236,
     "metadata": {},
     "output_type": "execute_result"
    },
    {
     "data": {
      "image/png": "[encoded data removed]",
      "text/plain": [
       "<matplotlib.figure.Figure at 0xfb7e278>"
      ]
     },
     "metadata": {},
     "output_type": "display_data"
    }
   ],
   "source": [
    "sns.violinplot(x='Post patch?', y='Resolution index', data=ps)"
   ]
  },
  {
   "cell_type": "code",
   "execution_count": 237,
   "metadata": {
    "collapsed": false
   },
   "outputs": [
    {
     "data": {
      "text/plain": [
       "<matplotlib.axes._subplots.AxesSubplot at 0x1101f860>"
      ]
     },
     "execution_count": 237,
     "metadata": {},
     "output_type": "execute_result"
    },
    {
     "data": {
      "image/png": "[encoded data removed]",
      "text/plain": [
       "<matplotlib.figure.Figure at 0x12e5d978>"
      ]
     },
     "metadata": {},
     "output_type": "display_data"
    }
   ],
   "source": [
    "sns.violinplot(x='Post patch?', y='Resolution index', data=ps, inner=None)\n",
    "sns.swarmplot(x='Post patch?', y='Resolution index', data=ps, color='w', alpha=.5)"
   ]
  },
  {
   "cell_type": "code",
   "execution_count": 238,
   "metadata": {
    "collapsed": false
   },
   "outputs": [
    {
     "data": {
      "text/html": [
       "<div>\n",
       "<table border=\"1\" class=\"dataframe\">\n",
       "  <thead>\n",
       "    <tr style=\"text-align: right;\">\n",
       "      <th></th>\n",
       "      <th>Date</th>\n",
       "      <th>User</th>\n",
       "      <th>Post patch?</th>\n",
       "      <th>Notes</th>\n",
       "      <th>PCR cycles</th>\n",
       "      <th>SM_QC_PF</th>\n",
       "      <th>Resolution index</th>\n",
       "    </tr>\n",
       "  </thead>\n",
       "  <tbody>\n",
       "    <tr>\n",
       "      <th>4775</th>\n",
       "      <td>2017-04-21</td>\n",
       "      <td>P2</td>\n",
       "      <td>Nucleated</td>\n",
       "      <td>Fluorescence in Pipette</td>\n",
       "      <td>21.0</td>\n",
       "      <td>pass</td>\n",
       "      <td>1.0</td>\n",
       "    </tr>\n",
       "    <tr>\n",
       "      <th>4803</th>\n",
       "      <td>2017-04-24</td>\n",
       "      <td>P2</td>\n",
       "      <td>No-Seal</td>\n",
       "      <td>NaN</td>\n",
       "      <td>21.0</td>\n",
       "      <td>pass</td>\n",
       "      <td>1.0</td>\n",
       "    </tr>\n",
       "    <tr>\n",
       "      <th>4838</th>\n",
       "      <td>2017-04-25</td>\n",
       "      <td>P2</td>\n",
       "      <td>Nucleated</td>\n",
       "      <td>no bubbles during expulsion.</td>\n",
       "      <td>21.0</td>\n",
       "      <td>pass</td>\n",
       "      <td>1.0</td>\n",
       "    </tr>\n",
       "    <tr>\n",
       "      <th>4920</th>\n",
       "      <td>2017-04-28</td>\n",
       "      <td>P2</td>\n",
       "      <td>Partial-Nucleus</td>\n",
       "      <td>no bubbles during expulsion.</td>\n",
       "      <td>21.0</td>\n",
       "      <td>pass</td>\n",
       "      <td>1.0</td>\n",
       "    </tr>\n",
       "    <tr>\n",
       "      <th>4946</th>\n",
       "      <td>2017-05-01</td>\n",
       "      <td>P6</td>\n",
       "      <td>No-Seal</td>\n",
       "      <td>NaN</td>\n",
       "      <td>21.0</td>\n",
       "      <td>pass</td>\n",
       "      <td>1.0</td>\n",
       "    </tr>\n",
       "  </tbody>\n",
       "</table>\n",
       "</div>"
      ],
      "text/plain": [
       "           Date User      Post patch?                         Notes  \\\n",
       "4775 2017-04-21   P2        Nucleated       Fluorescence in Pipette   \n",
       "4803 2017-04-24   P2          No-Seal                           NaN   \n",
       "4838 2017-04-25   P2        Nucleated  no bubbles during expulsion.   \n",
       "4920 2017-04-28   P2  Partial-Nucleus  no bubbles during expulsion.   \n",
       "4946 2017-05-01   P6          No-Seal                           NaN   \n",
       "\n",
       "      PCR cycles SM_QC_PF  Resolution index  \n",
       "4775        21.0     pass               1.0  \n",
       "4803        21.0     pass               1.0  \n",
       "4838        21.0     pass               1.0  \n",
       "4920        21.0     pass               1.0  \n",
       "4946        21.0     pass               1.0  "
      ]
     },
     "execution_count": 238,
     "metadata": {},
     "output_type": "execute_result"
    }
   ],
   "source": [
    "res_1 = ps[ps['Resolution index'] == 1]\n",
    "res_1.head()\n",
    "\n",
    "\n"
   ]
  },
  {
   "cell_type": "code",
   "execution_count": 240,
   "metadata": {
    "collapsed": false
   },
   "outputs": [
    {
     "data": {
      "text/html": [
       "<iframe id=\"igraph\" scrolling=\"no\" style=\"border:none;\" seamless=\"seamless\" src=\"https://plot.ly/~rustymann/17.embed\" height=\"525px\" width=\"100%\"></iframe>"
      ],
      "text/plain": [
       "<plotly.tools.PlotlyDisplay object>"
      ]
     },
     "execution_count": 240,
     "metadata": {},
     "output_type": "execute_result"
    }
   ],
   "source": [
    "import plotly.plotly as py\n",
    "from plotly.graph_objs import *\n",
    "import plotly.figure_factory as ff\n",
    "import plotly.graph_objs as go\n",
    "\n",
    "table = ff.create_table(ps)\n",
    "#py.iplot(table, filename='table1')\n",
    "dots = go.Scatter(x=ps['Post patch?'], y=ps['Resolution index'], mode='markers', name='dots')\n",
    "data = [dots]\n",
    "py.iplot(data, name='scatter')\n",
    "#py.iplot(plotly, x='Post patch?', y='Resolution index')"
   ]
  },
  {
   "cell_type": "code",
   "execution_count": 244,
   "metadata": {
    "collapsed": false
   },
   "outputs": [
    {
     "data": {
      "text/html": [
       "<iframe id=\"igraph\" scrolling=\"no\" style=\"border:none;\" seamless=\"seamless\" src=\"https://plot.ly/~rustymann/11.embed\" height=\"500px\" width=\"800px\"></iframe>"
      ],
      "text/plain": [
       "<plotly.tools.PlotlyDisplay object>"
      ]
     },
     "execution_count": 244,
     "metadata": {},
     "output_type": "execute_result"
    }
   ],
   "source": [
    "from plotly.graph_objs import graph_objs\n",
    "df = ps[['Post patch?','Resolution index']]\n",
    "df = df[df['Post patch?'] != 'missing']\n",
    "fig = ff.create_violin(df, data_header='Resolution index', group_header='Post patch?', height=500, width=800)\n",
    "py.iplot(fig, filename='violin plot')\n"
   ]
  },
  {
   "cell_type": "code",
   "execution_count": 242,
   "metadata": {
    "collapsed": false
   },
   "outputs": [
    {
     "name": "stdout",
     "output_type": "stream",
     "text": [
      "<class 'pandas.core.frame.DataFrame'>\n",
      "Int64Index: 136 entries, 4758 to 5436\n",
      "Data columns (total 7 columns):\n",
      "Date                136 non-null datetime64[ns]\n",
      "User                136 non-null object\n",
      "Post patch?         136 non-null category\n",
      "Notes               124 non-null object\n",
      "PCR cycles          136 non-null float64\n",
      "SM_QC_PF            136 non-null object\n",
      "Resolution index    136 non-null float64\n",
      "dtypes: category(1), datetime64[ns](1), float64(2), object(3)\n",
      "memory usage: 7.6+ KB\n"
     ]
    }
   ],
   "source": [
    "high_res.info()"
   ]
  },
  {
   "cell_type": "code",
   "execution_count": 255,
   "metadata": {
    "collapsed": false
   },
   "outputs": [
    {
     "name": "stdout",
     "output_type": "stream",
     "text": [
      "124\n",
      "totaltracked = 55\n",
      "no bubbles = 17\n",
      "small bubbles 35\n",
      "medium bubbles 5\n"
     ]
    }
   ],
   "source": [
    "ps.dropna(subset = ['Notes'], inplace = True)\n",
    "highres = ps[ps['Resolution index'] >= 0.8]\n",
    "count = highres['User'].count()\n",
    "print count\n",
    "\n",
    "mask0 = highres['Notes'].str.contains('Bubbles')\n",
    "mask1 = highres['Notes'].str.contains('No Bubbles')\n",
    "mask2 = highres['Notes'].str.contains('Small Bubbles')\n",
    "mask3 = highres['Notes'].str.contains('Medium Bubbles')\n",
    "\n",
    "bubbles = highres[mask0]\n",
    "no_bubbles = highres[mask1]\n",
    "small_bubbles = highres[mask2]\n",
    "med_bubbles = highres[mask3]\n",
    "\n",
    "bubble_count = bubbles['Notes'].count()\n",
    "nb_count = no_bubbles['Notes'].count()\n",
    "sb_count = small_bubbles['Notes'].count()\n",
    "mb_count = med_bubbles['Notes'].count()\n",
    "\n",
    "print \"totaltracked =\", bubble_count\n",
    "print \"no bubbles =\", nb_count\n",
    "print \"small bubbles\", sb_count\n",
    "print \"medium bubbles\", mb_count\n"
   ]
  },
  {
   "cell_type": "code",
   "execution_count": null,
   "metadata": {
    "collapsed": true
   },
   "outputs": [],
   "source": []
  },
  {
   "cell_type": "code",
   "execution_count": null,
   "metadata": {
    "collapsed": true
   },
   "outputs": [],
   "source": []
  },
  {
   "cell_type": "code",
   "execution_count": null,
   "metadata": {
    "collapsed": true
   },
   "outputs": [],
   "source": []
  },
  {
   "cell_type": "code",
   "execution_count": null,
   "metadata": {
    "collapsed": true
   },
   "outputs": [],
   "source": []
  },
  {
   "cell_type": "code",
   "execution_count": null,
   "metadata": {
    "collapsed": true
   },
   "outputs": [],
   "source": []
  },
  {
   "cell_type": "code",
   "execution_count": null,
   "metadata": {
    "collapsed": true
   },
   "outputs": [],
   "source": []
  },
  {
   "cell_type": "code",
   "execution_count": null,
   "metadata": {
    "collapsed": true
   },
   "outputs": [],
   "source": []
  },
  {
   "cell_type": "code",
   "execution_count": null,
   "metadata": {
    "collapsed": true
   },
   "outputs": [],
   "source": []
  },
  {
   "cell_type": "code",
   "execution_count": null,
   "metadata": {
    "collapsed": true
   },
   "outputs": [],
   "source": []
  },
  {
   "cell_type": "code",
   "execution_count": null,
   "metadata": {
    "collapsed": true
   },
   "outputs": [],
   "source": []
  },
  {
   "cell_type": "code",
   "execution_count": null,
   "metadata": {
    "collapsed": true
   },
   "outputs": [],
   "source": []
  }
 ],
 "metadata": {
  "anaconda-cloud": {},
  "kernelspec": {
   "display_name": "Python [Root]",
   "language": "python",
   "name": "Python [Root]"
  },
  "language_info": {
   "codemirror_mode": {
    "name": "ipython",
    "version": 2
   },
   "file_extension": ".py",
   "mimetype": "text/x-python",
   "name": "python",
   "nbconvert_exporter": "python",
   "pygments_lexer": "ipython2",
   "version": "2.7.11"
  }
 },
 "nbformat": 4,
 "nbformat_minor": 0
}
