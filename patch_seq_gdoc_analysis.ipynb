{
 "cells": [
  {
   "cell_type": "code",
   "execution_count": 40,
   "metadata": {
    "collapsed": true
   },
   "outputs": [],
   "source": [
    "import csv\n",
    "import pandas as pd\n",
    "import numpy as np\n",
    #"from datetime import datetime"
   ]
  },
  {
   "cell_type": "markdown",
   "metadata": {},
   "source": [
    "# Import Sheet as csv "
   ]
  },
  {
   "cell_type": "code",
   "execution_count": 41,
   "metadata": {
    "collapsed": false
   },
   "outputs": [],
   "source": [
    "ps = pd.read_csv('patch_seq_log_mouse.csv')"
   ]
  },
  {
   "cell_type": "markdown",
   "metadata": {},
   "source": [
    "# Format sheet "
   ]
  },
  {
   "cell_type": "code",
   "execution_count": 42,
   "metadata": {
    "collapsed": false
   },
   "outputs": [
    {
     "data": {
      "text/html": [
       "<div>\n",
       "<table border=\"1\" class=\"dataframe\">\n",
       "  <thead>\n",
       "    <tr style=\"text-align: right;\">\n",
       "      <th></th>\n",
       "      <th>Date</th>\n",
       "      <th>User</th>\n",
       "      <th>File</th>\n",
       "      <th>Post patch?</th>\n",
       "      <th>Notes</th>\n",
       "      <th>Conc.</th>\n",
       "      <th>&gt;400</th>\n",
       "      <th>Ratio</th>\n",
       "      <th>SM_QC_PF</th>\n",
       "    </tr>\n",
       "  </thead>\n",
       "  <tbody>\n",
       "    <tr>\n",
       "      <th>5548</th>\n",
       "      <td>2017-06-09</td>\n",
       "      <td>P1</td>\n",
       "      <td>Chat-IRES-Cre-neo;Ai14-325493.05.01.04</td>\n",
       "      <td>No-Seal</td>\n",
       "      <td>Small Bubbles</td>\n",
       "      <td>1209.6</td>\n",
       "      <td>724</td>\n",
       "      <td>0.6</td>\n",
       "      <td>pass</td>\n",
       "    </tr>\n",
       "    <tr>\n",
       "      <th>5551</th>\n",
       "      <td>2017-06-09</td>\n",
       "      <td>P6</td>\n",
       "      <td>Chat-IRES-Cre-neo;Ai14-325493.03.01.01</td>\n",
       "      <td>Nucleated</td>\n",
       "      <td>No Bubbles</td>\n",
       "      <td>1563.2</td>\n",
       "      <td>1119</td>\n",
       "      <td>0.72</td>\n",
       "      <td>pass</td>\n",
       "    </tr>\n",
       "    <tr>\n",
       "      <th>5552</th>\n",
       "      <td>2017-06-09</td>\n",
       "      <td>P6</td>\n",
       "      <td>Chat-IRES-Cre-neo;Ai14-325493.03.02.01</td>\n",
       "      <td>Partial-Nucleus</td>\n",
       "      <td>NaN</td>\n",
       "      <td>2998.7</td>\n",
       "      <td>1635</td>\n",
       "      <td>0.55</td>\n",
       "      <td>pass</td>\n",
       "    </tr>\n",
       "    <tr>\n",
       "      <th>5553</th>\n",
       "      <td>2017-06-09</td>\n",
       "      <td>P6</td>\n",
       "      <td>Chat-IRES-Cre-neo;Ai14-325493.03.02.02</td>\n",
       "      <td>Partial-Nucleus</td>\n",
       "      <td>NaN</td>\n",
       "      <td>1872.5</td>\n",
       "      <td>1120</td>\n",
       "      <td>0.6</td>\n",
       "      <td>pass</td>\n",
       "    </tr>\n",
       "    <tr>\n",
       "      <th>5554</th>\n",
       "      <td>2017-06-09</td>\n",
       "      <td>P6</td>\n",
       "      <td>Chat-IRES-Cre-neo;Ai14-325493.03.02.03</td>\n",
       "      <td>No-Seal</td>\n",
       "      <td>Fluorescence in Pipette,Cell Dimmed</td>\n",
       "      <td>1070.2</td>\n",
       "      <td>865</td>\n",
       "      <td>0.81</td>\n",
       "      <td>pass</td>\n",
       "    </tr>\n",
       "  </tbody>\n",
       "</table>\n",
       "</div>"
      ],
      "text/plain": [
       "           Date User                                    File      Post patch?  \\\n",
       "5548 2017-06-09   P1  Chat-IRES-Cre-neo;Ai14-325493.05.01.04          No-Seal   \n",
       "5551 2017-06-09   P6  Chat-IRES-Cre-neo;Ai14-325493.03.01.01        Nucleated   \n",
       "5552 2017-06-09   P6  Chat-IRES-Cre-neo;Ai14-325493.03.02.01  Partial-Nucleus   \n",
       "5553 2017-06-09   P6  Chat-IRES-Cre-neo;Ai14-325493.03.02.02  Partial-Nucleus   \n",
       "5554 2017-06-09   P6  Chat-IRES-Cre-neo;Ai14-325493.03.02.03          No-Seal   \n",
       "\n",
       "                                    Notes   Conc.  >400 Ratio SM_QC_PF  \n",
       "5548                        Small Bubbles  1209.6   724   0.6     pass  \n",
       "5551                           No Bubbles  1563.2  1119  0.72     pass  \n",
       "5552                                  NaN  2998.7  1635  0.55     pass  \n",
       "5553                                  NaN  1872.5  1120   0.6     pass  \n",
       "5554  Fluorescence in Pipette,Cell Dimmed  1070.2   865  0.81     pass  "
      ]
     },
     "execution_count": 42,
     "metadata": {},
     "output_type": "execute_result"
    }
   ],
   "source": [
    "ps = ps[[\"Date\", \"User\", \"File\", \"Post patch?\", \"Notes\", \"Conc.\", \">400\", \"Ratio\", \"SM_QC_PF\"]]\n",
    "ps.dropna(subset = [\"SM_QC_PF\", \"Post patch?\"], inplace = True)\n",
    "ps[\"User\"] = ps[\"User\"].astype(\"category\")\n",
    "ps[\"SM_QC_PF\"] = ps[\"SM_QC_PF\"].astype(\"category\")\n",
    "ps[\"Post patch?\"] = ps[\"Post patch?\"].astype(\"category\")\n",
    "ps[\"Conc.\"] = pd.to_numeric(ps[\"Conc.\"].str.replace(' ',''), errors ='force')\n",
    "ps[\"Date\"] = pd.to_datetime(ps[\"Date\"], format = '%y%m%d')\n",
    "ps.tail()"
   ]
  },
  {
   "cell_type": "code",
   "execution_count": 43,
   "metadata": {
    "collapsed": false
   },
   "outputs": [
    {
     "name": "stdout",
     "output_type": "stream",
     "text": [
      "<class 'pandas.core.frame.DataFrame'>\n",
      "Int64Index: 3088 entries, 3 to 5554\n",
      "Data columns (total 9 columns):\n",
      "Date           3088 non-null datetime64[ns]\n",
      "User           3083 non-null category\n",
      "File           3087 non-null object\n",
      "Post patch?    3088 non-null category\n",
      "Notes          1642 non-null object\n",
      "Conc.          3007 non-null float64\n",
      ">400           3083 non-null object\n",
      "Ratio          3007 non-null object\n",
      "SM_QC_PF       3088 non-null category\n",
      "dtypes: category(3), datetime64[ns](1), float64(1), object(4)\n",
      "memory usage: 178.1+ KB\n"
     ]
    }
   ],
   "source": [
    "ps.info()"
   ]
  },
  {
   "cell_type": "markdown",
   "metadata": {},
   "source": [
    "# Filter out controls"
   ]
  },
  {
   "cell_type": "code",
   "execution_count": 44,
   "metadata": {
    "collapsed": false
   },
   "outputs": [
    {
     "data": {
      "text/html": [
       "<div>\n",
       "<table border=\"1\" class=\"dataframe\">\n",
       "  <thead>\n",
       "    <tr style=\"text-align: right;\">\n",
       "      <th></th>\n",
       "      <th>Date</th>\n",
       "      <th>User</th>\n",
       "      <th>File</th>\n",
       "      <th>Post patch?</th>\n",
       "      <th>Notes</th>\n",
       "      <th>Conc.</th>\n",
       "      <th>&gt;400</th>\n",
       "      <th>Ratio</th>\n",
       "      <th>SM_QC_PF</th>\n",
       "    </tr>\n",
       "  </thead>\n",
       "  <tbody>\n",
       "    <tr>\n",
       "      <th>3</th>\n",
       "      <td>2016-03-18</td>\n",
       "      <td>P5</td>\n",
       "      <td>Ndnf - brl_160318_04</td>\n",
       "      <td>Outside-Out</td>\n",
       "      <td>broke in on its own, leaky</td>\n",
       "      <td>320.83</td>\n",
       "      <td>278</td>\n",
       "      <td>0.81</td>\n",
       "      <td>pass</td>\n",
       "    </tr>\n",
       "    <tr>\n",
       "      <th>16</th>\n",
       "      <td>2016-04-06</td>\n",
       "      <td>P5</td>\n",
       "      <td>Ndnf - brl_160406_03</td>\n",
       "      <td>Outside-Out</td>\n",
       "      <td>wiped with kim wipe without water before loadi...</td>\n",
       "      <td>100.61</td>\n",
       "      <td>37.65</td>\n",
       "      <td>NaN</td>\n",
       "      <td>fail</td>\n",
       "    </tr>\n",
       "    <tr>\n",
       "      <th>17</th>\n",
       "      <td>2016-04-06</td>\n",
       "      <td>P5</td>\n",
       "      <td>Ndnf - brl_160406_04</td>\n",
       "      <td>Nucleated</td>\n",
       "      <td>NaN</td>\n",
       "      <td>209.76</td>\n",
       "      <td>167</td>\n",
       "      <td>0.69</td>\n",
       "      <td>pass</td>\n",
       "    </tr>\n",
       "  </tbody>\n",
       "</table>\n",
       "</div>"
      ],
      "text/plain": [
       "         Date User                  File  Post patch?  \\\n",
       "3  2016-03-18   P5  Ndnf - brl_160318_04  Outside-Out   \n",
       "16 2016-04-06   P5  Ndnf - brl_160406_03  Outside-Out   \n",
       "17 2016-04-06   P5  Ndnf - brl_160406_04    Nucleated   \n",
       "\n",
       "                                                Notes   Conc.   >400 Ratio  \\\n",
       "3                          broke in on its own, leaky  320.83    278  0.81   \n",
       "16  wiped with kim wipe without water before loadi...  100.61  37.65   NaN   \n",
       "17                                                NaN  209.76    167  0.69   \n",
       "\n",
       "   SM_QC_PF  \n",
       "3      pass  \n",
       "16     fail  \n",
       "17     pass  "
      ]
     },
     "execution_count": 44,
     "metadata": {},
     "output_type": "execute_result"
    }
   ],
   "source": [
    "ps = ps[ps[\"SM_QC_PF\"] != \"cnt\"]\n",
    "#ps = ps[mask]\n",
    "#ps.info()\n",
    "ps.head(3)"
   ]
  },
  {
   "cell_type": "markdown",
   "metadata": {},
   "source": [
    "# Percentage of nucleated patches passing SM_QC "
   ]
  },
  {
   "cell_type": "code",
   "execution_count": 45,
   "metadata": {
    "collapsed": false,
    "scrolled": true
   },
   "outputs": [
    {
     "data": {
      "text/plain": [
       "548"
      ]
     },
     "execution_count": 45,
     "metadata": {},
     "output_type": "execute_result"
    }
   ],
   "source": [
    "mask = ps[\"Post patch?\"] == \"Nucleated\"\n",
    "mask\n",
    "nuc = ps[mask]\n",
    "nuc\n",
    "nuc_count = nuc[\"Post patch?\"].count()\n",
    "nuc_count"
   ]
  },
  {
   "cell_type": "code",
   "execution_count": 46,
   "metadata": {
    "collapsed": false
   },
   "outputs": [
    {
     "data": {
      "text/plain": [
       "Outside-Out                       1156\n",
       "No-Seal                            969\n",
       "Nucleated                          548\n",
       "Partial-Nucleus                    356\n",
       "Entire-Cell                         36\n",
       "no-seal                              5\n",
       "Entire-Cell?                         3\n",
       "partial Nucleated                    2\n",
       "no -seal                             1\n",
       "n                                    1\n",
       "missing                              1\n",
       "leaky Outside-Out                    1\n",
       "outside-out                          1\n",
       "Outside-Out?                         1\n",
       "Nucleated patch                      1\n",
       "Nucleated (maybe Entire-Cell?)       1\n",
       "nucelated                            1\n",
       "nucleus                              1\n",
       "Name: Post patch?, dtype: int64"
      ]
     },
     "execution_count": 46,
     "metadata": {},
     "output_type": "execute_result"
    }
   ],
   "source": [
    "ps[\"Post patch?\"].value_counts()"
   ]
  },
  {
   "cell_type": "code",
   "execution_count": 47,
   "metadata": {
    "collapsed": false,
    "scrolled": true
   },
   "outputs": [
    {
     "data": {
      "text/plain": [
       "3      True\n",
       "16    False\n",
       "17     True\n",
       "18     True\n",
       "20     True\n",
       "Name: SM_QC_PF, dtype: bool"
      ]
     },
     "execution_count": 47,
     "metadata": {},
     "output_type": "execute_result"
    }
   ],
   "source": [
    "pas = ps[\"SM_QC_PF\"] == \"pass\"\n",
    "pas.head()"
   ]
  },
  {
   "cell_type": "code",
   "execution_count": 48,
   "metadata": {
    "collapsed": false,
    "scrolled": true
   },
   "outputs": [
    {
     "data": {
      "text/html": [
       "<div>\n",
       "<table border=\"1\" class=\"dataframe\">\n",
       "  <thead>\n",
       "    <tr style=\"text-align: right;\">\n",
       "      <th></th>\n",
       "      <th>Date</th>\n",
       "      <th>User</th>\n",
       "      <th>File</th>\n",
       "      <th>Post patch?</th>\n",
       "      <th>Notes</th>\n",
       "      <th>Conc.</th>\n",
       "      <th>&gt;400</th>\n",
       "      <th>Ratio</th>\n",
       "      <th>SM_QC_PF</th>\n",
       "    </tr>\n",
       "  </thead>\n",
       "  <tbody>\n",
       "    <tr>\n",
       "      <th>17</th>\n",
       "      <td>2016-04-06</td>\n",
       "      <td>P5</td>\n",
       "      <td>Ndnf - brl_160406_04</td>\n",
       "      <td>Nucleated</td>\n",
       "      <td>NaN</td>\n",
       "      <td>209.76</td>\n",
       "      <td>167</td>\n",
       "      <td>0.69</td>\n",
       "      <td>pass</td>\n",
       "    </tr>\n",
       "    <tr>\n",
       "      <th>69</th>\n",
       "      <td>2016-04-12</td>\n",
       "      <td>P5</td>\n",
       "      <td>Rorb - brl_160412_01</td>\n",
       "      <td>Nucleated</td>\n",
       "      <td>couldnt see flourescence - cell too deep, but ...</td>\n",
       "      <td>195.16</td>\n",
       "      <td>183</td>\n",
       "      <td>0.87</td>\n",
       "      <td>pass</td>\n",
       "    </tr>\n",
       "    <tr>\n",
       "      <th>109</th>\n",
       "      <td>2016-04-18</td>\n",
       "      <td>P5</td>\n",
       "      <td>Chat - brl_160418_02</td>\n",
       "      <td>Nucleated</td>\n",
       "      <td>coudlnt get gigaseal, put still saw flur in pi...</td>\n",
       "      <td>135.75</td>\n",
       "      <td>116</td>\n",
       "      <td>0.85</td>\n",
       "      <td>pass</td>\n",
       "    </tr>\n",
       "    <tr>\n",
       "      <th>112</th>\n",
       "      <td>2016-04-18</td>\n",
       "      <td>P5</td>\n",
       "      <td>Chat - brl_160418_05</td>\n",
       "      <td>Nucleated</td>\n",
       "      <td>lost seal at  3 mins but still able to pull ou...</td>\n",
       "      <td>158.45</td>\n",
       "      <td>113</td>\n",
       "      <td>0.62</td>\n",
       "      <td>pass</td>\n",
       "    </tr>\n",
       "    <tr>\n",
       "      <th>125</th>\n",
       "      <td>2016-04-19</td>\n",
       "      <td>P1</td>\n",
       "      <td>Chat - kjh_160419_03</td>\n",
       "      <td>Nucleated</td>\n",
       "      <td>saw fluorescence in pipette</td>\n",
       "      <td>423.02</td>\n",
       "      <td>203</td>\n",
       "      <td>0.48</td>\n",
       "      <td>pass</td>\n",
       "    </tr>\n",
       "  </tbody>\n",
       "</table>\n",
       "</div>"
      ],
      "text/plain": [
       "          Date User                  File Post patch?  \\\n",
       "17  2016-04-06   P5  Ndnf - brl_160406_04   Nucleated   \n",
       "69  2016-04-12   P5  Rorb - brl_160412_01   Nucleated   \n",
       "109 2016-04-18   P5  Chat - brl_160418_02   Nucleated   \n",
       "112 2016-04-18   P5  Chat - brl_160418_05   Nucleated   \n",
       "125 2016-04-19   P1  Chat - kjh_160419_03   Nucleated   \n",
       "\n",
       "                                                 Notes   Conc. >400 Ratio  \\\n",
       "17                                                 NaN  209.76  167  0.69   \n",
       "69   couldnt see flourescence - cell too deep, but ...  195.16  183  0.87   \n",
       "109  coudlnt get gigaseal, put still saw flur in pi...  135.75  116  0.85   \n",
       "112  lost seal at  3 mins but still able to pull ou...  158.45  113  0.62   \n",
       "125                        saw fluorescence in pipette  423.02  203  0.48   \n",
       "\n",
       "    SM_QC_PF  \n",
       "17      pass  \n",
       "69      pass  \n",
       "109     pass  \n",
       "112     pass  \n",
       "125     pass  "
      ]
     },
     "execution_count": 48,
     "metadata": {},
     "output_type": "execute_result"
    }
   ],
   "source": [
    "np = ps[mask & pas]\n",
    "np.head()"
   ]
  },
  {
   "cell_type": "code",
   "execution_count": 49,
   "metadata": {
    "collapsed": false
   },
   "outputs": [
    {
     "data": {
      "text/plain": [
       "434"
      ]
     },
     "execution_count": 49,
     "metadata": {},
     "output_type": "execute_result"
    }
   ],
   "source": [
    "nuc_pass = np[\"Post patch?\"].count()\n",
    "nuc_pass\n",
    "#np[\"Post patch?\"].count()"
   ]
  },
  {
   "cell_type": "code",
   "execution_count": 50,
   "metadata": {
    "collapsed": false
   },
   "outputs": [
    {
     "data": {
      "text/plain": [
       "0.791970802919708"
      ]
     },
     "execution_count": 50,
     "metadata": {},
     "output_type": "execute_result"
    }
   ],
   "source": [
    "float(nuc_pass)/nuc_count"
   ]
  },
  {
   "cell_type": "markdown",
   "metadata": {},
   "source": [
    "# Bubbles Analysis "
   ]
  },
  {
   "cell_type": "code",
   "execution_count": 51,
   "metadata": {
    "collapsed": false,
    "scrolled": true
   },
   "outputs": [
    {
     "data": {
      "text/html": [
       "<div>\n",
       "<table border=\"1\" class=\"dataframe\">\n",
       "  <thead>\n",
       "    <tr style=\"text-align: right;\">\n",
       "      <th></th>\n",
       "      <th>Date</th>\n",
       "      <th>User</th>\n",
       "      <th>File</th>\n",
       "      <th>Post patch?</th>\n",
       "      <th>Notes</th>\n",
       "      <th>Conc.</th>\n",
       "      <th>&gt;400</th>\n",
       "      <th>Ratio</th>\n",
       "      <th>SM_QC_PF</th>\n",
       "    </tr>\n",
       "  </thead>\n",
       "  <tbody>\n",
       "    <tr>\n",
       "      <th>3</th>\n",
       "      <td>2016-03-18</td>\n",
       "      <td>P5</td>\n",
       "      <td>Ndnf - brl_160318_04</td>\n",
       "      <td>Outside-Out</td>\n",
       "      <td>broke in on its own, leaky</td>\n",
       "      <td>320.83</td>\n",
       "      <td>278</td>\n",
       "      <td>0.81</td>\n",
       "      <td>pass</td>\n",
       "    </tr>\n",
       "    <tr>\n",
       "      <th>16</th>\n",
       "      <td>2016-04-06</td>\n",
       "      <td>P5</td>\n",
       "      <td>Ndnf - brl_160406_03</td>\n",
       "      <td>Outside-Out</td>\n",
       "      <td>wiped with kim wipe without water before loadi...</td>\n",
       "      <td>100.61</td>\n",
       "      <td>37.65</td>\n",
       "      <td>NaN</td>\n",
       "      <td>fail</td>\n",
       "    </tr>\n",
       "    <tr>\n",
       "      <th>18</th>\n",
       "      <td>2016-04-06</td>\n",
       "      <td>P5</td>\n",
       "      <td>Ndnf - brl_160406_05</td>\n",
       "      <td>Partial-Nucleus</td>\n",
       "      <td>cell swelled</td>\n",
       "      <td>125.58</td>\n",
       "      <td>92</td>\n",
       "      <td>0.61</td>\n",
       "      <td>pass</td>\n",
       "    </tr>\n",
       "    <tr>\n",
       "      <th>29</th>\n",
       "      <td>2016-04-07</td>\n",
       "      <td>P1</td>\n",
       "      <td>Ndnf - kjh_160407_03</td>\n",
       "      <td>Nucleated patch</td>\n",
       "      <td>cell swelled, no fluorescence visible in pipette</td>\n",
       "      <td>114.09</td>\n",
       "      <td>96</td>\n",
       "      <td>0.73</td>\n",
       "      <td>pass</td>\n",
       "    </tr>\n",
       "    <tr>\n",
       "      <th>30</th>\n",
       "      <td>2016-04-07</td>\n",
       "      <td>P1</td>\n",
       "      <td>Ndnf - kjh_160407_04</td>\n",
       "      <td>Partial-Nucleus</td>\n",
       "      <td>cell swelled a lot, no fluorescence visible in...</td>\n",
       "      <td>129.23</td>\n",
       "      <td>111</td>\n",
       "      <td>0.79</td>\n",
       "      <td>pass</td>\n",
       "    </tr>\n",
       "  </tbody>\n",
       "</table>\n",
       "</div>"
      ],
      "text/plain": [
       "         Date User                  File      Post patch?  \\\n",
       "3  2016-03-18   P5  Ndnf - brl_160318_04      Outside-Out   \n",
       "16 2016-04-06   P5  Ndnf - brl_160406_03      Outside-Out   \n",
       "18 2016-04-06   P5  Ndnf - brl_160406_05  Partial-Nucleus   \n",
       "29 2016-04-07   P1  Ndnf - kjh_160407_03  Nucleated patch   \n",
       "30 2016-04-07   P1  Ndnf - kjh_160407_04  Partial-Nucleus   \n",
       "\n",
       "                                                Notes   Conc.   >400 Ratio  \\\n",
       "3                          broke in on its own, leaky  320.83    278  0.81   \n",
       "16  wiped with kim wipe without water before loadi...  100.61  37.65   NaN   \n",
       "18                                       cell swelled  125.58     92  0.61   \n",
       "29   cell swelled, no fluorescence visible in pipette  114.09     96  0.73   \n",
       "30  cell swelled a lot, no fluorescence visible in...  129.23    111  0.79   \n",
       "\n",
       "   SM_QC_PF  \n",
       "3      pass  \n",
       "16     fail  \n",
       "18     pass  \n",
       "29     pass  \n",
       "30     pass  "
      ]
     },
     "execution_count": 51,
     "metadata": {},
     "output_type": "execute_result"
    }
   ],
   "source": [
    "bubbles = ps.dropna(subset = [\"Notes\"])\n",
    "bubbles.head()"
   ]
  },
  {
   "cell_type": "markdown",
   "metadata": {},
   "source": [
    "# No Bubbles Analysis"
   ]
  },
  {
   "cell_type": "code",
   "execution_count": 52,
   "metadata": {
    "collapsed": false,
    "scrolled": false
   },
   "outputs": [
    {
     "data": {
      "text/plain": [
       "58"
      ]
     },
     "execution_count": 52,
     "metadata": {},
     "output_type": "execute_result"
    }
   ],
   "source": [
    "mask2 = bubbles[\"Notes\"].str.contains(\"No Bubbles\")\n",
    "no_bubbles = bubbles[mask2]\n",
    "no_bubbles.head(3)\n",
    "nb = no_bubbles[\"Notes\"].count()\n",
    "nb"
   ]
  },
  {
   "cell_type": "code",
   "execution_count": 53,
   "metadata": {
    "collapsed": false,
    "scrolled": true
   },
   "outputs": [
    {
     "name": "stdout",
     "output_type": "stream",
     "text": [
      "<class 'pandas.core.frame.DataFrame'>\n",
      "Int64Index: 58 entries, 5216 to 5551\n",
      "Data columns (total 9 columns):\n",
      "Date           58 non-null datetime64[ns]\n",
      "User           58 non-null category\n",
      "File           58 non-null object\n",
      "Post patch?    58 non-null category\n",
      "Notes          58 non-null object\n",
      "Conc.          58 non-null float64\n",
      ">400           58 non-null object\n",
      "Ratio          58 non-null object\n",
      "SM_QC_PF       58 non-null category\n",
      "dtypes: category(3), datetime64[ns](1), float64(1), object(4)\n",
      "memory usage: 3.6+ KB\n"
     ]
    }
   ],
   "source": [
    "no_bubbles.info()"
   ]
  },
  {
   "cell_type": "code",
   "execution_count": 54,
   "metadata": {
    "collapsed": false,
    "scrolled": true
   },
   "outputs": [
    {
     "data": {
      "text/html": [
       "<div>\n",
       "<table border=\"1\" class=\"dataframe\">\n",
       "  <thead>\n",
       "    <tr style=\"text-align: right;\">\n",
       "      <th></th>\n",
       "      <th>Date</th>\n",
       "      <th>User</th>\n",
       "      <th>File</th>\n",
       "      <th>Post patch?</th>\n",
       "      <th>Notes</th>\n",
       "      <th>Conc.</th>\n",
       "      <th>&gt;400</th>\n",
       "      <th>Ratio</th>\n",
       "      <th>SM_QC_PF</th>\n",
       "    </tr>\n",
       "  </thead>\n",
       "  <tbody>\n",
       "    <tr>\n",
       "      <th>5216</th>\n",
       "      <td>2017-05-16</td>\n",
       "      <td>P2</td>\n",
       "      <td>Gad2-IRES-Cre;Ai14-318382.03.02.02</td>\n",
       "      <td>Nucleated</td>\n",
       "      <td>No Bubbles</td>\n",
       "      <td>904.0</td>\n",
       "      <td>644</td>\n",
       "      <td>0.71</td>\n",
       "      <td>pass</td>\n",
       "    </tr>\n",
       "    <tr>\n",
       "      <th>5217</th>\n",
       "      <td>2017-05-16</td>\n",
       "      <td>P2</td>\n",
       "      <td>Gad2-IRES-Cre;Ai14-318382.03.02.03</td>\n",
       "      <td>Nucleated</td>\n",
       "      <td>No Bubbles</td>\n",
       "      <td>760.2</td>\n",
       "      <td>570</td>\n",
       "      <td>0.75</td>\n",
       "      <td>pass</td>\n",
       "    </tr>\n",
       "    <tr>\n",
       "      <th>5240</th>\n",
       "      <td>2017-05-17</td>\n",
       "      <td>P2</td>\n",
       "      <td>Gad2-IRES-Cre;Ai14-318381.03.02.01</td>\n",
       "      <td>Partial-Nucleus</td>\n",
       "      <td>No Bubbles got nucleus and gigaohm seal but th...</td>\n",
       "      <td>2569.0</td>\n",
       "      <td>750</td>\n",
       "      <td>0.29</td>\n",
       "      <td>pass</td>\n",
       "    </tr>\n",
       "    <tr>\n",
       "      <th>5242</th>\n",
       "      <td>2017-05-17</td>\n",
       "      <td>P2</td>\n",
       "      <td>Gad2-IRES-Cre;Ai14-318381.03.02.03</td>\n",
       "      <td>Outside-Out</td>\n",
       "      <td>No Bubbles lost seal on cell during extraction...</td>\n",
       "      <td>758.6</td>\n",
       "      <td>608</td>\n",
       "      <td>0.8</td>\n",
       "      <td>pass</td>\n",
       "    </tr>\n",
       "    <tr>\n",
       "      <th>5244</th>\n",
       "      <td>2017-05-17</td>\n",
       "      <td>P2</td>\n",
       "      <td>Gad2-IRES-Cre;Ai14-318381.04.02.02</td>\n",
       "      <td>Nucleated</td>\n",
       "      <td>No Bubbles</td>\n",
       "      <td>644.3</td>\n",
       "      <td>423</td>\n",
       "      <td>0.66</td>\n",
       "      <td>pass</td>\n",
       "    </tr>\n",
       "  </tbody>\n",
       "</table>\n",
       "</div>"
      ],
      "text/plain": [
       "           Date User                                File      Post patch?  \\\n",
       "5216 2017-05-16   P2  Gad2-IRES-Cre;Ai14-318382.03.02.02        Nucleated   \n",
       "5217 2017-05-16   P2  Gad2-IRES-Cre;Ai14-318382.03.02.03        Nucleated   \n",
       "5240 2017-05-17   P2  Gad2-IRES-Cre;Ai14-318381.03.02.01  Partial-Nucleus   \n",
       "5242 2017-05-17   P2  Gad2-IRES-Cre;Ai14-318381.03.02.03      Outside-Out   \n",
       "5244 2017-05-17   P2  Gad2-IRES-Cre;Ai14-318381.04.02.02        Nucleated   \n",
       "\n",
       "                                                  Notes   Conc. >400 Ratio  \\\n",
       "5216                                         No Bubbles   904.0  644  0.71   \n",
       "5217                                         No Bubbles   760.2  570  0.75   \n",
       "5240  No Bubbles got nucleus and gigaohm seal but th...  2569.0  750  0.29   \n",
       "5242  No Bubbles lost seal on cell during extraction...   758.6  608   0.8   \n",
       "5244                                         No Bubbles   644.3  423  0.66   \n",
       "\n",
       "     SM_QC_PF  \n",
       "5216     pass  \n",
       "5217     pass  \n",
       "5240     pass  \n",
       "5242     pass  \n",
       "5244     pass  "
      ]
     },
     "execution_count": 54,
     "metadata": {},
     "output_type": "execute_result"
    }
   ],
   "source": [
    "bubb_pass = bubbles[\"SM_QC_PF\"] == 'pass'\n",
    "nb_pass = bubbles[mask2 & bubb_pass]\n",
    "nb_pass.head()"
   ]
  },
  {
   "cell_type": "markdown",
   "metadata": {},
   "source": [
    "# No bubbles pass percentage "
   ]
  },
  {
   "cell_type": "code",
   "execution_count": 55,
   "metadata": {
    "collapsed": false
   },
   "outputs": [
    {
     "data": {
      "text/plain": [
       "0.8793103448275862"
      ]
     },
     "execution_count": 55,
     "metadata": {},
     "output_type": "execute_result"
    }
   ],
   "source": [
    "'''No bubbles pass percentage'''\n",
    "nb_p = nb_pass[\"Notes\"].count()\n",
    "nb_p\n",
    "nb_pp = float(nb_p) / nb\n",
    "nb_pp"
   ]
  },
  {
   "cell_type": "markdown",
   "metadata": {},
   "source": [
    "# Small Bubbles Analysis"
   ]
  },
  {
   "cell_type": "code",
   "execution_count": 56,
   "metadata": {
    "collapsed": false,
    "scrolled": true
   },
   "outputs": [
    {
     "data": {
      "text/plain": [
       "131"
      ]
     },
     "execution_count": 56,
     "metadata": {},
     "output_type": "execute_result"
    }
   ],
   "source": [
    "mask3 = bubbles[\"Notes\"].str.contains(\"Small Bubbles\")\n",
    "#mask3\n",
    "sm_bubbles = bubbles[mask3]\n",
    "sm_bubbles\n",
    "sb = sm_bubbles[\"Notes\"].count()\n",
    "sb\n",
    "#sm_bubbles[\"Conc.\"].sort_values()"
   ]
  },
  {
   "cell_type": "code",
   "execution_count": 57,
   "metadata": {
    "collapsed": false
   },
   "outputs": [
    {
     "name": "stdout",
     "output_type": "stream",
     "text": [
      "<class 'pandas.core.frame.DataFrame'>\n",
      "Int64Index: 131 entries, 5209 to 5548\n",
      "Data columns (total 9 columns):\n",
      "Date           131 non-null datetime64[ns]\n",
      "User           131 non-null category\n",
      "File           131 non-null object\n",
      "Post patch?    131 non-null category\n",
      "Notes          131 non-null object\n",
      "Conc.          131 non-null float64\n",
      ">400           131 non-null object\n",
      "Ratio          131 non-null object\n",
      "SM_QC_PF       131 non-null category\n",
      "dtypes: category(3), datetime64[ns](1), float64(1), object(4)\n",
      "memory usage: 7.8+ KB\n"
     ]
    }
   ],
   "source": [
    "sm_bubbles.info()"
   ]
  },
  {
   "cell_type": "code",
   "execution_count": 58,
   "metadata": {
    "collapsed": false,
    "scrolled": true
   },
   "outputs": [
    {
     "data": {
      "text/html": [
       "<div>\n",
       "<table border=\"1\" class=\"dataframe\">\n",
       "  <thead>\n",
       "    <tr style=\"text-align: right;\">\n",
       "      <th></th>\n",
       "      <th>Date</th>\n",
       "      <th>User</th>\n",
       "      <th>File</th>\n",
       "      <th>Post patch?</th>\n",
       "      <th>Notes</th>\n",
       "      <th>Conc.</th>\n",
       "      <th>&gt;400</th>\n",
       "      <th>Ratio</th>\n",
       "      <th>SM_QC_PF</th>\n",
       "    </tr>\n",
       "  </thead>\n",
       "  <tbody>\n",
       "    <tr>\n",
       "      <th>5211</th>\n",
       "      <td>2017-05-16</td>\n",
       "      <td>P1</td>\n",
       "      <td>Gad2-IRES-Cre;Ai14-318382.04.01.03</td>\n",
       "      <td>Nucleated</td>\n",
       "      <td>Small Bubbles</td>\n",
       "      <td>713.7</td>\n",
       "      <td>504</td>\n",
       "      <td>0.71</td>\n",
       "      <td>pass</td>\n",
       "    </tr>\n",
       "    <tr>\n",
       "      <th>5215</th>\n",
       "      <td>2017-05-16</td>\n",
       "      <td>P2</td>\n",
       "      <td>Gad2-IRES-Cre;Ai14-318382.03.02.01</td>\n",
       "      <td>Outside-Out</td>\n",
       "      <td>Small Bubbles</td>\n",
       "      <td>1338.9</td>\n",
       "      <td>758</td>\n",
       "      <td>0.57</td>\n",
       "      <td>pass</td>\n",
       "    </tr>\n",
       "    <tr>\n",
       "      <th>5228</th>\n",
       "      <td>2017-05-17</td>\n",
       "      <td>P1</td>\n",
       "      <td>Gad2-IRES-Cre;Ai14-318381.03.01.01</td>\n",
       "      <td>Nucleated</td>\n",
       "      <td>Small Bubbles,Medium Bubbles</td>\n",
       "      <td>866.1</td>\n",
       "      <td>580</td>\n",
       "      <td>0.67</td>\n",
       "      <td>pass</td>\n",
       "    </tr>\n",
       "    <tr>\n",
       "      <th>5229</th>\n",
       "      <td>2017-05-17</td>\n",
       "      <td>P1</td>\n",
       "      <td>Gad2-IRES-Cre;Ai14-318381.03.01.02</td>\n",
       "      <td>Partial-Nucleus</td>\n",
       "      <td>Small Bubbles</td>\n",
       "      <td>382.8</td>\n",
       "      <td>229</td>\n",
       "      <td>0.6</td>\n",
       "      <td>pass</td>\n",
       "    </tr>\n",
       "    <tr>\n",
       "      <th>5230</th>\n",
       "      <td>2017-05-17</td>\n",
       "      <td>P1</td>\n",
       "      <td>Gad2-IRES-Cre;Ai14-318381.03.01.03</td>\n",
       "      <td>Nucleated</td>\n",
       "      <td>Small Bubbles</td>\n",
       "      <td>1712.6</td>\n",
       "      <td>1197</td>\n",
       "      <td>0.7</td>\n",
       "      <td>pass</td>\n",
       "    </tr>\n",
       "  </tbody>\n",
       "</table>\n",
       "</div>"
      ],
      "text/plain": [
       "           Date User                                File      Post patch?  \\\n",
       "5211 2017-05-16   P1  Gad2-IRES-Cre;Ai14-318382.04.01.03        Nucleated   \n",
       "5215 2017-05-16   P2  Gad2-IRES-Cre;Ai14-318382.03.02.01      Outside-Out   \n",
       "5228 2017-05-17   P1  Gad2-IRES-Cre;Ai14-318381.03.01.01        Nucleated   \n",
       "5229 2017-05-17   P1  Gad2-IRES-Cre;Ai14-318381.03.01.02  Partial-Nucleus   \n",
       "5230 2017-05-17   P1  Gad2-IRES-Cre;Ai14-318381.03.01.03        Nucleated   \n",
       "\n",
       "                             Notes   Conc.  >400 Ratio SM_QC_PF  \n",
       "5211                 Small Bubbles   713.7   504  0.71     pass  \n",
       "5215                 Small Bubbles  1338.9   758  0.57     pass  \n",
       "5228  Small Bubbles,Medium Bubbles   866.1   580  0.67     pass  \n",
       "5229                 Small Bubbles   382.8   229   0.6     pass  \n",
       "5230                 Small Bubbles  1712.6  1197   0.7     pass  "
      ]
     },
     "execution_count": 58,
     "metadata": {},
     "output_type": "execute_result"
    }
   ],
   "source": [
    "sb_pass = bubbles[mask3 & bubb_pass]\n",
    "sb_pass.head()"
   ]
  },
  {
   "cell_type": "code",
   "execution_count": 59,
   "metadata": {
    "collapsed": false
   },
   "outputs": [
    {
     "name": "stdout",
     "output_type": "stream",
     "text": [
      "<class 'pandas.core.frame.DataFrame'>\n",
      "Int64Index: 97 entries, 5211 to 5548\n",
      "Data columns (total 9 columns):\n",
      "Date           97 non-null datetime64[ns]\n",
      "User           97 non-null category\n",
      "File           97 non-null object\n",
      "Post patch?    97 non-null category\n",
      "Notes          97 non-null object\n",
      "Conc.          97 non-null float64\n",
      ">400           97 non-null object\n",
      "Ratio          97 non-null object\n",
      "SM_QC_PF       97 non-null category\n",
      "dtypes: category(3), datetime64[ns](1), float64(1), object(4)\n",
      "memory usage: 5.8+ KB\n"
     ]
    }
   ],
   "source": [
    "sb_pass.info()"
   ]
  },
  {
   "cell_type": "markdown",
   "metadata": {},
   "source": [
    "# Small bubbles pass percentage"
   ]
  },
  {
   "cell_type": "code",
   "execution_count": 60,
   "metadata": {
    "collapsed": false
   },
   "outputs": [
    {
     "data": {
      "text/plain": [
       "0.7404580152671756"
      ]
     },
     "execution_count": 60,
     "metadata": {},
     "output_type": "execute_result"
    }
   ],
   "source": [
    "sb_p = sb_pass[\"Notes\"].count()\n",
    "sb_pp = float(sb_p) / sb\n",
    "sb_pp"
   ]
  },
  {
   "cell_type": "markdown",
   "metadata": {},
   "source": [
    "# Medium Bubbles Analysis"
   ]
  },
  {
   "cell_type": "code",
   "execution_count": 61,
   "metadata": {
    "collapsed": false,
    "scrolled": true
   },
   "outputs": [
    {
     "data": {
      "text/plain": [
       "33"
      ]
     },
     "execution_count": 61,
     "metadata": {},
     "output_type": "execute_result"
    }
   ],
   "source": [
    "mask4 = bubbles[\"Notes\"].str.contains(\"Medium Bubbles\")\n",
    "med_bubbles = bubbles[mask4]\n",
    "med_bubbles\n",
    "mb = med_bubbles[\"Notes\"].count()\n",
    "mb\n",
    "#med_bubbles[\"Conc.\"].sort_values()\n",
    "#med_bubbles.sort_values(\"Conc.\")"
   ]
  },
  {
   "cell_type": "code",
   "execution_count": 62,
   "metadata": {
    "collapsed": false,
    "scrolled": true
   },
   "outputs": [
    {
     "data": {
      "text/html": [
       "<div>\n",
       "<table border=\"1\" class=\"dataframe\">\n",
       "  <thead>\n",
       "    <tr style=\"text-align: right;\">\n",
       "      <th></th>\n",
       "      <th>Date</th>\n",
       "      <th>User</th>\n",
       "      <th>File</th>\n",
       "      <th>Post patch?</th>\n",
       "      <th>Notes</th>\n",
       "      <th>Conc.</th>\n",
       "      <th>&gt;400</th>\n",
       "      <th>Ratio</th>\n",
       "      <th>SM_QC_PF</th>\n",
       "    </tr>\n",
       "  </thead>\n",
       "  <tbody>\n",
       "    <tr>\n",
       "      <th>5228</th>\n",
       "      <td>2017-05-17</td>\n",
       "      <td>P1</td>\n",
       "      <td>Gad2-IRES-Cre;Ai14-318381.03.01.01</td>\n",
       "      <td>Nucleated</td>\n",
       "      <td>Small Bubbles,Medium Bubbles</td>\n",
       "      <td>866.1</td>\n",
       "      <td>580</td>\n",
       "      <td>0.67</td>\n",
       "      <td>pass</td>\n",
       "    </tr>\n",
       "    <tr>\n",
       "      <th>5236</th>\n",
       "      <td>2017-05-17</td>\n",
       "      <td>P1</td>\n",
       "      <td>Gad2-IRES-Cre;Ai14-318381.05.01.05</td>\n",
       "      <td>Nucleated</td>\n",
       "      <td>Small Bubbles,Medium Bubbles</td>\n",
       "      <td>919.8</td>\n",
       "      <td>697</td>\n",
       "      <td>0.76</td>\n",
       "      <td>pass</td>\n",
       "    </tr>\n",
       "    <tr>\n",
       "      <th>5262</th>\n",
       "      <td>2017-05-18</td>\n",
       "      <td>P1</td>\n",
       "      <td>Pvalb-IRES-Cre;Ai14-316465.04.01.03</td>\n",
       "      <td>Outside-Out</td>\n",
       "      <td>Cell Dimmed   Small Bubbles,Medium Bubbles</td>\n",
       "      <td>813.3</td>\n",
       "      <td>517</td>\n",
       "      <td>0.64</td>\n",
       "      <td>pass</td>\n",
       "    </tr>\n",
       "    <tr>\n",
       "      <th>5300</th>\n",
       "      <td>2017-05-19</td>\n",
       "      <td>P1</td>\n",
       "      <td>Gad2-IRES-Cre;Ai14-318383.04.02.03</td>\n",
       "      <td>No-Seal</td>\n",
       "      <td>Fluorescence in Pipette,Cell Dimmed,Cell Shrun...</td>\n",
       "      <td>641.8</td>\n",
       "      <td>457</td>\n",
       "      <td>0.71</td>\n",
       "      <td>pass</td>\n",
       "    </tr>\n",
       "    <tr>\n",
       "      <th>5302</th>\n",
       "      <td>2017-05-19</td>\n",
       "      <td>P1</td>\n",
       "      <td>Gad2-IRES-Cre;Ai14-318383.04.02.05</td>\n",
       "      <td>Nucleated</td>\n",
       "      <td>Cell Dimmed   Medium Bubbles</td>\n",
       "      <td>748.5</td>\n",
       "      <td>597</td>\n",
       "      <td>0.8</td>\n",
       "      <td>pass</td>\n",
       "    </tr>\n",
       "  </tbody>\n",
       "</table>\n",
       "</div>"
      ],
      "text/plain": [
       "           Date User                                 File  Post patch?  \\\n",
       "5228 2017-05-17   P1   Gad2-IRES-Cre;Ai14-318381.03.01.01    Nucleated   \n",
       "5236 2017-05-17   P1   Gad2-IRES-Cre;Ai14-318381.05.01.05    Nucleated   \n",
       "5262 2017-05-18   P1  Pvalb-IRES-Cre;Ai14-316465.04.01.03  Outside-Out   \n",
       "5300 2017-05-19   P1   Gad2-IRES-Cre;Ai14-318383.04.02.03      No-Seal   \n",
       "5302 2017-05-19   P1   Gad2-IRES-Cre;Ai14-318383.04.02.05    Nucleated   \n",
       "\n",
       "                                                  Notes  Conc. >400 Ratio  \\\n",
       "5228                       Small Bubbles,Medium Bubbles  866.1  580  0.67   \n",
       "5236                       Small Bubbles,Medium Bubbles  919.8  697  0.76   \n",
       "5262         Cell Dimmed   Small Bubbles,Medium Bubbles  813.3  517  0.64   \n",
       "5300  Fluorescence in Pipette,Cell Dimmed,Cell Shrun...  641.8  457  0.71   \n",
       "5302                       Cell Dimmed   Medium Bubbles  748.5  597   0.8   \n",
       "\n",
       "     SM_QC_PF  \n",
       "5228     pass  \n",
       "5236     pass  \n",
       "5262     pass  \n",
       "5300     pass  \n",
       "5302     pass  "
      ]
     },
     "execution_count": 62,
     "metadata": {},
     "output_type": "execute_result"
    }
   ],
   "source": [
    "mb_pass = bubbles[mask4 & bubb_pass]\n",
    "mb_pass.head()"
   ]
  },
  {
   "cell_type": "markdown",
   "metadata": {},
   "source": [
    "# Medium bubbles pass percentage"
   ]
  },
  {
   "cell_type": "code",
   "execution_count": 63,
   "metadata": {
    "collapsed": false
   },
   "outputs": [
    {
     "data": {
      "text/plain": [
       "0.7272727272727273"
      ]
     },
     "execution_count": 63,
     "metadata": {},
     "output_type": "execute_result"
    }
   ],
   "source": [
    "mb_p = mb_pass[\"Notes\"].count()\n",
    "mb_pp = float(mb_p)/ mb\n",
    "mb_pp"
   ]
  },
  {
   "cell_type": "markdown",
   "metadata": {},
   "source": [
    "# Large Bubbles Analysis"
   ]
  },
  {
   "cell_type": "code",
   "execution_count": 64,
   "metadata": {
    "collapsed": false,
    "scrolled": true
   },
   "outputs": [
    {
     "data": {
      "text/plain": [
       "14"
      ]
     },
     "execution_count": 64,
     "metadata": {},
     "output_type": "execute_result"
    }
   ],
   "source": [
    "mask5 = bubbles[\"Notes\"].str.contains(\"Large Bubbles\")\n",
    "lg_bubbles = bubbles[mask5]\n",
    "lg_bubbles\n",
    "lb = lg_bubbles[\"Notes\"].count()\n",
    "lb\n",
    "#lg_bubbles[\"Conc.\"].sort_values()\n",
    "#lg_bubbles.info()"
   ]
  },
  {
   "cell_type": "code",
   "execution_count": 65,
   "metadata": {
    "collapsed": false,
    "scrolled": true
   },
   "outputs": [
    {
     "data": {
      "text/html": [
       "<div>\n",
       "<table border=\"1\" class=\"dataframe\">\n",
       "  <thead>\n",
       "    <tr style=\"text-align: right;\">\n",
       "      <th></th>\n",
       "      <th>Date</th>\n",
       "      <th>User</th>\n",
       "      <th>File</th>\n",
       "      <th>Post patch?</th>\n",
       "      <th>Notes</th>\n",
       "      <th>Conc.</th>\n",
       "      <th>&gt;400</th>\n",
       "      <th>Ratio</th>\n",
       "      <th>SM_QC_PF</th>\n",
       "    </tr>\n",
       "  </thead>\n",
       "  <tbody>\n",
       "    <tr>\n",
       "      <th>5235</th>\n",
       "      <td>2017-05-17</td>\n",
       "      <td>P1</td>\n",
       "      <td>Gad2-IRES-Cre;Ai14-318381.05.01.04</td>\n",
       "      <td>Nucleated</td>\n",
       "      <td>Large Bubbles</td>\n",
       "      <td>1086.7</td>\n",
       "      <td>827</td>\n",
       "      <td>0.76</td>\n",
       "      <td>pass</td>\n",
       "    </tr>\n",
       "    <tr>\n",
       "      <th>5243</th>\n",
       "      <td>2017-05-17</td>\n",
       "      <td>P2</td>\n",
       "      <td>Gad2-IRES-Cre;Ai14-318381.04.02.01</td>\n",
       "      <td>Nucleated</td>\n",
       "      <td>Large Bubbles,Solution in Pipette Shank</td>\n",
       "      <td>988.1</td>\n",
       "      <td>494</td>\n",
       "      <td>0.5</td>\n",
       "      <td>pass</td>\n",
       "    </tr>\n",
       "    <tr>\n",
       "      <th>5277</th>\n",
       "      <td>2017-05-18</td>\n",
       "      <td>P2</td>\n",
       "      <td>Pvalb-IRES-Cre;Ai14-316465.06.01.01</td>\n",
       "      <td>Partial-Nucleus</td>\n",
       "      <td>Fluorescence in Pipette Large Bubbles</td>\n",
       "      <td>1267.7</td>\n",
       "      <td>888</td>\n",
       "      <td>0.7</td>\n",
       "      <td>pass</td>\n",
       "    </tr>\n",
       "    <tr>\n",
       "      <th>5347</th>\n",
       "      <td>2017-05-23</td>\n",
       "      <td>P2</td>\n",
       "      <td>Slc32a1-IRES-Cre;Ai14-321268.04.02.02</td>\n",
       "      <td>No-Seal</td>\n",
       "      <td>Fluorescence in Pipette Large Bubbles may have...</td>\n",
       "      <td>3641.2</td>\n",
       "      <td>3041</td>\n",
       "      <td>0.84</td>\n",
       "      <td>pass</td>\n",
       "    </tr>\n",
       "    <tr>\n",
       "      <th>5355</th>\n",
       "      <td>2017-05-23</td>\n",
       "      <td>P2</td>\n",
       "      <td>Slc32a1-IRES-Cre;Ai14-321268.05.02.05</td>\n",
       "      <td>Nucleated</td>\n",
       "      <td>Fluorescence in Pipette Large Bubbles</td>\n",
       "      <td>1984.1</td>\n",
       "      <td>1100</td>\n",
       "      <td>0.55</td>\n",
       "      <td>pass</td>\n",
       "    </tr>\n",
       "  </tbody>\n",
       "</table>\n",
       "</div>"
      ],
      "text/plain": [
       "           Date User                                   File      Post patch?  \\\n",
       "5235 2017-05-17   P1     Gad2-IRES-Cre;Ai14-318381.05.01.04        Nucleated   \n",
       "5243 2017-05-17   P2     Gad2-IRES-Cre;Ai14-318381.04.02.01        Nucleated   \n",
       "5277 2017-05-18   P2    Pvalb-IRES-Cre;Ai14-316465.06.01.01  Partial-Nucleus   \n",
       "5347 2017-05-23   P2  Slc32a1-IRES-Cre;Ai14-321268.04.02.02          No-Seal   \n",
       "5355 2017-05-23   P2  Slc32a1-IRES-Cre;Ai14-321268.05.02.05        Nucleated   \n",
       "\n",
       "                                                  Notes   Conc.  >400 Ratio  \\\n",
       "5235                                      Large Bubbles  1086.7   827  0.76   \n",
       "5243            Large Bubbles,Solution in Pipette Shank   988.1   494   0.5   \n",
       "5277              Fluorescence in Pipette Large Bubbles  1267.7   888   0.7   \n",
       "5347  Fluorescence in Pipette Large Bubbles may have...  3641.2  3041  0.84   \n",
       "5355              Fluorescence in Pipette Large Bubbles  1984.1  1100  0.55   \n",
       "\n",
       "     SM_QC_PF  \n",
       "5235     pass  \n",
       "5243     pass  \n",
       "5277     pass  \n",
       "5347     pass  \n",
       "5355     pass  "
      ]
     },
     "execution_count": 65,
     "metadata": {},
     "output_type": "execute_result"
    }
   ],
   "source": [
    "lb_pass = bubbles[mask5 & bubb_pass]\n",
    "lb_pass.head()"
   ]
  },
  {
   "cell_type": "markdown",
   "metadata": {},
   "source": [
    "# Large Bubbles pass percentage "
   ]
  },
  {
   "cell_type": "code",
   "execution_count": 66,
   "metadata": {
    "collapsed": false
   },
   "outputs": [
    {
     "data": {
      "text/plain": [
       "0.5714285714285714"
      ]
     },
     "execution_count": 66,
     "metadata": {},
     "output_type": "execute_result"
    }
   ],
   "source": [
    "lb_p = lb_pass[\"Notes\"].count()\n",
    "lb_p\n",
    "lb_pp = float(lb_p)/lb\n",
    "lb_pp"
   ]
  },
  {
   "cell_type": "markdown",
   "metadata": {
    "collapsed": true
   },
   "source": [
    "# Solution up Pipette Shank Analysis "
   ]
  },
  {
   "cell_type": "code",
   "execution_count": 67,
   "metadata": {
    "collapsed": false
   },
   "outputs": [
    {
     "data": {
      "text/plain": [
       "9"
      ]
     },
     "execution_count": 67,
     "metadata": {},
     "output_type": "execute_result"
    }
   ],
   "source": [
    "mask6 = bubbles[\"Notes\"].str.contains(\"Solution in Pipette Shank\")\n",
    "sol_pip = bubbles[mask6]\n",
    "sol_pip\n",
    "sp = sol_pip[\"Notes\"].count()\n",
    "sp"
   ]
  },
  {
   "cell_type": "code",
   "execution_count": 68,
   "metadata": {
    "collapsed": false,
    "scrolled": false
   },
   "outputs": [
    {
     "data": {
      "text/html": [
       "<div>\n",
       "<table border=\"1\" class=\"dataframe\">\n",
       "  <thead>\n",
       "    <tr style=\"text-align: right;\">\n",
       "      <th></th>\n",
       "      <th>Date</th>\n",
       "      <th>User</th>\n",
       "      <th>File</th>\n",
       "      <th>Post patch?</th>\n",
       "      <th>Notes</th>\n",
       "      <th>Conc.</th>\n",
       "      <th>&gt;400</th>\n",
       "      <th>Ratio</th>\n",
       "      <th>SM_QC_PF</th>\n",
       "    </tr>\n",
       "  </thead>\n",
       "  <tbody>\n",
       "    <tr>\n",
       "      <th>5243</th>\n",
       "      <td>2017-05-17</td>\n",
       "      <td>P2</td>\n",
       "      <td>Gad2-IRES-Cre;Ai14-318381.04.02.01</td>\n",
       "      <td>Nucleated</td>\n",
       "      <td>Large Bubbles,Solution in Pipette Shank</td>\n",
       "      <td>988.1</td>\n",
       "      <td>494</td>\n",
       "      <td>0.5</td>\n",
       "      <td>pass</td>\n",
       "    </tr>\n",
       "    <tr>\n",
       "      <th>5284</th>\n",
       "      <td>2017-05-18</td>\n",
       "      <td>P6</td>\n",
       "      <td>Pvalb-IRES-Cre;Ai14-316465.03.01.04</td>\n",
       "      <td>Partial-Nucleus</td>\n",
       "      <td>No Bubbles,Solution in Pipette Shank</td>\n",
       "      <td>636.1</td>\n",
       "      <td>316</td>\n",
       "      <td>0.5</td>\n",
       "      <td>pass</td>\n",
       "    </tr>\n",
       "  </tbody>\n",
       "</table>\n",
       "</div>"
      ],
      "text/plain": [
       "           Date User                                 File      Post patch?  \\\n",
       "5243 2017-05-17   P2   Gad2-IRES-Cre;Ai14-318381.04.02.01        Nucleated   \n",
       "5284 2017-05-18   P6  Pvalb-IRES-Cre;Ai14-316465.03.01.04  Partial-Nucleus   \n",
       "\n",
       "                                        Notes  Conc. >400 Ratio SM_QC_PF  \n",
       "5243  Large Bubbles,Solution in Pipette Shank  988.1  494   0.5     pass  \n",
       "5284     No Bubbles,Solution in Pipette Shank  636.1  316   0.5     pass  "
      ]
     },
     "execution_count": 68,
     "metadata": {},
     "output_type": "execute_result"
    }
   ],
   "source": [
    "sp_pass = bubbles[mask6 & bubb_pass]\n",
    "sp_pass.head()"
   ]
  },
  {
   "cell_type": "markdown",
   "metadata": {},
   "source": [
    "# Solution up Pipette Shank pass percentage "
   ]
  },
  {
   "cell_type": "code",
   "execution_count": 69,
   "metadata": {
    "collapsed": false
   },
   "outputs": [
    {
     "data": {
      "text/plain": [
       "0.2222222222222222"
      ]
     },
     "execution_count": 69,
     "metadata": {},
     "output_type": "execute_result"
    }
   ],
   "source": [
    "sp_p = sp_pass[\"Notes\"].count()\n",
    "sp_p\n",
    "sp_pp = float(sp_p)/sp\n",
    "sp_pp"
   ]
  },
  {
   "cell_type": "code",
   "execution_count": null,
   "metadata": {
    "collapsed": true
   },
   "outputs": [],
   "source": []
  },
  {
   "cell_type": "code",
   "execution_count": null,
   "metadata": {
    "collapsed": true
   },
   "outputs": [],
   "source": []
  },
  {
   "cell_type": "code",
   "execution_count": null,
   "metadata": {
    "collapsed": true
   },
   "outputs": [],
   "source": []
  },
  {
   "cell_type": "code",
   "execution_count": null,
   "metadata": {
    "collapsed": true
   },
   "outputs": [],
   "source": []
  },
  {
   "cell_type": "code",
   "execution_count": null,
   "metadata": {
    "collapsed": true
   },
   "outputs": [],
   "source": []
  },
  {
   "cell_type": "code",
   "execution_count": null,
   "metadata": {
    "collapsed": true
   },
   "outputs": [],
   "source": []
  },
  {
   "cell_type": "code",
   "execution_count": null,
   "metadata": {
    "collapsed": true
   },
   "outputs": [],
   "source": []
  },
  {
   "cell_type": "code",
   "execution_count": null,
   "metadata": {
    "collapsed": true
   },
   "outputs": [],
   "source": []
  },
  {
   "cell_type": "code",
   "execution_count": null,
   "metadata": {
    "collapsed": true
   },
   "outputs": [],
   "source": []
  },
  {
   "cell_type": "code",
   "execution_count": null,
   "metadata": {
    "collapsed": true
   },
   "outputs": [],
   "source": []
  },
  {
   "cell_type": "code",
   "execution_count": null,
   "metadata": {
    "collapsed": true
   },
   "outputs": [],
   "source": []
  },
  {
   "cell_type": "code",
   "execution_count": null,
   "metadata": {
    "collapsed": true
   },
   "outputs": [],
   "source": []
  },
  {
   "cell_type": "code",
   "execution_count": null,
   "metadata": {
    "collapsed": true
   },
   "outputs": [],
   "source": []
  },
  {
   "cell_type": "code",
   "execution_count": null,
   "metadata": {
    "collapsed": true
   },
   "outputs": [],
   "source": []
  },
  {
   "cell_type": "code",
   "execution_count": null,
   "metadata": {
    "collapsed": true
   },
   "outputs": [],
   "source": []
  },
  {
   "cell_type": "code",
   "execution_count": null,
   "metadata": {
    "collapsed": true
   },
   "outputs": [],
   "source": []
  },
  {
   "cell_type": "code",
   "execution_count": null,
   "metadata": {
    "collapsed": true
   },
   "outputs": [],
   "source": []
  },
  {
   "cell_type": "code",
   "execution_count": null,
   "metadata": {
    "collapsed": true
   },
   "outputs": [],
   "source": []
  },
  {
   "cell_type": "code",
   "execution_count": null,
   "metadata": {
    "collapsed": true
   },
   "outputs": [],
   "source": []
  }
 ],
 "metadata": {
  "anaconda-cloud": {},
  "kernelspec": {
   "display_name": "Python [Root]",
   "language": "python",
   "name": "Python [Root]"
  },
  "language_info": {
   "codemirror_mode": {
    "name": "ipython",
    "version": 2
   },
   "file_extension": ".py",
   "mimetype": "text/x-python",
   "name": "python",
   "nbconvert_exporter": "python",
   "pygments_lexer": "ipython2",
   "version": "2.7.11"
  }
 },
 "nbformat": 4,
 "nbformat_minor": 0
}
